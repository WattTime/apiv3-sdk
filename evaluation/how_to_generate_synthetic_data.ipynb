{
 "cells": [
  {
   "cell_type": "markdown",
   "id": "5f92e716",
   "metadata": {},
   "source": [
    "# Synthetic Data Generation + Usage Example"
   ]
  },
  {
   "cell_type": "code",
   "execution_count": 2,
   "id": "aac8e781-d6fb-44da-a35f-29b209421ce8",
   "metadata": {},
   "outputs": [],
   "source": [
    "import os\n",
    "\n",
    "os.chdir(f\"/home/{os.getlogin()}/watttime-python-client-aer-algo\")\n",
    "\n",
    "import pandas as pd\n",
    "from watttime import WattTimeHistorical, WattTimeForecast\n",
    "import evaluation.eval_framework as evu\n",
    "import math\n",
    "import random\n",
    "\n",
    "import seaborn as sns\n",
    "import matplotlib.pyplot as plt\n",
    "import evaluation.metrics as m\n",
    "\n",
    "username = os.getenv(\"WATTTIME_USER\")\n",
    "password = os.getenv(\"WATTTIME_PASSWORD\")"
   ]
  },
  {
   "cell_type": "code",
   "execution_count": 22,
   "id": "f2647067",
   "metadata": {},
   "outputs": [
    {
     "data": {
      "text/plain": [
       "<module 'evaluation.eval_framework' from '/home/jennifer.badolato/watttime-python-client-aer-algo/evaluation/eval_framework.py'>"
      ]
     },
     "execution_count": 22,
     "metadata": {},
     "output_type": "execute_result"
    }
   ],
   "source": [
    "import importlib\n",
    "\n",
    "importlib.reload(evu)"
   ]
  },
  {
   "cell_type": "markdown",
   "id": "9eed4d88",
   "metadata": {},
   "source": [
    "## Step 1: Generate a year of data\n",
    "- two random dates chosen per week\n",
    "- Max date is yesterday\n",
    "- duplicate dates removed"
   ]
  },
  {
   "cell_type": "code",
   "execution_count": 3,
   "id": "085336f2",
   "metadata": {},
   "outputs": [],
   "source": [
    "dates_2023 = evu.generate_random_dates(2023)\n",
    "dates_2024 = evu.generate_random_dates(2024)\n",
    "distinct_date_list = dates_2023 + dates_2024"
   ]
  },
  {
   "cell_type": "markdown",
   "id": "d9e3a417",
   "metadata": {},
   "source": [
    "## Step 2: Set keyword parameters + generate dataframe"
   ]
  },
  {
   "cell_type": "markdown",
   "id": "2133bf76",
   "metadata": {},
   "source": [
    "### Example: At home EV charging\n",
    "\n",
    "- Covers a 5.5 - 8.5 hour variable length window\n",
    "- The vehicle has a BMW and has an average power draw of 42.5\n",
    "- Battery is usually typically 50% charged at plug in time.\n",
    "- Charging occurs during the workday"
   ]
  },
  {
   "cell_type": "code",
   "execution_count": 11,
   "id": "766e4c1a",
   "metadata": {},
   "outputs": [],
   "source": [
    "ev_kwargs = {\n",
    "    \"power_output_max_rates\": [42.5], # BMW average\n",
    "    \"max_percent_capacity\": 0.95,  # highest level of charge achieved by battery\n",
    "    \"power_output_efficiency\": 0.75,  # power loss. 1 = no power loss.\n",
    "    \"average_battery_starting_capacity\": 0.5,  # average starting percent charged\n",
    "    \"start_hour\": \"09:00:00\",  # earliest session can start\n",
    "    \"end_hour\": \"17:00:00\",  # latest session can start\n",
    "}"
   ]
  },
  {
   "cell_type": "markdown",
   "id": "fe378990",
   "metadata": {},
   "source": [
    "### Example: AI Model Training\n",
    "\n",
    "- Model training can occur at any time of day\n",
    "- There are 3 server models that consume 240, 310, and 400 watt-hour on average\n",
    "- Early stopping is not an option"
   ]
  },
  {
   "cell_type": "code",
   "execution_count": 12,
   "id": "aef53564",
   "metadata": {},
   "outputs": [],
   "source": [
    "# criteria\n",
    "ai_kwargs = {\n",
    "    \"power_output_max_rates\": [240,310,400], # assuming a bare metal usecase, k8s or vm rescale to vCPU\n",
    "    \"start_hour\": \"00:00:00\",  # earliest session can start\n",
    "    \"end_hour\": \"23:59:00\",  # latest session can start\n",
    "    \"user_charge_tolerance\":1.0 # job must run to completion\n",
    "}"
   ]
  },
  {
   "cell_type": "markdown",
   "id": "272839f0",
   "metadata": {},
   "source": [
    "## Step 3: Generate dataframe for x # of synthetic users\n",
    "- synthetic user = user behavior + device characteristics"
   ]
  },
  {
   "cell_type": "code",
   "execution_count": 13,
   "id": "06af13f5",
   "metadata": {},
   "outputs": [
    {
     "name": "stderr",
     "output_type": "stream",
     "text": [
      "100%|██████████| 1/1 [00:00<00:00, 44.53it/s]\n"
     ]
    }
   ],
   "source": [
    "# generating data for 1 vehicle\n",
    "df_ev = evu.execute_synth_data_process(\n",
    "    distinct_date_list=distinct_date_list, number_of_users=1, **ev_kwargs\n",
    ")"
   ]
  },
  {
   "cell_type": "code",
   "execution_count": 14,
   "id": "dcfddb36-1bdf-404c-b90f-6a2531d734ca",
   "metadata": {},
   "outputs": [
    {
     "name": "stderr",
     "output_type": "stream",
     "text": [
      "100%|██████████| 1/1 [00:00<00:00, 42.65it/s]\n",
      "  0%|          | 0/5 [00:00<?, ?it/s]"
     ]
    },
    {
     "name": "stderr",
     "output_type": "stream",
     "text": [
      "100%|██████████| 5/5 [00:00<00:00, 48.95it/s]\n"
     ]
    }
   ],
   "source": [
    "# generating data for 1 vehicle\n",
    "df_ev = evu.execute_synth_data_process(\n",
    "    distinct_date_list=distinct_date_list, number_of_users=1, **ev_kwargs\n",
    ")\n",
    "\n",
    "# generating data for 5 AI models\n",
    "df_ai = evu.execute_synth_data_process(\n",
    "    distinct_date_list=distinct_date_list, number_of_users=5, **ai_kwargs\n",
    ")"
   ]
  },
  {
   "cell_type": "markdown",
   "id": "4a71e3bc-6f36-42a3-9136-8843608e32d3",
   "metadata": {},
   "source": [
    "## Synth Data Distributions"
   ]
  },
  {
   "cell_type": "code",
   "execution_count": 15,
   "id": "bc3f0781-c09b-4e84-94c3-fa2632de863e",
   "metadata": {},
   "outputs": [
    {
     "data": {
      "text/plain": [
       "Text(0.5, 1.0, 'EV Synthetic Data - Charging Session Length (seconds)')"
      ]
     },
     "execution_count": 15,
     "metadata": {},
     "output_type": "execute_result"
    },
    {
     "data": {
      "image/png": "[encoded data removed]",
      "text/plain": [
       "<Figure size 640x480 with 1 Axes>"
      ]
     },
     "metadata": {},
     "output_type": "display_data"
    }
   ],
   "source": [
    "sns.histplot(df_ev[\"length_of_session_in_seconds\"]).set_title(\n",
    "    \"EV Synthetic Data - Charging Session Length (seconds)\"\n",
    ")"
   ]
  },
  {
   "cell_type": "code",
   "execution_count": 16,
   "id": "a4fdbc08",
   "metadata": {},
   "outputs": [
    {
     "data": {
      "text/plain": [
       "Text(0.5, 1.0, 'AI Synthetic Data - Training Session Length (seconds)')"
      ]
     },
     "execution_count": 16,
     "metadata": {},
     "output_type": "execute_result"
    },
    {
     "data": {
      "image/png": "[encoded data removed]",
      "text/plain": [
       "<Figure size 640x480 with 1 Axes>"
      ]
     },
     "metadata": {},
     "output_type": "display_data"
    }
   ],
   "source": [
    "sns.histplot(df_ai[\"length_of_session_in_seconds\"]).set_title(\n",
    "    \"AI Synthetic Data - Training Session Length (seconds)\"\n",
    ")"
   ]
  },
  {
   "cell_type": "markdown",
   "id": "c9103904",
   "metadata": {},
   "source": [
    "## Step 3: Get MOER forecast and actuals"
   ]
  },
  {
   "cell_type": "code",
   "execution_count": 17,
   "id": "123de121",
   "metadata": {},
   "outputs": [],
   "source": [
    "# taking a subset of data - this takes a while to run\n",
    "synth_data = df_ai.sample(2)\n",
    "region = \"SPP_SIOUX\""
   ]
  },
  {
   "cell_type": "code",
   "execution_count": 18,
   "id": "ba62a9f5",
   "metadata": {},
   "outputs": [],
   "source": [
    "synth_data[\"moer_forecast\"] = synth_data.apply(  # 14 seconds\n",
    "    lambda x: evu.get_historical_fcst_data(\n",
    "        x.session_start_time, \n",
    "        math.ceil(x.total_intervals_plugged_in), \n",
    "        region=region\n",
    "    ),\n",
    "    axis=1,\n",
    ")\n",
    "\n",
    "synth_data[\"moer_actual\"] = synth_data.apply(  # 11 sec\n",
    "    lambda x: evu.get_historical_actual_data(\n",
    "        x.session_start_time, math.ceil(x.total_intervals_plugged_in), region=region\n",
    "    ),\n",
    "    axis=1,\n",
    ")"
   ]
  },
  {
   "cell_type": "markdown",
   "id": "c2e48416",
   "metadata": {},
   "source": [
    "## Step 4: Optimize\n",
    "\n",
    "- For this use case we can use the simplest optimizer give that we have no additional constraints"
   ]
  },
  {
   "cell_type": "code",
   "execution_count": 23,
   "id": "569a3fc1",
   "metadata": {},
   "outputs": [
    {
     "name": "stdout",
     "output_type": "stream",
     "text": [
      "== Simple fit! ==\n",
      "== Simple fit! ==\n"
     ]
    }
   ],
   "source": [
    "def sanitize_time_needed(x,y):\n",
    "    return int(math.ceil(min(x, y) / 300.0) * 5)\n",
    "\n",
    "def sanitize_total_intervals(x):\n",
    "    return math.ceil(x)\n",
    "\n",
    "get_charging_schedule_lambda = lambda x: x[\"usage\"].values.flatten()\n",
    "get_total_emissions_lambda = lambda x: x[\"emissions_co2e_lb\"].sum()\n",
    "\n",
    "synth_data[\"optimizer_ideal\"] = synth_data.apply(\n",
    "    lambda x: evu.get_schedule_and_cost_api(\n",
    "        usage_power_kw=x.power_output_rate,\n",
    "        time_needed= sanitize_time_needed(x.total_seconds_to_95, x.length_of_session_in_seconds),\n",
    "        total_time_horizon=sanitize_total_intervals(x.total_intervals_plugged_in),\n",
    "        moer_data=x.moer_actual,\n",
    "        optimization_method=\"simple\",\n",
    "    ),\n",
    "    axis=1,\n",
    ")\n",
    "\n",
    "synth_data[\"ideal_charging_schedule\"] = synth_data[\n",
    "    \"optimizer_ideal\"\n",
    "].apply(get_charging_schedule_lambda)\n",
    "\n",
    "synth_data[\"ideal_emissions\"] = synth_data[\"optimizer_ideal\"].apply(\n",
    "    get_total_emissions_lambda\n",
    ")"
   ]
  },
  {
   "cell_type": "code",
   "execution_count": 26,
   "id": "fa85f108",
   "metadata": {},
   "outputs": [
    {
     "name": "stdout",
     "output_type": "stream",
     "text": [
      "== Simple fit! ==\n",
      "== Simple fit! ==\n"
     ]
    }
   ],
   "source": [
    "synth_data[\"optimizer_simple\"] = synth_data.apply(\n",
    "    lambda x: evu.get_schedule_and_cost_api(\n",
    "        usage_power_kw=x.power_output_rate,\n",
    "        time_needed= sanitize_time_needed(x.total_seconds_to_95, x.length_of_session_in_seconds),\n",
    "        total_time_horizon=sanitize_total_intervals(x.total_intervals_plugged_in),\n",
    "        moer_data=x.moer_forecast,\n",
    "        optimization_method=\"auto\",\n",
    "    ),\n",
    "    axis=1,\n",
    ")\n",
    "\n",
    "synth_data[\"charging_schedule\"] = synth_data[\n",
    "    \"optimizer_simple\"\n",
    "].apply(get_charging_schedule_lambda)\n",
    "\n",
    "synth_data[\"forecast_emissions\"] = synth_data[\"optimizer_simple\"].apply(\n",
    "    get_total_emissions_lambda\n",
    ")\n",
    "\n",
    "synth_data[\"actual_emissions\"] = synth_data.apply(\n",
    "    lambda x: evu.get_total_emission(\n",
    "        x.moer_actual[\"value\"],\n",
    "        x.optimizer_simple.energy_usage_mwh,\n",
    "    ),\n",
    "    axis=1,\n",
    ")"
   ]
  },
  {
   "cell_type": "code",
   "execution_count": 29,
   "id": "e32115d6",
   "metadata": {},
   "outputs": [
    {
     "name": "stdout",
     "output_type": "stream",
     "text": [
      "== Baseline fit! ==\n",
      "== Baseline fit! ==\n"
     ]
    }
   ],
   "source": [
    "synth_data[\"optimizer_baseline\"] = synth_data.apply(\n",
    "    lambda x: evu.get_schedule_and_cost_api(\n",
    "        usage_power_kw=x.power_output_rate,\n",
    "        time_needed= sanitize_time_needed(x.total_seconds_to_95, x.length_of_session_in_seconds),\n",
    "        total_time_horizon=sanitize_total_intervals(x.total_intervals_plugged_in),\n",
    "        moer_data=x.moer_actual,\n",
    "        optimization_method=\"baseline\",\n",
    "    ),\n",
    "    axis=1,\n",
    ")\n",
    "\n",
    "synth_data[\"charging_schedule\"] = synth_data[\n",
    "    \"optimizer_baseline\"\n",
    "].apply(get_charging_schedule_lambda)\n",
    "\n",
    "synth_data[\"baseline_emissions\"] = synth_data[\"optimizer_baseline\"].apply(\n",
    "    get_total_emissions_lambda\n",
    ")"
   ]
  },
  {
   "cell_type": "markdown",
   "id": "c93675aa",
   "metadata": {},
   "source": [
    "## Step 5: Results"
   ]
  },
  {
   "cell_type": "code",
   "execution_count": 57,
   "id": "1c5399aa",
   "metadata": {},
   "outputs": [
    {
     "data": {
      "text/plain": [
       "<module 'evaluation.metrics' from '/home/jennifer.badolato/watttime-python-client-aer-algo/evaluation/metrics.py'>"
      ]
     },
     "execution_count": 57,
     "metadata": {},
     "output_type": "execute_result"
    }
   ],
   "source": [
    "importlib.reload(m)"
   ]
  },
  {
   "cell_type": "code",
   "execution_count": 58,
   "id": "e394131d",
   "metadata": {},
   "outputs": [],
   "source": [
    "em = m.EvalMetrics(\n",
    "    baseline_col= \"baseline_emissions\",\n",
    "    ideal_col=\"ideal_emissions\", \n",
    "    forecast_col=\"forecast_emissions\",\n",
    "    actuals_col=\"actual_emissions\"\n",
    "    )"
   ]
  },
  {
   "cell_type": "code",
   "execution_count": 59,
   "id": "725949bd",
   "metadata": {},
   "outputs": [
    {
     "data": {
      "text/html": [
       "<div>\n",
       "<style scoped>\n",
       "    .dataframe tbody tr th:only-of-type {\n",
       "        vertical-align: middle;\n",
       "    }\n",
       "\n",
       "    .dataframe tbody tr th {\n",
       "        vertical-align: top;\n",
       "    }\n",
       "\n",
       "    .dataframe thead th {\n",
       "        text-align: right;\n",
       "    }\n",
       "</style>\n",
       "<table border=\"1\" class=\"dataframe\">\n",
       "  <thead>\n",
       "    <tr style=\"text-align: right;\">\n",
       "      <th></th>\n",
       "      <th>emissions_avoided_percent</th>\n",
       "      <th>baseline_difference_percent</th>\n",
       "      <th>ideal_difference_percent</th>\n",
       "      <th>actuals_difference_percent</th>\n",
       "    </tr>\n",
       "  </thead>\n",
       "  <tbody>\n",
       "    <tr>\n",
       "      <th>0</th>\n",
       "      <td>0.012782</td>\n",
       "      <td>-0.089607</td>\n",
       "      <td>-0.070633</td>\n",
       "      <td>-0.077970</td>\n",
       "    </tr>\n",
       "    <tr>\n",
       "      <th>1</th>\n",
       "      <td>0.432836</td>\n",
       "      <td>2.221875</td>\n",
       "      <td>10.896154</td>\n",
       "      <td>3.616418</td>\n",
       "    </tr>\n",
       "  </tbody>\n",
       "</table>\n",
       "</div>"
      ],
      "text/plain": [
       "   emissions_avoided_percent  baseline_difference_percent  \\\n",
       "0                   0.012782                    -0.089607   \n",
       "1                   0.432836                     2.221875   \n",
       "\n",
       "   ideal_difference_percent  actuals_difference_percent  \n",
       "0                 -0.070633                   -0.077970  \n",
       "1                 10.896154                    3.616418  "
      ]
     },
     "execution_count": 59,
     "metadata": {},
     "output_type": "execute_result"
    }
   ],
   "source": [
    "em.calculate_results(synth_data,percent=True)"
   ]
  },
  {
   "cell_type": "code",
   "execution_count": 60,
   "id": "39525488",
   "metadata": {},
   "outputs": [
    {
     "data": {
      "text/html": [
       "<div>\n",
       "<style scoped>\n",
       "    .dataframe tbody tr th:only-of-type {\n",
       "        vertical-align: middle;\n",
       "    }\n",
       "\n",
       "    .dataframe tbody tr th {\n",
       "        vertical-align: top;\n",
       "    }\n",
       "\n",
       "    .dataframe thead th {\n",
       "        text-align: right;\n",
       "    }\n",
       "</style>\n",
       "<table border=\"1\" class=\"dataframe\">\n",
       "  <thead>\n",
       "    <tr style=\"text-align: right;\">\n",
       "      <th></th>\n",
       "      <th>emissions_avoided</th>\n",
       "      <th>baseline_difference</th>\n",
       "      <th>ideal_difference</th>\n",
       "      <th>actuals_difference</th>\n",
       "    </tr>\n",
       "  </thead>\n",
       "  <tbody>\n",
       "    <tr>\n",
       "      <th>0</th>\n",
       "      <td>0.812600</td>\n",
       "      <td>-5.769460</td>\n",
       "      <td>-4.454960</td>\n",
       "      <td>-4.956860</td>\n",
       "    </tr>\n",
       "    <tr>\n",
       "      <th>1</th>\n",
       "      <td>0.609072</td>\n",
       "      <td>4.479833</td>\n",
       "      <td>5.950008</td>\n",
       "      <td>5.088906</td>\n",
       "    </tr>\n",
       "  </tbody>\n",
       "</table>\n",
       "</div>"
      ],
      "text/plain": [
       "   emissions_avoided  baseline_difference  ideal_difference  \\\n",
       "0           0.812600            -5.769460         -4.454960   \n",
       "1           0.609072             4.479833          5.950008   \n",
       "\n",
       "   actuals_difference  \n",
       "0           -4.956860  \n",
       "1            5.088906  "
      ]
     },
     "execution_count": 60,
     "metadata": {},
     "output_type": "execute_result"
    }
   ],
   "source": [
    "em.calculate_results(synth_data)"
   ]
  },
  {
   "cell_type": "markdown",
   "id": "b5593815",
   "metadata": {},
   "source": [
    "## Generate an optional variable power curve"
   ]
  },
  {
   "cell_type": "code",
   "execution_count": 21,
   "id": "a1a70504",
   "metadata": {},
   "outputs": [],
   "source": [
    "from evaluation.config import CARS\n",
    "import evaluation.battery as b"
   ]
  },
  {
   "cell_type": "code",
   "execution_count": 25,
   "id": "107b7327",
   "metadata": {},
   "outputs": [],
   "source": [
    "synth_data[\"variable_power_output_rate\"] = synth_data.apply( \n",
    "    lambda x: b.Battery(\n",
    "        initial_soc = x.initial_charge, \n",
    "        charging_curve = bmw_charging_curve,\n",
    "        capacity_kWh = x.total_capacity\n",
    "    ).get_usage_power_kw_df(),\n",
    "    axis=1\n",
    "    )"
   ]
  },
  {
   "cell_type": "code",
   "execution_count": 25,
   "id": "96031c5a",
   "metadata": {},
   "outputs": [
    {
     "ename": "AttributeError",
     "evalue": "module 'evaluation.battery' has no attribute 'capacity_kWh'",
     "output_type": "error",
     "traceback": [
      "\u001b[0;31m---------------------------------------------------------------------------\u001b[0m",
      "\u001b[0;31mAttributeError\u001b[0m                            Traceback (most recent call last)",
      "Cell \u001b[0;32mIn[25], line 2\u001b[0m\n\u001b[1;32m      1\u001b[0m time_needed \u001b[38;5;241m=\u001b[39m evu\u001b[38;5;241m.\u001b[39mget_time_needed(\n\u001b[0;32m----> 2\u001b[0m     total_capacity_kWh\u001b[38;5;241m=\u001b[39m\u001b[43mb\u001b[49m\u001b[38;5;241;43m.\u001b[39;49m\u001b[43mcapacity_kWh\u001b[49m,\n\u001b[1;32m      3\u001b[0m     usage_power_kW\u001b[38;5;241m=\u001b[39mb\u001b[38;5;241m.\u001b[39mget_usage_power_kw_df(),\n\u001b[1;32m      4\u001b[0m     initial_capacity_fraction\u001b[38;5;241m=\u001b[39mb\u001b[38;5;241m.\u001b[39minitial_soc,\n\u001b[1;32m      5\u001b[0m )\n",
      "\u001b[0;31mAttributeError\u001b[0m: module 'evaluation.battery' has no attribute 'capacity_kWh'"
     ]
    }
   ],
   "source": [
    "time_needed = evu.get_time_needed(\n",
    "    total_capacity_kWh=b.capacity_kWh,\n",
    "    usage_power_kW=b.get_usage_power_kw_df(),\n",
    "    initial_capacity_fraction=b.initial_soc,\n",
    ")"
   ]
  }
 ],
 "metadata": {
  "kernelspec": {
   "display_name": "Python 3 (ipykernel)",
   "language": "python",
   "name": "python3"
  },
  "language_info": {
   "codemirror_mode": {
    "name": "ipython",
    "version": 3
   },
   "file_extension": ".py",
   "mimetype": "text/x-python",
   "name": "python",
   "nbconvert_exporter": "python",
   "pygments_lexer": "ipython3",
   "version": "3.9.16"
  }
 },
 "nbformat": 4,
 "nbformat_minor": 5
}
