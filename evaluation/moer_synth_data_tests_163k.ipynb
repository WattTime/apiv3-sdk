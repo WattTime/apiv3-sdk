{
 "cells": [
  {
   "cell_type": "code",
   "execution_count": 1,
   "metadata": {},
   "outputs": [],
   "source": [
    "import os\n",
    "os.chdir(f\"/home/{os.getlogin()}/watttime-python-client-aer-algo\")\n",
    "\n",
    "import math\n",
    "import numpy as np\n",
    "import pandas as pd\n",
    "import datetime\n",
    "import pytz\n",
    "import seaborn as sns\n",
    "from datetime import datetime, timedelta\n",
    "from watttime import WattTimeForecast, WattTimeHistorical\n",
    "\n",
    "import optimizer.s3 as s3u\n",
    "import evaluation.eval_framework as efu\n",
    "\n",
    "import watttime.shared_anniez.alg.optCharger as optC\n",
    "import watttime.shared_anniez.alg.moer as Moer\n",
    "\n",
    "region = \"CAISO_NORTH\"\n",
    "username = os.getenv(\"WATTTIME_USER\")\n",
    "password = os.getenv(\"WATTTIME_PASSWORD\")\n",
    "\n",
    "actual_data = WattTimeHistorical(username, password)\n",
    "hist_data = WattTimeForecast(username, password)\n",
    "\n",
    "s3 = s3u.s3_utils()\n",
    "key = '20240726_1k_synth_users_163_days.csv'\n",
    "generated_data = s3.load_csvdataframe(file=key)"
   ]
  },
  {
   "cell_type": "markdown",
   "metadata": {},
   "source": [
    "# Synthetic User Data"
   ]
  },
  {
   "cell_type": "code",
   "execution_count": 2,
   "metadata": {},
   "outputs": [],
   "source": [
    "N = 15\n",
    "distinct_dates = generated_data[\"distinct_dates\"].sample(N).to_list()\n",
    "synth_data = generated_data[generated_data[\"distinct_dates\"].isin(distinct_dates)].copy()\n",
    "#synth_data = generated_data.copy(deep=True)\n",
    "synth_data[\"plug_in_time\"] = pd.to_datetime(synth_data[\"plug_in_time\"])\n",
    "synth_data[\"unplug_time\"] = pd.to_datetime(synth_data[\"unplug_time\"])"
   ]
  },
  {
   "cell_type": "code",
   "execution_count": 3,
   "metadata": {},
   "outputs": [
    {
     "data": {
      "text/plain": [
       "['2024-07-17',\n",
       " '2024-01-05',\n",
       " '2024-05-29',\n",
       " '2023-01-21',\n",
       " '2023-10-05',\n",
       " '2024-06-05',\n",
       " '2023-12-09',\n",
       " '2023-02-12',\n",
       " '2023-04-14',\n",
       " '2024-05-29',\n",
       " '2024-02-28',\n",
       " '2024-05-29',\n",
       " '2024-05-25',\n",
       " '2023-02-12',\n",
       " '2024-05-01']"
      ]
     },
     "execution_count": 3,
     "metadata": {},
     "output_type": "execute_result"
    }
   ],
   "source": [
    "distinct_dates"
   ]
  },
  {
   "cell_type": "markdown",
   "metadata": {},
   "source": [
    "# Cached version of the get_*_data functions"
   ]
  },
  {
   "cell_type": "code",
   "execution_count": 4,
   "metadata": {},
   "outputs": [],
   "source": [
    "# the caches are keyed on date\n",
    "HISTORICAL_FORECAST_CACHE = {}\n",
    "HISTORICAL_ACTUAL_CACHE = {}\n",
    "\n",
    "def get_historical_fcst_data_cached(plug_in_time, horizon, region):\n",
    "    date = plug_in_time.date()\n",
    "    if date not in HISTORICAL_FORECAST_CACHE.keys():\n",
    "        start = pd.to_datetime(date)\n",
    "        end = (pd.to_datetime(date) + pd.Timedelta(\"1d\"))      \n",
    "        HISTORICAL_FORECAST_CACHE[date] = hist_data.get_historical_forecast_pandas(\n",
    "            start - pd.Timedelta(\"9h\"),\n",
    "            end + pd.Timedelta(\"9h\"),\n",
    "            region,\n",
    "        )\n",
    "    cache = HISTORICAL_FORECAST_CACHE[date]\n",
    "        \n",
    "    # make this match efu.get_historical_fsct_data\n",
    "    generated_at_times = cache[\"generated_at\"].unique()\n",
    "    time_zone = efu.get_timezone_from_dict(region)\n",
    "    plug_in_time_utc = pd.Timestamp(efu.convert_to_utc(plug_in_time, time_zone))\n",
    "    generated_at = max([t for t in generated_at_times if t < plug_in_time_utc])\n",
    "    df = cache[cache[\"generated_at\"] == generated_at].copy()\n",
    "    return df.iloc[:math.ceil(horizon / 12) * 12]\n",
    "\n",
    "def get_historical_actual_data_cached(plug_in_time, horizon, region):\n",
    "    time_zone = efu.get_timezone_from_dict(region)\n",
    "    plug_in_time_utc = pd.Timestamp(efu.convert_to_utc(plug_in_time, time_zone))\n",
    "    date = plug_in_time_utc.date()\n",
    "    \n",
    "    if date not in HISTORICAL_ACTUAL_CACHE.keys():\n",
    "        start = pd.to_datetime(date)\n",
    "        end = (pd.to_datetime(date) + pd.Timedelta(\"1d\"))      \n",
    "        hist_data = WattTimeHistorical(username, password)\n",
    "        HISTORICAL_ACTUAL_CACHE[date] = hist_data.get_historical_pandas(\n",
    "            start - pd.Timedelta(\"9h\"),\n",
    "            end + pd.Timedelta(\"9h\"),\n",
    "            region,\n",
    "        )\n",
    "    cache = HISTORICAL_ACTUAL_CACHE[date]\n",
    "\n",
    "    t_start = max([t for t in cache[\"point_time\"].unique() if t < plug_in_time_utc])\n",
    "    df =  cache[cache[\"point_time\"] >= t_start].copy()\n",
    "    return df.iloc[:math.ceil(horizon / 12) * 12 + 1].reset_index(drop=True)\n",
    "    "
   ]
  },
  {
   "cell_type": "code",
   "execution_count": 5,
   "metadata": {},
   "outputs": [],
   "source": [
    "### Test that my cached versions of the get data functions match the old versions in `efu`\n",
    "\n",
    "def _test_get_historical_fcst_data_cached(synth_data_row):\n",
    "    \"\"\"Test get_historical_fcst_data_cached matches efu.get_historical_fcst_data\"\"\"\n",
    "    plug_in_time = synth_data_row[\"plug_in_time\"]\n",
    "    horizon = math.ceil(synth_data_row[\"total_intervals_plugged_in\"])\n",
    "    df1 = efu.get_historical_fcst_data(plug_in_time, horizon, region)\n",
    "    df2 = get_historical_fcst_data_cached(plug_in_time, horizon, region)\n",
    "    assert df1.equals(df2)\n",
    "\n",
    "def _test_get_historical_actual_data_cached(synth_data_row):\n",
    "    \"\"\"Test get_historical_fcst_data_cached matches efu.get_historical_fcst_data\"\"\"\n",
    "    plug_in_time = synth_data_row[\"plug_in_time\"]\n",
    "    horizon = math.ceil(synth_data_row[\"total_intervals_plugged_in\"])\n",
    "    df1 = efu.get_historical_actual_data(plug_in_time, horizon, region)\n",
    "    df2 = get_historical_actual_data_cached(plug_in_time, horizon, region)\n",
    "    assert df1.equals(df2)\n",
    "\n",
    "synth_data_row = synth_data.iloc[34] # test a random row\n",
    "_test_get_historical_actual_data_cached(synth_data_row) \n",
    "_test_get_historical_fcst_data_cached(synth_data_row)"
   ]
  },
  {
   "cell_type": "markdown",
   "metadata": {},
   "source": [
    "## API Data with caching"
   ]
  },
  {
   "cell_type": "code",
   "execution_count": 6,
   "metadata": {},
   "outputs": [
    {
     "name": "stdout",
     "output_type": "stream",
     "text": [
      "\n",
      " Warnings Returned: {'region': 'CAISO_NORTH', 'signal_type': 'co2_moer', 'horizon_hours': 24, 'start': Timestamp('2023-01-20 15:00:00+0000', tz='UTC'), 'end': Timestamp('2023-01-21 14:55:00+0000', tz='UTC')} {'data_point_period_seconds': 300, 'region': 'CAISO_NORTH', 'signal_type': 'co2_moer', 'units': 'lbs_co2_per_mwh', 'warnings': [{'type': 'MISSING_DATA', 'message': 'You made a valid request, but we have some datapoints missing. This can happen for a variety of reasons. If the data is less than a week old, we will most likely fill in this data soon. If it is older than that, we are missing enough important grid data during this time period that we are not able to generate an accurate estimate'}], 'model': {'date': '2023-03-01'}, 'generated_at_period_seconds': 300}\n"
     ]
    }
   ],
   "source": [
    "synth_data['moer_data'] = synth_data.apply(\n",
    "    lambda x: get_historical_fcst_data_cached(\n",
    "    x.plug_in_time,\n",
    "    math.ceil(x.total_intervals_plugged_in),\n",
    "    region = region\n",
    "    ), axis = 1\n",
    ")\n",
    "\n",
    "synth_data['moer_data_actual'] = synth_data.apply(\n",
    "    lambda x: get_historical_actual_data_cached(\n",
    "    x.plug_in_time,\n",
    "    math.ceil(x.total_intervals_plugged_in),\n",
    "    region = region\n",
    "    ), axis = 1\n",
    ")"
   ]
  },
  {
   "cell_type": "markdown",
   "metadata": {},
   "source": [
    "## MOER - No Optimization - Actual Emissions"
   ]
  },
  {
   "cell_type": "code",
   "execution_count": 8,
   "metadata": {},
   "outputs": [],
   "source": [
    "synth_data['charger_baseline_actual'] = synth_data.apply(\n",
    "    lambda x: efu.get_schedule_and_cost(\n",
    "        x.MWh_fraction,\n",
    "        x.charged_kWh_actual / 1000,\n",
    "        math.ceil(x.total_intervals_plugged_in), # will throw an error if the plug in time is too shart to reach full charge, should soften to a warning\n",
    "        x.moer_data_actual,\n",
    "        asap = True\n",
    "        ), \n",
    "        axis = 1\n",
    "        )\n",
    "\n",
    "synth_data['baseline_charging_schedule'] = synth_data['charger_baseline_actual'].apply(\n",
    "    lambda  x: x.get_schedule()\n",
    "    )\n",
    "\n",
    "synth_data['baseline_actual_emissions'] = synth_data['charger_baseline_actual'].apply(\n",
    "    lambda  x: x.get_total_cost()\n",
    "    )"
   ]
  },
  {
   "cell_type": "code",
   "execution_count": 9,
   "metadata": {},
   "outputs": [
    {
     "data": {
      "text/plain": [
       "<Axes: xlabel='baseline_actual_emissions', ylabel='Count'>"
      ]
     },
     "execution_count": 9,
     "metadata": {},
     "output_type": "execute_result"
    },
    {
     "data": {
      "image/png": "[encoded data removed]",
      "text/plain": [
       "<Figure size 640x480 with 1 Axes>"
      ]
     },
     "metadata": {},
     "output_type": "display_data"
    }
   ],
   "source": [
    "sns.histplot(synth_data['baseline_actual_emissions'])"
   ]
  },
  {
   "cell_type": "markdown",
   "metadata": {},
   "source": [
    "## MOER - Simple Optimization - Forecast Emissions"
   ]
  },
  {
   "cell_type": "code",
   "execution_count": 10,
   "metadata": {},
   "outputs": [],
   "source": [
    "synth_data['charger_simple_forecast']= synth_data.apply(\n",
    "    lambda x: efu.get_schedule_and_cost(\n",
    "        x.MWh_fraction,\n",
    "        x.charged_kWh_actual / 1000,\n",
    "        math.ceil(x.total_intervals_plugged_in), # will throw an error if the plug in time is too shart to reach full charge, should soften to a warning\n",
    "        x.moer_data,\n",
    "        asap = False\n",
    "        ), \n",
    "        axis = 1\n",
    "        )\n",
    "\n",
    "synth_data['simple_charing_schedule'] = synth_data['charger_simple_forecast'].apply(\n",
    "    lambda  x: x.get_schedule()\n",
    "    )\n",
    "\n",
    "synth_data['simple_estimated_emissions'] = synth_data['charger_simple_forecast'].apply(\n",
    "    lambda  x: x.get_total_cost()\n",
    "    )"
   ]
  },
  {
   "cell_type": "code",
   "execution_count": 11,
   "metadata": {},
   "outputs": [],
   "source": [
    "def get_total_emission(moer, schedule): \n",
    "    x = np.array(schedule).flatten()\n",
    "    return np.dot(moer[:x.shape[0]], x)"
   ]
  },
  {
   "cell_type": "code",
   "execution_count": 12,
   "metadata": {},
   "outputs": [],
   "source": [
    "synth_data[\"simple_actual_emissions\"] = synth_data.apply(\n",
    "    lambda x: get_total_emission(\n",
    "        x.moer_data_actual['value'],\n",
    "        x.simple_charing_schedule,\n",
    "    ),\n",
    "    axis = 1\n",
    ")"
   ]
  },
  {
   "cell_type": "code",
   "execution_count": 13,
   "metadata": {},
   "outputs": [
    {
     "data": {
      "text/plain": [
       "<Axes: xlabel='baseline_actual_emissions', ylabel='Count'>"
      ]
     },
     "execution_count": 13,
     "metadata": {},
     "output_type": "execute_result"
    },
    {
     "data": {
      "image/png": "[encoded data removed]",
      "text/plain": [
       "<Figure size 640x480 with 1 Axes>"
      ]
     },
     "metadata": {},
     "output_type": "display_data"
    }
   ],
   "source": [
    "sns.histplot(synth_data[\"baseline_actual_emissions\"])"
   ]
  },
  {
   "cell_type": "code",
   "execution_count": 14,
   "metadata": {},
   "outputs": [
    {
     "data": {
      "text/plain": [
       "<Axes: xlabel='simple_actual_emissions', ylabel='Count'>"
      ]
     },
     "execution_count": 14,
     "metadata": {},
     "output_type": "execute_result"
    },
    {
     "data": {
      "image/png": "[encoded data removed]",
      "text/plain": [
       "<Figure size 640x480 with 1 Axes>"
      ]
     },
     "metadata": {},
     "output_type": "display_data"
    }
   ],
   "source": [
    "sns.histplot(synth_data[\"simple_actual_emissions\"])"
   ]
  },
  {
   "cell_type": "code",
   "execution_count": 15,
   "metadata": {},
   "outputs": [],
   "source": [
    "synth_data[\"simple_optimization_difference\"] = synth_data[\"simple_actual_emissions\"] - synth_data[\"baseline_actual_emissions\"]"
   ]
  },
  {
   "cell_type": "code",
   "execution_count": 16,
   "metadata": {},
   "outputs": [],
   "source": [
    "synth_data[\"success_rate\"] = synth_data[\"simple_optimization_difference\"] < 0"
   ]
  },
  {
   "cell_type": "code",
   "execution_count": 17,
   "metadata": {},
   "outputs": [
    {
     "data": {
      "text/plain": [
       "success_rate\n",
       "True     7825\n",
       "False    4175\n",
       "Name: count, dtype: int64"
      ]
     },
     "execution_count": 17,
     "metadata": {},
     "output_type": "execute_result"
    }
   ],
   "source": [
    "synth_data[\"success_rate\"].value_counts()"
   ]
  }
 ],
 "metadata": {
  "kernelspec": {
   "display_name": "Python 3 (ipykernel)",
   "language": "python",
   "name": "python3"
  },
  "language_info": {
   "codemirror_mode": {
    "name": "ipython",
    "version": 3
   },
   "file_extension": ".py",
   "mimetype": "text/x-python",
   "name": "python",
   "nbconvert_exporter": "python",
   "pygments_lexer": "ipython3",
   "version": "3.9.16"
  }
 },
 "nbformat": 4,
 "nbformat_minor": 2
}
