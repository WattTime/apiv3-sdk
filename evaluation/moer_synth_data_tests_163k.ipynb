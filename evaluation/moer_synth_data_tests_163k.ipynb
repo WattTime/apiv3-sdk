{
 "cells": [
  {
   "cell_type": "code",
   "execution_count": 7,
   "metadata": {},
   "outputs": [],
   "source": [
    "%reload_ext autoreload\n",
    "%autoreload 2\n",
    "\n",
    "import os\n",
    "os.chdir(f\"/home/{os.getlogin()}/watttime-python-client-aer-algo\")\n",
    "\n",
    "import math\n",
    "import numpy as np\n",
    "import pandas as pd\n",
    "import datetime\n",
    "import pytz\n",
    "import seaborn as sns\n",
    "from datetime import datetime, timedelta\n",
    "import concurrent.futures\n",
    "\n",
    "from watttime import WattTimeForecast, WattTimeHistorical\n",
    "\n",
    "import optimizer.s3 as s3u\n",
    "import evaluation.eval_framework as efu\n",
    "\n",
    "import watttime.shared_anniez.alg.optCharger as optC\n",
    "import watttime.shared_anniez.alg.moer as Moer\n",
    "\n",
    "\n",
    "username = os.getenv(\"WATTTIME_USER\")\n",
    "password = os.getenv(\"WATTTIME_PASSWORD\")\n",
    "\n",
    "actual_data = WattTimeHistorical(username, password)\n",
    "hist_data = WattTimeForecast(username, password)\n",
    "\n",
    "s3 = s3u.s3_utils()\n",
    "key = '20240726_1k_synth_users_163_days.csv'\n",
    "generated_data = s3.load_csvdataframe(file=key)"
   ]
  },
  {
   "cell_type": "markdown",
   "metadata": {},
   "source": [
    "# Synthetic User Data"
   ]
  },
  {
   "cell_type": "code",
   "execution_count": 11,
   "metadata": {},
   "outputs": [],
   "source": [
    "regions = ['CAISO_NORTH',\n",
    " #'SPP_TX',\n",
    " #'ERCOT_EASTTX',\n",
    " #'FPL',\n",
    " #'SOCO',\n",
    " #'PJM_CHICAGO',\n",
    " #'LDWP',\n",
    " #'PJM_DC',\n",
    " #'NYISO_NYC'\n",
    "]\n",
    "region = regions[0]\n",
    "\n",
    "synth_data = generated_data.copy(deep=True)\n",
    "synth_data[\"plug_in_time\"] = pd.to_datetime(synth_data[\"plug_in_time\"])\n",
    "synth_data[\"unplug_time\"] = pd.to_datetime(synth_data[\"unplug_time\"])"
   ]
  },
  {
   "cell_type": "markdown",
   "metadata": {},
   "source": [
    "# Cached version of the get_*_data functions"
   ]
  },
  {
   "cell_type": "code",
   "execution_count": 12,
   "metadata": {},
   "outputs": [
    {
     "name": "stdout",
     "output_type": "stream",
     "text": [
      "CPU times: user 53.8 s, sys: 436 ms, total: 54.3 s\n",
      "Wall time: 11 s\n"
     ]
    }
   ],
   "source": [
    "%%time\n",
    "\n",
    "def precache_actual_data(synth_data, regions):\n",
    "    distinct_dates = [\n",
    "        datetime.strptime(date, \"%Y-%m-%d\").date()\n",
    "        for date in synth_data[\"distinct_dates\"].unique().tolist()\n",
    "    ]\n",
    "    all_dates_regions = [(date, region) for date in distinct_dates for region in regions]\n",
    "\n",
    "    def get_actual_data_for_region_date(date, region):\n",
    "        start = pd.to_datetime(date)\n",
    "        end = start + pd.Timedelta(\"2d\")  \n",
    "        return (region, date, actual_data.get_historical_pandas(\n",
    "            start - pd.Timedelta(\"9h\"),\n",
    "            end + pd.Timedelta(\"9h\"),\n",
    "            region,\n",
    "        ))\n",
    "\n",
    "    with concurrent.futures.ThreadPoolExecutor(max_workers=100) as executor:\n",
    "        result = executor.map(get_actual_data_for_region_date,\n",
    "            [date for (date, region) in all_dates_regions], \n",
    "            [region for (date, region) in all_dates_regions]\n",
    "            )\n",
    "    result = list(result)\n",
    "\n",
    "    return {(region, date): data for (region, date, data) in result}\n",
    "\n",
    "HISTORICAL_ACTUAL_CACHE = precache_actual_data(synth_data, regions)"
   ]
  },
  {
   "cell_type": "code",
   "execution_count": 13,
   "metadata": {},
   "outputs": [
    {
     "name": "stdout",
     "output_type": "stream",
     "text": [
      "\n",
      " Warnings Returned: {'region': 'CAISO_NORTH', 'signal_type': 'co2_moer', 'horizon_hours': 24, 'start': Timestamp('2023-05-17 15:00:00+0000', tz='UTC'), 'end': Timestamp('2023-05-18 14:55:00+0000', tz='UTC')} {'data_point_period_seconds': 300, 'region': 'CAISO_NORTH', 'signal_type': 'co2_moer', 'units': 'lbs_co2_per_mwh', 'warnings': [{'type': 'MISSING_DATA', 'message': 'You made a valid request, but we have some datapoints missing. This can happen for a variety of reasons. If the data is less than a week old, we will most likely fill in this data soon. If it is older than that, we are missing enough important grid data during this time period that we are not able to generate an accurate estimate'}], 'model': {'date': '2023-03-01'}, 'generated_at_period_seconds': 300}\n",
      "\n",
      " Warnings Returned: {'region': 'CAISO_NORTH', 'signal_type': 'co2_moer', 'horizon_hours': 24, 'start': Timestamp('2023-05-31 15:00:00+0000', tz='UTC'), 'end': Timestamp('2023-06-01 14:55:00+0000', tz='UTC')} {'data_point_period_seconds': 300, 'region': 'CAISO_NORTH', 'signal_type': 'co2_moer', 'units': 'lbs_co2_per_mwh', 'warnings': [{'type': 'MISSING_DATA', 'message': 'You made a valid request, but we have some datapoints missing. This can happen for a variety of reasons. If the data is less than a week old, we will most likely fill in this data soon. If it is older than that, we are missing enough important grid data during this time period that we are not able to generate an accurate estimate'}], 'model': {'date': '2023-03-01'}, 'generated_at_period_seconds': 300}\n",
      "\n",
      " Warnings Returned: {'region': 'CAISO_NORTH', 'signal_type': 'co2_moer', 'horizon_hours': 24, 'start': Timestamp('2023-10-15 15:00:00+0000', tz='UTC'), 'end': Timestamp('2023-10-16 14:55:00+0000', tz='UTC')} {'data_point_period_seconds': 300, 'region': 'CAISO_NORTH', 'signal_type': 'co2_moer', 'units': 'lbs_co2_per_mwh', 'warnings': [{'type': 'MISSING_DATA', 'message': 'You made a valid request, but we have some datapoints missing. This can happen for a variety of reasons. If the data is less than a week old, we will most likely fill in this data soon. If it is older than that, we are missing enough important grid data during this time period that we are not able to generate an accurate estimate'}], 'model': {'date': '2023-03-01'}, 'generated_at_period_seconds': 300}\n",
      "\n",
      " Warnings Returned: {'region': 'CAISO_NORTH', 'signal_type': 'co2_moer', 'horizon_hours': 24, 'start': Timestamp('2023-01-20 15:00:00+0000', tz='UTC'), 'end': Timestamp('2023-01-21 14:55:00+0000', tz='UTC')} {'data_point_period_seconds': 300, 'region': 'CAISO_NORTH', 'signal_type': 'co2_moer', 'units': 'lbs_co2_per_mwh', 'warnings': [{'type': 'MISSING_DATA', 'message': 'You made a valid request, but we have some datapoints missing. This can happen for a variety of reasons. If the data is less than a week old, we will most likely fill in this data soon. If it is older than that, we are missing enough important grid data during this time period that we are not able to generate an accurate estimate'}], 'model': {'date': '2023-03-01'}, 'generated_at_period_seconds': 300}\n",
      "\n",
      " Warnings Returned: {'region': 'CAISO_NORTH', 'signal_type': 'co2_moer', 'horizon_hours': 24, 'start': Timestamp('2023-10-11 15:00:00+0000', tz='UTC'), 'end': Timestamp('2023-10-12 14:55:00+0000', tz='UTC')} {'data_point_period_seconds': 300, 'region': 'CAISO_NORTH', 'signal_type': 'co2_moer', 'units': 'lbs_co2_per_mwh', 'warnings': [{'type': 'MISSING_DATA', 'message': 'You made a valid request, but we have some datapoints missing. This can happen for a variety of reasons. If the data is less than a week old, we will most likely fill in this data soon. If it is older than that, we are missing enough important grid data during this time period that we are not able to generate an accurate estimate'}], 'model': {'date': '2023-03-01'}, 'generated_at_period_seconds': 300}\n",
      "\n",
      " Warnings Returned: {'region': 'CAISO_NORTH', 'signal_type': 'co2_moer', 'horizon_hours': 24, 'start': Timestamp('2023-05-21 15:00:00+0000', tz='UTC'), 'end': Timestamp('2023-05-22 14:55:00+0000', tz='UTC')} {'data_point_period_seconds': 300, 'region': 'CAISO_NORTH', 'signal_type': 'co2_moer', 'units': 'lbs_co2_per_mwh', 'warnings': [{'type': 'MISSING_DATA', 'message': 'You made a valid request, but we have some datapoints missing. This can happen for a variety of reasons. If the data is less than a week old, we will most likely fill in this data soon. If it is older than that, we are missing enough important grid data during this time period that we are not able to generate an accurate estimate'}], 'model': {'date': '2023-03-01'}, 'generated_at_period_seconds': 300}\n",
      "\n",
      " Warnings Returned: {'region': 'CAISO_NORTH', 'signal_type': 'co2_moer', 'horizon_hours': 24, 'start': Timestamp('2023-04-27 15:00:00+0000', tz='UTC'), 'end': Timestamp('2023-04-28 14:55:00+0000', tz='UTC')} {'data_point_period_seconds': 300, 'region': 'CAISO_NORTH', 'signal_type': 'co2_moer', 'units': 'lbs_co2_per_mwh', 'warnings': [{'type': 'MISSING_DATA', 'message': 'You made a valid request, but we have some datapoints missing. This can happen for a variety of reasons. If the data is less than a week old, we will most likely fill in this data soon. If it is older than that, we are missing enough important grid data during this time period that we are not able to generate an accurate estimate'}], 'model': {'date': '2023-03-01'}, 'generated_at_period_seconds': 300}\n",
      "\n",
      " Warnings Returned: {'region': 'CAISO_NORTH', 'signal_type': 'co2_moer', 'horizon_hours': 24, 'start': Timestamp('2023-11-04 15:00:00+0000', tz='UTC'), 'end': Timestamp('2023-11-05 14:55:00+0000', tz='UTC')} {'data_point_period_seconds': 300, 'region': 'CAISO_NORTH', 'signal_type': 'co2_moer', 'units': 'lbs_co2_per_mwh', 'warnings': [{'type': 'MISSING_DATA', 'message': 'You made a valid request, but we have some datapoints missing. This can happen for a variety of reasons. If the data is less than a week old, we will most likely fill in this data soon. If it is older than that, we are missing enough important grid data during this time period that we are not able to generate an accurate estimate'}], 'model': {'date': '2023-03-01'}, 'generated_at_period_seconds': 300}\n",
      "\n",
      " Warnings Returned: {'region': 'CAISO_NORTH', 'signal_type': 'co2_moer', 'horizon_hours': 24, 'start': Timestamp('2023-05-13 15:00:00+0000', tz='UTC'), 'end': Timestamp('2023-05-14 14:55:00+0000', tz='UTC')} {'data_point_period_seconds': 300, 'region': 'CAISO_NORTH', 'signal_type': 'co2_moer', 'units': 'lbs_co2_per_mwh', 'warnings': [{'type': 'MISSING_DATA', 'message': 'You made a valid request, but we have some datapoints missing. This can happen for a variety of reasons. If the data is less than a week old, we will most likely fill in this data soon. If it is older than that, we are missing enough important grid data during this time period that we are not able to generate an accurate estimate'}], 'model': {'date': '2023-03-01'}, 'generated_at_period_seconds': 300}\n",
      "\n",
      " Warnings Returned: {'region': 'CAISO_NORTH', 'signal_type': 'co2_moer', 'horizon_hours': 24, 'start': Timestamp('2023-06-01 15:00:00+0000', tz='UTC'), 'end': Timestamp('2023-06-02 09:00:00+0000', tz='UTC')} {'data_point_period_seconds': 300, 'region': 'CAISO_NORTH', 'signal_type': 'co2_moer', 'units': 'lbs_co2_per_mwh', 'warnings': [{'type': 'MISSING_DATA', 'message': 'You made a valid request, but we have some datapoints missing. This can happen for a variety of reasons. If the data is less than a week old, we will most likely fill in this data soon. If it is older than that, we are missing enough important grid data during this time period that we are not able to generate an accurate estimate'}], 'model': {'date': '2023-03-01'}, 'generated_at_period_seconds': 300}\n",
      "\n",
      " Warnings Returned: {'region': 'CAISO_NORTH', 'signal_type': 'co2_moer', 'horizon_hours': 24, 'start': Timestamp('2023-06-01 15:00:00+0000', tz='UTC'), 'end': Timestamp('2023-06-02 14:55:00+0000', tz='UTC')} {'data_point_period_seconds': 300, 'region': 'CAISO_NORTH', 'signal_type': 'co2_moer', 'units': 'lbs_co2_per_mwh', 'warnings': [{'type': 'MISSING_DATA', 'message': 'You made a valid request, but we have some datapoints missing. This can happen for a variety of reasons. If the data is less than a week old, we will most likely fill in this data soon. If it is older than that, we are missing enough important grid data during this time period that we are not able to generate an accurate estimate'}], 'model': {'date': '2023-03-01'}, 'generated_at_period_seconds': 300}\n",
      "\n",
      " Warnings Returned: {'region': 'CAISO_NORTH', 'signal_type': 'co2_moer', 'horizon_hours': 24, 'start': Timestamp('2023-05-18 15:00:00+0000', tz='UTC'), 'end': Timestamp('2023-05-19 09:00:00+0000', tz='UTC')} {'data_point_period_seconds': 300, 'region': 'CAISO_NORTH', 'signal_type': 'co2_moer', 'units': 'lbs_co2_per_mwh', 'warnings': [{'type': 'MISSING_DATA', 'message': 'You made a valid request, but we have some datapoints missing. This can happen for a variety of reasons. If the data is less than a week old, we will most likely fill in this data soon. If it is older than that, we are missing enough important grid data during this time period that we are not able to generate an accurate estimate'}], 'model': {'date': '2023-03-01'}, 'generated_at_period_seconds': 300}\n",
      "\n",
      " Warnings Returned: {'region': 'CAISO_NORTH', 'signal_type': 'co2_moer', 'horizon_hours': 24, 'start': Timestamp('2023-05-07 15:00:00+0000', tz='UTC'), 'end': Timestamp('2023-05-08 09:00:00+0000', tz='UTC')} {'data_point_period_seconds': 300, 'region': 'CAISO_NORTH', 'signal_type': 'co2_moer', 'units': 'lbs_co2_per_mwh', 'warnings': [{'type': 'MISSING_DATA', 'message': 'You made a valid request, but we have some datapoints missing. This can happen for a variety of reasons. If the data is less than a week old, we will most likely fill in this data soon. If it is older than that, we are missing enough important grid data during this time period that we are not able to generate an accurate estimate'}], 'model': {'date': '2023-03-01'}, 'generated_at_period_seconds': 300}\n",
      "\n",
      " Warnings Returned: {'region': 'CAISO_NORTH', 'signal_type': 'co2_moer', 'horizon_hours': 24, 'start': Timestamp('2023-05-06 15:00:00+0000', tz='UTC'), 'end': Timestamp('2023-05-07 09:00:00+0000', tz='UTC')} {'data_point_period_seconds': 300, 'region': 'CAISO_NORTH', 'signal_type': 'co2_moer', 'units': 'lbs_co2_per_mwh', 'warnings': [{'type': 'MISSING_DATA', 'message': 'You made a valid request, but we have some datapoints missing. This can happen for a variety of reasons. If the data is less than a week old, we will most likely fill in this data soon. If it is older than that, we are missing enough important grid data during this time period that we are not able to generate an accurate estimate'}], 'model': {'date': '2023-03-01'}, 'generated_at_period_seconds': 300}\n",
      "\n",
      " Warnings Returned: {'region': 'CAISO_NORTH', 'signal_type': 'co2_moer', 'horizon_hours': 24, 'start': Timestamp('2023-03-30 15:00:00+0000', tz='UTC'), 'end': Timestamp('2023-03-31 09:00:00+0000', tz='UTC')} {'data_point_period_seconds': 300, 'region': 'CAISO_NORTH', 'signal_type': 'co2_moer', 'units': 'lbs_co2_per_mwh', 'warnings': [{'type': 'MISSING_DATA', 'message': 'You made a valid request, but we have some datapoints missing. This can happen for a variety of reasons. If the data is less than a week old, we will most likely fill in this data soon. If it is older than that, we are missing enough important grid data during this time period that we are not able to generate an accurate estimate'}], 'model': {'date': '2023-03-01'}, 'generated_at_period_seconds': 300}\n",
      "\n",
      " Warnings Returned: {'region': 'CAISO_NORTH', 'signal_type': 'co2_moer', 'horizon_hours': 24, 'start': Timestamp('2023-02-18 15:00:00+0000', tz='UTC'), 'end': Timestamp('2023-02-19 09:00:00+0000', tz='UTC')} {'data_point_period_seconds': 300, 'region': 'CAISO_NORTH', 'signal_type': 'co2_moer', 'units': 'lbs_co2_per_mwh', 'warnings': [{'type': 'MISSING_DATA', 'message': 'You made a valid request, but we have some datapoints missing. This can happen for a variety of reasons. If the data is less than a week old, we will most likely fill in this data soon. If it is older than that, we are missing enough important grid data during this time period that we are not able to generate an accurate estimate'}], 'model': {'date': '2023-03-01'}, 'generated_at_period_seconds': 300}\n",
      "\n",
      " Warnings Returned: {'region': 'CAISO_NORTH', 'signal_type': 'co2_moer', 'horizon_hours': 24, 'start': Timestamp('2023-05-23 15:00:00+0000', tz='UTC'), 'end': Timestamp('2023-05-24 09:00:00+0000', tz='UTC')} {'data_point_period_seconds': 300, 'region': 'CAISO_NORTH', 'signal_type': 'co2_moer', 'units': 'lbs_co2_per_mwh', 'warnings': [{'type': 'MISSING_DATA', 'message': 'You made a valid request, but we have some datapoints missing. This can happen for a variety of reasons. If the data is less than a week old, we will most likely fill in this data soon. If it is older than that, we are missing enough important grid data during this time period that we are not able to generate an accurate estimate'}], 'model': {'date': '2023-03-01'}, 'generated_at_period_seconds': 300}\n",
      "\n",
      " Warnings Returned: {'region': 'CAISO_NORTH', 'signal_type': 'co2_moer', 'horizon_hours': 24, 'start': Timestamp('2024-02-15 15:00:00+0000', tz='UTC'), 'end': Timestamp('2024-02-16 14:55:00+0000', tz='UTC')} {'data_point_period_seconds': 300, 'region': 'CAISO_NORTH', 'signal_type': 'co2_moer', 'units': 'lbs_co2_per_mwh', 'warnings': [{'type': 'MISSING_DATA', 'message': 'You made a valid request, but we have some datapoints missing. This can happen for a variety of reasons. If the data is less than a week old, we will most likely fill in this data soon. If it is older than that, we are missing enough important grid data during this time period that we are not able to generate an accurate estimate'}], 'model': {'date': '2023-03-01'}, 'generated_at_period_seconds': 300}\n",
      "\n",
      " Warnings Returned: {'region': 'CAISO_NORTH', 'signal_type': 'co2_moer', 'horizon_hours': 24, 'start': Timestamp('2024-04-03 15:00:00+0000', tz='UTC'), 'end': Timestamp('2024-04-04 09:00:00+0000', tz='UTC')} {'data_point_period_seconds': 300, 'region': 'CAISO_NORTH', 'signal_type': 'co2_moer', 'units': 'lbs_co2_per_mwh', 'warnings': [{'type': 'MISSING_DATA', 'message': 'You made a valid request, but we have some datapoints missing. This can happen for a variety of reasons. If the data is less than a week old, we will most likely fill in this data soon. If it is older than that, we are missing enough important grid data during this time period that we are not able to generate an accurate estimate'}], 'model': {'date': '2023-03-01'}, 'generated_at_period_seconds': 300}\n",
      "\n",
      " Warnings Returned: {'region': 'CAISO_NORTH', 'signal_type': 'co2_moer', 'horizon_hours': 24, 'start': Timestamp('2024-07-17 15:00:00+0000', tz='UTC'), 'end': Timestamp('2024-07-18 09:00:00+0000', tz='UTC')} {'data_point_period_seconds': 300, 'region': 'CAISO_NORTH', 'signal_type': 'co2_moer', 'units': 'lbs_co2_per_mwh', 'warnings': [{'type': 'MISSING_DATA', 'message': 'You made a valid request, but we have some datapoints missing. This can happen for a variety of reasons. If the data is less than a week old, we will most likely fill in this data soon. If it is older than that, we are missing enough important grid data during this time period that we are not able to generate an accurate estimate'}], 'model': {'date': '2023-03-01'}, 'generated_at_period_seconds': 300}\n",
      "CPU times: user 10min 38s, sys: 37.1 s, total: 11min 15s\n",
      "Wall time: 9min 54s\n"
     ]
    }
   ],
   "source": [
    "%%time\n",
    "\n",
    "def precache_fcst_data(synth_data, regions):\n",
    "    distinct_dates = [\n",
    "        datetime.strptime(date, \"%Y-%m-%d\").date()\n",
    "        for date in synth_data[\"distinct_dates\"].unique().tolist()\n",
    "    ]\n",
    "    all_dates_regions = [(date, region) for date in distinct_dates for region in regions]\n",
    "\n",
    "    def get_fsct_data_for_region_date(date, region):\n",
    "        start = pd.to_datetime(date)\n",
    "        end = (pd.to_datetime(date) + pd.Timedelta(\"1d\"))      \n",
    "        return  (region, date,  hist_data.get_historical_forecast_pandas(\n",
    "            start - pd.Timedelta(\"9h\"),\n",
    "            end + pd.Timedelta(\"9h\"),\n",
    "            region,\n",
    "        ))\n",
    "\n",
    "    with concurrent.futures.ThreadPoolExecutor(max_workers=100) as executor:\n",
    "        result = executor.map(get_fsct_data_for_region_date,\n",
    "            [date for (date, region) in all_dates_regions], \n",
    "            [region for (date, region) in all_dates_regions]\n",
    "            )\n",
    "    result = list(result)\n",
    "    return {(region, date): data for (region, date, data) in result}\n",
    "\n",
    "HISTORICAL_FORECAST_CACHE = precache_fcst_data(synth_data, regions)"
   ]
  },
  {
   "cell_type": "markdown",
   "metadata": {},
   "source": [
    "---"
   ]
  },
  {
   "cell_type": "code",
   "execution_count": 16,
   "metadata": {},
   "outputs": [],
   "source": [
    "def get_historical_fcst_data_cached(plug_in_time, horizon, region):\n",
    "    time_zone = efu.get_timezone_from_dict(region)\n",
    "    plug_in_time_utc = pd.Timestamp(efu.convert_to_utc(plug_in_time, time_zone))\n",
    "    date = plug_in_time.date()\n",
    "    if (region, date) not in HISTORICAL_FORECAST_CACHE.keys():\n",
    "        print(type(date), date)\n",
    "        start = pd.to_datetime(date)\n",
    "        end = (pd.to_datetime(date) + pd.Timedelta(\"1d\"))      \n",
    "        HISTORICAL_FORECAST_CACHE[(region, date)] = hist_data.get_historical_forecast_pandas(\n",
    "            start - pd.Timedelta(\"9h\"),\n",
    "            end + pd.Timedelta(\"9h\"),\n",
    "            region,\n",
    "        )\n",
    "    cache = HISTORICAL_FORECAST_CACHE[(region, date)]\n",
    "        \n",
    "    # make this match efu.get_historical_fsct_data\n",
    "    generated_at_times = cache[\"generated_at\"].unique()\n",
    "    generated_at = max([t for t in generated_at_times if t < plug_in_time_utc])\n",
    "    df = cache[cache[\"generated_at\"] == generated_at].copy()\n",
    "    return df.iloc[:math.ceil(horizon / 12) * 12]\n",
    "\n",
    "def get_historical_actual_data_cached(plug_in_time, horizon, region):\n",
    "    time_zone = efu.get_timezone_from_dict(region)\n",
    "    plug_in_time_utc = pd.Timestamp(efu.convert_to_utc(plug_in_time, time_zone))\n",
    "    date = plug_in_time.date()\n",
    "    \n",
    "    if (region, date) not in HISTORICAL_ACTUAL_CACHE.keys():\n",
    "        start = pd.to_datetime(date)\n",
    "        end = (pd.to_datetime(date) + pd.Timedelta(\"2d\"))   \n",
    "        HISTORICAL_ACTUAL_CACHE[(region, date)] = actual_data.get_historical_pandas(\n",
    "            start - pd.Timedelta(\"9h\"),\n",
    "            end + pd.Timedelta(\"9h\"),\n",
    "            region,\n",
    "        )\n",
    "    cache = HISTORICAL_ACTUAL_CACHE[(region, date)]\n",
    "\n",
    "    t_start = max([t for t in cache[\"point_time\"].unique() if t < plug_in_time_utc])\n",
    "    df =  cache[cache[\"point_time\"] >= t_start].copy()\n",
    "    return df.iloc[:math.ceil(horizon / 12) * 12 + 1].reset_index(drop=True)\n",
    "    "
   ]
  },
  {
   "cell_type": "code",
   "execution_count": 15,
   "metadata": {},
   "outputs": [
    {
     "name": "stdout",
     "output_type": "stream",
     "text": [
      "CAISO_NORTH 2023-05-06\n"
     ]
    }
   ],
   "source": [
    "### Test that my cached versions of the get data functions match the old versions in `efu`\n",
    "\n",
    "def _test_get_historical_fcst_data_cached(synth_data_row):\n",
    "    \"\"\"Test get_historical_fcst_data_cached matches efu.get_historical_fcst_data\"\"\"\n",
    "    plug_in_time = synth_data_row[\"plug_in_time\"]\n",
    "    horizon = math.ceil(synth_data_row[\"total_intervals_plugged_in\"])\n",
    "    df1 = efu.get_historical_fcst_data(plug_in_time, horizon, region)\n",
    "    df2 = get_historical_fcst_data_cached(plug_in_time, horizon, region)\n",
    "    assert df1.equals(df2)\n",
    "\n",
    "def _test_get_historical_actual_data_cached(synth_data_row):\n",
    "    \"\"\"Test get_historical_fcst_data_cached matches efu.get_historical_fcst_data\"\"\"\n",
    "    plug_in_time = synth_data_row[\"plug_in_time\"]\n",
    "    horizon = math.ceil(synth_data_row[\"total_intervals_plugged_in\"])\n",
    "    df1 = efu.get_historical_actual_data(plug_in_time, horizon, region)\n",
    "    df2 = get_historical_actual_data_cached(plug_in_time, horizon, region)\n",
    "    assert df1.equals(df2)\n",
    "\n",
    "synth_data_row = synth_data.iloc[34] # test a random row\n",
    "_test_get_historical_fcst_data_cached(synth_data_row)\n",
    "_test_get_historical_actual_data_cached(synth_data_row) "
   ]
  },
  {
   "cell_type": "markdown",
   "metadata": {},
   "source": [
    "## API Data with caching"
   ]
  },
  {
   "cell_type": "code",
   "execution_count": 17,
   "metadata": {},
   "outputs": [
    {
     "name": "stdout",
     "output_type": "stream",
     "text": [
      "CPU times: user 8min, sys: 1.28 s, total: 8min 1s\n",
      "Wall time: 8min 1s\n"
     ]
    }
   ],
   "source": [
    "%%time\n",
    "\n",
    "synth_data['moer_data'] = synth_data.apply(\n",
    "    lambda x: get_historical_fcst_data_cached(\n",
    "    x.plug_in_time,\n",
    "    math.ceil(x.total_intervals_plugged_in),\n",
    "    region = region\n",
    "    ), axis = 1\n",
    ")"
   ]
  },
  {
   "cell_type": "code",
   "execution_count": 18,
   "metadata": {},
   "outputs": [
    {
     "name": "stdout",
     "output_type": "stream",
     "text": [
      "CPU times: user 5min 53s, sys: 696 ms, total: 5min 54s\n",
      "Wall time: 5min 54s\n"
     ]
    }
   ],
   "source": [
    "\n",
    "%%time\n",
    "\n",
    "synth_data['moer_data_actual'] = synth_data.apply(\n",
    "    lambda x: get_historical_actual_data_cached(\n",
    "    x.plug_in_time,\n",
    "    math.ceil(x.total_intervals_plugged_in),\n",
    "    region = region\n",
    "    ), axis = 1\n",
    ")"
   ]
  },
  {
   "cell_type": "markdown",
   "metadata": {},
   "source": [
    "## MOER - No Optimization - Actual Emissions"
   ]
  },
  {
   "cell_type": "code",
   "execution_count": 19,
   "metadata": {},
   "outputs": [
    {
     "name": "stdout",
     "output_type": "stream",
     "text": [
      "CPU times: user 47.1 s, sys: 56.5 ms, total: 47.2 s\n",
      "Wall time: 47.1 s\n"
     ]
    }
   ],
   "source": [
    "%%time\n",
    "\n",
    "synth_data['charger_baseline_actual'] = synth_data.apply(\n",
    "    lambda x: efu.get_schedule_and_cost(\n",
    "        x.MWh_fraction,\n",
    "        x.charged_kWh_actual / 1000,\n",
    "        math.ceil(x.total_intervals_plugged_in), # will throw an error if the plug in time is too shart to reach full charge, should soften to a warning\n",
    "        x.moer_data_actual,\n",
    "        asap = True\n",
    "        ), \n",
    "        axis = 1\n",
    "        )\n",
    "\n",
    "synth_data['baseline_charging_schedule'] = synth_data['charger_baseline_actual'].apply(\n",
    "    lambda  x: x.get_schedule()\n",
    "    )\n",
    "\n",
    "synth_data['baseline_actual_emissions'] = synth_data['charger_baseline_actual'].apply(\n",
    "    lambda  x: x.get_total_cost()\n",
    "    )"
   ]
  },
  {
   "cell_type": "code",
   "execution_count": 20,
   "metadata": {},
   "outputs": [
    {
     "data": {
      "text/plain": [
       "<Axes: xlabel='baseline_actual_emissions', ylabel='Count'>"
      ]
     },
     "execution_count": 20,
     "metadata": {},
     "output_type": "execute_result"
    },
    {
     "data": {
      "image/png": "[encoded data removed]",
      "text/plain": [
       "<Figure size 640x480 with 1 Axes>"
      ]
     },
     "metadata": {},
     "output_type": "display_data"
    }
   ],
   "source": [
    "sns.histplot(synth_data['baseline_actual_emissions'])"
   ]
  },
  {
   "cell_type": "markdown",
   "metadata": {},
   "source": [
    "## MOER - Simple Optimization - Forecast Emissions"
   ]
  },
  {
   "cell_type": "code",
   "execution_count": 21,
   "metadata": {},
   "outputs": [
    {
     "name": "stdout",
     "output_type": "stream",
     "text": [
      "CPU times: user 1min 1s, sys: 133 ms, total: 1min 1s\n",
      "Wall time: 1min 1s\n"
     ]
    }
   ],
   "source": [
    "%%time\n",
    "\n",
    "synth_data['charger_simple_forecast']= synth_data.apply(\n",
    "    lambda x: efu.get_schedule_and_cost(\n",
    "        x.MWh_fraction,\n",
    "        x.charged_kWh_actual / 1000,\n",
    "        math.ceil(x.total_intervals_plugged_in), # will throw an error if the plug in time is too shart to reach full charge, should soften to a warning\n",
    "        x.moer_data,\n",
    "        asap = False\n",
    "        ), \n",
    "        axis = 1\n",
    "        )\n",
    "\n",
    "synth_data['simple_charing_schedule'] = synth_data['charger_simple_forecast'].apply(\n",
    "    lambda  x: x.get_schedule()\n",
    "    )\n",
    "\n",
    "synth_data['simple_estimated_emissions'] = synth_data['charger_simple_forecast'].apply(\n",
    "    lambda  x: x.get_total_cost()\n",
    "    )"
   ]
  },
  {
   "cell_type": "code",
   "execution_count": 22,
   "metadata": {},
   "outputs": [],
   "source": [
    "def get_total_emission(moer, schedule): \n",
    "    x = np.array(schedule).flatten()\n",
    "    return np.dot(moer[:x.shape[0]], x)"
   ]
  },
  {
   "cell_type": "code",
   "execution_count": 23,
   "metadata": {},
   "outputs": [],
   "source": [
    "synth_data[\"simple_actual_emissions\"] = synth_data.apply(\n",
    "    lambda x: get_total_emission(\n",
    "        x.moer_data_actual['value'],\n",
    "        x.simple_charing_schedule,\n",
    "    ),\n",
    "    axis = 1\n",
    ")"
   ]
  },
  {
   "cell_type": "code",
   "execution_count": 26,
   "metadata": {},
   "outputs": [
    {
     "data": {
      "text/plain": [
       "<Axes: xlabel='baseline_actual_emissions', ylabel='Count'>"
      ]
     },
     "execution_count": 26,
     "metadata": {},
     "output_type": "execute_result"
    },
    {
     "data": {
      "image/png": "[encoded data removed]",
      "text/plain": [
       "<Figure size 640x480 with 1 Axes>"
      ]
     },
     "metadata": {},
     "output_type": "display_data"
    }
   ],
   "source": [
    "sns.histplot(synth_data[\"baseline_actual_emissions\"])"
   ]
  },
  {
   "cell_type": "code",
   "execution_count": 27,
   "metadata": {},
   "outputs": [
    {
     "data": {
      "text/plain": [
       "<Axes: xlabel='simple_actual_emissions', ylabel='Count'>"
      ]
     },
     "execution_count": 27,
     "metadata": {},
     "output_type": "execute_result"
    },
    {
     "data": {
      "image/png": "[encoded data removed]",
      "text/plain": [
       "<Figure size 640x480 with 1 Axes>"
      ]
     },
     "metadata": {},
     "output_type": "display_data"
    }
   ],
   "source": [
    "sns.histplot(synth_data[\"simple_actual_emissions\"])"
   ]
  },
  {
   "cell_type": "code",
   "execution_count": 28,
   "metadata": {},
   "outputs": [],
   "source": [
    "synth_data[\"simple_optimization_difference\"] = synth_data[\"simple_actual_emissions\"] - synth_data[\"baseline_actual_emissions\"]"
   ]
  },
  {
   "cell_type": "code",
   "execution_count": 29,
   "metadata": {},
   "outputs": [],
   "source": [
    "synth_data[\"success_rate\"] = synth_data[\"simple_optimization_difference\"] < 0"
   ]
  },
  {
   "cell_type": "code",
   "execution_count": 30,
   "metadata": {},
   "outputs": [
    {
     "data": {
      "text/plain": [
       "success_rate\n",
       "True     96991\n",
       "False    66009\n",
       "Name: count, dtype: int64"
      ]
     },
     "execution_count": 30,
     "metadata": {},
     "output_type": "execute_result"
    }
   ],
   "source": [
    "synth_data[\"success_rate\"].value_counts()"
   ]
  },
  {
   "cell_type": "markdown",
   "metadata": {},
   "source": [
    "---"
   ]
  },
  {
   "cell_type": "markdown",
   "metadata": {},
   "source": [
    "# store the results"
   ]
  },
  {
   "cell_type": "code",
   "execution_count": 51,
   "metadata": {},
   "outputs": [
    {
     "name": "stdout",
     "output_type": "stream",
     "text": [
      "Successful S3 put_object response. Status - 200\n"
     ]
    }
   ],
   "source": [
    "from optimizer.s3 import s3_utils\n",
    "s3 = s3_utils()\n",
    "cols = [\n",
    "    \"distinct_dates\",\n",
    "    \"plug_in_time\",\n",
    "    \"total_intervals_plugged_in\",\n",
    "    \"charged_kWh_actual\",\n",
    "    \"MWh_fraction\",\n",
    "    \"simple_actual_emissions\",\n",
    "    \"baseline_actual_emissions\",\n",
    "]\n",
    "s3.store_csvdataframe(\n",
    "    synth_data[cols], f\"results/20240726_1k_synth_users_163_days_{region}.csv\"\n",
    ")"
   ]
  }
 ],
 "metadata": {
  "kernelspec": {
   "display_name": "Python 3 (ipykernel)",
   "language": "python",
   "name": "python3"
  },
  "language_info": {
   "codemirror_mode": {
    "name": "ipython",
    "version": 3
   },
   "file_extension": ".py",
   "mimetype": "text/x-python",
   "name": "python",
   "nbconvert_exporter": "python",
   "pygments_lexer": "ipython3",
   "version": "3.9.16"
  }
 },
 "nbformat": 4,
 "nbformat_minor": 2
}
