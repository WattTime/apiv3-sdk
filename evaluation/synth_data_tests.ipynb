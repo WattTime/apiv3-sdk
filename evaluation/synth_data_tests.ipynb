{
 "cells": [
  {
   "cell_type": "code",
   "execution_count": 1,
   "id": "aac8e781-d6fb-44da-a35f-29b209421ce8",
   "metadata": {},
   "outputs": [],
   "source": [
    "import os\n",
    "os.chdir('/home/jennifer.badolato/watttime-python-client-aer-algo/')"
   ]
  },
  {
   "cell_type": "code",
   "execution_count": 2,
   "id": "b342c095-ca1b-4077-9932-66b81115ada1",
   "metadata": {},
   "outputs": [],
   "source": [
    "import numpy as np\n",
    "import pandas as pd\n",
    "import datetime\n",
    "import random\n",
    "import pytz\n",
    "from datetime import datetime, timedelta\n",
    "import random\n",
    "from watttime import WattTimeMyAccess, WattTimeHistorical, WattTimeForecast, WattTimeMaps\n",
    "import os\n",
    "import optimizer.dataset as od\n",
    "from evaluation.config import MOER_REGION_LIST\n",
    "import evaluation.eval_framework as evu\n",
    "import optimizer.s3 as s3u\n",
    "\n",
    "username = os.getenv(\"WATTTIME_USER\")\n",
    "password = os.getenv(\"WATTTIME_PASSWORD\")\n",
    "\n",
    "start = '2024-02-15 00:00Z'\n",
    "end = '2024-02-20 00:00Z'\n",
    "\n",
    "distinct_date_list = [ pd.Timestamp(date).replace(tzinfo=pytz.UTC) for date in pd.date_range(start,end,freq='d', tz=pytz.UTC).values]"
   ]
  },
  {
   "cell_type": "code",
   "execution_count": 5,
   "id": "2a4edbe0-a666-4183-8cde-094bbff8aa3e",
   "metadata": {},
   "outputs": [],
   "source": [
    "start = \"2024-02-01 00:00Z\"\n",
    "end = \"2024-02-15 00:00Z\"\n",
    "\n",
    "distinct_date_list = [\n",
    "    pd.Timestamp(date).replace(tzinfo=pytz.UTC)\n",
    "    for date in pd.date_range(start, end, freq=\"d\", tz=pytz.UTC).values\n",
    "]"
   ]
  },
  {
   "cell_type": "code",
   "execution_count": 18,
   "id": "b51154d8-ac07-437f-8f40-620de89a774b",
   "metadata": {
    "scrolled": true
   },
   "outputs": [
    {
     "name": "stderr",
     "output_type": "stream",
     "text": [
      "  2%|██▋                                                                                                                             | 21/1000 [00:00<00:09, 101.96it/s]"
     ]
    },
    {
     "name": "stdout",
     "output_type": "stream",
     "text": [
      "working on user with 118 total_capacity, 41.170669266656816 rate of charge, and (7.687222222222222,2.1569444444444446) charging behavior.\n",
      "working on user with 94 total_capacity, 55.9612747978399 rate of charge, and (7.826944444444444,2.0861111111111112) charging behavior.\n",
      "working on user with 42 total_capacity, 60.10518407212623 rate of charge, and (6.147777777777778,2.0233333333333334) charging behavior.\n",
      "working on user with 68 total_capacity, 17.448242168911673 rate of charge, and (8.1425,1.8983333333333334) charging behavior.\n",
      "working on user with 105 total_capacity, 41.05825793544149 rate of charge, and (5.751666666666667,2.1675) charging behavior.\n",
      "working on user with 121 total_capacity, 39.75769492113519 rate of charge, and (5.724722222222222,2.168888888888889) charging behavior.\n",
      "working on user with 42 total_capacity, 25.955578207696533 rate of charge, and (7.476944444444444,1.9791666666666667) charging behavior.\n",
      "working on user with 35 total_capacity, 12.225665968371871 rate of charge, and (5.739722222222222,2.068611111111111) charging behavior.\n",
      "working on user with 115 total_capacity, 14.907552843886752 rate of charge, and (8.251666666666667,1.8941666666666668) charging behavior.\n",
      "working on user with 75 total_capacity, 41.51068711508272 rate of charge, and (7.003333333333333,2.1194444444444445) charging behavior.\n",
      "working on user with 79 total_capacity, 19.82208340811259 rate of charge, and (7.5152777777777775,1.895) charging behavior.\n",
      "working on user with 116 total_capacity, 32.323232323232325 rate of charge, and (7.6066666666666665,1.9055555555555554) charging behavior.\n",
      "working on user with 39 total_capacity, 29.539360526552528 rate of charge, and (7.860833333333333,2.0244444444444443) charging behavior.\n",
      "working on user with 97 total_capacity, 16.97465375564214 rate of charge, and (7.519444444444445,1.9277777777777778) charging behavior.\n",
      "working on user with 78 total_capacity, 26.54384756657484 rate of charge, and (7.875555555555556,2.0141666666666667) charging behavior.\n",
      "working on user with 91 total_capacity, 58.93051824033473 rate of charge, and (6.623611111111111,2.181388888888889) charging behavior.\n",
      "working on user with 95 total_capacity, 34.336800309655516 rate of charge, and (6.4191666666666665,1.9272222222222222) charging behavior.\n",
      "working on user with 67 total_capacity, 18.22009544017266 rate of charge, and (8.02111111111111,2.102777777777778) charging behavior.\n",
      "working on user with 56 total_capacity, 59.51350415512465 rate of charge, and (7.1883333333333335,1.9305555555555556) charging behavior.\n",
      "working on user with 35 total_capacity, 54.38867133420355 rate of charge, and (7.939444444444445,2.1341666666666668) charging behavior.\n",
      "working on user with 75 total_capacity, 45.02651447704774 rate of charge, and (7.168333333333333,2.093888888888889) charging behavior.\n",
      "working on user with 78 total_capacity, 39.0070230371932 rate of charge, and (8.274444444444445,2.187777777777778) charging behavior.\n",
      "working on user with 54 total_capacity, 44.013292014188295 rate of charge, and (8.091111111111111,2.1127777777777776) charging behavior.\n",
      "working on user with 21 total_capacity, 74.61446367462666 rate of charge, and (6.7875,2.0661111111111112) charging behavior.\n",
      "working on user with 112 total_capacity, 14.762679945098792 rate of charge, and (5.760555555555555,1.9247222222222222) charging behavior.\n",
      "working on user with 37 total_capacity, 18.267084706132426 rate of charge, and (6.603888888888889,2.0455555555555556) charging behavior.\n",
      "working on user with 60 total_capacity, 72.72727272727272 rate of charge, and (5.702222222222222,2.0302777777777776) charging behavior.\n",
      "working on user with 105 total_capacity, 65.62443137921676 rate of charge, and (7.231111111111111,1.9966666666666666) charging behavior.\n",
      "working on user with 106 total_capacity, 29.659108986440394 rate of charge, and (7.523888888888889,1.9183333333333332) charging behavior.\n",
      "working on user with 22 total_capacity, 15.332955120440364 rate of charge, and (7.996111111111111,2.0830555555555557) charging behavior.\n"
     ]
    },
    {
     "name": "stderr",
     "output_type": "stream",
     "text": [
      "  4%|█████▌                                                                                                                          | 43/1000 [00:00<00:09, 105.26it/s]"
     ]
    },
    {
     "name": "stdout",
     "output_type": "stream",
     "text": [
      "working on user with 60 total_capacity, 19.04432132963989 rate of charge, and (7.4175,2.187222222222222) charging behavior.\n",
      "working on user with 81 total_capacity, 18.45687132540471 rate of charge, and (7.088055555555556,2.132222222222222) charging behavior.\n",
      "working on user with 119 total_capacity, 49.74843122844705 rate of charge, and (6.013055555555556,2.1083333333333334) charging behavior.\n",
      "working on user with 81 total_capacity, 15.552517316314166 rate of charge, and (5.959444444444444,1.9891666666666667) charging behavior.\n",
      "working on user with 99 total_capacity, 18.823337886546145 rate of charge, and (5.581944444444445,2.1416666666666666) charging behavior.\n",
      "working on user with 90 total_capacity, 14.762679945098792 rate of charge, and (6.333611111111111,2.137777777777778) charging behavior.\n",
      "working on user with 46 total_capacity, 10.74176222964146 rate of charge, and (7.9325,2.145) charging behavior.\n",
      "working on user with 104 total_capacity, 15.153518922612356 rate of charge, and (6.572777777777778,2.051111111111111) charging behavior.\n",
      "working on user with 110 total_capacity, 42.203482170947126 rate of charge, and (7.363333333333333,2.2222222222222223) charging behavior.\n",
      "working on user with 108 total_capacity, 10.005408328826395 rate of charge, and (7.848055555555556,2.2172222222222224) charging behavior.\n",
      "working on user with 89 total_capacity, 11.5625 rate of charge, and (6.627222222222223,2.0755555555555554) charging behavior.\n",
      "working on user with 114 total_capacity, 14.33456349951002 rate of charge, and (6.429166666666666,2.013333333333333) charging behavior.\n",
      "working on user with 48 total_capacity, 14.001123873997454 rate of charge, and (7.901666666666666,1.9461111111111111) charging behavior.\n",
      "working on user with 62 total_capacity, 38.4313040440213 rate of charge, and (7.693333333333333,1.9913888888888889) charging behavior.\n",
      "working on user with 77 total_capacity, 22.38185255198488 rate of charge, and (7.046944444444445,2.0991666666666666) charging behavior.\n",
      "working on user with 39 total_capacity, 12.100915090822275 rate of charge, and (5.7825,2.1341666666666668) charging behavior.\n",
      "working on user with 86 total_capacity, 9.363284032690515 rate of charge, and (7.137222222222222,1.9522222222222223) charging behavior.\n",
      "working on user with 79 total_capacity, 13.623752460099897 rate of charge, and (6.610555555555556,2.201111111111111) charging behavior.\n",
      "working on user with 28 total_capacity, 52.07100591715976 rate of charge, and (5.826388888888889,1.9191666666666667) charging behavior.\n",
      "working on user with 115 total_capacity, 9.46950308142749 rate of charge, and (6.912222222222222,2.1133333333333333) charging behavior.\n",
      "working on user with 67 total_capacity, 29.01676306244486 rate of charge, and (6.6275,2.2019444444444445) charging behavior.\n",
      "working on user with 46 total_capacity, 18.50478012115584 rate of charge, and (7.0441666666666665,2.1744444444444446) charging behavior.\n",
      "working on user with 88 total_capacity, 16.834672144759978 rate of charge, and (5.9752777777777775,2.1358333333333333) charging behavior.\n"
     ]
    },
    {
     "name": "stderr",
     "output_type": "stream",
     "text": [
      "  6%|████████▎                                                                                                                       | 65/1000 [00:00<00:08, 106.89it/s]"
     ]
    },
    {
     "name": "stdout",
     "output_type": "stream",
     "text": [
      "working on user with 85 total_capacity, 43.03388918773535 rate of charge, and (7.3925,1.9480555555555557) charging behavior.\n",
      "working on user with 103 total_capacity, 38.1890741058983 rate of charge, and (5.765,2.118611111111111) charging behavior.\n",
      "working on user with 82 total_capacity, 17.623075750647768 rate of charge, and (5.811388888888889,2.1769444444444446) charging behavior.\n",
      "working on user with 40 total_capacity, 29.67675271576011 rate of charge, and (6.5697222222222225,2.022777777777778) charging behavior.\n",
      "working on user with 92 total_capacity, 40.066948228039216 rate of charge, and (6.771388888888889,2.1977777777777776) charging behavior.\n",
      "working on user with 68 total_capacity, 75.72602324788913 rate of charge, and (5.591388888888889,2.1775) charging behavior.\n",
      "working on user with 79 total_capacity, 26.048175043736293 rate of charge, and (5.616388888888889,2.0458333333333334) charging behavior.\n",
      "working on user with 52 total_capacity, 19.065826052678364 rate of charge, and (6.727222222222222,2.0130555555555554) charging behavior.\n",
      "working on user with 107 total_capacity, 31.328142355078864 rate of charge, and (7.420277777777778,1.9827777777777778) charging behavior.\n",
      "working on user with 83 total_capacity, 29.335054323186963 rate of charge, and (6.180833333333333,2.0894444444444447) charging behavior.\n",
      "working on user with 22 total_capacity, 9.844496859738536 rate of charge, and (7.865277777777778,2.125) charging behavior.\n",
      "working on user with 108 total_capacity, 54.38867133420355 rate of charge, and (7.966388888888889,2.1772222222222224) charging behavior.\n",
      "working on user with 38 total_capacity, 36.91374265080942 rate of charge, and (7.040277777777778,2.149722222222222) charging behavior.\n",
      "working on user with 84 total_capacity, 19.757358281003036 rate of charge, and (5.979166666666667,2.095833333333333) charging behavior.\n",
      "working on user with 110 total_capacity, 33.53147386069197 rate of charge, and (7.851388888888889,1.9986111111111111) charging behavior.\n",
      "working on user with 76 total_capacity, 79.21390996258943 rate of charge, and (6.575,2.1758333333333333) charging behavior.\n",
      "working on user with 103 total_capacity, 26.11579744587501 rate of charge, and (6.023333333333333,2.201388888888889) charging behavior.\n",
      "working on user with 86 total_capacity, 14.762679945098792 rate of charge, and (6.022222222222222,2.1869444444444444) charging behavior.\n",
      "working on user with 36 total_capacity, 20.142056430717734 rate of charge, and (8.2225,2.060277777777778) charging behavior.\n",
      "working on user with 121 total_capacity, 20.869855580599385 rate of charge, and (7.300277777777778,2.1041666666666665) charging behavior.\n",
      "working on user with 97 total_capacity, 29.854878151385947 rate of charge, and (7.494722222222222,1.903888888888889) charging behavior.\n",
      "working on user with 87 total_capacity, 21.698649160459542 rate of charge, and (7.516944444444444,1.9241666666666666) charging behavior.\n",
      "working on user with 42 total_capacity, 10.690181213017754 rate of charge, and (7.593333333333334,2.0683333333333334) charging behavior.\n"
     ]
    },
    {
     "name": "stderr",
     "output_type": "stream",
     "text": [
      " 10%|████████████▌                                                                                                                   | 98/1000 [00:00<00:08, 106.93it/s]"
     ]
    },
    {
     "name": "stdout",
     "output_type": "stream",
     "text": [
      "working on user with 41 total_capacity, 50.20034501328027 rate of charge, and (7.5825,2.206111111111111) charging behavior.\n",
      "working on user with 103 total_capacity, 42.43827160493827 rate of charge, and (6.886666666666667,2.0302777777777776) charging behavior.\n",
      "working on user with 103 total_capacity, 50.352352027025475 rate of charge, and (6.8180555555555555,2.1661111111111113) charging behavior.\n",
      "working on user with 90 total_capacity, 31.28119232530165 rate of charge, and (7.923611111111111,2.1530555555555555) charging behavior.\n",
      "working on user with 87 total_capacity, 22.904784809546715 rate of charge, and (7.643055555555556,2.0519444444444446) charging behavior.\n",
      "working on user with 46 total_capacity, 18.585446590700748 rate of charge, and (6.119722222222222,1.9288888888888889) charging behavior.\n",
      "working on user with 113 total_capacity, 17.01690552214054 rate of charge, and (6.714722222222222,2.1486111111111112) charging behavior.\n",
      "working on user with 81 total_capacity, 38.57537628526139 rate of charge, and (7.671666666666667,1.996388888888889) charging behavior.\n",
      "working on user with 59 total_capacity, 17.143558771131172 rate of charge, and (7.467777777777778,2.1525) charging behavior.\n",
      "working on user with 89 total_capacity, 30.02445628439165 rate of charge, and (6.721666666666667,1.9233333333333333) charging behavior.\n",
      "working on user with 53 total_capacity, 18.06640625 rate of charge, and (6.537222222222222,1.96) charging behavior.\n",
      "working on user with 91 total_capacity, 35.583044355882194 rate of charge, and (6.836388888888889,1.9233333333333333) charging behavior.\n",
      "working on user with 103 total_capacity, 11.708397610854 rate of charge, and (7.166666666666667,1.9738888888888888) charging behavior.\n",
      "working on user with 62 total_capacity, 58.738092186765776 rate of charge, and (6.394166666666667,2.1044444444444443) charging behavior.\n",
      "working on user with 87 total_capacity, 24.822552295079767 rate of charge, and (6.253055555555555,2.002222222222222) charging behavior.\n",
      "working on user with 53 total_capacity, 28.118813386075107 rate of charge, and (8.108611111111111,1.9166666666666667) charging behavior.\n",
      "working on user with 23 total_capacity, 11.94764348877648 rate of charge, and (5.555833333333333,2.085) charging behavior.\n",
      "working on user with 27 total_capacity, 12.546115451388888 rate of charge, and (5.732777777777778,2.115) charging behavior.\n",
      "working on user with 60 total_capacity, 56.86458990291664 rate of charge, and (6.276944444444444,1.9608333333333334) charging behavior.\n",
      "working on user with 120 total_capacity, 24.577655336367553 rate of charge, and (7.9191666666666665,2.131388888888889) charging behavior.\n",
      "working on user with 47 total_capacity, 25.005406574394463 rate of charge, and (6.778333333333333,1.9505555555555556) charging behavior.\n",
      "working on user with 56 total_capacity, 34.03381104428108 rate of charge, and (6.418055555555555,2.0044444444444443) charging behavior.\n",
      "working on user with 73 total_capacity, 36.89838854674019 rate of charge, and (7.423611111111111,1.9969444444444444) charging behavior.\n"
     ]
    },
    {
     "name": "stderr",
     "output_type": "stream",
     "text": [
      " 12%|███████████████▎                                                                                                               | 121/1000 [00:01<00:08, 108.18it/s]"
     ]
    },
    {
     "name": "stdout",
     "output_type": "stream",
     "text": [
      "working on user with 49 total_capacity, 34.46109890178743 rate of charge, and (6.283888888888889,2.075277777777778) charging behavior.\n",
      "working on user with 31 total_capacity, 15.739108536892472 rate of charge, and (5.783333333333333,2.1325) charging behavior.\n",
      "working on user with 70 total_capacity, 29.369046093382888 rate of charge, and (7.170555555555556,1.8975) charging behavior.\n",
      "working on user with 75 total_capacity, 17.714963024040813 rate of charge, and (7.020555555555555,2.0947222222222224) charging behavior.\n",
      "working on user with 98 total_capacity, 13.886282604616254 rate of charge, and (5.888333333333334,2.0683333333333334) charging behavior.\n",
      "working on user with 104 total_capacity, 14.36734693877551 rate of charge, and (6.73,2.1480555555555556) charging behavior.\n",
      "working on user with 58 total_capacity, 57.232049947970864 rate of charge, and (5.996388888888889,2.0975) charging behavior.\n",
      "working on user with 87 total_capacity, 61.31532520812373 rate of charge, and (7.5136111111111115,2.098888888888889) charging behavior.\n",
      "working on user with 106 total_capacity, 85.92541673827118 rate of charge, and (8.281666666666666,1.9866666666666666) charging behavior.\n",
      "working on user with 98 total_capacity, 14.354326859661239 rate of charge, and (6.618611111111111,2.042777777777778) charging behavior.\n",
      "working on user with 113 total_capacity, 28.73469387755102 rate of charge, and (6.442777777777778,2.1791666666666667) charging behavior.\n",
      "working on user with 115 total_capacity, 43.51945814318297 rate of charge, and (8.327777777777778,1.9577777777777778) charging behavior.\n",
      "working on user with 68 total_capacity, 17.941930127599743 rate of charge, and (6.286111111111111,2.096388888888889) charging behavior.\n",
      "working on user with 49 total_capacity, 9.754284305751996 rate of charge, and (6.717777777777778,2.140833333333333) charging behavior.\n",
      "working on user with 66 total_capacity, 33.36649760974544 rate of charge, and (7.613888888888889,1.958611111111111) charging behavior.\n",
      "working on user with 35 total_capacity, 16.733563231386736 rate of charge, and (5.967222222222222,1.908611111111111) charging behavior.\n",
      "working on user with 23 total_capacity, 52.07100591715976 rate of charge, and (6.97,1.9866666666666666) charging behavior.\n",
      "working on user with 115 total_capacity, 17.898217192446953 rate of charge, and (7.305,2.1133333333333333) charging behavior.\n",
      "working on user with 85 total_capacity, 16.00602990799443 rate of charge, and (6.8725,2.1991666666666667) charging behavior.\n",
      "working on user with 102 total_capacity, 26.196463953665596 rate of charge, and (6.9825,2.0702777777777777) charging behavior.\n",
      "working on user with 56 total_capacity, 39.0070230371932 rate of charge, and (6.395555555555555,2.19) charging behavior.\n",
      "working on user with 56 total_capacity, 30.957617614321556 rate of charge, and (7.633055555555556,2.209722222222222) charging behavior.\n",
      "working on user with 114 total_capacity, 11.917338761627459 rate of charge, and (5.581944444444445,2.0141666666666667) charging behavior.\n"
     ]
    },
    {
     "name": "stderr",
     "output_type": "stream",
     "text": [
      " 14%|██████████████████▏                                                                                                            | 143/1000 [00:01<00:07, 108.89it/s]"
     ]
    },
    {
     "name": "stdout",
     "output_type": "stream",
     "text": [
      "working on user with 121 total_capacity, 14.803968540221037 rate of charge, and (6.455277777777778,1.9533333333333334) charging behavior.\n",
      "working on user with 121 total_capacity, 84.91552834827718 rate of charge, and (6.3225,1.8919444444444444) charging behavior.\n",
      "working on user with 118 total_capacity, 9.42679962700447 rate of charge, and (6.976666666666667,2.1466666666666665) charging behavior.\n",
      "working on user with 66 total_capacity, 35.32842589380917 rate of charge, and (6.988333333333333,2.1969444444444446) charging behavior.\n",
      "working on user with 56 total_capacity, 36.34657450056502 rate of charge, and (6.930555555555555,2.0341666666666667) charging behavior.\n",
      "working on user with 53 total_capacity, 24.651296209975257 rate of charge, and (6.265555555555555,2.167777777777778) charging behavior.\n",
      "working on user with 68 total_capacity, 61.11111111111112 rate of charge, and (5.815,1.9033333333333333) charging behavior.\n",
      "working on user with 96 total_capacity, 27.024105502107876 rate of charge, and (8.11,1.91) charging behavior.\n",
      "working on user with 46 total_capacity, 19.82208340811259 rate of charge, and (6.674166666666666,1.9922222222222221) charging behavior.\n",
      "working on user with 22 total_capacity, 49.74843122844705 rate of charge, and (7.118055555555555,2.0147222222222223) charging behavior.\n",
      "working on user with 32 total_capacity, 49.74843122844705 rate of charge, and (5.647777777777778,2.2125) charging behavior.\n",
      "working on user with 85 total_capacity, 16.936700227272205 rate of charge, and (7.844722222222222,1.9366666666666668) charging behavior.\n",
      "working on user with 120 total_capacity, 70.91078456336683 rate of charge, and (6.455555555555556,2.053888888888889) charging behavior.\n",
      "working on user with 82 total_capacity, 28.70855854327554 rate of charge, and (6.438611111111111,2.218611111111111) charging behavior.\n",
      "working on user with 34 total_capacity, 17.10188369475314 rate of charge, and (5.8469444444444445,1.9325) charging behavior.\n",
      "working on user with 92 total_capacity, 27.28005456010912 rate of charge, and (6.645,1.9947222222222223) charging behavior.\n",
      "working on user with 113 total_capacity, 30.738449329063485 rate of charge, and (7.091944444444445,2.194166666666667) charging behavior.\n",
      "working on user with 37 total_capacity, 13.190707324942382 rate of charge, and (6.084444444444444,1.9594444444444445) charging behavior.\n",
      "working on user with 87 total_capacity, 16.14560719483166 rate of charge, and (8.000555555555556,1.971111111111111) charging behavior.\n",
      "working on user with 64 total_capacity, 13.016344306932435 rate of charge, and (8.248611111111112,2.0308333333333333) charging behavior.\n",
      "working on user with 24 total_capacity, 29.471021947873798 rate of charge, and (6.892777777777778,2.0230555555555556) charging behavior.\n",
      "working on user with 37 total_capacity, 35.072951739618404 rate of charge, and (7.218333333333334,1.9966666666666666) charging behavior.\n",
      "working on user with 68 total_capacity, 28.616024973985432 rate of charge, and (6.232777777777778,1.9891666666666667) charging behavior.\n"
     ]
    },
    {
     "name": "stderr",
     "output_type": "stream",
     "text": [
      " 17%|█████████████████████                                                                                                          | 166/1000 [00:01<00:07, 109.27it/s]"
     ]
    },
    {
     "name": "stdout",
     "output_type": "stream",
     "text": [
      "working on user with 94 total_capacity, 31.62937276078418 rate of charge, and (7.058611111111111,2.1980555555555554) charging behavior.\n",
      "working on user with 91 total_capacity, 37.00956024231168 rate of charge, and (7.847222222222222,1.9527777777777777) charging behavior.\n",
      "working on user with 71 total_capacity, 13.949760571382193 rate of charge, and (6.341666666666667,1.8972222222222221) charging behavior.\n",
      "working on user with 81 total_capacity, 10.339296592503173 rate of charge, and (8.322222222222223,1.918611111111111) charging behavior.\n",
      "working on user with 31 total_capacity, 16.988062442607898 rate of charge, and (6.174722222222222,1.9441666666666666) charging behavior.\n",
      "working on user with 122 total_capacity, 22.856366270180786 rate of charge, and (6.039166666666667,2.147222222222222) charging behavior.\n",
      "working on user with 104 total_capacity, 37.49429064210677 rate of charge, and (7.247222222222222,2.136388888888889) charging behavior.\n",
      "working on user with 95 total_capacity, 17.623075750647768 rate of charge, and (7.255,1.9644444444444444) charging behavior.\n",
      "working on user with 94 total_capacity, 31.70750689638275 rate of charge, and (5.623611111111111,1.9741666666666666) charging behavior.\n",
      "working on user with 75 total_capacity, 29.065926806711587 rate of charge, and (6.004722222222222,2.1669444444444443) charging behavior.\n",
      "working on user with 81 total_capacity, 23.09930202649553 rate of charge, and (6.996111111111111,2.0838888888888887) charging behavior.\n",
      "working on user with 31 total_capacity, 32.87880871109092 rate of charge, and (6.409166666666667,1.9830555555555556) charging behavior.\n",
      "working on user with 106 total_capacity, 19.952491499968993 rate of charge, and (6.066111111111111,2.0166666666666666) charging behavior.\n",
      "working on user with 69 total_capacity, 20.624245751823434 rate of charge, and (7.874722222222222,2.1975) charging behavior.\n",
      "working on user with 102 total_capacity, 64.5055357477951 rate of charge, and (7.454722222222222,2.136388888888889) charging behavior.\n",
      "working on user with 41 total_capacity, 18.409975221168487 rate of charge, and (7.038888888888889,2.1430555555555557) charging behavior.\n",
      "working on user with 30 total_capacity, 20.36188625109908 rate of charge, and (7.475833333333333,1.9211111111111112) charging behavior.\n",
      "working on user with 64 total_capacity, 10.437765528291987 rate of charge, and (7.203888888888889,2.0108333333333333) charging behavior.\n",
      "working on user with 110 total_capacity, 31.386961285609935 rate of charge, and (6.175833333333333,1.9908333333333332) charging behavior.\n",
      "working on user with 84 total_capacity, 22.70775531774343 rate of charge, and (7.7375,2.0744444444444445) charging behavior.\n",
      "working on user with 67 total_capacity, 10.075580469168044 rate of charge, and (6.731388888888889,2.0183333333333335) charging behavior.\n",
      "working on user with 59 total_capacity, 35.7113870627384 rate of charge, and (6.129722222222222,2.2066666666666666) charging behavior.\n",
      "working on user with 85 total_capacity, 14.838376357880055 rate of charge, and (6.534722222222222,1.9419444444444445) charging behavior.\n",
      "working on user with 35 total_capacity, 36.36363636363636 rate of charge, and (7.139166666666667,1.931111111111111) charging behavior.\n"
     ]
    },
    {
     "name": "stderr",
     "output_type": "stream",
     "text": [
      " 19%|███████████████████████▉                                                                                                       | 188/1000 [00:01<00:07, 109.34it/s]"
     ]
    },
    {
     "name": "stdout",
     "output_type": "stream",
     "text": [
      "working on user with 32 total_capacity, 19.313030292749 rate of charge, and (7.4991666666666665,2.0308333333333333) charging behavior.\n",
      "working on user with 35 total_capacity, 21.759729071591487 rate of charge, and (8.272222222222222,2.0025) charging behavior.\n",
      "working on user with 25 total_capacity, 34.336800309655516 rate of charge, and (7.211666666666667,2.1758333333333333) charging behavior.\n",
      "working on user with 85 total_capacity, 30.453957768666204 rate of charge, and (6.3875,1.928611111111111) charging behavior.\n",
      "working on user with 22 total_capacity, 19.60780818572516 rate of charge, and (8.267222222222221,2.1930555555555555) charging behavior.\n",
      "working on user with 44 total_capacity, 22.70775531774343 rate of charge, and (7.22,1.8925) charging behavior.\n",
      "working on user with 30 total_capacity, 80.4302286046452 rate of charge, and (5.855555555555555,2.120277777777778) charging behavior.\n",
      "working on user with 112 total_capacity, 47.438227880309036 rate of charge, and (7.294722222222222,1.9127777777777777) charging behavior.\n",
      "working on user with 65 total_capacity, 31.49326759829479 rate of charge, and (8.035555555555556,2.126388888888889) charging behavior.\n",
      "working on user with 96 total_capacity, 12.44867026332302 rate of charge, and (6.420833333333333,2.203333333333333) charging behavior.\n",
      "working on user with 90 total_capacity, 9.17654178302687 rate of charge, and (8.050833333333333,2.0441666666666665) charging behavior.\n",
      "working on user with 76 total_capacity, 10.146493426717637 rate of charge, and (6.498611111111111,1.9922222222222221) charging behavior.\n",
      "working on user with 92 total_capacity, 17.89618908788005 rate of charge, and (7.642777777777778,2.0058333333333334) charging behavior.\n",
      "working on user with 90 total_capacity, 57.232049947970864 rate of charge, and (7.064444444444445,2.0683333333333334) charging behavior.\n",
      "working on user with 29 total_capacity, 34.703709195536476 rate of charge, and (7.243333333333333,2.001388888888889) charging behavior.\n",
      "working on user with 26 total_capacity, 13.671236588206197 rate of charge, and (7.7380555555555555,2.000277777777778) charging behavior.\n",
      "working on user with 117 total_capacity, 19.09453705294915 rate of charge, and (5.657777777777778,1.9469444444444444) charging behavior.\n",
      "working on user with 72 total_capacity, 11.708397610854 rate of charge, and (7.532777777777778,2.0861111111111112) charging behavior.\n",
      "working on user with 53 total_capacity, 19.92576745904802 rate of charge, and (6.83,2.1461111111111113) charging behavior.\n",
      "working on user with 55 total_capacity, 19.555555555555554 rate of charge, and (6.013333333333334,2.193888888888889) charging behavior.\n",
      "working on user with 48 total_capacity, 34.458454068447026 rate of charge, and (5.578333333333333,1.9838888888888888) charging behavior.\n",
      "working on user with 26 total_capacity, 9.534104393289537 rate of charge, and (6.985555555555556,1.9269444444444443) charging behavior.\n",
      "working on user with 49 total_capacity, 29.481954255162332 rate of charge, and (6.841111111111111,2.2180555555555554) charging behavior.\n"
     ]
    },
    {
     "name": "stderr",
     "output_type": "stream",
     "text": [
      " 21%|██████████████████████████▋                                                                                                    | 210/1000 [00:01<00:07, 109.39it/s]"
     ]
    },
    {
     "name": "stdout",
     "output_type": "stream",
     "text": [
      "working on user with 62 total_capacity, 29.745808545159544 rate of charge, and (6.78,2.0213888888888887) charging behavior.\n",
      "working on user with 32 total_capacity, 16.43564224493105 rate of charge, and (5.773611111111111,2.15) charging behavior.\n",
      "working on user with 57 total_capacity, 27.774270925388205 rate of charge, and (8.017222222222221,2.0775) charging behavior.\n",
      "working on user with 119 total_capacity, 35.70124548663231 rate of charge, and (6.524166666666667,1.9633333333333334) charging behavior.\n",
      "working on user with 35 total_capacity, 39.637854150713935 rate of charge, and (8.19138888888889,2.1805555555555554) charging behavior.\n",
      "working on user with 43 total_capacity, 59.906980797089616 rate of charge, and (7.6322222222222225,2.1866666666666665) charging behavior.\n",
      "working on user with 73 total_capacity, 22.45990603260936 rate of charge, and (7.485277777777778,2.035833333333333) charging behavior.\n",
      "working on user with 62 total_capacity, 24.28636717896182 rate of charge, and (6.200277777777778,2.0930555555555554) charging behavior.\n",
      "working on user with 21 total_capacity, 10.170297508689421 rate of charge, and (6.3244444444444445,2.015277777777778) charging behavior.\n",
      "working on user with 80 total_capacity, 15.929077952563206 rate of charge, and (5.927777777777778,2.057777777777778) charging behavior.\n",
      "working on user with 25 total_capacity, 20.69844065474813 rate of charge, and (7.985277777777778,2.085277777777778) charging behavior.\n",
      "working on user with 76 total_capacity, 35.32842589380917 rate of charge, and (8.140833333333333,2.191388888888889) charging behavior.\n",
      "working on user with 24 total_capacity, 43.64213449712359 rate of charge, and (6.8933333333333335,1.9469444444444444) charging behavior.\n",
      "working on user with 111 total_capacity, 38.08864265927978 rate of charge, and (8.299444444444445,1.9147222222222222) charging behavior.\n",
      "working on user with 78 total_capacity, 21.40311907075756 rate of charge, and (7.508611111111111,2.1141666666666667) charging behavior.\n",
      "working on user with 94 total_capacity, 52.39292790733119 rate of charge, and (8.274444444444445,2.078333333333333) charging behavior.\n",
      "working on user with 85 total_capacity, 28.932749768538 rate of charge, and (5.913611111111111,2.0016666666666665) charging behavior.\n",
      "working on user with 23 total_capacity, 29.745808545159544 rate of charge, and (7.288333333333333,1.9458333333333333) charging behavior.\n",
      "working on user with 29 total_capacity, 33.040077614145964 rate of charge, and (7.109444444444445,2.2158333333333333) charging behavior.\n",
      "working on user with 103 total_capacity, 19.628855478572717 rate of charge, and (6.779166666666667,2.141388888888889) charging behavior.\n",
      "working on user with 40 total_capacity, 41.313622979388256 rate of charge, and (8.29,1.9527777777777777) charging behavior.\n",
      "working on user with 113 total_capacity, 77.15075257052278 rate of charge, and (7.863611111111111,2.2183333333333333) charging behavior.\n",
      "working on user with 32 total_capacity, 14.039721026948678 rate of charge, and (6.838611111111111,1.931111111111111) charging behavior.\n"
     ]
    },
    {
     "name": "stderr",
     "output_type": "stream",
     "text": [
      " 23%|█████████████████████████████▍                                                                                                 | 232/1000 [00:02<00:07, 108.39it/s]"
     ]
    },
    {
     "name": "stdout",
     "output_type": "stream",
     "text": [
      "working on user with 95 total_capacity, 41.283542878588854 rate of charge, and (7.220277777777778,2.0252777777777777) charging behavior.\n",
      "working on user with 85 total_capacity, 23.09930202649553 rate of charge, and (6.702222222222222,2.1127777777777776) charging behavior.\n",
      "working on user with 103 total_capacity, 23.037565892674266 rate of charge, and (7.699722222222222,1.8913888888888888) charging behavior.\n",
      "working on user with 110 total_capacity, 58.93051824033473 rate of charge, and (5.6738888888888885,2.1375) charging behavior.\n",
      "working on user with 28 total_capacity, 15.276126304663762 rate of charge, and (5.583055555555555,2.0597222222222222) charging behavior.\n",
      "working on user with 107 total_capacity, 14.156474961213174 rate of charge, and (5.938055555555556,2.0858333333333334) charging behavior.\n",
      "working on user with 47 total_capacity, 11.140803191689566 rate of charge, and (6.512777777777778,2.218611111111111) charging behavior.\n",
      "working on user with 84 total_capacity, 17.987846756627704 rate of charge, and (5.8822222222222225,1.9522222222222223) charging behavior.\n",
      "working on user with 26 total_capacity, 43.30435878054926 rate of charge, and (7.744166666666667,2.040277777777778) charging behavior.\n",
      "working on user with 106 total_capacity, 20.25152392717552 rate of charge, and (7.006111111111111,2.183611111111111) charging behavior.\n",
      "working on user with 28 total_capacity, 16.122507606892228 rate of charge, and (8.265,2.0480555555555555) charging behavior.\n",
      "working on user with 39 total_capacity, 46.07513178534853 rate of charge, and (6.9475,2.076388888888889) charging behavior.\n",
      "working on user with 74 total_capacity, 27.802983007322297 rate of charge, and (7.804444444444444,1.895) charging behavior.\n",
      "working on user with 37 total_capacity, 17.360672710285094 rate of charge, and (6.925833333333333,1.9975) charging behavior.\n",
      "working on user with 93 total_capacity, 9.42679962700447 rate of charge, and (8.01,2.115) charging behavior.\n",
      "working on user with 116 total_capacity, 29.95442842185094 rate of charge, and (7.066111111111111,2.0969444444444445) charging behavior.\n",
      "working on user with 118 total_capacity, 44.769953663097965 rate of charge, and (6.899444444444445,1.8952777777777778) charging behavior.\n",
      "working on user with 51 total_capacity, 15.320118006314376 rate of charge, and (6.712777777777778,2.1077777777777778) charging behavior.\n",
      "working on user with 86 total_capacity, 27.366179382818018 rate of charge, and (8.32638888888889,2.1080555555555556) charging behavior.\n",
      "working on user with 54 total_capacity, 10.242214532871975 rate of charge, and (6.335277777777778,1.9733333333333334) charging behavior.\n",
      "working on user with 50 total_capacity, 10.898765199359037 rate of charge, and (6.932777777777778,1.9213888888888888) charging behavior.\n",
      "working on user with 32 total_capacity, 36.72322042612289 rate of charge, and (6.533055555555555,2.2158333333333333) charging behavior.\n",
      "working on user with 109 total_capacity, 34.827319816111746 rate of charge, and (7.525,2.1302777777777777) charging behavior.\n",
      "working on user with 67 total_capacity, 28.894977264906526 rate of charge, and (5.989166666666667,2.055) charging behavior.\n"
     ]
    },
    {
     "name": "stderr",
     "output_type": "stream",
     "text": [
      " 25%|████████████████████████████████▎                                                                                              | 254/1000 [00:02<00:06, 107.90it/s]"
     ]
    },
    {
     "name": "stdout",
     "output_type": "stream",
     "text": [
      "working on user with 56 total_capacity, 42.6250852501705 rate of charge, and (8.276666666666667,2.1352777777777776) charging behavior.\n",
      "working on user with 47 total_capacity, 29.6 rate of charge, and (7.535,2.161111111111111) charging behavior.\n",
      "working on user with 70 total_capacity, 27.157557874957796 rate of charge, and (6.960555555555556,2.0830555555555557) charging behavior.\n",
      "working on user with 104 total_capacity, 25.876020926643832 rate of charge, and (7.801388888888889,1.9055555555555554) charging behavior.\n",
      "working on user with 52 total_capacity, 46.208779668136955 rate of charge, and (6.2380555555555555,1.9144444444444444) charging behavior.\n",
      "working on user with 53 total_capacity, 19.188831063087175 rate of charge, and (7.614722222222222,1.9358333333333333) charging behavior.\n",
      "working on user with 100 total_capacity, 17.317134990215816 rate of charge, and (7.018611111111111,1.9869444444444444) charging behavior.\n",
      "working on user with 90 total_capacity, 16.733563231386736 rate of charge, and (7.353055555555556,1.9141666666666666) charging behavior.\n",
      "working on user with 30 total_capacity, 14.803968540221037 rate of charge, and (6.974444444444444,2.181111111111111) charging behavior.\n",
      "working on user with 62 total_capacity, 39.457070707070706 rate of charge, and (7.049722222222222,2.2194444444444446) charging behavior.\n",
      "working on user with 34 total_capacity, 40.06176796223996 rate of charge, and (6.515833333333333,2.069166666666667) charging behavior.\n",
      "working on user with 78 total_capacity, 28.523938066751203 rate of charge, and (7.124722222222222,2.1419444444444444) charging behavior.\n",
      "working on user with 46 total_capacity, 38.28803742481621 rate of charge, and (5.688611111111111,2.1058333333333334) charging behavior.\n",
      "working on user with 30 total_capacity, 16.08354083537911 rate of charge, and (8.31861111111111,2.0119444444444445) charging behavior.\n",
      "working on user with 79 total_capacity, 24.72526855013273 rate of charge, and (6.785277777777778,2.2119444444444443) charging behavior.\n",
      "working on user with 45 total_capacity, 40.94630636398661 rate of charge, and (8.123888888888889,2.124722222222222) charging behavior.\n",
      "working on user with 61 total_capacity, 19.400044796467075 rate of charge, and (8.244722222222222,2.128888888888889) charging behavior.\n",
      "working on user with 96 total_capacity, 19.69294965790153 rate of charge, and (6.860833333333333,2.1155555555555554) charging behavior.\n",
      "working on user with 106 total_capacity, 21.623201110380602 rate of charge, and (7.676111111111111,1.9933333333333334) charging behavior.\n",
      "working on user with 22 total_capacity, 32.81221568960838 rate of charge, and (5.976111111111111,2.2091666666666665) charging behavior.\n",
      "working on user with 67 total_capacity, 11.250971156462997 rate of charge, and (7.320833333333334,2.0275) charging behavior.\n",
      "working on user with 33 total_capacity, 12.039254477301125 rate of charge, and (6.125277777777778,1.9855555555555555) charging behavior.\n",
      "working on user with 88 total_capacity, 55.9612747978399 rate of charge, and (8.233055555555556,2.0180555555555557) charging behavior.\n",
      "working on user with 87 total_capacity, 60.10518407212623 rate of charge, and (6.561944444444444,2.1233333333333335) charging behavior.\n",
      "working on user with 70 total_capacity, 21.549464757888856 rate of charge, and (7.308888888888889,1.9847222222222223) charging behavior.\n"
     ]
    },
    {
     "name": "stderr",
     "output_type": "stream",
     "text": [
      " 28%|███████████████████████████████████                                                                                            | 276/1000 [00:02<00:06, 108.34it/s]"
     ]
    },
    {
     "name": "stdout",
     "output_type": "stream",
     "text": [
      "working on user with 36 total_capacity, 42.79414653882888 rate of charge, and (7.745277777777778,1.9219444444444445) charging behavior.\n",
      "working on user with 78 total_capacity, 17.01690552214054 rate of charge, and (7.642222222222222,2.15) charging behavior.\n",
      "working on user with 107 total_capacity, 27.98063739891995 rate of charge, and (7.808333333333334,2.0027777777777778) charging behavior.\n",
      "working on user with 61 total_capacity, 28.344634682752673 rate of charge, and (5.9944444444444445,2.1883333333333335) charging behavior.\n",
      "working on user with 85 total_capacity, 21.577258354322122 rate of charge, and (6.477777777777778,1.9505555555555556) charging behavior.\n",
      "working on user with 41 total_capacity, 27.792800913406648 rate of charge, and (6.204722222222222,2.2075) charging behavior.\n",
      "working on user with 91 total_capacity, 38.59479847375115 rate of charge, and (7.716944444444445,1.9775) charging behavior.\n",
      "working on user with 65 total_capacity, 40.524460195769976 rate of charge, and (7.298055555555556,2.1416666666666666) charging behavior.\n",
      "working on user with 59 total_capacity, 16.04471516254755 rate of charge, and (7.147777777777778,1.928611111111111) charging behavior.\n",
      "working on user with 66 total_capacity, 21.846695244505856 rate of charge, and (8.210277777777778,1.896111111111111) charging behavior.\n",
      "working on user with 101 total_capacity, 20.624245751823434 rate of charge, and (6.979166666666667,1.9533333333333334) charging behavior.\n",
      "working on user with 55 total_capacity, 23.681439831541752 rate of charge, and (6.0713888888888885,1.9091666666666667) charging behavior.\n",
      "working on user with 113 total_capacity, 9.754284305751996 rate of charge, and (5.645277777777777,2.1352777777777776) charging behavior.\n",
      "working on user with 104 total_capacity, 51.27906299166715 rate of charge, and (6.336388888888889,2.0191666666666666) charging behavior.\n",
      "working on user with 30 total_capacity, 49.89838873566555 rate of charge, and (7.946944444444444,2.0719444444444446) charging behavior.\n",
      "working on user with 96 total_capacity, 21.549464757888856 rate of charge, and (8.312222222222223,2.004166666666667) charging behavior.\n",
      "working on user with 103 total_capacity, 37.202318042616945 rate of charge, and (5.816944444444444,2.0594444444444444) charging behavior.\n",
      "working on user with 42 total_capacity, 29.481954255162332 rate of charge, and (6.276111111111111,1.9841666666666666) charging behavior.\n",
      "working on user with 118 total_capacity, 22.321247392472465 rate of charge, and (6.950277777777778,2.2158333333333333) charging behavior.\n",
      "working on user with 25 total_capacity, 19.565073699517484 rate of charge, and (6.943888888888889,2.22) charging behavior.\n",
      "working on user with 120 total_capacity, 13.640805353148048 rate of charge, and (6.745,2.0597222222222222) charging behavior.\n",
      "working on user with 55 total_capacity, 28.866504226974698 rate of charge, and (7.833888888888889,2.111388888888889) charging behavior.\n",
      "working on user with 37 total_capacity, 20.869855580599385 rate of charge, and (7.032222222222222,2.151111111111111) charging behavior.\n"
     ]
    },
    {
     "name": "stderr",
     "output_type": "stream",
     "text": [
      " 30%|█████████████████████████████████████▉                                                                                         | 299/1000 [00:02<00:06, 108.83it/s]"
     ]
    },
    {
     "name": "stdout",
     "output_type": "stream",
     "text": [
      "working on user with 119 total_capacity, 63.8478795248557 rate of charge, and (7.823888888888889,2.0394444444444444) charging behavior.\n",
      "working on user with 29 total_capacity, 12.352355961514066 rate of charge, and (5.993333333333333,2.2130555555555556) charging behavior.\n",
      "working on user with 96 total_capacity, 35.7923781757601 rate of charge, and (8.046388888888888,2.138611111111111) charging behavior.\n",
      "working on user with 101 total_capacity, 34.336800309655516 rate of charge, and (6.145555555555555,2.0175) charging behavior.\n",
      "working on user with 83 total_capacity, 28.616024973985432 rate of charge, and (6.420555555555556,2.0236111111111112) charging behavior.\n",
      "working on user with 81 total_capacity, 29.132860409899347 rate of charge, and (6.7619444444444445,2.013611111111111) charging behavior.\n",
      "working on user with 117 total_capacity, 14.907552843886752 rate of charge, and (7.3133333333333335,2.1197222222222223) charging behavior.\n",
      "working on user with 99 total_capacity, 22.38185255198488 rate of charge, and (8.306666666666667,1.9341666666666666) charging behavior.\n",
      "working on user with 27 total_capacity, 27.836790367458285 rate of charge, and (5.683333333333334,2.0302777777777776) charging behavior.\n",
      "working on user with 87 total_capacity, 76.8626080880426 rate of charge, and (8.006944444444445,2.080277777777778) charging behavior.\n",
      "working on user with 75 total_capacity, 35.7113870627384 rate of charge, and (7.913611111111111,2.2105555555555556) charging behavior.\n",
      "working on user with 119 total_capacity, 56.68218556201675 rate of charge, and (7.454722222222222,1.9525) charging behavior.\n",
      "working on user with 27 total_capacity, 25.566258067190887 rate of charge, and (7.118333333333333,2.127222222222222) charging behavior.\n",
      "working on user with 29 total_capacity, 34.896484337823345 rate of charge, and (6.188888888888889,2.0297222222222224) charging behavior.\n",
      "working on user with 55 total_capacity, 60.50455296761081 rate of charge, and (6.373611111111111,1.8927777777777777) charging behavior.\n",
      "working on user with 51 total_capacity, 64.72701381921746 rate of charge, and (7.949166666666667,1.908611111111111) charging behavior.\n",
      "working on user with 113 total_capacity, 54.905425404740335 rate of charge, and (5.9863888888888885,2.0733333333333333) charging behavior.\n",
      "working on user with 71 total_capacity, 72.72727272727272 rate of charge, and (6.103888888888889,2.0866666666666664) charging behavior.\n",
      "working on user with 29 total_capacity, 35.34017326323128 rate of charge, and (7.2675,2.1569444444444446) charging behavior.\n",
      "working on user with 86 total_capacity, 15.497998873253598 rate of charge, and (6.460833333333333,2.0533333333333332) charging behavior.\n",
      "working on user with 59 total_capacity, 19.12718024007196 rate of charge, and (6.977777777777778,1.9647222222222223) charging behavior.\n",
      "working on user with 39 total_capacity, 18.50478012115584 rate of charge, and (7.93,1.9152777777777779) charging behavior.\n",
      "working on user with 111 total_capacity, 15.478808807160778 rate of charge, and (6.273333333333333,2.194722222222222) charging behavior.\n"
     ]
    },
    {
     "name": "stderr",
     "output_type": "stream",
     "text": [
      " 33%|██████████████████████████████████████████▏                                                                                    | 332/1000 [00:03<00:06, 108.97it/s]"
     ]
    },
    {
     "name": "stdout",
     "output_type": "stream",
     "text": [
      "working on user with 93 total_capacity, 17.03965865418934 rate of charge, and (7.396388888888889,2.0908333333333333) charging behavior.\n",
      "working on user with 70 total_capacity, 9.867245545071977 rate of charge, and (7.128888888888889,2.126388888888889) charging behavior.\n",
      "working on user with 97 total_capacity, 13.735345870858051 rate of charge, and (6.790555555555556,1.9997222222222222) charging behavior.\n",
      "working on user with 86 total_capacity, 9.62127289440393 rate of charge, and (7.483055555555556,2.0902777777777777) charging behavior.\n",
      "working on user with 113 total_capacity, 15.552517316314166 rate of charge, and (5.739444444444445,2.105) charging behavior.\n",
      "working on user with 56 total_capacity, 28.250328731097962 rate of charge, and (7.603611111111111,2.0108333333333333) charging behavior.\n",
      "working on user with 35 total_capacity, 11.5625 rate of charge, and (7.546666666666667,1.9155555555555555) charging behavior.\n",
      "working on user with 86 total_capacity, 54.04821100421575 rate of charge, and (6.039166666666667,1.9597222222222221) charging behavior.\n",
      "working on user with 43 total_capacity, 49.155310672735105 rate of charge, and (7.479722222222223,1.9291666666666667) charging behavior.\n",
      "working on user with 84 total_capacity, 18.944482333409113 rate of charge, and (5.6386111111111115,2.006111111111111) charging behavior.\n",
      "working on user with 119 total_capacity, 27.90083891035913 rate of charge, and (7.650833333333333,1.9844444444444445) charging behavior.\n",
      "working on user with 113 total_capacity, 43.275652134571544 rate of charge, and (7.952222222222222,2.143611111111111) charging behavior.\n",
      "working on user with 36 total_capacity, 37.30723183731333 rate of charge, and (7.034166666666667,2.018611111111111) charging behavior.\n",
      "working on user with 120 total_capacity, 38.492763360488226 rate of charge, and (7.602222222222222,2.0716666666666668) charging behavior.\n",
      "working on user with 111 total_capacity, 16.3992837985512 rate of charge, and (7.8775,1.9422222222222223) charging behavior.\n",
      "working on user with 38 total_capacity, 29.756752077562325 rate of charge, and (5.857777777777778,1.9872222222222222) charging behavior.\n",
      "working on user with 41 total_capacity, 22.53836852669122 rate of charge, and (7.261111111111111,1.9302777777777778) charging behavior.\n",
      "working on user with 70 total_capacity, 23.58040596884385 rate of charge, and (5.823888888888889,2.0330555555555554) charging behavior.\n",
      "working on user with 108 total_capacity, 30.052592036063114 rate of charge, and (5.620555555555556,2.046111111111111) charging behavior.\n",
      "working on user with 49 total_capacity, 16.359309934562763 rate of charge, and (5.736944444444444,2.0844444444444443) charging behavior.\n",
      "working on user with 31 total_capacity, 16.338101556756136 rate of charge, and (7.978055555555556,2.042777777777778) charging behavior.\n",
      "working on user with 54 total_capacity, 38.39113234644856 rate of charge, and (7.1738888888888885,2.0116666666666667) charging behavior.\n",
      "working on user with 77 total_capacity, 35.88386025519949 rate of charge, and (7.41,2.102222222222222) charging behavior.\n",
      "working on user with 77 total_capacity, 9.959033381603245 rate of charge, and (7.002777777777778,1.8913888888888888) charging behavior.\n"
     ]
    },
    {
     "name": "stderr",
     "output_type": "stream",
     "text": [
      " 36%|█████████████████████████████████████████████                                                                                  | 355/1000 [00:03<00:05, 109.26it/s]"
     ]
    },
    {
     "name": "stdout",
     "output_type": "stream",
     "text": [
      "working on user with 36 total_capacity, 11.168192986374807 rate of charge, and (7.0761111111111115,2.1680555555555556) charging behavior.\n",
      "working on user with 96 total_capacity, 25.190288803257033 rate of charge, and (7.203055555555555,1.9691666666666667) charging behavior.\n",
      "working on user with 31 total_capacity, 42.79414653882888 rate of charge, and (7.743888888888889,2.02) charging behavior.\n",
      "working on user with 112 total_capacity, 32.95934464837623 rate of charge, and (7.956111111111111,2.111388888888889) charging behavior.\n",
      "working on user with 89 total_capacity, 26.03550295857988 rate of charge, and (7.4944444444444445,2.071388888888889) charging behavior.\n",
      "working on user with 79 total_capacity, 21.697316569712896 rate of charge, and (5.603888888888889,1.9869444444444444) charging behavior.\n",
      "working on user with 22 total_capacity, 70.40428058025927 rate of charge, and (7.638333333333334,2.0838888888888887) charging behavior.\n",
      "working on user with 69 total_capacity, 11.195683912558685 rate of charge, and (5.911388888888889,2.1013888888888888) charging behavior.\n",
      "working on user with 72 total_capacity, 18.894856991698287 rate of charge, and (7.960277777777778,2.1977777777777776) charging behavior.\n",
      "working on user with 62 total_capacity, 75.72602324788913 rate of charge, and (7.756111111111111,1.9041666666666666) charging behavior.\n",
      "working on user with 72 total_capacity, 14.204545454545455 rate of charge, and (5.708611111111111,2.164722222222222) charging behavior.\n",
      "working on user with 92 total_capacity, 10.242214532871975 rate of charge, and (8.18138888888889,2.1886111111111113) charging behavior.\n",
      "working on user with 23 total_capacity, 20.75534355754136 rate of charge, and (8.175277777777778,1.9288888888888889) charging behavior.\n",
      "working on user with 74 total_capacity, 24.2858643142197 rate of charge, and (7.6802777777777775,2.0211111111111113) charging behavior.\n",
      "working on user with 32 total_capacity, 35.583044355882194 rate of charge, and (5.895833333333333,2.0813888888888887) charging behavior.\n",
      "working on user with 121 total_capacity, 19.348619915710376 rate of charge, and (5.665277777777778,2.109166666666667) charging behavior.\n",
      "working on user with 120 total_capacity, 12.352355961514066 rate of charge, and (8.024722222222222,1.923888888888889) charging behavior.\n",
      "working on user with 76 total_capacity, 31.815447267342318 rate of charge, and (5.924444444444444,2.0677777777777777) charging behavior.\n",
      "working on user with 37 total_capacity, 23.263417333132143 rate of charge, and (5.628333333333333,2.133888888888889) charging behavior.\n",
      "working on user with 93 total_capacity, 45.28528701609069 rate of charge, and (7.831388888888889,2.154166666666667) charging behavior.\n",
      "working on user with 28 total_capacity, 29.065926806711587 rate of charge, and (7.256111111111111,2.066666666666667) charging behavior.\n",
      "working on user with 46 total_capacity, 17.898217192446953 rate of charge, and (7.792777777777777,2.214166666666667) charging behavior.\n",
      "working on user with 86 total_capacity, 32.586702847781595 rate of charge, and (6.575833333333334,1.8913888888888888) charging behavior.\n"
     ]
    },
    {
     "name": "stderr",
     "output_type": "stream",
     "text": [
      " 38%|███████████████████████████████████████████████▉                                                                               | 377/1000 [00:03<00:05, 109.27it/s]"
     ]
    },
    {
     "name": "stdout",
     "output_type": "stream",
     "text": [
      "working on user with 76 total_capacity, 33.61442119786518 rate of charge, and (7.14,1.9127777777777777) charging behavior.\n",
      "working on user with 43 total_capacity, 19.313030292749 rate of charge, and (7.276111111111111,2.1147222222222224) charging behavior.\n",
      "working on user with 22 total_capacity, 33.73808815455725 rate of charge, and (6.875,2.143611111111111) charging behavior.\n",
      "working on user with 102 total_capacity, 42.43827160493827 rate of charge, and (6.74,1.9605555555555556) charging behavior.\n",
      "working on user with 66 total_capacity, 27.194335667101775 rate of charge, and (6.7572222222222225,2.0725) charging behavior.\n",
      "working on user with 85 total_capacity, 38.00389712690537 rate of charge, and (6.135833333333333,2.071388888888889) charging behavior.\n",
      "working on user with 63 total_capacity, 34.63426998043163 rate of charge, and (7.432777777777778,2.1980555555555554) charging behavior.\n",
      "working on user with 121 total_capacity, 67.24045185583648 rate of charge, and (7.508055555555556,2.0502777777777776) charging behavior.\n",
      "working on user with 29 total_capacity, 40.94630636398661 rate of charge, and (8.061666666666667,2.1233333333333335) charging behavior.\n",
      "working on user with 95 total_capacity, 82.62724595877651 rate of charge, and (7.738611111111111,1.9447222222222222) charging behavior.\n",
      "working on user with 84 total_capacity, 40.50304785435104 rate of charge, and (7.773333333333333,1.9291666666666667) charging behavior.\n",
      "working on user with 57 total_capacity, 69.65463963222349 rate of charge, and (7.957777777777777,1.8969444444444445) charging behavior.\n",
      "working on user with 36 total_capacity, 14.556355717992247 rate of charge, and (7.415,2.0591666666666666) charging behavior.\n",
      "working on user with 119 total_capacity, 45.94206288215444 rate of charge, and (5.896111111111111,2.1438888888888887) charging behavior.\n",
      "working on user with 45 total_capacity, 64.72701381921746 rate of charge, and (7.862222222222222,2.2088888888888887) charging behavior.\n",
      "working on user with 87 total_capacity, 13.855980934170233 rate of charge, and (5.630833333333333,1.9319444444444445) charging behavior.\n",
      "working on user with 113 total_capacity, 10.978560651355037 rate of charge, and (7.7825,1.9097222222222223) charging behavior.\n",
      "working on user with 26 total_capacity, 21.40311907075756 rate of charge, and (7.279722222222222,1.9272222222222222) charging behavior.\n",
      "working on user with 28 total_capacity, 18.46818854523084 rate of charge, and (7.583055555555555,2.0233333333333334) charging behavior.\n",
      "working on user with 49 total_capacity, 15.588103328060063 rate of charge, and (8.144444444444444,2.0102777777777776) charging behavior.\n",
      "working on user with 104 total_capacity, 23.037565892674266 rate of charge, and (7.815,2.2216666666666667) charging behavior.\n",
      "working on user with 121 total_capacity, 15.332955120440364 rate of charge, and (7.3,2.121111111111111) charging behavior.\n",
      "working on user with 95 total_capacity, 44.64249478494493 rate of charge, and (6.985,1.9844444444444445) charging behavior.\n"
     ]
    },
    {
     "name": "stderr",
     "output_type": "stream",
     "text": [
      " 39%|█████████████████████████████████████████████████▋                                                                              | 388/1000 [00:03<00:06, 90.69it/s]"
     ]
    },
    {
     "name": "stdout",
     "output_type": "stream",
     "text": [
      "working on user with 25 total_capacity, 34.95159204501764 rate of charge, and (8.312777777777777,2.0530555555555554) charging behavior.\n",
      "working on user with 25 total_capacity, 29.6 rate of charge, and (6.079444444444444,2.0605555555555557) charging behavior.\n",
      "working on user with 67 total_capacity, 13.732405355638088 rate of charge, and (6.002777777777778,2.2127777777777777) charging behavior.\n",
      "working on user with 82 total_capacity, 32.245015213784455 rate of charge, and (6.024166666666667,1.9283333333333332) charging behavior.\n",
      "working on user with 74 total_capacity, 14.838376357880055 rate of charge, and (5.990277777777778,1.9416666666666667) charging behavior.\n",
      "working on user with 82 total_capacity, 13.550110689755567 rate of charge, and (7.530833333333334,2.147222222222222) charging behavior.\n",
      "working on user with 76 total_capacity, 54.56010912021824 rate of charge, and (7.188888888888889,2.036111111111111) charging behavior.\n",
      "working on user with 96 total_capacity, 22.97103144107722 rate of charge, and (7.888888888888889,1.9483333333333333) charging behavior.\n",
      "working on user with 82 total_capacity, 10.537647883071982 rate of charge, and (6.801944444444445,1.91) charging behavior.\n",
      "working on user with 31 total_capacity, 10.266356456220235 rate of charge, and (6.554166666666666,1.926388888888889) charging behavior.\n",
      "working on user with 62 total_capacity, 30.0947300023939 rate of charge, and (6.102777777777778,1.978888888888889) charging behavior.\n",
      "working on user with 88 total_capacity, 26.048175043736293 rate of charge, and (8.154444444444444,2.1858333333333335) charging behavior.\n",
      "working on user with 44 total_capacity, 15.776829574384166 rate of charge, and (7.377777777777778,2.1144444444444446) charging behavior.\n",
      "working on user with 61 total_capacity, 78.61607126904205 rate of charge, and (6.489444444444445,2.065) charging behavior.\n",
      "working on user with 110 total_capacity, 62.35191420376606 rate of charge, and (6.7219444444444445,2.1369444444444445) charging behavior.\n"
     ]
    },
    {
     "name": "stderr",
     "output_type": "stream",
     "text": [
      " 41%|████████████████████████████████████████████████████▍                                                                           | 410/1000 [00:03<00:05, 99.07it/s]"
     ]
    },
    {
     "name": "stdout",
     "output_type": "stream",
     "text": [
      "working on user with 100 total_capacity, 14.156474961213174 rate of charge, and (6.535833333333334,1.905) charging behavior.\n",
      "working on user with 41 total_capacity, 16.3992837985512 rate of charge, and (7.413333333333333,2.1222222222222222) charging behavior.\n",
      "working on user with 34 total_capacity, 38.4313040440213 rate of charge, and (5.69,2.1955555555555555) charging behavior.\n",
      "working on user with 49 total_capacity, 22.61724289696318 rate of charge, and (5.7972222222222225,2.2105555555555556) charging behavior.\n",
      "working on user with 61 total_capacity, 21.40311907075756 rate of charge, and (7.394722222222223,2.1958333333333333) charging behavior.\n",
      "working on user with 120 total_capacity, 9.300408212511813 rate of charge, and (8.006666666666666,2.0502777777777776) charging behavior.\n",
      "working on user with 120 total_capacity, 14.769680263276264 rate of charge, and (7.326666666666667,2.013611111111111) charging behavior.\n",
      "working on user with 110 total_capacity, 45.677648680746465 rate of charge, and (6.811111111111111,1.9291666666666667) charging behavior.\n",
      "working on user with 95 total_capacity, 27.47242548104588 rate of charge, and (7.223055555555556,2.0555555555555554) charging behavior.\n",
      "working on user with 63 total_capacity, 23.51150781437023 rate of charge, and (7.532222222222222,1.925) charging behavior.\n",
      "working on user with 118 total_capacity, 60.30437261523618 rate of charge, and (7.732222222222222,1.9677777777777778) charging behavior.\n",
      "working on user with 115 total_capacity, 28.33935225431888 rate of charge, and (5.866388888888889,2.1705555555555556) charging behavior.\n",
      "working on user with 50 total_capacity, 23.09930202649553 rate of charge, and (5.8597222222222225,2.0780555555555558) charging behavior.\n",
      "working on user with 88 total_capacity, 11.94764348877648 rate of charge, and (7.8875,2.0458333333333334) charging behavior.\n",
      "working on user with 87 total_capacity, 31.49326759829479 rate of charge, and (6.545,1.9208333333333334) charging behavior.\n",
      "working on user with 24 total_capacity, 29.200025483658607 rate of charge, and (6.386388888888889,1.9730555555555556) charging behavior.\n",
      "working on user with 56 total_capacity, 9.709642330891489 rate of charge, and (6.139166666666667,2.1133333333333333) charging behavior.\n",
      "working on user with 68 total_capacity, 77.73192379444852 rate of charge, and (7.119166666666667,1.9258333333333333) charging behavior.\n",
      "working on user with 106 total_capacity, 12.225665968371871 rate of charge, and (8.240833333333333,2.0883333333333334) charging behavior.\n",
      "working on user with 100 total_capacity, 77.15075257052278 rate of charge, and (5.876111111111111,1.9022222222222223) charging behavior.\n",
      "working on user with 91 total_capacity, 83.92333984375 rate of charge, and (7.593333333333334,2.1702777777777778) charging behavior.\n",
      "working on user with 106 total_capacity, 21.94452424271442 rate of charge, and (8.172222222222222,2.0475) charging behavior.\n",
      "working on user with 62 total_capacity, 21.77181373919133 rate of charge, and (7.614444444444445,2.0508333333333333) charging behavior.\n"
     ]
    },
    {
     "name": "stderr",
     "output_type": "stream",
     "text": [
      " 43%|██████████████████████████████████████████████████████▊                                                                        | 432/1000 [00:04<00:05, 103.15it/s]"
     ]
    },
    {
     "name": "stdout",
     "output_type": "stream",
     "text": [
      "working on user with 80 total_capacity, 36.44019088034532 rate of charge, and (8.011111111111111,2.138611111111111) charging behavior.\n",
      "working on user with 103 total_capacity, 38.00389712690537 rate of charge, and (8.31611111111111,1.9702777777777778) charging behavior.\n",
      "working on user with 75 total_capacity, 24.72526855013273 rate of charge, and (8.033888888888889,2.0297222222222224) charging behavior.\n",
      "working on user with 106 total_capacity, 17.580843912472968 rate of charge, and (6.6466666666666665,2.1702777777777778) charging behavior.\n",
      "working on user with 80 total_capacity, 83.92333984375 rate of charge, and (8.015,1.968611111111111) charging behavior.\n",
      "working on user with 74 total_capacity, 18.944482333409113 rate of charge, and (5.650833333333333,2.0791666666666666) charging behavior.\n",
      "working on user with 106 total_capacity, 9.731924922144602 rate of charge, and (6.8180555555555555,1.9908333333333332) charging behavior.\n",
      "working on user with 77 total_capacity, 13.404607199723214 rate of charge, and (7.551944444444445,2.049166666666667) charging behavior.\n",
      "working on user with 39 total_capacity, 14.044495515337227 rate of charge, and (8.163055555555555,1.948611111111111) charging behavior.\n",
      "working on user with 53 total_capacity, 39.42588739608143 rate of charge, and (5.884444444444444,2.0011111111111113) charging behavior.\n",
      "working on user with 91 total_capacity, 9.982180458937492 rate of charge, and (7.4688888888888885,2.1125) charging behavior.\n",
      "working on user with 41 total_capacity, 88.0 rate of charge, and (5.7186111111111115,2.209722222222222) charging behavior.\n",
      "working on user with 88 total_capacity, 29.6 rate of charge, and (5.621944444444445,1.9777777777777779) charging behavior.\n",
      "working on user with 81 total_capacity, 12.352355961514066 rate of charge, and (7.543333333333333,1.9036111111111111) charging behavior.\n",
      "working on user with 122 total_capacity, 15.408673417331428 rate of charge, and (5.760833333333333,2.1219444444444444) charging behavior.\n",
      "working on user with 46 total_capacity, 13.297012125437544 rate of charge, and (6.657222222222222,2.0455555555555556) charging behavior.\n",
      "working on user with 111 total_capacity, 9.890073173176518 rate of charge, and (6.780555555555556,2.0869444444444443) charging behavior.\n",
      "working on user with 78 total_capacity, 12.71108561259703 rate of charge, and (8.178333333333333,2.056388888888889) charging behavior.\n",
      "working on user with 42 total_capacity, 36.10060911573198 rate of charge, and (7.736666666666666,2.1261111111111113) charging behavior.\n",
      "working on user with 74 total_capacity, 24.214354269210784 rate of charge, and (8.062777777777777,1.9127777777777777) charging behavior.\n",
      "working on user with 33 total_capacity, 25.483668443573364 rate of charge, and (5.9625,2.2058333333333335) charging behavior.\n",
      "working on user with 32 total_capacity, 31.62937276078418 rate of charge, and (6.301944444444445,2.0630555555555556) charging behavior.\n",
      "working on user with 25 total_capacity, 27.220951223767354 rate of charge, and (6.873888888888889,2.0475) charging behavior.\n"
     ]
    },
    {
     "name": "stderr",
     "output_type": "stream",
     "text": [
      " 46%|█████████████████████████████████████████████████████████▊                                                                     | 455/1000 [00:04<00:05, 106.26it/s]"
     ]
    },
    {
     "name": "stdout",
     "output_type": "stream",
     "text": [
      "working on user with 92 total_capacity, 15.72474054178106 rate of charge, and (6.964444444444444,1.9752777777777777) charging behavior.\n",
      "working on user with 112 total_capacity, 14.076288364284105 rate of charge, and (7.515,1.9605555555555556) charging behavior.\n",
      "working on user with 120 total_capacity, 13.513513513513514 rate of charge, and (6.105,2.0297222222222224) charging behavior.\n",
      "working on user with 23 total_capacity, 58.16643532288982 rate of charge, and (6.176111111111111,2.203888888888889) charging behavior.\n",
      "working on user with 33 total_capacity, 25.005406574394463 rate of charge, and (6.2844444444444445,2.1902777777777778) charging behavior.\n",
      "working on user with 109 total_capacity, 10.9518650730223 rate of charge, and (7.121388888888889,1.9341666666666666) charging behavior.\n",
      "working on user with 40 total_capacity, 70.40428058025927 rate of charge, and (8.030833333333334,2.2180555555555554) charging behavior.\n",
      "working on user with 45 total_capacity, 15.890809911242606 rate of charge, and (6.395277777777777,1.9305555555555556) charging behavior.\n",
      "working on user with 123 total_capacity, 21.77181373919133 rate of charge, and (6.490277777777778,2.0477777777777777) charging behavior.\n",
      "working on user with 46 total_capacity, 23.263417333132143 rate of charge, and (6.410555555555556,1.9458333333333333) charging behavior.\n",
      "working on user with 107 total_capacity, 14.735510973936899 rate of charge, and (6.773055555555556,2.1438888888888887) charging behavior.\n",
      "working on user with 94 total_capacity, 18.45687132540471 rate of charge, and (7.300277777777778,1.9961111111111112) charging behavior.\n",
      "working on user with 101 total_capacity, 16.289656508378165 rate of charge, and (8.0825,1.8916666666666666) charging behavior.\n",
      "working on user with 122 total_capacity, 76.29114086465604 rate of charge, and (6.364444444444445,2.0369444444444444) charging behavior.\n",
      "working on user with 31 total_capacity, 37.30723183731333 rate of charge, and (6.949166666666667,2.0930555555555554) charging behavior.\n",
      "working on user with 120 total_capacity, 29.756752077562325 rate of charge, and (7.629166666666666,2.200833333333333) charging behavior.\n",
      "working on user with 106 total_capacity, 42.203482170947126 rate of charge, and (5.9875,1.9052777777777778) charging behavior.\n",
      "working on user with 26 total_capacity, 16.932559156204395 rate of charge, and (5.855555555555555,2.1630555555555557) charging behavior.\n",
      "working on user with 28 total_capacity, 44.51557944108667 rate of charge, and (6.8822222222222225,2.0075) charging behavior.\n",
      "working on user with 64 total_capacity, 17.67008663161564 rate of charge, and (6.520833333333333,2.181111111111111) charging behavior.\n",
      "working on user with 30 total_capacity, 31.478217073784943 rate of charge, and (7.350555555555555,1.9505555555555556) charging behavior.\n",
      "working on user with 66 total_capacity, 34.375 rate of charge, and (7.938611111111111,2.0972222222222223) charging behavior.\n",
      "working on user with 89 total_capacity, 11.223276468732559 rate of charge, and (6.8425,1.8925) charging behavior.\n"
     ]
    },
    {
     "name": "stderr",
     "output_type": "stream",
     "text": [
      " 48%|████████████████████████████████████████████████████████████▌                                                                  | 477/1000 [00:04<00:04, 107.82it/s]"
     ]
    },
    {
     "name": "stdout",
     "output_type": "stream",
     "text": [
      "working on user with 27 total_capacity, 33.270321361058606 rate of charge, and (5.658611111111111,2.151388888888889) charging behavior.\n",
      "working on user with 37 total_capacity, 31.105034632628332 rate of charge, and (7.976666666666667,1.9361111111111111) charging behavior.\n",
      "working on user with 76 total_capacity, 21.33050463938476 rate of charge, and (7.051111111111111,2.1933333333333334) charging behavior.\n",
      "working on user with 66 total_capacity, 45.41551063548686 rate of charge, and (6.687777777777778,1.958611111111111) charging behavior.\n",
      "working on user with 99 total_capacity, 43.82452659551157 rate of charge, and (5.9425,2.1597222222222223) charging behavior.\n",
      "working on user with 65 total_capacity, 39.0124875426034 rate of charge, and (6.716388888888889,1.9197222222222223) charging behavior.\n",
      "working on user with 96 total_capacity, 29.539360526552528 rate of charge, and (6.908888888888889,2.182777777777778) charging behavior.\n",
      "working on user with 95 total_capacity, 24.651296209975257 rate of charge, and (6.439166666666667,1.9772222222222222) charging behavior.\n",
      "working on user with 95 total_capacity, 11.737908368176942 rate of charge, and (8.292777777777777,2.035833333333333) charging behavior.\n",
      "working on user with 45 total_capacity, 18.823337886546145 rate of charge, and (8.039166666666667,2.1375) charging behavior.\n",
      "working on user with 88 total_capacity, 9.512497364781135 rate of charge, and (7.811944444444444,2.1275) charging behavior.\n",
      "working on user with 41 total_capacity, 35.250761095978206 rate of charge, and (8.266666666666667,1.906388888888889) charging behavior.\n",
      "working on user with 44 total_capacity, 46.885822366668435 rate of charge, and (7.598333333333334,2.1) charging behavior.\n",
      "working on user with 98 total_capacity, 35.072951739618404 rate of charge, and (6.589444444444444,1.9341666666666666) charging behavior.\n",
      "working on user with 78 total_capacity, 16.05063324086144 rate of charge, and (7.010555555555555,1.985) charging behavior.\n",
      "working on user with 109 total_capacity, 32.7985675971024 rate of charge, and (6.357777777777778,2.2069444444444444) charging behavior.\n",
      "working on user with 62 total_capacity, 15.332955120440364 rate of charge, and (7.684166666666667,2.1644444444444444) charging behavior.\n",
      "working on user with 90 total_capacity, 19.952491499968993 rate of charge, and (5.82,2.1866666666666665) charging behavior.\n",
      "working on user with 92 total_capacity, 82.62724595877651 rate of charge, and (6.109444444444445,2.100277777777778) charging behavior.\n",
      "working on user with 106 total_capacity, 71.16608871176439 rate of charge, and (7.8566666666666665,2.2022222222222223) charging behavior.\n",
      "working on user with 87 total_capacity, 14.600012741829303 rate of charge, and (6.486666666666666,1.9466666666666668) charging behavior.\n",
      "working on user with 121 total_capacity, 64.5055357477951 rate of charge, and (6.288888888888889,2.2075) charging behavior.\n",
      "working on user with 107 total_capacity, 22.696532031247607 rate of charge, and (7.482777777777778,1.9111111111111112) charging behavior.\n"
     ]
    },
    {
     "name": "stderr",
     "output_type": "stream",
     "text": [
      " 50%|███████████████████████████████████████████████████████████████▎                                                               | 499/1000 [00:04<00:04, 108.55it/s]"
     ]
    },
    {
     "name": "stdout",
     "output_type": "stream",
     "text": [
      "working on user with 61 total_capacity, 50.352352027025475 rate of charge, and (6.492222222222222,1.905) charging behavior.\n",
      "working on user with 40 total_capacity, 19.246381680244113 rate of charge, and (8.327777777777778,2.1894444444444443) charging behavior.\n",
      "working on user with 122 total_capacity, 25.796828866182466 rate of charge, and (6.570833333333334,2.02) charging behavior.\n",
      "working on user with 64 total_capacity, 30.657662604061866 rate of charge, and (8.134166666666667,2.2127777777777777) charging behavior.\n",
      "working on user with 67 total_capacity, 14.803968540221037 rate of charge, and (5.618055555555555,2.0347222222222223) charging behavior.\n",
      "working on user with 61 total_capacity, 43.397298320919084 rate of charge, and (6.858055555555556,2.1483333333333334) charging behavior.\n",
      "working on user with 83 total_capacity, 55.60596601464459 rate of charge, and (6.416111111111111,1.9391666666666667) charging behavior.\n",
      "working on user with 104 total_capacity, 16.240261379624968 rate of charge, and (8.311388888888889,2.2219444444444445) charging behavior.\n",
      "working on user with 73 total_capacity, 23.104389834068478 rate of charge, and (7.602222222222222,2.0044444444444443) charging behavior.\n",
      "working on user with 30 total_capacity, 19.628855478572717 rate of charge, and (5.970555555555555,2.0305555555555554) charging behavior.\n",
      "working on user with 98 total_capacity, 56.68218556201675 rate of charge, and (6.0088888888888885,1.9644444444444444) charging behavior.\n",
      "working on user with 75 total_capacity, 31.815447267342318 rate of charge, and (6.264722222222222,2.0716666666666668) charging behavior.\n",
      "working on user with 50 total_capacity, 59.31821797288079 rate of charge, and (7.453888888888889,2.0108333333333333) charging behavior.\n",
      "working on user with 36 total_capacity, 27.802983007322297 rate of charge, and (5.746111111111111,2.0108333333333333) charging behavior.\n",
      "working on user with 45 total_capacity, 12.513506977971156 rate of charge, and (8.111666666666666,1.9655555555555555) charging behavior.\n",
      "working on user with 74 total_capacity, 27.962464204868265 rate of charge, and (5.811944444444444,2.2058333333333335) charging behavior.\n",
      "working on user with 117 total_capacity, 22.44897959183674 rate of charge, and (6.754722222222222,2.1730555555555555) charging behavior.\n",
      "working on user with 113 total_capacity, 11.195683912558685 rate of charge, and (5.667222222222223,1.9272222222222222) charging behavior.\n",
      "working on user with 23 total_capacity, 19.04432132963989 rate of charge, and (7.6375,2.0902777777777777) charging behavior.\n",
      "working on user with 33 total_capacity, 62.35191420376606 rate of charge, and (5.879444444444444,2.0255555555555556) charging behavior.\n",
      "working on user with 116 total_capacity, 29.6 rate of charge, and (6.900555555555556,2.048888888888889) charging behavior.\n",
      "working on user with 106 total_capacity, 9.17654178302687 rate of charge, and (6.561944444444444,2.1822222222222223) charging behavior.\n",
      "working on user with 95 total_capacity, 29.369046093382888 rate of charge, and (5.671111111111111,2.0105555555555554) charging behavior.\n"
     ]
    },
    {
     "name": "stderr",
     "output_type": "stream",
     "text": [
      " 53%|███████████████████████████████████████████████████████████████████▌                                                           | 532/1000 [00:04<00:04, 108.96it/s]"
     ]
    },
    {
     "name": "stdout",
     "output_type": "stream",
     "text": [
      "working on user with 25 total_capacity, 30.052592036063114 rate of charge, and (7.031666666666666,1.9569444444444444) charging behavior.\n",
      "working on user with 39 total_capacity, 18.747145321053384 rate of charge, and (6.4944444444444445,1.9969444444444444) charging behavior.\n",
      "working on user with 102 total_capacity, 19.501602293810087 rate of charge, and (8.188611111111111,1.928611111111111) charging behavior.\n",
      "working on user with 98 total_capacity, 14.172317341376337 rate of charge, and (8.195555555555556,1.9372222222222222) charging behavior.\n",
      "working on user with 95 total_capacity, 62.5623846506033 rate of charge, and (6.946666666666666,1.8952777777777778) charging behavior.\n",
      "working on user with 44 total_capacity, 10.978560651355037 rate of charge, and (6.086388888888889,1.9377777777777778) charging behavior.\n",
      "working on user with 52 total_capacity, 16.04471516254755 rate of charge, and (6.845,2.0383333333333336) charging behavior.\n",
      "working on user with 63 total_capacity, 19.065826052678364 rate of charge, and (5.6819444444444445,2.176111111111111) charging behavior.\n",
      "working on user with 21 total_capacity, 18.50478012115584 rate of charge, and (7.4366666666666665,2.1891666666666665) charging behavior.\n",
      "working on user with 90 total_capacity, 15.816832529667247 rate of charge, and (6.0072222222222225,2.0780555555555558) charging behavior.\n",
      "working on user with 82 total_capacity, 14.19571673022767 rate of charge, and (8.07638888888889,2.1777777777777776) charging behavior.\n",
      "working on user with 45 total_capacity, 13.918395183729142 rate of charge, and (7.946111111111111,2.194722222222222) charging behavior.\n",
      "working on user with 54 total_capacity, 10.715925168087976 rate of charge, and (6.2725,2.1580555555555554) charging behavior.\n",
      "working on user with 83 total_capacity, 19.250780437044746 rate of charge, and (7.965277777777778,2.0255555555555556) charging behavior.\n",
      "working on user with 123 total_capacity, 23.5969387755102 rate of charge, and (6.7941666666666665,2.1566666666666667) charging behavior.\n",
      "working on user with 76 total_capacity, 39.0124875426034 rate of charge, and (5.733333333333333,2.0791666666666666) charging behavior.\n",
      "working on user with 48 total_capacity, 53.210915977544985 rate of charge, and (6.418333333333333,2.0469444444444442) charging behavior.\n",
      "working on user with 77 total_capacity, 57.047876133502406 rate of charge, and (6.4,2.1630555555555557) charging behavior.\n",
      "working on user with 68 total_capacity, 15.770685705152111 rate of charge, and (5.756944444444445,2.1230555555555557) charging behavior.\n",
      "working on user with 45 total_capacity, 16.3992837985512 rate of charge, and (6.8575,2.1719444444444442) charging behavior.\n",
      "working on user with 60 total_capacity, 41.170669266656816 rate of charge, and (5.638055555555556,1.988888888888889) charging behavior.\n",
      "working on user with 84 total_capacity, 40.50304785435104 rate of charge, and (6.139444444444444,2.1102777777777777) charging behavior.\n",
      "working on user with 23 total_capacity, 18.64963107638889 rate of charge, and (7.777777777777778,2.0919444444444446) charging behavior.\n",
      "working on user with 99 total_capacity, 12.74446993338431 rate of charge, and (8.197777777777778,1.9475) charging behavior.\n",
      "working on user with 66 total_capacity, 26.68840558612591 rate of charge, and (7.078333333333333,1.9116666666666666) charging behavior.\n"
     ]
    },
    {
     "name": "stderr",
     "output_type": "stream",
     "text": [
      " 55%|██████████████████████████████████████████████████████████████████████▎                                                        | 554/1000 [00:05<00:04, 106.52it/s]"
     ]
    },
    {
     "name": "stdout",
     "output_type": "stream",
     "text": [
      "working on user with 31 total_capacity, 12.194298012164635 rate of charge, and (5.8625,2.180277777777778) charging behavior.\n",
      "working on user with 62 total_capacity, 28.902185630145762 rate of charge, and (7.4880555555555555,2.0680555555555555) charging behavior.\n",
      "working on user with 76 total_capacity, 13.671236588206197 rate of charge, and (6.221111111111111,1.903888888888889) charging behavior.\n",
      "working on user with 121 total_capacity, 21.27820087008498 rate of charge, and (7.658611111111111,2.1505555555555556) charging behavior.\n",
      "working on user with 76 total_capacity, 21.921963733962162 rate of charge, and (6.0008333333333335,2.1555555555555554) charging behavior.\n",
      "working on user with 115 total_capacity, 61.11111111111112 rate of charge, and (6.8838888888888885,2.1094444444444442) charging behavior.\n",
      "working on user with 28 total_capacity, 30.760282323463947 rate of charge, and (7.013055555555556,2.0344444444444445) charging behavior.\n",
      "working on user with 35 total_capacity, 12.100915090822275 rate of charge, and (6.901944444444444,2.0805555555555557) charging behavior.\n",
      "working on user with 117 total_capacity, 13.848316026057292 rate of charge, and (7.836666666666667,1.9769444444444444) charging behavior.\n",
      "working on user with 31 total_capacity, 45.41551063548686 rate of charge, and (7.766111111111111,2.1244444444444444) charging behavior.\n",
      "working on user with 48 total_capacity, 59.906980797089616 rate of charge, and (8.305277777777778,1.8980555555555556) charging behavior.\n",
      "working on user with 60 total_capacity, 27.578599007170435 rate of charge, and (7.933888888888889,1.9813888888888889) charging behavior.\n",
      "working on user with 89 total_capacity, 30.252276483805407 rate of charge, and (7.191944444444444,1.9433333333333334) charging behavior.\n",
      "working on user with 49 total_capacity, 35.97016438365123 rate of charge, and (7.5075,1.8927777777777777) charging behavior.\n",
      "working on user with 58 total_capacity, 28.616024973985432 rate of charge, and (5.804166666666666,2.0458333333333334) charging behavior.\n",
      "working on user with 82 total_capacity, 33.20273590543861 rate of charge, and (7.3902777777777775,2.1058333333333334) charging behavior.\n",
      "working on user with 71 total_capacity, 56.14020761669507 rate of charge, and (7.85,1.9922222222222221) charging behavior.\n",
      "working on user with 79 total_capacity, 79.51538984227038 rate of charge, and (7.7027777777777775,1.9361111111111111) charging behavior.\n",
      "working on user with 50 total_capacity, 76.29114086465604 rate of charge, and (6.4063888888888885,1.9194444444444445) charging behavior.\n",
      "working on user with 46 total_capacity, 70.91078456336683 rate of charge, and (8.09361111111111,1.8969444444444445) charging behavior.\n",
      "working on user with 118 total_capacity, 25.190288803257033 rate of charge, and (6.2625,2.082777777777778) charging behavior.\n",
      "working on user with 58 total_capacity, 57.047876133502406 rate of charge, and (6.409722222222222,1.9211111111111112) charging behavior.\n"
     ]
    },
    {
     "name": "stderr",
     "output_type": "stream",
     "text": [
      " 58%|█████████████████████████████████████████████████████████████████████████▏                                                     | 576/1000 [00:05<00:03, 107.96it/s]"
     ]
    },
    {
     "name": "stdout",
     "output_type": "stream",
     "text": [
      "working on user with 89 total_capacity, 41.313622979388256 rate of charge, and (6.521388888888889,2.0502777777777776) charging behavior.\n",
      "working on user with 48 total_capacity, 16.05063324086144 rate of charge, and (7.559444444444445,2.0213888888888887) charging behavior.\n",
      "working on user with 80 total_capacity, 27.685389222901055 rate of charge, and (7.335833333333333,1.8977777777777778) charging behavior.\n",
      "working on user with 33 total_capacity, 53.543483393001864 rate of charge, and (6.1425,1.9394444444444445) charging behavior.\n",
      "working on user with 109 total_capacity, 23.85904941209133 rate of charge, and (6.347222222222222,1.9297222222222221) charging behavior.\n",
      "working on user with 120 total_capacity, 22.44897959183674 rate of charge, and (7.235,2.1883333333333335) charging behavior.\n",
      "working on user with 113 total_capacity, 15.232323814503234 rate of charge, and (8.200555555555555,2.185277777777778) charging behavior.\n",
      "working on user with 60 total_capacity, 13.640805353148048 rate of charge, and (7.29,2.1886111111111113) charging behavior.\n",
      "working on user with 79 total_capacity, 13.190707324942382 rate of charge, and (5.869166666666667,2.0652777777777778) charging behavior.\n",
      "working on user with 109 total_capacity, 65.39833531510108 rate of charge, and (7.1725,2.1569444444444446) charging behavior.\n",
      "working on user with 27 total_capacity, 29.756752077562325 rate of charge, and (6.444166666666667,2.0805555555555557) charging behavior.\n",
      "working on user with 60 total_capacity, 28.15257672856821 rate of charge, and (6.504166666666666,1.9469444444444444) charging behavior.\n",
      "working on user with 56 total_capacity, 20.36188625109908 rate of charge, and (7.472777777777778,2.1838888888888888) charging behavior.\n",
      "working on user with 91 total_capacity, 42.43827160493827 rate of charge, and (8.2925,2.2108333333333334) charging behavior.\n",
      "working on user with 117 total_capacity, 74.61446367462666 rate of charge, and (7.5505555555555555,2.1769444444444446) charging behavior.\n",
      "working on user with 58 total_capacity, 29.745808545159544 rate of charge, and (6.045277777777778,1.9819444444444445) charging behavior.\n",
      "working on user with 97 total_capacity, 13.660798676748582 rate of charge, and (6.363611111111111,2.069166666666667) charging behavior.\n",
      "working on user with 36 total_capacity, 22.77623884272084 rate of charge, and (5.830277777777778,2.1980555555555554) charging behavior.\n",
      "working on user with 89 total_capacity, 16.88557059537609 rate of charge, and (6.3277777777777775,1.9838888888888888) charging behavior.\n",
      "working on user with 63 total_capacity, 16.14560719483166 rate of charge, and (6.071666666666666,2.131666666666667) charging behavior.\n",
      "working on user with 87 total_capacity, 30.052592036063114 rate of charge, and (6.541944444444445,2.2125) charging behavior.\n",
      "working on user with 36 total_capacity, 24.949194367832774 rate of charge, and (7.895,2.161388888888889) charging behavior.\n",
      "working on user with 39 total_capacity, 17.714963024040813 rate of charge, and (6.425277777777778,2.148888888888889) charging behavior.\n"
     ]
    },
    {
     "name": "stderr",
     "output_type": "stream",
     "text": [
      " 60%|████████████████████████████████████████████████████████████████████████████                                                   | 599/1000 [00:05<00:03, 108.59it/s]"
     ]
    },
    {
     "name": "stdout",
     "output_type": "stream",
     "text": [
      "working on user with 106 total_capacity, 19.313030292749 rate of charge, and (8.061111111111112,2.098888888888889) charging behavior.\n",
      "working on user with 106 total_capacity, 9.959033381603245 rate of charge, and (5.722777777777778,2.077777777777778) charging behavior.\n",
      "working on user with 74 total_capacity, 27.774270925388205 rate of charge, and (7.732222222222222,1.9819444444444445) charging behavior.\n",
      "working on user with 91 total_capacity, 22.70775531774343 rate of charge, and (5.934444444444445,2.1847222222222222) charging behavior.\n",
      "working on user with 70 total_capacity, 33.448833167862965 rate of charge, and (6.0552777777777775,2.1197222222222223) charging behavior.\n",
      "working on user with 50 total_capacity, 27.024105502107876 rate of charge, and (8.05861111111111,2.2108333333333334) charging behavior.\n",
      "working on user with 34 total_capacity, 46.74922863772747 rate of charge, and (7.054166666666666,2.1347222222222224) charging behavior.\n",
      "working on user with 65 total_capacity, 19.76582883510986 rate of charge, and (6.756944444444445,2.1258333333333335) charging behavior.\n",
      "working on user with 34 total_capacity, 30.44982698961938 rate of charge, and (5.698055555555555,2.1847222222222222) charging behavior.\n",
      "working on user with 113 total_capacity, 54.905425404740335 rate of charge, and (6.7747222222222225,1.9469444444444444) charging behavior.\n",
      "working on user with 119 total_capacity, 28.341092781008374 rate of charge, and (6.023333333333333,1.8980555555555556) charging behavior.\n",
      "working on user with 54 total_capacity, 21.99762187871582 rate of charge, and (6.251944444444445,1.9180555555555556) charging behavior.\n",
      "working on user with 78 total_capacity, 15.145282142279695 rate of charge, and (6.879444444444444,2.075277777777778) charging behavior.\n",
      "working on user with 99 total_capacity, 36.72322042612289 rate of charge, and (7.933055555555556,1.9552777777777777) charging behavior.\n",
      "working on user with 25 total_capacity, 68.67360061931103 rate of charge, and (7.293333333333333,2.0780555555555558) charging behavior.\n",
      "working on user with 107 total_capacity, 35.88386025519949 rate of charge, and (7.862777777777778,1.9883333333333333) charging behavior.\n",
      "working on user with 46 total_capacity, 34.58075549519643 rate of charge, and (6.683888888888889,2.0025) charging behavior.\n",
      "working on user with 94 total_capacity, 11.737908368176942 rate of charge, and (6.365555555555556,2.1894444444444443) charging behavior.\n",
      "working on user with 65 total_capacity, 11.419312526522896 rate of charge, and (5.745555555555556,2.081111111111111) charging behavior.\n",
      "working on user with 53 total_capacity, 12.91338088016906 rate of charge, and (6.366666666666666,2.0341666666666667) charging behavior.\n",
      "working on user with 117 total_capacity, 35.7923781757601 rate of charge, and (6.8741666666666665,2.076111111111111) charging behavior.\n",
      "working on user with 93 total_capacity, 12.039254477301125 rate of charge, and (7.184444444444445,2.091111111111111) charging behavior.\n",
      "working on user with 29 total_capacity, 35.34017326323128 rate of charge, and (6.151944444444444,2.0319444444444446) charging behavior.\n",
      "working on user with 114 total_capacity, 10.146493426717637 rate of charge, and (6.111666666666666,2.0277777777777777) charging behavior.\n",
      "working on user with 71 total_capacity, 24.577655336367553 rate of charge, and (5.588333333333333,1.9136111111111112) charging behavior.\n"
     ]
    },
    {
     "name": "stderr",
     "output_type": "stream",
     "text": [
      " 62%|██████████████████████████████████████████████████████████████████████████████▊                                                | 621/1000 [00:05<00:03, 108.72it/s]"
     ]
    },
    {
     "name": "stdout",
     "output_type": "stream",
     "text": [
      "working on user with 46 total_capacity, 16.68335001668335 rate of charge, and (7.266666666666667,2.0525) charging behavior.\n",
      "working on user with 35 total_capacity, 23.766395601289805 rate of charge, and (8.102777777777778,1.9122222222222223) charging behavior.\n",
      "working on user with 46 total_capacity, 44.389204545454554 rate of charge, and (8.214722222222223,2.1577777777777776) charging behavior.\n",
      "working on user with 90 total_capacity, 15.72474054178106 rate of charge, and (6.926111111111111,2.0519444444444446) charging behavior.\n",
      "working on user with 88 total_capacity, 21.846695244505856 rate of charge, and (6.232777777777778,2.1830555555555557) charging behavior.\n",
      "working on user with 65 total_capacity, 16.64223284299264 rate of charge, and (5.8661111111111115,2.0661111111111112) charging behavior.\n",
      "working on user with 50 total_capacity, 16.784003483814775 rate of charge, and (6.770555555555555,2.0030555555555556) charging behavior.\n",
      "working on user with 89 total_capacity, 11.827113177481815 rate of charge, and (6.265833333333333,1.968888888888889) charging behavior.\n",
      "working on user with 93 total_capacity, 16.560653393052053 rate of charge, and (6.99,1.9897222222222222) charging behavior.\n",
      "working on user with 108 total_capacity, 11.195683912558685 rate of charge, and (6.351666666666667,1.925) charging behavior.\n",
      "working on user with 111 total_capacity, 33.50298024237884 rate of charge, and (5.933611111111111,2.035833333333333) charging behavior.\n",
      "working on user with 88 total_capacity, 52.23159489175002 rate of charge, and (8.2025,2.2030555555555558) charging behavior.\n",
      "working on user with 119 total_capacity, 29.953490398544808 rate of charge, and (6.296944444444445,2.180277777777778) charging behavior.\n",
      "working on user with 71 total_capacity, 15.929077952563206 rate of charge, and (6.546666666666667,1.958888888888889) charging behavior.\n",
      "working on user with 34 total_capacity, 11.797265585144373 rate of charge, and (5.7444444444444445,1.9380555555555556) charging behavior.\n",
      "working on user with 31 total_capacity, 16.932559156204395 rate of charge, and (8.331666666666667,2.0516666666666667) charging behavior.\n",
      "working on user with 100 total_capacity, 32.480522759249936 rate of charge, and (6.162222222222222,2.1641666666666666) charging behavior.\n",
      "working on user with 80 total_capacity, 29.471021947873798 rate of charge, and (6.056111111111111,2.0194444444444444) charging behavior.\n",
      "working on user with 62 total_capacity, 11.767530838086726 rate of charge, and (8.231111111111112,1.9794444444444443) charging behavior.\n",
      "working on user with 23 total_capacity, 13.050939226714215 rate of charge, and (5.940833333333333,1.9175) charging behavior.\n",
      "working on user with 94 total_capacity, 34.54752168642156 rate of charge, and (6.283055555555555,2.172222222222222) charging behavior.\n",
      "working on user with 34 total_capacity, 26.3438946244215 rate of charge, and (7.109444444444445,2.006388888888889) charging behavior.\n",
      "working on user with 71 total_capacity, 32.638964098623084 rate of charge, and (7.051666666666667,1.9302777777777778) charging behavior.\n",
      "working on user with 35 total_capacity, 14.400242971372316 rate of charge, and (6.9975,2.0077777777777777) charging behavior.\n"
     ]
    },
    {
     "name": "stderr",
     "output_type": "stream",
     "text": [
      " 64%|█████████████████████████████████████████████████████████████████████████████████▋                                             | 643/1000 [00:06<00:03, 108.65it/s]"
     ]
    },
    {
     "name": "stdout",
     "output_type": "stream",
     "text": [
      "working on user with 121 total_capacity, 62.14250406044772 rate of charge, and (6.579722222222222,2.1844444444444444) charging behavior.\n",
      "working on user with 59 total_capacity, 10.09913529565901 rate of charge, and (5.5675,2.1294444444444443) charging behavior.\n",
      "working on user with 91 total_capacity, 11.649708993417914 rate of charge, and (7.6241666666666665,1.9013888888888888) charging behavior.\n",
      "working on user with 99 total_capacity, 36.16042077580539 rate of charge, and (8.135277777777778,1.9208333333333334) charging behavior.\n",
      "working on user with 47 total_capacity, 18.236977196385137 rate of charge, and (5.788611111111111,1.9480555555555557) charging behavior.\n",
      "working on user with 45 total_capacity, 37.00956024231168 rate of charge, and (5.609166666666667,2.0608333333333335) charging behavior.\n",
      "working on user with 90 total_capacity, 13.735345870858051 rate of charge, and (7.5325,1.9738888888888888) charging behavior.\n",
      "working on user with 25 total_capacity, 24.822552295079767 rate of charge, and (6.346666666666667,2.211388888888889) charging behavior.\n",
      "working on user with 21 total_capacity, 18.644494834971027 rate of charge, and (8.168055555555556,1.9119444444444444) charging behavior.\n",
      "working on user with 87 total_capacity, 25.95070768281221 rate of charge, and (6.671666666666667,2.1855555555555557) charging behavior.\n",
      "working on user with 68 total_capacity, 39.95902383737404 rate of charge, and (5.585,2.2194444444444446) charging behavior.\n",
      "working on user with 113 total_capacity, 26.85546875 rate of charge, and (5.836944444444445,1.8969444444444445) charging behavior.\n",
      "working on user with 90 total_capacity, 28.60378428066033 rate of charge, and (5.7275,1.926111111111111) charging behavior.\n",
      "working on user with 69 total_capacity, 28.894977264906526 rate of charge, and (7.997777777777777,2.1552777777777776) charging behavior.\n",
      "working on user with 105 total_capacity, 15.478808807160778 rate of charge, and (8.133055555555556,1.9725) charging behavior.\n",
      "working on user with 115 total_capacity, 21.759729071591487 rate of charge, and (6.376666666666667,2.0502777777777776) charging behavior.\n",
      "working on user with 70 total_capacity, 15.145282142279695 rate of charge, and (7.256111111111111,1.9980555555555555) charging behavior.\n",
      "working on user with 52 total_capacity, 12.578851550853408 rate of charge, and (5.976111111111111,1.9469444444444444) charging behavior.\n",
      "working on user with 103 total_capacity, 55.9612747978399 rate of charge, and (5.751944444444445,2.0869444444444443) charging behavior.\n",
      "working on user with 104 total_capacity, 43.275652134571544 rate of charge, and (6.989444444444445,2.1875) charging behavior.\n",
      "working on user with 96 total_capacity, 11.827113177481815 rate of charge, and (7.884166666666666,2.220833333333333) charging behavior.\n",
      "working on user with 90 total_capacity, 31.93496879082596 rate of charge, and (7.623611111111111,2.060277777777778) charging behavior.\n",
      "working on user with 101 total_capacity, 28.009508092476796 rate of charge, and (6.946944444444444,2.095) charging behavior.\n",
      "working on user with 112 total_capacity, 36.10060911573198 rate of charge, and (6.455,1.971111111111111) charging behavior.\n"
     ]
    },
    {
     "name": "stderr",
     "output_type": "stream",
     "text": [
      " 66%|████████████████████████████████████████████████████████████████████████████████████▍                                          | 665/1000 [00:06<00:03, 108.34it/s]"
     ]
    },
    {
     "name": "stdout",
     "output_type": "stream",
     "text": [
      "working on user with 99 total_capacity, 19.375582576638287 rate of charge, and (6.6563888888888885,1.9147222222222222) charging behavior.\n",
      "working on user with 33 total_capacity, 25.955578207696533 rate of charge, and (6.243333333333333,1.9244444444444444) charging behavior.\n",
      "working on user with 89 total_capacity, 9.135802469135804 rate of charge, and (6.958888888888889,1.9394444444444445) charging behavior.\n",
      "working on user with 107 total_capacity, 37.789713983396574 rate of charge, and (8.329722222222221,2.0155555555555558) charging behavior.\n",
      "working on user with 45 total_capacity, 14.23688362383047 rate of charge, and (5.854444444444445,2.036388888888889) charging behavior.\n",
      "working on user with 72 total_capacity, 17.805230205439983 rate of charge, and (7.16,1.906111111111111) charging behavior.\n",
      "working on user with 122 total_capacity, 27.8915980364315 rate of charge, and (7.004722222222222,2.043888888888889) charging behavior.\n",
      "working on user with 120 total_capacity, 28.675057350114702 rate of charge, and (6.497777777777777,2.0505555555555555) charging behavior.\n",
      "working on user with 62 total_capacity, 31.858155905126413 rate of charge, and (7.155555555555556,1.9866666666666666) charging behavior.\n",
      "working on user with 67 total_capacity, 11.306668948372833 rate of charge, and (7.045555555555556,2.2133333333333334) charging behavior.\n",
      "working on user with 24 total_capacity, 42.67502579899288 rate of charge, and (6.048611111111111,1.8911111111111112) charging behavior.\n",
      "working on user with 112 total_capacity, 9.448115164863227 rate of charge, and (6.528888888888889,2.0933333333333333) charging behavior.\n",
      "working on user with 123 total_capacity, 35.161687824945936 rate of charge, and (6.018055555555556,2.026666666666667) charging behavior.\n",
      "working on user with 42 total_capacity, 38.4313040440213 rate of charge, and (6.483055555555556,2.07) charging behavior.\n",
      "working on user with 98 total_capacity, 35.583044355882194 rate of charge, and (6.381666666666667,2.1991666666666667) charging behavior.\n",
      "working on user with 98 total_capacity, 30.957617614321556 rate of charge, and (6.919444444444444,1.958611111111111) charging behavior.\n",
      "working on user with 87 total_capacity, 20.869855580599385 rate of charge, and (6.035833333333334,2.086388888888889) charging behavior.\n",
      "working on user with 90 total_capacity, 15.589569160997733 rate of charge, and (6.3902777777777775,2.1283333333333334) charging behavior.\n",
      "working on user with 68 total_capacity, 38.289903300589664 rate of charge, and (5.7941666666666665,2.0169444444444444) charging behavior.\n",
      "working on user with 31 total_capacity, 44.389204545454554 rate of charge, and (7.811111111111111,2.1344444444444446) charging behavior.\n",
      "working on user with 54 total_capacity, 40.524460195769976 rate of charge, and (6.753888888888889,1.9113888888888888) charging behavior.\n",
      "working on user with 48 total_capacity, 23.512889193920962 rate of charge, and (8.213333333333333,2.095) charging behavior.\n",
      "working on user with 79 total_capacity, 16.43940435554546 rate of charge, and (8.160555555555556,2.0341666666666667) charging behavior.\n"
     ]
    },
    {
     "name": "stderr",
     "output_type": "stream",
     "text": [
      " 69%|███████████████████████████████████████████████████████████████████████████████████████▏                                       | 687/1000 [00:06<00:02, 108.98it/s]"
     ]
    },
    {
     "name": "stdout",
     "output_type": "stream",
     "text": [
      "working on user with 68 total_capacity, 20.555555555555557 rate of charge, and (6.066111111111111,2.0097222222222224) charging behavior.\n",
      "working on user with 105 total_capacity, 65.17340569556319 rate of charge, and (8.220555555555556,2.086388888888889) charging behavior.\n",
      "working on user with 102 total_capacity, 39.0070230371932 rate of charge, and (5.622222222222222,1.9555555555555555) charging behavior.\n",
      "working on user with 54 total_capacity, 10.638970837718317 rate of charge, and (5.971111111111111,1.9938888888888888) charging behavior.\n",
      "working on user with 47 total_capacity, 12.352355961514066 rate of charge, and (5.6194444444444445,2.101111111111111) charging behavior.\n",
      "working on user with 79 total_capacity, 73.79677709348039 rate of charge, and (8.123333333333333,2.153888888888889) charging behavior.\n",
      "working on user with 40 total_capacity, 11.140803191689566 rate of charge, and (7.970277777777778,2.0194444444444444) charging behavior.\n",
      "working on user with 74 total_capacity, 15.453239333088312 rate of charge, and (5.9075,2.2025) charging behavior.\n",
      "working on user with 115 total_capacity, 43.82452659551157 rate of charge, and (7.083611111111111,1.9052777777777778) charging behavior.\n",
      "working on user with 78 total_capacity, 15.589569160997733 rate of charge, and (5.6475,2.1266666666666665) charging behavior.\n",
      "working on user with 107 total_capacity, 43.51945814318297 rate of charge, and (7.746388888888889,2.1691666666666665) charging behavior.\n",
      "working on user with 77 total_capacity, 57.232049947970864 rate of charge, and (6.408055555555555,2.216111111111111) charging behavior.\n",
      "working on user with 48 total_capacity, 24.552008785637735 rate of charge, and (5.691944444444444,2.1286111111111112) charging behavior.\n",
      "working on user with 87 total_capacity, 23.429287876293355 rate of charge, and (5.761111111111111,2.2133333333333334) charging behavior.\n",
      "working on user with 106 total_capacity, 58.546607091058604 rate of charge, and (7.5825,1.9577777777777778) charging behavior.\n",
      "working on user with 54 total_capacity, 79.51538984227038 rate of charge, and (5.558333333333334,2.078333333333333) charging behavior.\n",
      "working on user with 112 total_capacity, 13.016344306932435 rate of charge, and (7.158611111111111,1.9302777777777778) charging behavior.\n",
      "working on user with 28 total_capacity, 16.240261379624968 rate of charge, and (5.8175,1.9702777777777778) charging behavior.\n",
      "working on user with 23 total_capacity, 9.643251808761285 rate of charge, and (6.39,2.1494444444444443) charging behavior.\n",
      "working on user with 30 total_capacity, 49.00868790376476 rate of charge, and (7.961944444444445,1.9966666666666666) charging behavior.\n",
      "working on user with 78 total_capacity, 47.438227880309036 rate of charge, and (8.274444444444445,2.0727777777777776) charging behavior.\n",
      "working on user with 77 total_capacity, 37.5923789995301 rate of charge, and (7.216111111111111,2.1752777777777776) charging behavior.\n",
      "working on user with 35 total_capacity, 25.283499783040234 rate of charge, and (5.618611111111111,1.9458333333333333) charging behavior.\n"
     ]
    },
    {
     "name": "stderr",
     "output_type": "stream",
     "text": [
      " 71%|██████████████████████████████████████████████████████████████████████████████████████████▏                                    | 710/1000 [00:06<00:02, 108.92it/s]"
     ]
    },
    {
     "name": "stdout",
     "output_type": "stream",
     "text": [
      "working on user with 108 total_capacity, 15.145282142279695 rate of charge, and (7.990277777777778,2.07) charging behavior.\n",
      "working on user with 107 total_capacity, 16.289656508378165 rate of charge, and (8.129166666666666,2.0883333333333334) charging behavior.\n",
      "working on user with 33 total_capacity, 14.172317341376337 rate of charge, and (8.105277777777777,1.9402777777777778) charging behavior.\n",
      "working on user with 42 total_capacity, 31.858155905126413 rate of charge, and (5.665,2.2133333333333334) charging behavior.\n",
      "working on user with 87 total_capacity, 15.29681381274475 rate of charge, and (6.232777777777778,2.1219444444444444) charging behavior.\n",
      "working on user with 83 total_capacity, 27.47242548104588 rate of charge, and (7.250277777777778,2.2144444444444447) charging behavior.\n",
      "working on user with 31 total_capacity, 87.30020158410183 rate of charge, and (5.601666666666667,2.1261111111111113) charging behavior.\n",
      "working on user with 33 total_capacity, 53.37681117225182 rate of charge, and (6.486944444444444,2.1883333333333335) charging behavior.\n",
      "working on user with 100 total_capacity, 25.955578207696533 rate of charge, and (7.014722222222222,2.028611111111111) charging behavior.\n",
      "working on user with 45 total_capacity, 33.270321361058606 rate of charge, and (5.616666666666666,1.9561111111111111) charging behavior.\n",
      "working on user with 110 total_capacity, 10.005408328826395 rate of charge, and (8.165,2.016111111111111) charging behavior.\n",
      "working on user with 122 total_capacity, 13.697996205284836 rate of charge, and (7.0841666666666665,1.9916666666666667) charging behavior.\n",
      "working on user with 50 total_capacity, 26.64467880559826 rate of charge, and (6.589722222222222,2.0869444444444443) charging behavior.\n",
      "working on user with 99 total_capacity, 15.816832529667247 rate of charge, and (5.8694444444444445,2.101111111111111) charging behavior.\n",
      "working on user with 86 total_capacity, 15.232323814503234 rate of charge, and (7.403611111111111,1.9802777777777778) charging behavior.\n",
      "working on user with 85 total_capacity, 27.627015202393 rate of charge, and (6.422777777777778,1.9969444444444444) charging behavior.\n",
      "working on user with 100 total_capacity, 37.00956024231168 rate of charge, and (6.893611111111111,2.1422222222222222) charging behavior.\n",
      "working on user with 108 total_capacity, 13.962685665982372 rate of charge, and (5.751944444444445,2.013333333333333) charging behavior.\n",
      "working on user with 46 total_capacity, 10.09913529565901 rate of charge, and (6.133611111111111,1.9694444444444446) charging behavior.\n",
      "working on user with 49 total_capacity, 46.07513178534853 rate of charge, and (6.54,2.096388888888889) charging behavior.\n",
      "working on user with 45 total_capacity, 40.72377250219816 rate of charge, and (8.181111111111111,1.9494444444444445) charging behavior.\n",
      "working on user with 61 total_capacity, 30.96707355524526 rate of charge, and (7.404444444444445,2.031388888888889) charging behavior.\n",
      "working on user with 108 total_capacity, 16.97465375564214 rate of charge, and (6.034166666666667,1.9627777777777777) charging behavior.\n"
     ]
    },
    {
     "name": "stderr",
     "output_type": "stream",
     "text": [
      " 73%|█████████████████████████████████████████████████████████████████████████████████████████████                                  | 733/1000 [00:06<00:02, 109.14it/s]"
     ]
    },
    {
     "name": "stdout",
     "output_type": "stream",
     "text": [
      "working on user with 121 total_capacity, 27.578599007170435 rate of charge, and (7.7575,2.049166666666667) charging behavior.\n",
      "working on user with 57 total_capacity, 15.04736500119695 rate of charge, and (5.627777777777778,2.0525) charging behavior.\n",
      "working on user with 42 total_capacity, 9.687436180741377 rate of charge, and (6.895555555555555,2.104722222222222) charging behavior.\n",
      "working on user with 43 total_capacity, 30.378306575108294 rate of charge, and (7.182777777777778,1.9872222222222222) charging behavior.\n",
      "working on user with 103 total_capacity, 32.638964098623084 rate of charge, and (6.446944444444444,1.9097222222222223) charging behavior.\n",
      "working on user with 123 total_capacity, 26.146192549041775 rate of charge, and (7.993333333333333,2.1591666666666667) charging behavior.\n",
      "working on user with 116 total_capacity, 45.54629677552922 rate of charge, and (5.755833333333333,2.013611111111111) charging behavior.\n",
      "working on user with 73 total_capacity, 82.30791390592205 rate of charge, and (8.114722222222222,2.0394444444444444) charging behavior.\n",
      "working on user with 72 total_capacity, 35.161687824945936 rate of charge, and (7.644722222222223,2.191666666666667) charging behavior.\n",
      "working on user with 39 total_capacity, 64.06597630723714 rate of charge, and (7.786944444444444,2.033611111111111) charging behavior.\n",
      "working on user with 69 total_capacity, 26.3438946244215 rate of charge, and (6.832222222222223,2.082222222222222) charging behavior.\n",
      "working on user with 54 total_capacity, 22.904784809546715 rate of charge, and (5.679166666666666,2.089722222222222) charging behavior.\n",
      "working on user with 89 total_capacity, 83.92333984375 rate of charge, and (7.576388888888889,2.2116666666666664) charging behavior.\n",
      "working on user with 27 total_capacity, 18.944 rate of charge, and (6.482222222222222,2.2030555555555558) charging behavior.\n",
      "working on user with 108 total_capacity, 54.38867133420355 rate of charge, and (7.195277777777778,2.169722222222222) charging behavior.\n",
      "working on user with 30 total_capacity, 21.456883368184517 rate of charge, and (5.951666666666667,2.05) charging behavior.\n",
      "working on user with 90 total_capacity, 9.405556141637508 rate of charge, and (7.6530555555555555,2.193888888888889) charging behavior.\n",
      "working on user with 38 total_capacity, 11.419312526522896 rate of charge, and (5.567777777777778,2.124722222222222) charging behavior.\n",
      "working on user with 43 total_capacity, 15.816832529667247 rate of charge, and (6.696111111111111,1.9366666666666668) charging behavior.\n",
      "working on user with 63 total_capacity, 16.479672324188115 rate of charge, and (6.092222222222222,2.0677777777777777) charging behavior.\n",
      "working on user with 120 total_capacity, 27.8915980364315 rate of charge, and (5.977222222222222,2.0430555555555556) charging behavior.\n",
      "working on user with 47 total_capacity, 24.28636717896182 rate of charge, and (7.45,2.151666666666667) charging behavior.\n",
      "working on user with 42 total_capacity, 37.988606871448276 rate of charge, and (6.109444444444445,1.9372222222222222) charging behavior.\n"
     ]
    },
    {
     "name": "stderr",
     "output_type": "stream",
     "text": [
      " 77%|█████████████████████████████████████████████████████████████████████████████████████████████████▍                             | 767/1000 [00:07<00:02, 108.53it/s]"
     ]
    },
    {
     "name": "stdout",
     "output_type": "stream",
     "text": [
      "working on user with 68 total_capacity, 34.58075549519643 rate of charge, and (8.001388888888888,2.158888888888889) charging behavior.\n",
      "working on user with 22 total_capacity, 23.58040596884385 rate of charge, and (6.780555555555556,2.1569444444444446) charging behavior.\n",
      "working on user with 91 total_capacity, 12.947565857618766 rate of charge, and (7.168333333333333,2.1666666666666665) charging behavior.\n",
      "working on user with 103 total_capacity, 36.06787974968891 rate of charge, and (7.3133333333333335,2.2175) charging behavior.\n",
      "working on user with 102 total_capacity, 53.87917839151059 rate of charge, and (6.117222222222222,2.096111111111111) charging behavior.\n",
      "working on user with 24 total_capacity, 34.20376738950628 rate of charge, and (8.217222222222222,2.1166666666666667) charging behavior.\n",
      "working on user with 96 total_capacity, 15.478808807160778 rate of charge, and (6.333888888888889,1.9213888888888888) charging behavior.\n",
      "working on user with 50 total_capacity, 17.898217192446953 rate of charge, and (6.732777777777778,2.0591666666666666) charging behavior.\n",
      "working on user with 56 total_capacity, 33.36649760974544 rate of charge, and (7.280833333333334,2.2080555555555557) charging behavior.\n",
      "working on user with 119 total_capacity, 40.72377250219816 rate of charge, and (6.413888888888889,2.0277777777777777) charging behavior.\n",
      "working on user with 120 total_capacity, 36.7636000254003 rate of charge, and (5.916944444444445,2.1822222222222223) charging behavior.\n",
      "working on user with 56 total_capacity, 9.643251808761285 rate of charge, and (7.633055555555556,2.1333333333333333) charging behavior.\n",
      "working on user with 28 total_capacity, 13.580246913580245 rate of charge, and (6.620277777777778,2.147777777777778) charging behavior.\n",
      "working on user with 72 total_capacity, 14.076288364284105 rate of charge, and (7.8886111111111115,2.0605555555555557) charging behavior.\n",
      "working on user with 81 total_capacity, 16.936700227272205 rate of charge, and (7.818888888888889,2.0166666666666666) charging behavior.\n",
      "working on user with 60 total_capacity, 9.709642330891489 rate of charge, and (6.644166666666667,2.013611111111111) charging behavior.\n",
      "working on user with 82 total_capacity, 42.96270836913559 rate of charge, and (8.163611111111111,2.1875) charging behavior.\n",
      "working on user with 58 total_capacity, 27.802983007322297 rate of charge, and (6.590833333333333,2.2058333333333335) charging behavior.\n",
      "working on user with 101 total_capacity, 19.188831063087175 rate of charge, and (8.088611111111112,2.0980555555555553) charging behavior.\n",
      "working on user with 102 total_capacity, 29.6 rate of charge, and (6.379722222222222,2.011388888888889) charging behavior.\n",
      "working on user with 38 total_capacity, 11.223276468732559 rate of charge, and (5.663055555555555,2.0533333333333332) charging behavior.\n",
      "working on user with 87 total_capacity, 54.218040313577426 rate of charge, and (6.223333333333334,1.9405555555555556) charging behavior.\n",
      "working on user with 114 total_capacity, 32.47481725534654 rate of charge, and (5.721388888888889,2.13) charging behavior.\n"
     ]
    },
    {
     "name": "stderr",
     "output_type": "stream",
     "text": [
      " 79%|████████████████████████████████████████████████████████████████████████████████████████████████████▏                          | 789/1000 [00:07<00:01, 108.56it/s]"
     ]
    },
    {
     "name": "stdout",
     "output_type": "stream",
     "text": [
      "working on user with 80 total_capacity, 29.08321766144491 rate of charge, and (6.196666666666666,2.176388888888889) charging behavior.\n",
      "working on user with 64 total_capacity, 17.059315239086303 rate of charge, and (6.801388888888889,1.9808333333333332) charging behavior.\n",
      "working on user with 50 total_capacity, 38.59479847375115 rate of charge, and (5.775277777777778,1.9436111111111112) charging behavior.\n",
      "working on user with 100 total_capacity, 36.16042077580539 rate of charge, and (8.22,2.1416666666666666) charging behavior.\n",
      "working on user with 122 total_capacity, 40.06176796223996 rate of charge, and (7.72,1.9791666666666667) charging behavior.\n",
      "working on user with 37 total_capacity, 31.105034632628332 rate of charge, and (7.2588888888888885,2.1880555555555556) charging behavior.\n",
      "working on user with 118 total_capacity, 69.65463963222349 rate of charge, and (6.254722222222222,1.9469444444444444) charging behavior.\n",
      "working on user with 32 total_capacity, 16.241426611796978 rate of charge, and (6.809722222222222,2.1752777777777776) charging behavior.\n",
      "working on user with 33 total_capacity, 13.763143802331225 rate of charge, and (7.245833333333334,2.0325) charging behavior.\n",
      "working on user with 55 total_capacity, 16.6333624791802 rate of charge, and (8.324166666666667,1.9572222222222222) charging behavior.\n",
      "working on user with 55 total_capacity, 27.71478961955152 rate of charge, and (7.866944444444444,1.9847222222222223) charging behavior.\n",
      "working on user with 26 total_capacity, 15.701522619470746 rate of charge, and (6.082777777777777,1.9869444444444444) charging behavior.\n",
      "working on user with 91 total_capacity, 13.855980934170233 rate of charge, and (6.1563888888888885,2.1238888888888887) charging behavior.\n",
      "working on user with 71 total_capacity, 27.403539540816325 rate of charge, and (5.695,2.0922222222222224) charging behavior.\n",
      "working on user with 32 total_capacity, 17.27376084321078 rate of charge, and (5.679444444444444,2.1461111111111113) charging behavior.\n",
      "working on user with 77 total_capacity, 28.40909090909091 rate of charge, and (6.343333333333334,1.9266666666666667) charging behavior.\n",
      "working on user with 105 total_capacity, 27.452712702370167 rate of charge, and (7.846111111111111,1.9958333333333333) charging behavior.\n",
      "working on user with 117 total_capacity, 56.86458990291664 rate of charge, and (8.067777777777778,1.8891666666666667) charging behavior.\n",
      "working on user with 63 total_capacity, 10.819836561982312 rate of charge, and (6.890555555555555,2.0952777777777776) charging behavior.\n",
      "working on user with 88 total_capacity, 39.60695498129471 rate of charge, and (7.4286111111111115,2.0794444444444444) charging behavior.\n",
      "working on user with 37 total_capacity, 14.907552843886752 rate of charge, and (6.401388888888889,2.0008333333333335) charging behavior.\n",
      "working on user with 110 total_capacity, 10.690181213017754 rate of charge, and (7.072222222222222,1.9244444444444444) charging behavior.\n",
      "working on user with 93 total_capacity, 53.87917839151059 rate of charge, and (6.951388888888889,1.99) charging behavior.\n",
      "working on user with 56 total_capacity, 51.911156415393066 rate of charge, and (6.115833333333334,2.0025) charging behavior.\n"
     ]
    },
    {
     "name": "stderr",
     "output_type": "stream",
     "text": [
      " 81%|██████████████████████████████████████████████████████████████████████████████████████████████████████▉                        | 811/1000 [00:07<00:01, 108.51it/s]"
     ]
    },
    {
     "name": "stdout",
     "output_type": "stream",
     "text": [
      "working on user with 52 total_capacity, 15.189153287554147 rate of charge, and (8.1475,2.1266666666666665) charging behavior.\n",
      "working on user with 29 total_capacity, 12.91338088016906 rate of charge, and (7.363611111111111,2.0055555555555555) charging behavior.\n",
      "working on user with 74 total_capacity, 22.45990603260936 rate of charge, and (6.075277777777778,2.1416666666666666) charging behavior.\n",
      "working on user with 27 total_capacity, 10.613503531858441 rate of charge, and (7.0761111111111115,2.0075) charging behavior.\n",
      "working on user with 76 total_capacity, 85.250170500341 rate of charge, and (7.204444444444444,1.9508333333333334) charging behavior.\n",
      "working on user with 89 total_capacity, 16.97465375564214 rate of charge, and (7.740277777777778,2.0838888888888887) charging behavior.\n",
      "working on user with 60 total_capacity, 28.341092781008374 rate of charge, and (6.0675,2.0225) charging behavior.\n",
      "working on user with 111 total_capacity, 16.6333624791802 rate of charge, and (7.206388888888889,2.0775) charging behavior.\n",
      "working on user with 75 total_capacity, 54.04821100421575 rate of charge, and (7.078333333333333,2.027222222222222) charging behavior.\n",
      "working on user with 99 total_capacity, 62.98653519658958 rate of charge, and (6.847777777777778,2.055833333333333) charging behavior.\n",
      "working on user with 21 total_capacity, 15.816832529667247 rate of charge, and (7.741388888888889,1.995) charging behavior.\n",
      "working on user with 103 total_capacity, 9.46950308142749 rate of charge, and (5.9494444444444445,2.076111111111111) charging behavior.\n",
      "working on user with 97 total_capacity, 12.131923188531726 rate of charge, and (6.196944444444444,2.0725) charging behavior.\n",
      "working on user with 72 total_capacity, 16.601367952719304 rate of charge, and (5.794722222222222,1.941111111111111) charging behavior.\n",
      "working on user with 94 total_capacity, 11.447736442167272 rate of charge, and (6.711666666666667,2.1180555555555554) charging behavior.\n",
      "working on user with 90 total_capacity, 22.53836852669122 rate of charge, and (6.453333333333333,1.9080555555555556) charging behavior.\n",
      "working on user with 117 total_capacity, 21.186380020671038 rate of charge, and (5.860555555555556,1.9005555555555556) charging behavior.\n",
      "working on user with 54 total_capacity, 15.118009810214003 rate of charge, and (7.101111111111111,1.9327777777777777) charging behavior.\n",
      "working on user with 60 total_capacity, 37.17019896193771 rate of charge, and (7.253055555555555,2.0441666666666665) charging behavior.\n",
      "working on user with 39 total_capacity, 10.413016833908161 rate of charge, and (8.076944444444445,1.9372222222222222) charging behavior.\n",
      "working on user with 96 total_capacity, 24.73187638072384 rate of charge, and (7.9686111111111115,2.2180555555555554) charging behavior.\n",
      "working on user with 32 total_capacity, 22.45990603260936 rate of charge, and (6.599444444444444,2.0836111111111113) charging behavior.\n",
      "working on user with 26 total_capacity, 54.732358765636036 rate of charge, and (7.184444444444445,2.0925) charging behavior.\n",
      "working on user with 50 total_capacity, 28.616024973985432 rate of charge, and (7.841388888888889,1.8933333333333333) charging behavior.\n",
      "working on user with 50 total_capacity, 17.01690552214054 rate of charge, and (7.202222222222222,2.051111111111111) charging behavior.\n"
     ]
    },
    {
     "name": "stderr",
     "output_type": "stream",
     "text": [
      " 83%|█████████████████████████████████████████████████████████████████████████████████████████████████████████▊                     | 833/1000 [00:07<00:01, 108.54it/s]"
     ]
    },
    {
     "name": "stdout",
     "output_type": "stream",
     "text": [
      "working on user with 119 total_capacity, 14.400242971372316 rate of charge, and (6.694166666666667,1.955) charging behavior.\n",
      "working on user with 78 total_capacity, 78.91414141414141 rate of charge, and (7.955277777777778,2.0094444444444446) charging behavior.\n",
      "working on user with 101 total_capacity, 31.93496879082596 rate of charge, and (6.716111111111111,2.1594444444444445) charging behavior.\n",
      "working on user with 39 total_capacity, 47.1608119376877 rate of charge, and (8.127222222222223,2.1594444444444445) charging behavior.\n",
      "working on user with 114 total_capacity, 10.613503531858441 rate of charge, and (6.6075,2.192222222222222) charging behavior.\n",
      "working on user with 29 total_capacity, 18.703824932198636 rate of charge, and (6.5725,2.1441666666666666) charging behavior.\n",
      "working on user with 122 total_capacity, 13.580246913580245 rate of charge, and (5.978888888888889,2.068888888888889) charging behavior.\n",
      "working on user with 75 total_capacity, 13.261434851409208 rate of charge, and (6.942222222222222,2.062222222222222) charging behavior.\n",
      "working on user with 28 total_capacity, 13.82493112670675 rate of charge, and (6.167777777777777,2.029166666666667) charging behavior.\n",
      "working on user with 42 total_capacity, 14.907552843886752 rate of charge, and (6.916666666666667,2.2130555555555556) charging behavior.\n",
      "working on user with 74 total_capacity, 19.92576745904802 rate of charge, and (8.065833333333334,1.9955555555555555) charging behavior.\n",
      "working on user with 52 total_capacity, 10.664529917609302 rate of charge, and (7.865,1.8902777777777777) charging behavior.\n",
      "working on user with 93 total_capacity, 12.225665968371871 rate of charge, and (6.401388888888889,2.0425) charging behavior.\n",
      "working on user with 64 total_capacity, 43.397298320919084 rate of charge, and (6.017777777777778,2.095) charging behavior.\n",
      "working on user with 23 total_capacity, 32.92585098358497 rate of charge, and (6.973333333333334,2.0794444444444444) charging behavior.\n",
      "working on user with 38 total_capacity, 11.059235657366948 rate of charge, and (5.621944444444445,1.998888888888889) charging behavior.\n",
      "working on user with 55 total_capacity, 40.524460195769976 rate of charge, and (7.355555555555555,2.218888888888889) charging behavior.\n",
      "working on user with 113 total_capacity, 11.504903576470294 rate of charge, and (8.184722222222222,1.9627777777777777) charging behavior.\n",
      "working on user with 42 total_capacity, 12.578851550853408 rate of charge, and (8.194444444444445,2.2108333333333334) charging behavior.\n",
      "working on user with 81 total_capacity, 9.279590293548553 rate of charge, and (6.7091666666666665,2.051111111111111) charging behavior.\n",
      "working on user with 57 total_capacity, 34.2892233646768 rate of charge, and (8.21861111111111,2.0947222222222224) charging behavior.\n",
      "working on user with 47 total_capacity, 40.61318525519849 rate of charge, and (8.073333333333334,2.0841666666666665) charging behavior.\n",
      "working on user with 55 total_capacity, 13.016344306932435 rate of charge, and (6.359444444444445,1.998888888888889) charging behavior.\n",
      "working on user with 73 total_capacity, 40.066948228039216 rate of charge, and (7.6225,1.9344444444444444) charging behavior.\n"
     ]
    },
    {
     "name": "stderr",
     "output_type": "stream",
     "text": [
      " 86%|████████████████████████████████████████████████████████████████████████████████████████████████████████████▌                  | 855/1000 [00:07<00:01, 108.48it/s]"
     ]
    },
    {
     "name": "stdout",
     "output_type": "stream",
     "text": [
      "working on user with 30 total_capacity, 31.553659148768332 rate of charge, and (7.040277777777778,2.026111111111111) charging behavior.\n",
      "working on user with 53 total_capacity, 13.440762563480359 rate of charge, and (5.663333333333333,1.948611111111111) charging behavior.\n",
      "working on user with 95 total_capacity, 87.30020158410183 rate of charge, and (5.850833333333333,2.109722222222222) charging behavior.\n",
      "working on user with 60 total_capacity, 37.888964666818225 rate of charge, and (8.225277777777778,2.1886111111111113) charging behavior.\n",
      "working on user with 57 total_capacity, 9.279590293548553 rate of charge, and (7.4,2.077777777777778) charging behavior.\n",
      "working on user with 47 total_capacity, 14.156474961213174 rate of charge, and (6.713888888888889,1.9780555555555555) charging behavior.\n",
      "working on user with 38 total_capacity, 11.059235657366948 rate of charge, and (7.173611111111111,1.9619444444444445) charging behavior.\n",
      "working on user with 59 total_capacity, 16.14560719483166 rate of charge, and (7.9558333333333335,1.8905555555555555) charging behavior.\n",
      "working on user with 56 total_capacity, 32.87880871109092 rate of charge, and (6.176666666666667,2.1533333333333333) charging behavior.\n",
      "working on user with 56 total_capacity, 34.98455114025783 rate of charge, and (6.7877777777777775,2.0608333333333335) charging behavior.\n",
      "working on user with 28 total_capacity, 18.79618949976505 rate of charge, and (5.745277777777778,2.0097222222222224) charging behavior.\n",
      "working on user with 63 total_capacity, 47.438227880309036 rate of charge, and (7.096388888888889,2.098333333333333) charging behavior.\n",
      "working on user with 30 total_capacity, 15.542953161100613 rate of charge, and (6.8180555555555555,2.1491666666666664) charging behavior.\n",
      "working on user with 51 total_capacity, 87.64905319102314 rate of charge, and (7.8630555555555555,2.1930555555555555) charging behavior.\n",
      "working on user with 76 total_capacity, 36.34657450056502 rate of charge, and (6.88,1.8983333333333334) charging behavior.\n",
      "working on user with 113 total_capacity, 15.515597406920522 rate of charge, and (6.570277777777778,1.946388888888889) charging behavior.\n",
      "working on user with 35 total_capacity, 56.86458990291664 rate of charge, and (7.388055555555556,1.9127777777777777) charging behavior.\n",
      "working on user with 21 total_capacity, 11.620530021796345 rate of charge, and (6.292222222222223,2.1577777777777776) charging behavior.\n",
      "working on user with 102 total_capacity, 28.675057350114702 rate of charge, and (5.9319444444444445,2.107222222222222) charging behavior.\n",
      "working on user with 69 total_capacity, 38.57537628526139 rate of charge, and (6.2380555555555555,2.0941666666666667) charging behavior.\n",
      "working on user with 35 total_capacity, 11.334673071267522 rate of charge, and (7.421388888888889,2.144722222222222) charging behavior.\n",
      "working on user with 119 total_capacity, 57.232049947970864 rate of charge, and (7.6325,2.1066666666666665) charging behavior.\n",
      "working on user with 31 total_capacity, 49.00868790376476 rate of charge, and (8.109444444444444,1.9783333333333333) charging behavior.\n"
     ]
    },
    {
     "name": "stderr",
     "output_type": "stream",
     "text": [
      " 88%|███████████████████████████████████████████████████████████████████████████████████████████████████████████████▍               | 877/1000 [00:08<00:01, 107.97it/s]"
     ]
    },
    {
     "name": "stdout",
     "output_type": "stream",
     "text": [
      "working on user with 54 total_capacity, 29.756752077562325 rate of charge, and (7.491666666666666,2.174166666666667) charging behavior.\n",
      "working on user with 49 total_capacity, 14.638363193616094 rate of charge, and (7.716388888888889,1.9555555555555555) charging behavior.\n",
      "working on user with 67 total_capacity, 12.74446993338431 rate of charge, and (5.766388888888889,1.9111111111111112) charging behavior.\n",
      "working on user with 110 total_capacity, 27.220951223767354 rate of charge, and (7.605555555555555,2.0544444444444445) charging behavior.\n",
      "working on user with 43 total_capacity, 22.44897959183674 rate of charge, and (7.3,2.198611111111111) charging behavior.\n",
      "working on user with 76 total_capacity, 29.364613260106985 rate of charge, and (8.301388888888889,2.1908333333333334) charging behavior.\n",
      "working on user with 54 total_capacity, 15.369224664531743 rate of charge, and (6.208888888888889,2.1686111111111113) charging behavior.\n",
      "working on user with 55 total_capacity, 10.218157666172791 rate of charge, and (6.588888888888889,1.9188888888888889) charging behavior.\n",
      "working on user with 36 total_capacity, 74.34039792387541 rate of charge, and (6.924166666666666,2.073611111111111) charging behavior.\n",
      "working on user with 94 total_capacity, 35.161687824945936 rate of charge, and (6.5325,1.9058333333333333) charging behavior.\n",
      "working on user with 67 total_capacity, 40.83738922858171 rate of charge, and (6.876944444444445,1.9413888888888888) charging behavior.\n",
      "working on user with 89 total_capacity, 34.215789653767324 rate of charge, and (6.2363888888888885,1.9905555555555556) charging behavior.\n",
      "working on user with 21 total_capacity, 28.070103808347536 rate of charge, and (7.255,1.9325) charging behavior.\n",
      "working on user with 43 total_capacity, 22.696532031247607 rate of charge, and (5.655555555555556,2.173611111111111) charging behavior.\n",
      "working on user with 114 total_capacity, 10.537647883071982 rate of charge, and (8.118611111111111,2.1491666666666664) charging behavior.\n",
      "working on user with 103 total_capacity, 27.962464204868265 rate of charge, and (6.0055555555555555,2.055833333333333) charging behavior.\n",
      "working on user with 30 total_capacity, 18.01008077764608 rate of charge, and (7.203055555555555,2.1325) charging behavior.\n",
      "working on user with 55 total_capacity, 20.529128967720744 rate of charge, and (8.131666666666666,1.8913888888888888) charging behavior.\n",
      "working on user with 118 total_capacity, 28.070103808347536 rate of charge, and (7.308888888888889,2.1225) charging behavior.\n",
      "working on user with 78 total_capacity, 19.887127116366567 rate of charge, and (7.080555555555556,2.0344444444444445) charging behavior.\n",
      "working on user with 65 total_capacity, 28.160000000000004 rate of charge, and (7.7011111111111115,2.1197222222222223) charging behavior.\n",
      "working on user with 67 total_capacity, 37.49429064210677 rate of charge, and (5.933055555555556,2.1466666666666665) charging behavior.\n",
      "working on user with 66 total_capacity, 31.253507140716078 rate of charge, and (6.424722222222222,1.9744444444444444) charging behavior.\n"
     ]
    },
    {
     "name": "stderr",
     "output_type": "stream",
     "text": [
      " 90%|██████████████████████████████████████████████████████████████████████████████████████████████████████████████████▏            | 899/1000 [00:08<00:00, 108.21it/s]"
     ]
    },
    {
     "name": "stdout",
     "output_type": "stream",
     "text": [
      "working on user with 38 total_capacity, 31.600114909508765 rate of charge, and (6.070555555555556,2.1619444444444444) charging behavior.\n",
      "working on user with 66 total_capacity, 33.20273590543861 rate of charge, and (6.146944444444444,2.1822222222222223) charging behavior.\n",
      "working on user with 28 total_capacity, 16.359309934562763 rate of charge, and (7.4944444444444445,1.9336111111111112) charging behavior.\n",
      "working on user with 40 total_capacity, 32.81221568960838 rate of charge, and (6.6075,2.075277777777778) charging behavior.\n",
      "working on user with 42 total_capacity, 68.43157930753465 rate of charge, and (7.760277777777778,2.117777777777778) charging behavior.\n",
      "working on user with 90 total_capacity, 30.236019620428007 rate of charge, and (7.1563888888888885,2.0416666666666665) charging behavior.\n",
      "working on user with 60 total_capacity, 11.36278136319595 rate of charge, and (6.166388888888889,1.9358333333333333) charging behavior.\n",
      "working on user with 68 total_capacity, 85.58679473563406 rate of charge, and (5.987222222222222,2.1525) charging behavior.\n",
      "working on user with 30 total_capacity, 22.577811348018493 rate of charge, and (8.0625,1.9183333333333332) charging behavior.\n",
      "working on user with 106 total_capacity, 86.26605234780904 rate of charge, and (7.651111111111111,2.196388888888889) charging behavior.\n",
      "working on user with 53 total_capacity, 12.352355961514066 rate of charge, and (7.555,1.9152777777777779) charging behavior.\n",
      "working on user with 75 total_capacity, 11.620530021796345 rate of charge, and (6.055,2.1058333333333334) charging behavior.\n",
      "working on user with 113 total_capacity, 16.240261379624968 rate of charge, and (6.528611111111111,1.9875) charging behavior.\n",
      "working on user with 113 total_capacity, 20.473153181993304 rate of charge, and (7.180555555555555,2.002222222222222) charging behavior.\n",
      "working on user with 96 total_capacity, 36.36363636363636 rate of charge, and (8.05861111111111,2.1755555555555555) charging behavior.\n",
      "working on user with 103 total_capacity, 31.179138321995467 rate of charge, and (8.28,2.095833333333333) charging behavior.\n",
      "working on user with 87 total_capacity, 25.483668443573364 rate of charge, and (6.063888888888889,2.2183333333333333) charging behavior.\n"
     ]
    },
    {
     "name": "stderr",
     "output_type": "stream",
     "text": [
      " 92%|█████████████████████████████████████████████████████████████████████████████████████████████████████████████████████▉          | 921/1000 [00:08<00:00, 91.45it/s]"
     ]
    },
    {
     "name": "stdout",
     "output_type": "stream",
     "text": [
      "working on user with 25 total_capacity, 39.42588739608143 rate of charge, and (6.716666666666667,1.9530555555555555) charging behavior.\n",
      "working on user with 122 total_capacity, 79.81859410430839 rate of charge, and (6.6947222222222225,1.9666666666666666) charging behavior.\n",
      "working on user with 101 total_capacity, 17.404374826945133 rate of charge, and (7.3036111111111115,2.187222222222222) charging behavior.\n",
      "working on user with 114 total_capacity, 44.389204545454554 rate of charge, and (6.646111111111111,2.140833333333333) charging behavior.\n",
      "working on user with 102 total_capacity, 25.100172506640135 rate of charge, and (6.078055555555555,2.143611111111111) charging behavior.\n",
      "working on user with 62 total_capacity, 33.53147386069197 rate of charge, and (7.869166666666667,2.1855555555555557) charging behavior.\n",
      "working on user with 49 total_capacity, 36.72322042612289 rate of charge, and (6.535277777777778,1.905) charging behavior.\n",
      "working on user with 67 total_capacity, 25.853786356887063 rate of charge, and (6.735277777777778,2.058611111111111) charging behavior.\n",
      "working on user with 82 total_capacity, 14.735510973936899 rate of charge, and (6.4125,1.908611111111111) charging behavior.\n",
      "working on user with 58 total_capacity, 29.200025483658607 rate of charge, and (6.835277777777778,2.218611111111111) charging behavior.\n",
      "working on user with 101 total_capacity, 37.033919703728635 rate of charge, and (6.109444444444445,2.1752777777777776) charging behavior.\n",
      "working on user with 117 total_capacity, 21.101741085473563 rate of charge, and (6.5152777777777775,2.1380555555555554) charging behavior.\n",
      "working on user with 73 total_capacity, 24.2858643142197 rate of charge, and (5.811388888888889,2.0755555555555554) charging behavior.\n",
      "working on user with 54 total_capacity, 9.17654178302687 rate of charge, and (6.860833333333333,1.9561111111111111) charging behavior.\n",
      "working on user with 62 total_capacity, 70.65685178761834 rate of charge, and (7.171111111111111,2.0216666666666665) charging behavior.\n",
      "working on user with 95 total_capacity, 15.626753570358039 rate of charge, and (5.865555555555556,2.1358333333333333) charging behavior.\n",
      "working on user with 103 total_capacity, 10.462602558247713 rate of charge, and (6.621111111111111,1.9102777777777777) charging behavior.\n",
      "working on user with 100 total_capacity, 12.194298012164635 rate of charge, and (6.644444444444445,1.9152777777777779) charging behavior.\n",
      "working on user with 37 total_capacity, 16.240261379624968 rate of charge, and (6.289444444444444,2.1083333333333334) charging behavior.\n",
      "working on user with 79 total_capacity, 15.058984413951135 rate of charge, and (7.1325,2.042777777777778) charging behavior.\n",
      "working on user with 45 total_capacity, 14.597273071581872 rate of charge, and (7.691388888888889,2.127222222222222) charging behavior.\n",
      "working on user with 42 total_capacity, 12.131923188531726 rate of charge, and (7.486666666666666,2.205) charging behavior.\n",
      "working on user with 79 total_capacity, 28.98886827458256 rate of charge, and (8.144444444444444,2.0755555555555554) charging behavior.\n"
     ]
    },
    {
     "name": "stderr",
     "output_type": "stream",
     "text": [
      " 94%|███████████████████████████████████████████████████████████████████████████████████████████████████████████████████████▉       | 944/1000 [00:08<00:00, 100.18it/s]"
     ]
    },
    {
     "name": "stdout",
     "output_type": "stream",
     "text": [
      "working on user with 115 total_capacity, 25.176176013512737 rate of charge, and (7.9447222222222225,1.9172222222222222) charging behavior.\n",
      "working on user with 123 total_capacity, 62.14250406044772 rate of charge, and (5.7427777777777775,2.0702777777777777) charging behavior.\n",
      "working on user with 107 total_capacity, 14.8464396632667 rate of charge, and (7.138888888888889,2.084722222222222) charging behavior.\n",
      "working on user with 72 total_capacity, 39.308035634521026 rate of charge, and (7.277222222222222,2.128888888888889) charging behavior.\n",
      "working on user with 95 total_capacity, 18.698292845863172 rate of charge, and (7.208611111111111,1.9966666666666666) charging behavior.\n",
      "working on user with 120 total_capacity, 9.258842194295553 rate of charge, and (7.303055555555556,2.174722222222222) charging behavior.\n",
      "working on user with 97 total_capacity, 17.536475869809202 rate of charge, and (8.295555555555556,2.0075) charging behavior.\n",
      "working on user with 107 total_capacity, 9.448115164863227 rate of charge, and (6.044722222222222,1.9736111111111112) charging behavior.\n",
      "working on user with 22 total_capacity, 61.11111111111112 rate of charge, and (6.551111111111111,2.153888888888889) charging behavior.\n",
      "working on user with 83 total_capacity, 23.85904941209133 rate of charge, and (6.461111111111111,2.066666666666667) charging behavior.\n",
      "working on user with 60 total_capacity, 24.071286019397075 rate of charge, and (7.257777777777778,2.0475) charging behavior.\n",
      "working on user with 103 total_capacity, 16.122507606892228 rate of charge, and (8.213611111111112,2.0791666666666666) charging behavior.\n",
      "working on user with 59 total_capacity, 29.26742309651997 rate of charge, and (6.456944444444445,2.142777777777778) charging behavior.\n",
      "working on user with 102 total_capacity, 65.17340569556319 rate of charge, and (6.6594444444444445,2.2175) charging behavior.\n",
      "working on user with 54 total_capacity, 14.88858709320457 rate of charge, and (6.7775,1.9419444444444445) charging behavior.\n",
      "working on user with 120 total_capacity, 28.98886827458256 rate of charge, and (6.7875,2.205) charging behavior.\n",
      "working on user with 67 total_capacity, 41.62496286864108 rate of charge, and (8.156666666666666,2.0505555555555555) charging behavior.\n",
      "working on user with 52 total_capacity, 20.417406024248454 rate of charge, and (8.188333333333333,2.0391666666666666) charging behavior.\n",
      "working on user with 96 total_capacity, 29.13202317964223 rate of charge, and (6.466666666666667,1.9141666666666666) charging behavior.\n",
      "working on user with 35 total_capacity, 20.217198278806094 rate of charge, and (6.124722222222222,1.9252777777777779) charging behavior.\n",
      "working on user with 73 total_capacity, 83.59647222887193 rate of charge, and (5.746666666666667,1.9652777777777777) charging behavior.\n",
      "working on user with 114 total_capacity, 40.680473372781066 rate of charge, and (5.885833333333333,1.8897222222222223) charging behavior.\n",
      "working on user with 66 total_capacity, 14.679627058123389 rate of charge, and (8.296388888888888,1.9377777777777778) charging behavior.\n",
      "working on user with 30 total_capacity, 50.20034501328027 rate of charge, and (5.778888888888889,1.9472222222222222) charging behavior.\n"
     ]
    },
    {
     "name": "stderr",
     "output_type": "stream",
     "text": [
      " 97%|██████████████████████████████████████████████████████████████████████████████████████████████████████████████████████████▊    | 967/1000 [00:09<00:00, 104.53it/s]"
     ]
    },
    {
     "name": "stdout",
     "output_type": "stream",
     "text": [
      "working on user with 95 total_capacity, 11.059235657366948 rate of charge, and (7.7716666666666665,2.0805555555555557) charging behavior.\n",
      "working on user with 122 total_capacity, 53.7109375 rate of charge, and (8.10361111111111,1.9616666666666667) charging behavior.\n",
      "working on user with 82 total_capacity, 12.611715943254096 rate of charge, and (6.164722222222222,1.9191666666666667) charging behavior.\n",
      "working on user with 98 total_capacity, 34.375 rate of charge, and (7.603888888888889,2.100277777777778) charging behavior.\n",
      "working on user with 74 total_capacity, 21.456883368184517 rate of charge, and (5.853611111111111,2.0319444444444446) charging behavior.\n",
      "working on user with 27 total_capacity, 16.6333624791802 rate of charge, and (5.589166666666666,1.9519444444444445) charging behavior.\n",
      "working on user with 66 total_capacity, 30.165250728079464 rate of charge, and (6.9275,2.1219444444444444) charging behavior.\n",
      "working on user with 36 total_capacity, 56.500657462195925 rate of charge, and (5.881944444444445,2.036111111111111) charging behavior.\n",
      "working on user with 44 total_capacity, 14.8464396632667 rate of charge, and (8.272222222222222,2.0858333333333334) charging behavior.\n",
      "working on user with 102 total_capacity, 37.44502389673343 rate of charge, and (7.937777777777778,2.019722222222222) charging behavior.\n",
      "working on user with 67 total_capacity, 29.854878151385947 rate of charge, and (5.9975,1.9619444444444445) charging behavior.\n",
      "working on user with 39 total_capacity, 18.080210387902696 rate of charge, and (5.741666666666666,2.1180555555555554) charging behavior.\n",
      "working on user with 68 total_capacity, 10.266356456220235 rate of charge, and (7.064166666666667,1.9819444444444445) charging behavior.\n",
      "working on user with 54 total_capacity, 34.54752168642156 rate of charge, and (6.674722222222222,1.9005555555555556) charging behavior.\n",
      "working on user with 83 total_capacity, 20.284198061488535 rate of charge, and (5.9880555555555555,2.214722222222222) charging behavior.\n",
      "working on user with 27 total_capacity, 12.288766075034541 rate of charge, and (7.292222222222223,2.0541666666666667) charging behavior.\n",
      "working on user with 41 total_capacity, 29.884645269260655 rate of charge, and (7.855833333333333,2.1772222222222224) charging behavior.\n",
      "working on user with 43 total_capacity, 80.12353592447992 rate of charge, and (6.080277777777778,2.1958333333333333) charging behavior.\n",
      "working on user with 111 total_capacity, 64.06597630723714 rate of charge, and (7.956944444444445,2.086388888888889) charging behavior.\n",
      "working on user with 89 total_capacity, 33.86511831240879 rate of charge, and (7.714444444444444,2.1508333333333334) charging behavior.\n",
      "working on user with 41 total_capacity, 32.323232323232325 rate of charge, and (6.883611111111111,2.0294444444444446) charging behavior.\n",
      "working on user with 82 total_capacity, 9.731924922144602 rate of charge, and (7.2380555555555555,1.9105555555555556) charging behavior.\n",
      "working on user with 122 total_capacity, 35.52002118284899 rate of charge, and (5.708888888888889,2.0816666666666666) charging behavior.\n"
     ]
    },
    {
     "name": "stderr",
     "output_type": "stream",
     "text": [
      " 99%|█████████████████████████████████████████████████████████████████████████████████████████████████████████████████████████████▋ | 990/1000 [00:09<00:00, 106.78it/s]"
     ]
    },
    {
     "name": "stdout",
     "output_type": "stream",
     "text": [
      "working on user with 89 total_capacity, 64.06597630723714 rate of charge, and (6.428333333333334,2.013333333333333) charging behavior.\n",
      "working on user with 87 total_capacity, 16.520088427527874 rate of charge, and (7.05,2.1894444444444443) charging behavior.\n",
      "working on user with 66 total_capacity, 19.065826052678364 rate of charge, and (6.445277777777778,1.9875) charging behavior.\n",
      "working on user with 79 total_capacity, 9.512497364781135 rate of charge, and (6.701666666666667,2.1566666666666667) charging behavior.\n",
      "working on user with 97 total_capacity, 29.95442842185094 rate of charge, and (7.9863888888888885,2.203888888888889) charging behavior.\n",
      "working on user with 79 total_capacity, 57.78995452981305 rate of charge, and (7.287222222222222,2.0477777777777777) charging behavior.\n",
      "working on user with 119 total_capacity, 16.534059044465447 rate of charge, and (7.123055555555555,1.9202777777777778) charging behavior.\n",
      "working on user with 85 total_capacity, 22.44897959183674 rate of charge, and (7.122222222222222,1.9211111111111112) charging behavior.\n",
      "working on user with 75 total_capacity, 80.73868557419884 rate of charge, and (6.942222222222222,1.9297222222222221) charging behavior.\n",
      "working on user with 83 total_capacity, 37.5923789995301 rate of charge, and (7.027222222222222,2.062777777777778) charging behavior.\n",
      "working on user with 32 total_capacity, 42.45776417413859 rate of charge, and (7.67,1.9469444444444444) charging behavior.\n",
      "working on user with 81 total_capacity, 16.988062442607898 rate of charge, and (6.599166666666667,1.9333333333333333) charging behavior.\n",
      "working on user with 48 total_capacity, 26.68840558612591 rate of charge, and (7.301666666666667,2.06) charging behavior.\n",
      "working on user with 53 total_capacity, 11.53364785902765 rate of charge, and (7.2972222222222225,2.142777777777778) charging behavior.\n",
      "working on user with 112 total_capacity, 77.44052040029707 rate of charge, and (6.171944444444445,2.2177777777777776) charging behavior.\n",
      "working on user with 28 total_capacity, 24.799574349123894 rate of charge, and (6.512777777777778,2.0838888888888887) charging behavior.\n",
      "working on user with 25 total_capacity, 44.389204545454554 rate of charge, and (6.336944444444445,1.9088888888888889) charging behavior.\n",
      "working on user with 30 total_capacity, 36.81829668518181 rate of charge, and (7.868055555555555,2.113888888888889) charging behavior.\n",
      "working on user with 22 total_capacity, 38.14557043232802 rate of charge, and (7.5275,1.9719444444444445) charging behavior.\n",
      "working on user with 86 total_capacity, 23.238912925905897 rate of charge, and (7.7225,2.0816666666666666) charging behavior.\n",
      "working on user with 85 total_capacity, 15.770685705152111 rate of charge, and (5.5777777777777775,1.9122222222222223) charging behavior.\n",
      "working on user with 90 total_capacity, 29.364613260106985 rate of charge, and (6.832777777777777,2.0716666666666668) charging behavior.\n",
      "working on user with 105 total_capacity, 16.43940435554546 rate of charge, and (7.875555555555556,2.0875) charging behavior.\n"
     ]
    },
    {
     "name": "stderr",
     "output_type": "stream",
     "text": [
      "100%|██████████████████████████████████████████████████████████████████████████████████████████████████████████████████████████████| 1000/1000 [00:09<00:00, 106.48it/s]\n"
     ]
    },
    {
     "name": "stdout",
     "output_type": "stream",
     "text": [
      "working on user with 106 total_capacity, 38.57537628526139 rate of charge, and (7.601666666666667,1.9694444444444446) charging behavior.\n",
      "working on user with 110 total_capacity, 43.476714267081405 rate of charge, and (7.612777777777778,2.1327777777777777) charging behavior.\n",
      "working on user with 53 total_capacity, 64.72701381921746 rate of charge, and (5.663888888888889,2.1575) charging behavior.\n"
     ]
    }
   ],
   "source": [
    "dfs = evu.execute_synth_data_process(distinct_date_list = distinct_date_list, number_of_users=1000)"
   ]
  },
  {
   "cell_type": "markdown",
   "id": "4a71e3bc-6f36-42a3-9136-8843608e32d3",
   "metadata": {},
   "source": [
    "## Distributions"
   ]
  },
  {
   "cell_type": "code",
   "execution_count": 9,
   "id": "d746c0a5-8229-4f17-b574-6feef9eabdd5",
   "metadata": {},
   "outputs": [],
   "source": [
    "import seaborn as sns"
   ]
  },
  {
   "cell_type": "code",
   "execution_count": 31,
   "id": "83d16a49-41b0-4504-9891-13786dd6f186",
   "metadata": {},
   "outputs": [
    {
     "data": {
      "text/plain": [
       "uncharged\n",
       "False    14799\n",
       "True       201\n",
       "Name: count, dtype: int64"
      ]
     },
     "execution_count": 31,
     "metadata": {},
     "output_type": "execute_result"
    }
   ],
   "source": [
    "dfs.uncharged.value_counts()"
   ]
  },
  {
   "cell_type": "code",
   "execution_count": 28,
   "id": "bc3f0781-c09b-4e84-94c3-fa2632de863e",
   "metadata": {},
   "outputs": [
    {
     "data": {
      "text/plain": [
       "Text(0.5, 1.0, 'length_plugged_in')"
      ]
     },
     "execution_count": 28,
     "metadata": {},
     "output_type": "execute_result"
    },
    {
     "data": {
      "image/png": "[encoded data removed]",
      "text/plain": [
       "<Figure size 640x480 with 1 Axes>"
      ]
     },
     "metadata": {},
     "output_type": "display_data"
    }
   ],
   "source": [
    "sns.histplot(dfs[\"length_plugged_in\"]).set_title(\"length_plugged_in\")"
   ]
  },
  {
   "cell_type": "code",
   "execution_count": 25,
   "id": "eb0f3cae-5415-4beb-a597-0be9e9af2a52",
   "metadata": {},
   "outputs": [
    {
     "data": {
      "text/plain": [
       "Text(0.5, 1.0, 'total_seconds_to_95')"
      ]
     },
     "execution_count": 25,
     "metadata": {},
     "output_type": "execute_result"
    },
    {
     "data": {
      "image/png": "[encoded data removed]",
      "text/plain": [
       "<Figure size 640x480 with 1 Axes>"
      ]
     },
     "metadata": {},
     "output_type": "display_data"
    }
   ],
   "source": [
    "sns.histplot(dfs[\"total_seconds_to_95\"]).set_title(\"total_seconds_to_95\")"
   ]
  },
  {
   "cell_type": "code",
   "execution_count": 24,
   "id": "d9737c89-6b42-4fae-954c-730de813f942",
   "metadata": {},
   "outputs": [
    {
     "data": {
      "text/plain": [
       "Text(0.5, 1.0, 'final_perc_charged')"
      ]
     },
     "execution_count": 24,
     "metadata": {},
     "output_type": "execute_result"
    },
    {
     "data": {
      "image/png": "[encoded data removed]",
      "text/plain": [
       "<Figure size 640x480 with 1 Axes>"
      ]
     },
     "metadata": {},
     "output_type": "display_data"
    }
   ],
   "source": [
    "sns.histplot(dfs[\"final_perc_charged\"]).set_title(\"final_perc_charged\")"
   ]
  },
  {
   "cell_type": "code",
   "execution_count": 23,
   "id": "47e526b7-139a-4c45-871e-01cefe987973",
   "metadata": {},
   "outputs": [
    {
     "data": {
      "text/plain": [
       "Text(0.5, 1.0, 'total_capacity')"
      ]
     },
     "execution_count": 23,
     "metadata": {},
     "output_type": "execute_result"
    },
    {
     "data": {
      "image/png": "[encoded data removed]",
      "text/plain": [
       "<Figure size 640x480 with 1 Axes>"
      ]
     },
     "metadata": {},
     "output_type": "display_data"
    }
   ],
   "source": [
    "sns.histplot(dfs[\"total_capacity\"]).set_title(\"total_capacity\")"
   ]
  },
  {
   "cell_type": "code",
   "execution_count": 22,
   "id": "744f27f7-c27a-45ba-81bf-6f2aa40356d7",
   "metadata": {},
   "outputs": [
    {
     "data": {
      "text/plain": [
       "Text(0.5, 1.0, 'power_output_max_rate')"
      ]
     },
     "execution_count": 22,
     "metadata": {},
     "output_type": "execute_result"
    },
    {
     "data": {
      "image/png": "[encoded data removed]",
      "text/plain": [
       "<Figure size 640x480 with 1 Axes>"
      ]
     },
     "metadata": {},
     "output_type": "display_data"
    }
   ],
   "source": [
    "sns.histplot(dfs[\"power_output_max_rate\"]).set_title(\"power_output_max_rate\")"
   ]
  },
  {
   "cell_type": "markdown",
   "id": "12b47978-9da0-4679-aae0-f77f1ed086b5",
   "metadata": {},
   "source": [
    "## Add interaction w/ MOER"
   ]
  },
  {
   "cell_type": "code",
   "execution_count": null,
   "id": "abaa5870-e0c9-406c-9d42-afe22895d6a9",
   "metadata": {},
   "outputs": [],
   "source": []
  },
  {
   "cell_type": "code",
   "execution_count": 17,
   "id": "1b0b7415-6c5e-462c-a88f-b9928a8ea38a",
   "metadata": {},
   "outputs": [],
   "source": [
    "df[\"shifted_plug_in_time\"] = df[\"plug_in_time\"].dt.tz_convert(tz = 'US/Eastern')"
   ]
  },
  {
   "cell_type": "code",
   "execution_count": 18,
   "id": "7c1c0cbf-4e7f-49b6-bf02-c79d9c2e461b",
   "metadata": {
    "scrolled": true
   },
   "outputs": [
    {
     "data": {
      "text/html": [
       "<div>\n",
       "<style scoped>\n",
       "    .dataframe tbody tr th:only-of-type {\n",
       "        vertical-align: middle;\n",
       "    }\n",
       "\n",
       "    .dataframe tbody tr th {\n",
       "        vertical-align: top;\n",
       "    }\n",
       "\n",
       "    .dataframe thead th {\n",
       "        text-align: right;\n",
       "    }\n",
       "</style>\n",
       "<table border=\"1\" class=\"dataframe\">\n",
       "  <thead>\n",
       "    <tr style=\"text-align: right;\">\n",
       "      <th></th>\n",
       "      <th>shifted_plug_in_time</th>\n",
       "      <th>plug_in_time</th>\n",
       "    </tr>\n",
       "  </thead>\n",
       "  <tbody>\n",
       "    <tr>\n",
       "      <th>0</th>\n",
       "      <td>2024-02-01 15:42:02-05:00</td>\n",
       "      <td>2024-02-01 20:42:02+00:00</td>\n",
       "    </tr>\n",
       "    <tr>\n",
       "      <th>1</th>\n",
       "      <td>2024-02-02 13:54:40-05:00</td>\n",
       "      <td>2024-02-02 18:54:40+00:00</td>\n",
       "    </tr>\n",
       "    <tr>\n",
       "      <th>2</th>\n",
       "      <td>2024-02-03 15:35:20-05:00</td>\n",
       "      <td>2024-02-03 20:35:20+00:00</td>\n",
       "    </tr>\n",
       "    <tr>\n",
       "      <th>3</th>\n",
       "      <td>2024-02-04 14:13:16-05:00</td>\n",
       "      <td>2024-02-04 19:13:16+00:00</td>\n",
       "    </tr>\n",
       "    <tr>\n",
       "      <th>4</th>\n",
       "      <td>2024-02-05 15:42:23-05:00</td>\n",
       "      <td>2024-02-05 20:42:23+00:00</td>\n",
       "    </tr>\n",
       "  </tbody>\n",
       "</table>\n",
       "</div>"
      ],
      "text/plain": [
       "       shifted_plug_in_time              plug_in_time\n",
       "0 2024-02-01 15:42:02-05:00 2024-02-01 20:42:02+00:00\n",
       "1 2024-02-02 13:54:40-05:00 2024-02-02 18:54:40+00:00\n",
       "2 2024-02-03 15:35:20-05:00 2024-02-03 20:35:20+00:00\n",
       "3 2024-02-04 14:13:16-05:00 2024-02-04 19:13:16+00:00\n",
       "4 2024-02-05 15:42:23-05:00 2024-02-05 20:42:23+00:00"
      ]
     },
     "execution_count": 18,
     "metadata": {},
     "output_type": "execute_result"
    }
   ],
   "source": [
    "df[[\"shifted_plug_in_time\",\"plug_in_time\"]].head()"
   ]
  },
  {
   "cell_type": "code",
   "execution_count": 91,
   "id": "284f54e9-f5a0-41df-8b4d-6e3d8625b38f",
   "metadata": {},
   "outputs": [
    {
     "data": {
      "text/html": [
       "<div>\n",
       "<style scoped>\n",
       "    .dataframe tbody tr th:only-of-type {\n",
       "        vertical-align: middle;\n",
       "    }\n",
       "\n",
       "    .dataframe tbody tr th {\n",
       "        vertical-align: top;\n",
       "    }\n",
       "\n",
       "    .dataframe thead th {\n",
       "        text-align: right;\n",
       "    }\n",
       "</style>\n",
       "<table border=\"1\" class=\"dataframe\">\n",
       "  <thead>\n",
       "    <tr style=\"text-align: right;\">\n",
       "      <th></th>\n",
       "      <th>index</th>\n",
       "      <th>distinct_dates</th>\n",
       "      <th>user_type</th>\n",
       "      <th>plug_in_time</th>\n",
       "      <th>unplug_time</th>\n",
       "      <th>initial_charge</th>\n",
       "      <th>total_seconds_to_95</th>\n",
       "      <th>full_charge_time</th>\n",
       "      <th>length_plugged_in</th>\n",
       "      <th>session_charge</th>\n",
       "      <th>final_perc_charged</th>\n",
       "      <th>uncharged</th>\n",
       "      <th>total_capacity</th>\n",
       "      <th>power_output_max_rate</th>\n",
       "    </tr>\n",
       "  </thead>\n",
       "  <tbody>\n",
       "    <tr>\n",
       "      <th>0</th>\n",
       "      <td>0</td>\n",
       "      <td>2024-02-01 00:00:00+00:00</td>\n",
       "      <td>r22.0_tc31_avglc20247_sdlc7211</td>\n",
       "      <td>2024-02-01 19:25:29+00:00</td>\n",
       "      <td>2024-02-02 00:41:34.888669+00:00</td>\n",
       "      <td>0.218159</td>\n",
       "      <td>3712.428845</td>\n",
       "      <td>2024-02-01 20:27:21.428845191+00:00</td>\n",
       "      <td>18965.888669</td>\n",
       "      <td>22.687065</td>\n",
       "      <td>0.95</td>\n",
       "      <td>False</td>\n",
       "      <td>31</td>\n",
       "      <td>22.0</td>\n",
       "    </tr>\n",
       "    <tr>\n",
       "      <th>1</th>\n",
       "      <td>1</td>\n",
       "      <td>2024-02-02 00:00:00+00:00</td>\n",
       "      <td>r22.0_tc31_avglc20247_sdlc7211</td>\n",
       "      <td>2024-02-02 19:25:12+00:00</td>\n",
       "      <td>2024-02-03 03:35:39.211227+00:00</td>\n",
       "      <td>0.585172</td>\n",
       "      <td>1850.671641</td>\n",
       "      <td>2024-02-02 19:56:02.671640646+00:00</td>\n",
       "      <td>29427.211227</td>\n",
       "      <td>11.309660</td>\n",
       "      <td>0.95</td>\n",
       "      <td>False</td>\n",
       "      <td>31</td>\n",
       "      <td>22.0</td>\n",
       "    </tr>\n",
       "    <tr>\n",
       "      <th>2</th>\n",
       "      <td>2</td>\n",
       "      <td>2024-02-03 00:00:00+00:00</td>\n",
       "      <td>r22.0_tc31_avglc20247_sdlc7211</td>\n",
       "      <td>2024-02-03 20:34:36+00:00</td>\n",
       "      <td>2024-02-04 02:03:28.134960+00:00</td>\n",
       "      <td>0.209559</td>\n",
       "      <td>3756.055708</td>\n",
       "      <td>2024-02-03 21:37:12.055708431+00:00</td>\n",
       "      <td>19732.134960</td>\n",
       "      <td>22.953674</td>\n",
       "      <td>0.95</td>\n",
       "      <td>False</td>\n",
       "      <td>31</td>\n",
       "      <td>22.0</td>\n",
       "    </tr>\n",
       "    <tr>\n",
       "      <th>3</th>\n",
       "      <td>3</td>\n",
       "      <td>2024-02-04 00:00:00+00:00</td>\n",
       "      <td>r22.0_tc31_avglc20247_sdlc7211</td>\n",
       "      <td>2024-02-04 19:19:29+00:00</td>\n",
       "      <td>2024-02-05 01:59:05.771913+00:00</td>\n",
       "      <td>0.530715</td>\n",
       "      <td>2126.920051</td>\n",
       "      <td>2024-02-04 19:54:55.920050508+00:00</td>\n",
       "      <td>23976.771913</td>\n",
       "      <td>12.997845</td>\n",
       "      <td>0.95</td>\n",
       "      <td>False</td>\n",
       "      <td>31</td>\n",
       "      <td>22.0</td>\n",
       "    </tr>\n",
       "    <tr>\n",
       "      <th>4</th>\n",
       "      <td>4</td>\n",
       "      <td>2024-02-05 00:00:00+00:00</td>\n",
       "      <td>r22.0_tc31_avglc20247_sdlc7211</td>\n",
       "      <td>2024-02-05 19:51:36+00:00</td>\n",
       "      <td>2024-02-06 05:58:25.936832+00:00</td>\n",
       "      <td>0.499819</td>\n",
       "      <td>2283.646637</td>\n",
       "      <td>2024-02-05 20:29:39.646636713+00:00</td>\n",
       "      <td>36409.936832</td>\n",
       "      <td>13.955618</td>\n",
       "      <td>0.95</td>\n",
       "      <td>False</td>\n",
       "      <td>31</td>\n",
       "      <td>22.0</td>\n",
       "    </tr>\n",
       "  </tbody>\n",
       "</table>\n",
       "</div>"
      ],
      "text/plain": [
       "   index            distinct_dates                       user_type  \\\n",
       "0      0 2024-02-01 00:00:00+00:00  r22.0_tc31_avglc20247_sdlc7211   \n",
       "1      1 2024-02-02 00:00:00+00:00  r22.0_tc31_avglc20247_sdlc7211   \n",
       "2      2 2024-02-03 00:00:00+00:00  r22.0_tc31_avglc20247_sdlc7211   \n",
       "3      3 2024-02-04 00:00:00+00:00  r22.0_tc31_avglc20247_sdlc7211   \n",
       "4      4 2024-02-05 00:00:00+00:00  r22.0_tc31_avglc20247_sdlc7211   \n",
       "\n",
       "               plug_in_time                      unplug_time  initial_charge  \\\n",
       "0 2024-02-01 19:25:29+00:00 2024-02-02 00:41:34.888669+00:00        0.218159   \n",
       "1 2024-02-02 19:25:12+00:00 2024-02-03 03:35:39.211227+00:00        0.585172   \n",
       "2 2024-02-03 20:34:36+00:00 2024-02-04 02:03:28.134960+00:00        0.209559   \n",
       "3 2024-02-04 19:19:29+00:00 2024-02-05 01:59:05.771913+00:00        0.530715   \n",
       "4 2024-02-05 19:51:36+00:00 2024-02-06 05:58:25.936832+00:00        0.499819   \n",
       "\n",
       "   total_seconds_to_95                    full_charge_time  length_plugged_in  \\\n",
       "0          3712.428845 2024-02-01 20:27:21.428845191+00:00       18965.888669   \n",
       "1          1850.671641 2024-02-02 19:56:02.671640646+00:00       29427.211227   \n",
       "2          3756.055708 2024-02-03 21:37:12.055708431+00:00       19732.134960   \n",
       "3          2126.920051 2024-02-04 19:54:55.920050508+00:00       23976.771913   \n",
       "4          2283.646637 2024-02-05 20:29:39.646636713+00:00       36409.936832   \n",
       "\n",
       "   session_charge  final_perc_charged  uncharged  total_capacity  \\\n",
       "0       22.687065                0.95      False              31   \n",
       "1       11.309660                0.95      False              31   \n",
       "2       22.953674                0.95      False              31   \n",
       "3       12.997845                0.95      False              31   \n",
       "4       13.955618                0.95      False              31   \n",
       "\n",
       "   power_output_max_rate  \n",
       "0                   22.0  \n",
       "1                   22.0  \n",
       "2                   22.0  \n",
       "3                   22.0  \n",
       "4                   22.0  "
      ]
     },
     "execution_count": 91,
     "metadata": {},
     "output_type": "execute_result"
    }
   ],
   "source": [
    "dfs.head()"
   ]
  },
  {
   "cell_type": "code",
   "execution_count": null,
   "id": "e6521481-c138-4290-a039-132f3c4da40b",
   "metadata": {},
   "outputs": [],
   "source": []
  },
  {
   "cell_type": "code",
   "execution_count": 90,
   "id": "f147be03-16b2-4035-8e94-54c90e5389ae",
   "metadata": {},
   "outputs": [
    {
     "data": {
      "text/plain": [
       "count    140.000000\n",
       "mean       0.940043\n",
       "std        0.048787\n",
       "min        0.570739\n",
       "25%        0.950000\n",
       "50%        0.950000\n",
       "75%        0.950000\n",
       "max        0.950000\n",
       "Name: final_perc_charged, dtype: float64"
      ]
     },
     "execution_count": 90,
     "metadata": {},
     "output_type": "execute_result"
    }
   ],
   "source": [
    "dfs[\"final_perc_charged\"].describe()"
   ]
  },
  {
   "cell_type": "code",
   "execution_count": 77,
   "id": "0abc0de2-50f6-4f23-85de-927bea10a99c",
   "metadata": {},
   "outputs": [
    {
     "data": {
      "text/plain": [
       "0.6299999999999999"
      ]
     },
     "execution_count": 77,
     "metadata": {},
     "output_type": "execute_result"
    }
   ],
   "source": [
    ".95 - .32"
   ]
  },
  {
   "cell_type": "code",
   "execution_count": 83,
   "id": "b0e7f0f6-f8c3-490c-bb36-85537fc1bda0",
   "metadata": {},
   "outputs": [
    {
     "data": {
      "text/html": [
       "<div>\n",
       "<style scoped>\n",
       "    .dataframe tbody tr th:only-of-type {\n",
       "        vertical-align: middle;\n",
       "    }\n",
       "\n",
       "    .dataframe tbody tr th {\n",
       "        vertical-align: top;\n",
       "    }\n",
       "\n",
       "    .dataframe thead th {\n",
       "        text-align: right;\n",
       "    }\n",
       "</style>\n",
       "<table border=\"1\" class=\"dataframe\">\n",
       "  <thead>\n",
       "    <tr style=\"text-align: right;\">\n",
       "      <th></th>\n",
       "      <th>total_seconds_to_95</th>\n",
       "      <th>length_plugged_in</th>\n",
       "      <th>initial_charge</th>\n",
       "      <th>total_capacity</th>\n",
       "      <th>power_output_max_rate</th>\n",
       "    </tr>\n",
       "  </thead>\n",
       "  <tbody>\n",
       "    <tr>\n",
       "      <th>0</th>\n",
       "      <td>50931.112091</td>\n",
       "      <td>20220.952256</td>\n",
       "      <td>0.222974</td>\n",
       "      <td>108</td>\n",
       "      <td>7.4</td>\n",
       "    </tr>\n",
       "    <tr>\n",
       "      <th>1</th>\n",
       "      <td>45271.538235</td>\n",
       "      <td>30927.796562</td>\n",
       "      <td>0.303763</td>\n",
       "      <td>108</td>\n",
       "      <td>7.4</td>\n",
       "    </tr>\n",
       "    <tr>\n",
       "      <th>2</th>\n",
       "      <td>50428.185332</td>\n",
       "      <td>27783.578776</td>\n",
       "      <td>0.230153</td>\n",
       "      <td>108</td>\n",
       "      <td>7.4</td>\n",
       "    </tr>\n",
       "    <tr>\n",
       "      <th>3</th>\n",
       "      <td>27398.143569</td>\n",
       "      <td>31524.782505</td>\n",
       "      <td>0.558900</td>\n",
       "      <td>108</td>\n",
       "      <td>7.4</td>\n",
       "    </tr>\n",
       "    <tr>\n",
       "      <th>4</th>\n",
       "      <td>38085.472461</td>\n",
       "      <td>36156.431726</td>\n",
       "      <td>0.406342</td>\n",
       "      <td>108</td>\n",
       "      <td>7.4</td>\n",
       "    </tr>\n",
       "  </tbody>\n",
       "</table>\n",
       "</div>"
      ],
      "text/plain": [
       "   total_seconds_to_95  length_plugged_in  initial_charge  total_capacity  \\\n",
       "0         50931.112091       20220.952256        0.222974             108   \n",
       "1         45271.538235       30927.796562        0.303763             108   \n",
       "2         50428.185332       27783.578776        0.230153             108   \n",
       "3         27398.143569       31524.782505        0.558900             108   \n",
       "4         38085.472461       36156.431726        0.406342             108   \n",
       "\n",
       "   power_output_max_rate  \n",
       "0                    7.4  \n",
       "1                    7.4  \n",
       "2                    7.4  \n",
       "3                    7.4  \n",
       "4                    7.4  "
      ]
     },
     "execution_count": 83,
     "metadata": {},
     "output_type": "execute_result"
    }
   ],
   "source": [
    "dfs[[\"total_seconds_to_95\",\"length_plugged_in\",\"initial_charge\",\"total_capacity\",\"power_output_max_rate\"]].head()"
   ]
  },
  {
   "cell_type": "code",
   "execution_count": null,
   "id": "fcead921-c105-4c77-9215-9a953bfc806e",
   "metadata": {},
   "outputs": [],
   "source": []
  }
 ],
 "metadata": {
  "kernelspec": {
   "display_name": "Python 3 (ipykernel)",
   "language": "python",
   "name": "python3"
  },
  "language_info": {
   "codemirror_mode": {
    "name": "ipython",
    "version": 3
   },
   "file_extension": ".py",
   "mimetype": "text/x-python",
   "name": "python",
   "nbconvert_exporter": "python",
   "pygments_lexer": "ipython3",
   "version": "3.9.16"
  }
 },
 "nbformat": 4,
 "nbformat_minor": 5
}
