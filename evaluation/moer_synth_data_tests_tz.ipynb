{
 "cells": [
  {
   "cell_type": "code",
   "execution_count": 7,
   "metadata": {},
   "outputs": [],
   "source": [
    "import os\n",
    "os.chdir(\"/home/jennifer.badolato/watttime-python-client-aer-algo\")\n",
    "\n",
    "import math\n",
    "import numpy as np\n",
    "import pandas as pd\n",
    "import datetime\n",
    "import pytz\n",
    "from datetime import datetime, timedelta\n",
    "from watttime import WattTimeForecast, WattTimeHistorical\n",
    "\n",
    "import optimizer.s3 as s3u\n",
    "import evaluation.eval_framework as efu\n",
    "\n",
    "import watttime.shared_anniez.alg.optCharger as optC\n",
    "import watttime.shared_anniez.alg.moer as Moer"
   ]
  },
  {
   "cell_type": "code",
   "execution_count": 8,
   "metadata": {},
   "outputs": [],
   "source": [
    "region = \"PJM_NJ\"\n",
    "username = os.getenv(\"WATTTIME_USER\")\n",
    "password = os.getenv(\"WATTTIME_PASSWORD\")\n",
    "\n",
    "actual_data = WattTimeHistorical(username, password)\n",
    "hist_data = WattTimeForecast(username, password)"
   ]
  },
  {
   "cell_type": "code",
   "execution_count": 13,
   "metadata": {},
   "outputs": [],
   "source": [
    "s3 = s3u.s3_utils()\n",
    "key = '20240715_1k_synth_users.csv'\n",
    "generated_data = s3.load_csvdataframe(file=key)"
   ]
  },
  {
   "cell_type": "code",
   "execution_count": 14,
   "metadata": {},
   "outputs": [],
   "source": [
    "synth_data = generated_data.copy(deep=True)\n",
    "synth_data = synth_data.head(1)"
   ]
  },
  {
   "cell_type": "code",
   "execution_count": 19,
   "metadata": {},
   "outputs": [],
   "source": [
    "synth_data['moer_data'] = synth_data.apply(\n",
    "    lambda x: efu.get_historical_fcst_data(\n",
    "    x.plug_in_time,\n",
    "    x.total_intervals_plugged_in,\n",
    "    region = region\n",
    "    ), axis = 1\n",
    ")"
   ]
  },
  {
   "cell_type": "code",
   "execution_count": 30,
   "metadata": {},
   "outputs": [
    {
     "name": "stdout",
     "output_type": "stream",
     "text": [
      "Greedy fit!\n",
      "[0.0003946666666666, 0.0003946666666666, 0.0003946666666666, 0.0003946666666666, 0.0003946666666666, 0.0003946666666666, 0.0003946666666666, 0.0003946666666666, 0.0003946666666666, 0.0003946666666666, 0.0003946666666666, 0.0003946666666666, 0.0003946666666666, 0.0003946666666666, 0.0003946666666666, 0.0003946666666666, 0.0003946666666666, 0.0003946666666666, 0.0003946666666666, 0.0003946666666666, 0.0003946666666666, 0.0003946666666666, 0.0003946666666666, 0.0003946666666666, 0.0003946666666666, 0.0003946666666666, 0.0003946666666666, 0.0003946666666666, 0.0003946666666666, 0.0003946666666666, 0.0003946666666666, 0.0003946666666666, 0.0003946666666666, 0.0003946666666666, 0.0003946666666666, 0.0003946666666666, 0.0003946666666666, 0.0003946666666666, 0.0003946666666666, 0.0003946666666666, 0.0003946666666666, 0.0003946666666666, 0.0003946666666666, 0.0003946666666666, 0.0003946666666666, 0.0003946666666666, 0.0003946666666666, 0.0003946666666666, 0.0003946666666666, 0.0003946666666666, 0.0003946666666666, 0.0003946666666666, 0.0003946666666666, 0.0003946666666666, 0.0003946666666666, 0.0003946666666666, 0.0003946666666666, 0.0003946666666666, 0.0003946666666666, 0.0003946666666666, 0.0003946666666666, 0.0003946666666666, 0.0003946666666666, 0.0003946666666666, 0.0003946666666666, 0.0003946666666666, 0.0003946666666666, 0.0003946666666666, 0.0003946666666666, 0.0003946666666666, 0.0003946666666666, 0.0003946666666666, 0.0003946666666666, 0.0003946666666666, 0.0003946666666666, 0.0003946666666666, 0.0003946666666666, 0.0003946666666666, 0.0003946666666666, 0.0003946666666666, 0.0003946666666666, 0.0003946666666666, 0.0003946666666666, 0.0003946666666666, 0.0003946666666666, 0.0003946666666666, 0.0003946666666666, 0.0003946666666666, 0.0003946666666666, 0.0003946666666666, 0.0003946666666666, 0.0003946666666666, 0.0003946666666666, 0.0003946666666666, 0.0003946666666666, 0.0003946666666666, 0.0003946666666666, 0.0003946666666666, 0.0003946666666666, 0.0003946666666666, 0.0003946666666666, 0.0003946666666666, 0.0003946666666666, 0.0003946666666666] 104\n"
     ]
    }
   ],
   "source": [
    "synth_data['charger']= synth_data.apply(\n",
    "    lambda x: efu.get_schedule_and_cost(\n",
    "        x.MWh_fraction,\n",
    "        x.charged_MWh_actual,\n",
    "        math.ceil(x.total_intervals_plugged_in), # will throw an error if the plug in time is too shart to reach full charge, should soften to a warning\n",
    "        x.moer_data,\n",
    "        asap = True\n",
    "        ), \n",
    "        axis = 1\n",
    "        )"
   ]
  },
  {
   "cell_type": "code",
   "execution_count": 36,
   "metadata": {},
   "outputs": [],
   "source": [
    "synth_data['simple_fit_results'] = synth_data['charger'].apply(\n",
    "    lambda  x: x.get_total_cost()\n",
    "    )"
   ]
  },
  {
   "cell_type": "code",
   "execution_count": 37,
   "metadata": {},
   "outputs": [
    {
     "data": {
      "text/html": [
       "<div>\n",
       "<style scoped>\n",
       "    .dataframe tbody tr th:only-of-type {\n",
       "        vertical-align: middle;\n",
       "    }\n",
       "\n",
       "    .dataframe tbody tr th {\n",
       "        vertical-align: top;\n",
       "    }\n",
       "\n",
       "    .dataframe thead th {\n",
       "        text-align: right;\n",
       "    }\n",
       "</style>\n",
       "<table border=\"1\" class=\"dataframe\">\n",
       "  <thead>\n",
       "    <tr style=\"text-align: right;\">\n",
       "      <th></th>\n",
       "      <th>projected_charging_cost_to_full</th>\n",
       "      <th>simple_fit_results</th>\n",
       "    </tr>\n",
       "  </thead>\n",
       "  <tbody>\n",
       "    <tr>\n",
       "      <th>0</th>\n",
       "      <td>51.047331</td>\n",
       "      <td>51.047331</td>\n",
       "    </tr>\n",
       "  </tbody>\n",
       "</table>\n",
       "</div>"
      ],
      "text/plain": [
       "   projected_charging_cost_to_full  simple_fit_results\n",
       "0                        51.047331           51.047331"
      ]
     },
     "execution_count": 37,
     "metadata": {},
     "output_type": "execute_result"
    }
   ],
   "source": [
    "synth_data[['projected_charging_cost_to_full','simple_fit_results']]"
   ]
  },
  {
   "cell_type": "code",
   "execution_count": null,
   "metadata": {},
   "outputs": [],
   "source": []
  }
 ],
 "metadata": {
  "kernelspec": {
   "display_name": "Python 3 (ipykernel)",
   "language": "python",
   "name": "python3"
  }
 },
 "nbformat": 4,
 "nbformat_minor": 2
}
