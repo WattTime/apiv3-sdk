{
 "cells": [
  {
   "cell_type": "code",
   "execution_count": 1,
   "metadata": {},
   "outputs": [],
   "source": [
    "\n",
    "import os\n",
    "os.chdir(f\"/home/{os.getlogin()}/watttime-python-client-aer-algo\")\n",
    "\n",
    "import math\n",
    "import numpy as np\n",
    "import pandas as pd\n",
    "import datetime\n",
    "import pytz\n",
    "from datetime import datetime, timedelta\n",
    "\n",
    "import data.s3 as s3u\n",
    "import evaluation.eval_framework as efu\n",
    "\n",
    "import pickle"
   ]
  },
  {
   "cell_type": "code",
   "execution_count": 5,
   "metadata": {},
   "outputs": [],
   "source": [
    "def get_historical_fcst_data_cached(plug_in_time, horizon, region):\n",
    "    time_zone = efu.get_timezone_from_dict(region)\n",
    "    plug_in_time_utc = pd.Timestamp(efu.convert_to_utc(plug_in_time, time_zone))\n",
    "    date = plug_in_time.date()\n",
    "    if (region, date) not in HISTORICAL_FORECAST_CACHE.keys():\n",
    "        print(type(date), date)\n",
    "        start = pd.to_datetime(date)\n",
    "        end = (pd.to_datetime(date) + pd.Timedelta(\"1d\"))      \n",
    "        HISTORICAL_FORECAST_CACHE[(region, date)] = hist_data.get_historical_forecast_pandas(\n",
    "            start - pd.Timedelta(\"9h\"),\n",
    "            end + pd.Timedelta(\"9h\"),\n",
    "            region,\n",
    "        )\n",
    "    cache = HISTORICAL_FORECAST_CACHE[(region, date)]\n",
    "        \n",
    "    # make this match efu.get_historical_fsct_data\n",
    "    generated_at_times = cache[\"generated_at\"].unique()\n",
    "    generated_at = max([t for t in generated_at_times if t < plug_in_time_utc])\n",
    "    df = cache[cache[\"generated_at\"] == generated_at].copy()\n",
    "    return df.iloc[:math.ceil(horizon)]\n",
    "\n",
    "def get_historical_actual_data_cached(plug_in_time, horizon, region):\n",
    "    time_zone = efu.get_timezone_from_dict(region)\n",
    "    plug_in_time_utc = pd.Timestamp(efu.convert_to_utc(plug_in_time, time_zone))\n",
    "    date = plug_in_time.date()\n",
    "    \n",
    "    if (region, date) not in HISTORICAL_ACTUAL_CACHE.keys():\n",
    "        start = pd.to_datetime(date)\n",
    "        end = (pd.to_datetime(date) + pd.Timedelta(\"2d\"))   \n",
    "        HISTORICAL_ACTUAL_CACHE[(region, date)] = actual_data.get_historical_pandas(\n",
    "            start - pd.Timedelta(\"9h\"),\n",
    "            end + pd.Timedelta(\"9h\"),\n",
    "            region,\n",
    "        )\n",
    "    cache = HISTORICAL_ACTUAL_CACHE[(region, date)]\n",
    "\n",
    "    t_start = max([t for t in cache[\"point_time\"].unique() if t < plug_in_time_utc])\n",
    "    df =  cache[cache[\"point_time\"] >= t_start].copy()\n",
    "    return df.iloc[:math.ceil(horizon / 12) * 12 + 1].reset_index(drop=True)\n",
    "\n",
    "def get_total_emission(moer, schedule):\n",
    "    x = np.array(schedule).flatten()\n",
    "    return np.dot(moer[:x.shape[0]], x)\n"
   ]
  },
  {
   "cell_type": "code",
   "execution_count": 6,
   "metadata": {},
   "outputs": [],
   "source": [
    "# cached watttime data\n",
    "s3 = s3u.s3_utils()\n",
    "\n",
    "actual_pickle = s3.load_file(file=\"pjm_actual.pkl\")\n",
    "HISTORICAL_ACTUAL_CACHE = pickle.loads(actual_pickle)\n",
    "\n",
    "forecast_pickle = s3.load_file(file=\"pjm_forecast.pkl\")\n",
    "HISTORICAL_FORECAST_CACHE = pickle.loads(actual_pickle)"
   ]
  },
  {
   "cell_type": "code",
   "execution_count": 7,
   "metadata": {},
   "outputs": [],
   "source": [
    "# 10 synthetic data examples\n",
    "\n",
    "key = '20240726_1k_synth_users_163_days.csv'\n",
    "generated_data = s3.load_csvdataframe(file=key)\n",
    "generated_data = generated_data[-10:]\n",
    "\n",
    "synth_data = generated_data.copy(deep=True)\n",
    "\n",
    "synth_data[\"plug_in_time\"] = pd.to_datetime(synth_data[\"plug_in_time\"])\n",
    "synth_data[\"unplug_time\"] = pd.to_datetime(synth_data[\"unplug_time\"])"
   ]
  },
  {
   "cell_type": "code",
   "execution_count": 10,
   "metadata": {},
   "outputs": [],
   "source": [
    "region = \"PJM_CHICAGO\"\n",
    "\n",
    "synth_data['moer_data'] = synth_data.apply(\n",
    "    lambda x: efu.get_historical_fcst_data(\n",
    "    x.plug_in_time,\n",
    "    math.ceil(x.total_intervals_plugged_in),\n",
    "    region = region\n",
    "    ), axis = 1\n",
    ")"
   ]
  },
  {
   "cell_type": "code",
   "execution_count": 11,
   "metadata": {},
   "outputs": [],
   "source": [
    "synth_data['moer_data_actual'] = synth_data.apply(\n",
    "    lambda x: efu.get_historical_actual_data(\n",
    "    x.plug_in_time,\n",
    "    math.ceil(x.total_intervals_plugged_in),\n",
    "    region = region\n",
    "    ), axis = 1\n",
    ")"
   ]
  },
  {
   "cell_type": "markdown",
   "metadata": {},
   "source": [
    "## API on \"NEW\" optCharger\n",
    "- `power_output_rate` is a float and the input to `usage_power_kw`\n",
    "- input `usage_time_required_minutes` instead of charge"
   ]
  },
  {
   "cell_type": "code",
   "execution_count": 12,
   "metadata": {},
   "outputs": [],
   "source": [
    "get_charging_schedule_lambda = lambda x: x[\"usage\"].values.flatten()\n",
    "get_total_emissions_lambda = lambda  x: x[\"emissions_co2e_lb\"].sum()"
   ]
  },
  {
   "cell_type": "code",
   "execution_count": 21,
   "metadata": {},
   "outputs": [
    {
     "data": {
      "text/html": [
       "<div>\n",
       "<style scoped>\n",
       "    .dataframe tbody tr th:only-of-type {\n",
       "        vertical-align: middle;\n",
       "    }\n",
       "\n",
       "    .dataframe tbody tr th {\n",
       "        vertical-align: top;\n",
       "    }\n",
       "\n",
       "    .dataframe thead th {\n",
       "        text-align: right;\n",
       "    }\n",
       "</style>\n",
       "<table border=\"1\" class=\"dataframe\">\n",
       "  <thead>\n",
       "    <tr style=\"text-align: right;\">\n",
       "      <th></th>\n",
       "      <th>point_time</th>\n",
       "      <th>value</th>\n",
       "      <th>generated_at</th>\n",
       "    </tr>\n",
       "  </thead>\n",
       "  <tbody>\n",
       "    <tr>\n",
       "      <th>0</th>\n",
       "      <td>2024-07-08T01:10:00+00:00</td>\n",
       "      <td>1350.1</td>\n",
       "      <td>2024-07-08 01:10:00+00:00</td>\n",
       "    </tr>\n",
       "    <tr>\n",
       "      <th>1</th>\n",
       "      <td>2024-07-08T01:15:00+00:00</td>\n",
       "      <td>1350.1</td>\n",
       "      <td>2024-07-08 01:10:00+00:00</td>\n",
       "    </tr>\n",
       "    <tr>\n",
       "      <th>2</th>\n",
       "      <td>2024-07-08T01:20:00+00:00</td>\n",
       "      <td>1346.2</td>\n",
       "      <td>2024-07-08 01:10:00+00:00</td>\n",
       "    </tr>\n",
       "    <tr>\n",
       "      <th>3</th>\n",
       "      <td>2024-07-08T01:25:00+00:00</td>\n",
       "      <td>1342.2</td>\n",
       "      <td>2024-07-08 01:10:00+00:00</td>\n",
       "    </tr>\n",
       "    <tr>\n",
       "      <th>4</th>\n",
       "      <td>2024-07-08T01:30:00+00:00</td>\n",
       "      <td>1346.0</td>\n",
       "      <td>2024-07-08 01:10:00+00:00</td>\n",
       "    </tr>\n",
       "    <tr>\n",
       "      <th>5</th>\n",
       "      <td>2024-07-08T01:35:00+00:00</td>\n",
       "      <td>1341.3</td>\n",
       "      <td>2024-07-08 01:10:00+00:00</td>\n",
       "    </tr>\n",
       "    <tr>\n",
       "      <th>6</th>\n",
       "      <td>2024-07-08T01:40:00+00:00</td>\n",
       "      <td>1333.4</td>\n",
       "      <td>2024-07-08 01:10:00+00:00</td>\n",
       "    </tr>\n",
       "    <tr>\n",
       "      <th>7</th>\n",
       "      <td>2024-07-08T01:45:00+00:00</td>\n",
       "      <td>1332.1</td>\n",
       "      <td>2024-07-08 01:10:00+00:00</td>\n",
       "    </tr>\n",
       "    <tr>\n",
       "      <th>8</th>\n",
       "      <td>2024-07-08T01:50:00+00:00</td>\n",
       "      <td>1328.4</td>\n",
       "      <td>2024-07-08 01:10:00+00:00</td>\n",
       "    </tr>\n",
       "  </tbody>\n",
       "</table>\n",
       "</div>"
      ],
      "text/plain": [
       "                  point_time   value              generated_at\n",
       "0  2024-07-08T01:10:00+00:00  1350.1 2024-07-08 01:10:00+00:00\n",
       "1  2024-07-08T01:15:00+00:00  1350.1 2024-07-08 01:10:00+00:00\n",
       "2  2024-07-08T01:20:00+00:00  1346.2 2024-07-08 01:10:00+00:00\n",
       "3  2024-07-08T01:25:00+00:00  1342.2 2024-07-08 01:10:00+00:00\n",
       "4  2024-07-08T01:30:00+00:00  1346.0 2024-07-08 01:10:00+00:00\n",
       "5  2024-07-08T01:35:00+00:00  1341.3 2024-07-08 01:10:00+00:00\n",
       "6  2024-07-08T01:40:00+00:00  1333.4 2024-07-08 01:10:00+00:00\n",
       "7  2024-07-08T01:45:00+00:00  1332.1 2024-07-08 01:10:00+00:00\n",
       "8  2024-07-08T01:50:00+00:00  1328.4 2024-07-08 01:10:00+00:00"
      ]
     },
     "execution_count": 21,
     "metadata": {},
     "output_type": "execute_result"
    }
   ],
   "source": [
    "synth_data['moer_data'].iloc[4]"
   ]
  },
  {
   "cell_type": "code",
   "execution_count": 22,
   "metadata": {},
   "outputs": [
    {
     "data": {
      "text/html": [
       "<div>\n",
       "<style scoped>\n",
       "    .dataframe tbody tr th:only-of-type {\n",
       "        vertical-align: middle;\n",
       "    }\n",
       "\n",
       "    .dataframe tbody tr th {\n",
       "        vertical-align: top;\n",
       "    }\n",
       "\n",
       "    .dataframe thead th {\n",
       "        text-align: right;\n",
       "    }\n",
       "</style>\n",
       "<table border=\"1\" class=\"dataframe\">\n",
       "  <thead>\n",
       "    <tr style=\"text-align: right;\">\n",
       "      <th></th>\n",
       "      <th>point_time</th>\n",
       "      <th>value</th>\n",
       "    </tr>\n",
       "  </thead>\n",
       "  <tbody>\n",
       "    <tr>\n",
       "      <th>0</th>\n",
       "      <td>2024-07-08 01:10:00+00:00</td>\n",
       "      <td>1419.0</td>\n",
       "    </tr>\n",
       "    <tr>\n",
       "      <th>1</th>\n",
       "      <td>2024-07-08 01:15:00+00:00</td>\n",
       "      <td>1415.0</td>\n",
       "    </tr>\n",
       "    <tr>\n",
       "      <th>2</th>\n",
       "      <td>2024-07-08 01:20:00+00:00</td>\n",
       "      <td>1419.0</td>\n",
       "    </tr>\n",
       "    <tr>\n",
       "      <th>3</th>\n",
       "      <td>2024-07-08 01:25:00+00:00</td>\n",
       "      <td>1419.0</td>\n",
       "    </tr>\n",
       "    <tr>\n",
       "      <th>4</th>\n",
       "      <td>2024-07-08 01:30:00+00:00</td>\n",
       "      <td>1327.0</td>\n",
       "    </tr>\n",
       "    <tr>\n",
       "      <th>...</th>\n",
       "      <td>...</td>\n",
       "      <td>...</td>\n",
       "    </tr>\n",
       "    <tr>\n",
       "      <th>104</th>\n",
       "      <td>2024-07-08 09:50:00+00:00</td>\n",
       "      <td>1251.0</td>\n",
       "    </tr>\n",
       "    <tr>\n",
       "      <th>105</th>\n",
       "      <td>2024-07-08 09:55:00+00:00</td>\n",
       "      <td>1249.0</td>\n",
       "    </tr>\n",
       "    <tr>\n",
       "      <th>106</th>\n",
       "      <td>2024-07-08 10:00:00+00:00</td>\n",
       "      <td>1210.0</td>\n",
       "    </tr>\n",
       "    <tr>\n",
       "      <th>107</th>\n",
       "      <td>2024-07-08 10:05:00+00:00</td>\n",
       "      <td>1213.0</td>\n",
       "    </tr>\n",
       "    <tr>\n",
       "      <th>108</th>\n",
       "      <td>2024-07-08 10:10:00+00:00</td>\n",
       "      <td>1215.0</td>\n",
       "    </tr>\n",
       "  </tbody>\n",
       "</table>\n",
       "<p>109 rows × 2 columns</p>\n",
       "</div>"
      ],
      "text/plain": [
       "                   point_time   value\n",
       "0   2024-07-08 01:10:00+00:00  1419.0\n",
       "1   2024-07-08 01:15:00+00:00  1415.0\n",
       "2   2024-07-08 01:20:00+00:00  1419.0\n",
       "3   2024-07-08 01:25:00+00:00  1419.0\n",
       "4   2024-07-08 01:30:00+00:00  1327.0\n",
       "..                        ...     ...\n",
       "104 2024-07-08 09:50:00+00:00  1251.0\n",
       "105 2024-07-08 09:55:00+00:00  1249.0\n",
       "106 2024-07-08 10:00:00+00:00  1210.0\n",
       "107 2024-07-08 10:05:00+00:00  1213.0\n",
       "108 2024-07-08 10:10:00+00:00  1215.0\n",
       "\n",
       "[109 rows x 2 columns]"
      ]
     },
     "execution_count": 22,
     "metadata": {},
     "output_type": "execute_result"
    }
   ],
   "source": [
    "synth_data['moer_data_actual'].iloc[4]"
   ]
  },
  {
   "cell_type": "code",
   "execution_count": 23,
   "metadata": {},
   "outputs": [],
   "source": [
    "import importlib\n",
    "importlib.reload(efu)\n",
    "synth_data['charger_simple_actual_api']= synth_data.apply(\n",
    "    lambda x: efu.get_schedule_and_cost_api(\n",
    "        usage_power_kw = x.power_output_rate,\n",
    "        time_needed = int(math.ceil(min(x.total_seconds_to_95, x.length_plugged_in) / 300.0) * 5),\n",
    "        total_time_horizon = math.ceil(x.total_intervals_plugged_in),\n",
    "        moer_data = x.moer_data_actual,\n",
    "        optimization_method='simple'\n",
    "    ), \n",
    "    axis = 1\n",
    ")\n",
    "\n",
    "synth_data['simple_actual_charging_schedule_api'] = synth_data['charger_simple_actual_api'].apply(get_charging_schedule_lambda)\n",
    "synth_data['simple_ideal_emissions_api'] = synth_data['charger_simple_actual_api'].apply(get_total_emissions_lambda)\n"
   ]
  },
  {
   "cell_type": "markdown",
   "metadata": {},
   "source": [
    "## NOT API w/ \"OLD\" optCharger"
   ]
  },
  {
   "cell_type": "code",
   "execution_count": null,
   "metadata": {},
   "outputs": [],
   "source": [
    "import importlib\n",
    "importlib.reload(efu)\n",
    "synth_data['charger_simple_actual'] = synth_data.apply(\n",
    "    lambda x: efu.get_schedule_and_cost(\n",
    "        x.MWh_fraction,\n",
    "        x.charged_kWh_actual / 1000,\n",
    "        math.ceil(x.total_intervals_plugged_in), # will throw an error if the plug in time is too short to reach full charge, should soften to a warning\n",
    "        x.moer_data_actual,\n",
    "        asap = False\n",
    "    ), \n",
    "    axis = 1\n",
    ")"
   ]
  },
  {
   "cell_type": "code",
   "execution_count": 18,
   "metadata": {},
   "outputs": [],
   "source": [
    "synth_data['simple_actual_charging_schedule'] = synth_data['charger_simple_actual'].apply(\n",
    "    lambda  x: x.get_schedule()\n",
    "    )\n",
    "\n",
    "synth_data['simple_ideal_emissions'] = synth_data['charger_simple_actual'].apply(\n",
    "    lambda  x: x.get_total_emission()\n",
    "    )"
   ]
  },
  {
   "cell_type": "markdown",
   "metadata": {},
   "source": [
    "## Compare"
   ]
  },
  {
   "cell_type": "code",
   "execution_count": 24,
   "metadata": {},
   "outputs": [
    {
     "data": {
      "text/html": [
       "<div>\n",
       "<style scoped>\n",
       "    .dataframe tbody tr th:only-of-type {\n",
       "        vertical-align: middle;\n",
       "    }\n",
       "\n",
       "    .dataframe tbody tr th {\n",
       "        vertical-align: top;\n",
       "    }\n",
       "\n",
       "    .dataframe thead th {\n",
       "        text-align: right;\n",
       "    }\n",
       "</style>\n",
       "<table border=\"1\" class=\"dataframe\">\n",
       "  <thead>\n",
       "    <tr style=\"text-align: right;\">\n",
       "      <th></th>\n",
       "      <th>simple_ideal_emissions</th>\n",
       "      <th>simple_ideal_emissions_api</th>\n",
       "    </tr>\n",
       "  </thead>\n",
       "  <tbody>\n",
       "    <tr>\n",
       "      <th>162990</th>\n",
       "      <td>23.145098</td>\n",
       "      <td>23.145098</td>\n",
       "    </tr>\n",
       "    <tr>\n",
       "      <th>162991</th>\n",
       "      <td>26.619593</td>\n",
       "      <td>26.619593</td>\n",
       "    </tr>\n",
       "    <tr>\n",
       "      <th>162992</th>\n",
       "      <td>24.559225</td>\n",
       "      <td>24.559225</td>\n",
       "    </tr>\n",
       "    <tr>\n",
       "      <th>162993</th>\n",
       "      <td>45.261740</td>\n",
       "      <td>45.261740</td>\n",
       "    </tr>\n",
       "    <tr>\n",
       "      <th>162994</th>\n",
       "      <td>39.916948</td>\n",
       "      <td>39.916949</td>\n",
       "    </tr>\n",
       "    <tr>\n",
       "      <th>162995</th>\n",
       "      <td>43.204137</td>\n",
       "      <td>43.204137</td>\n",
       "    </tr>\n",
       "    <tr>\n",
       "      <th>162996</th>\n",
       "      <td>45.972951</td>\n",
       "      <td>45.972951</td>\n",
       "    </tr>\n",
       "    <tr>\n",
       "      <th>162997</th>\n",
       "      <td>31.285659</td>\n",
       "      <td>31.285659</td>\n",
       "    </tr>\n",
       "    <tr>\n",
       "      <th>162998</th>\n",
       "      <td>32.880181</td>\n",
       "      <td>32.880181</td>\n",
       "    </tr>\n",
       "    <tr>\n",
       "      <th>162999</th>\n",
       "      <td>47.736117</td>\n",
       "      <td>47.736117</td>\n",
       "    </tr>\n",
       "  </tbody>\n",
       "</table>\n",
       "</div>"
      ],
      "text/plain": [
       "        simple_ideal_emissions  simple_ideal_emissions_api\n",
       "162990               23.145098                   23.145098\n",
       "162991               26.619593                   26.619593\n",
       "162992               24.559225                   24.559225\n",
       "162993               45.261740                   45.261740\n",
       "162994               39.916948                   39.916949\n",
       "162995               43.204137                   43.204137\n",
       "162996               45.972951                   45.972951\n",
       "162997               31.285659                   31.285659\n",
       "162998               32.880181                   32.880181\n",
       "162999               47.736117                   47.736117"
      ]
     },
     "execution_count": 24,
     "metadata": {},
     "output_type": "execute_result"
    }
   ],
   "source": [
    "# very very close\n",
    "synth_data[['simple_ideal_emissions','simple_ideal_emissions_api']]#.plot(kind='line')"
   ]
  },
  {
   "cell_type": "markdown",
   "metadata": {},
   "source": [
    "### producing different schedules"
   ]
  },
  {
   "cell_type": "code",
   "execution_count": 25,
   "metadata": {},
   "outputs": [],
   "source": [
    "ind_x = 4"
   ]
  },
  {
   "cell_type": "code",
   "execution_count": 26,
   "metadata": {},
   "outputs": [
    {
     "data": {
      "text/html": [
       "<div>\n",
       "<style scoped>\n",
       "    .dataframe tbody tr th:only-of-type {\n",
       "        vertical-align: middle;\n",
       "    }\n",
       "\n",
       "    .dataframe tbody tr th {\n",
       "        vertical-align: top;\n",
       "    }\n",
       "\n",
       "    .dataframe thead th {\n",
       "        text-align: right;\n",
       "    }\n",
       "</style>\n",
       "<table border=\"1\" class=\"dataframe\">\n",
       "  <thead>\n",
       "    <tr style=\"text-align: right;\">\n",
       "      <th></th>\n",
       "      <th>point_time</th>\n",
       "      <th>value</th>\n",
       "      <th>generated_at</th>\n",
       "    </tr>\n",
       "  </thead>\n",
       "  <tbody>\n",
       "    <tr>\n",
       "      <th>8</th>\n",
       "      <td>2024-07-08T01:50:00+00:00</td>\n",
       "      <td>1328.4</td>\n",
       "      <td>2024-07-08 01:10:00+00:00</td>\n",
       "    </tr>\n",
       "    <tr>\n",
       "      <th>7</th>\n",
       "      <td>2024-07-08T01:45:00+00:00</td>\n",
       "      <td>1332.1</td>\n",
       "      <td>2024-07-08 01:10:00+00:00</td>\n",
       "    </tr>\n",
       "    <tr>\n",
       "      <th>6</th>\n",
       "      <td>2024-07-08T01:40:00+00:00</td>\n",
       "      <td>1333.4</td>\n",
       "      <td>2024-07-08 01:10:00+00:00</td>\n",
       "    </tr>\n",
       "    <tr>\n",
       "      <th>5</th>\n",
       "      <td>2024-07-08T01:35:00+00:00</td>\n",
       "      <td>1341.3</td>\n",
       "      <td>2024-07-08 01:10:00+00:00</td>\n",
       "    </tr>\n",
       "    <tr>\n",
       "      <th>3</th>\n",
       "      <td>2024-07-08T01:25:00+00:00</td>\n",
       "      <td>1342.2</td>\n",
       "      <td>2024-07-08 01:10:00+00:00</td>\n",
       "    </tr>\n",
       "    <tr>\n",
       "      <th>4</th>\n",
       "      <td>2024-07-08T01:30:00+00:00</td>\n",
       "      <td>1346.0</td>\n",
       "      <td>2024-07-08 01:10:00+00:00</td>\n",
       "    </tr>\n",
       "    <tr>\n",
       "      <th>2</th>\n",
       "      <td>2024-07-08T01:20:00+00:00</td>\n",
       "      <td>1346.2</td>\n",
       "      <td>2024-07-08 01:10:00+00:00</td>\n",
       "    </tr>\n",
       "    <tr>\n",
       "      <th>0</th>\n",
       "      <td>2024-07-08T01:10:00+00:00</td>\n",
       "      <td>1350.1</td>\n",
       "      <td>2024-07-08 01:10:00+00:00</td>\n",
       "    </tr>\n",
       "    <tr>\n",
       "      <th>1</th>\n",
       "      <td>2024-07-08T01:15:00+00:00</td>\n",
       "      <td>1350.1</td>\n",
       "      <td>2024-07-08 01:10:00+00:00</td>\n",
       "    </tr>\n",
       "  </tbody>\n",
       "</table>\n",
       "</div>"
      ],
      "text/plain": [
       "                  point_time   value              generated_at\n",
       "8  2024-07-08T01:50:00+00:00  1328.4 2024-07-08 01:10:00+00:00\n",
       "7  2024-07-08T01:45:00+00:00  1332.1 2024-07-08 01:10:00+00:00\n",
       "6  2024-07-08T01:40:00+00:00  1333.4 2024-07-08 01:10:00+00:00\n",
       "5  2024-07-08T01:35:00+00:00  1341.3 2024-07-08 01:10:00+00:00\n",
       "3  2024-07-08T01:25:00+00:00  1342.2 2024-07-08 01:10:00+00:00\n",
       "4  2024-07-08T01:30:00+00:00  1346.0 2024-07-08 01:10:00+00:00\n",
       "2  2024-07-08T01:20:00+00:00  1346.2 2024-07-08 01:10:00+00:00\n",
       "0  2024-07-08T01:10:00+00:00  1350.1 2024-07-08 01:10:00+00:00\n",
       "1  2024-07-08T01:15:00+00:00  1350.1 2024-07-08 01:10:00+00:00"
      ]
     },
     "execution_count": 26,
     "metadata": {},
     "output_type": "execute_result"
    }
   ],
   "source": [
    "synth_data['moer_data'].iloc[4].sort_values('value')"
   ]
  },
  {
   "cell_type": "code",
   "execution_count": 27,
   "metadata": {},
   "outputs": [
    {
     "data": {
      "text/plain": [
       "[0.0006911666666666,\n",
       " 0.0006911666666666,\n",
       " 0.0006911666666666,\n",
       " 0.0006911666666666,\n",
       " 0.0006911666666666,\n",
       " 0.0006911666666666,\n",
       " 0.0006911666666666,\n",
       " 0.0006911666666666,\n",
       " 0.0006911666666666,\n",
       " 0]"
      ]
     },
     "execution_count": 27,
     "metadata": {},
     "output_type": "execute_result"
    }
   ],
   "source": [
    "synth_data['simple_actual_charging_schedule'].iloc[ind_x][-10:]"
   ]
  },
  {
   "cell_type": "code",
   "execution_count": 29,
   "metadata": {},
   "outputs": [
    {
     "data": {
      "text/plain": [
       "[5.0, 5.0, 5.0, 5.0, 5.0, 5.0, 5.0, 5.0, 5.0, 0.0]"
      ]
     },
     "execution_count": 29,
     "metadata": {},
     "output_type": "execute_result"
    }
   ],
   "source": [
    "synth_data['simple_actual_charging_schedule_api'].iloc[ind_x].tolist()[-10:]"
   ]
  },
  {
   "cell_type": "markdown",
   "metadata": {},
   "source": [
    "### Also different lengths\n",
    "- it's always the old method where the length varies, the new method matches the length of the input MOER values\n",
    "- real issue is that the usage windows don't match."
   ]
  },
  {
   "cell_type": "code",
   "execution_count": 51,
   "metadata": {},
   "outputs": [
    {
     "data": {
      "text/plain": [
       "104"
      ]
     },
     "execution_count": 51,
     "metadata": {},
     "output_type": "execute_result"
    }
   ],
   "source": [
    "len(synth_data['simple_actual_charging_schedule'].iloc[ind_x])"
   ]
  },
  {
   "cell_type": "code",
   "execution_count": 30,
   "metadata": {},
   "outputs": [
    {
     "data": {
      "text/plain": [
       "104"
      ]
     },
     "execution_count": 30,
     "metadata": {},
     "output_type": "execute_result"
    }
   ],
   "source": [
    "len(synth_data['simple_actual_charging_schedule_api'].iloc[ind_x].tolist())"
   ]
  },
  {
   "cell_type": "code",
   "execution_count": 31,
   "metadata": {},
   "outputs": [
    {
     "data": {
      "text/plain": [
       "(109,)"
      ]
     },
     "execution_count": 31,
     "metadata": {},
     "output_type": "execute_result"
    }
   ],
   "source": [
    "# there are 109 values from start to end.\n",
    "synth_data.moer_data_actual.iloc[ind_x][\"total\"].shape"
   ]
  },
  {
   "cell_type": "code",
   "execution_count": 33,
   "metadata": {},
   "outputs": [
    {
     "data": {
      "text/plain": [
       "103.57837506333334"
      ]
     },
     "execution_count": 33,
     "metadata": {},
     "output_type": "execute_result"
    }
   ],
   "source": [
    "# but we are only plugged in for 104 intervals\n",
    "synth_data.iloc[ind_x][\"total_intervals_plugged_in\"]"
   ]
  },
  {
   "cell_type": "code",
   "execution_count": null,
   "metadata": {},
   "outputs": [],
   "source": []
  }
 ],
 "metadata": {
  "kernelspec": {
   "display_name": "Python 3 (ipykernel)",
   "language": "python",
   "name": "python3"
  }
 },
 "nbformat": 4,
 "nbformat_minor": 2
}
