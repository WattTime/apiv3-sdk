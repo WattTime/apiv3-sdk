{
 "cells": [
  {
   "cell_type": "code",
   "execution_count": 2,
   "metadata": {},
   "outputs": [],
   "source": [
    "\n",
    "import os\n",
    "os.chdir(f\"/home/{os.getlogin()}/watttime-python-client-aer-algo\")\n",
    "\n",
    "import math\n",
    "import numpy as np\n",
    "import pandas as pd\n",
    "import datetime\n",
    "import pytz\n",
    "from datetime import datetime, timedelta\n",
    "\n",
    "import optimizer.s3 as s3u\n",
    "import evaluation.eval_framework as efu\n",
    "\n",
    "import pickle"
   ]
  },
  {
   "cell_type": "code",
   "execution_count": 3,
   "metadata": {},
   "outputs": [],
   "source": [
    "def get_historical_fcst_data_cached(plug_in_time, horizon, region):\n",
    "    time_zone = efu.get_timezone_from_dict(region)\n",
    "    plug_in_time_utc = pd.Timestamp(efu.convert_to_utc(plug_in_time, time_zone))\n",
    "    date = plug_in_time.date()\n",
    "    if (region, date) not in HISTORICAL_FORECAST_CACHE.keys():\n",
    "        print(type(date), date)\n",
    "        start = pd.to_datetime(date)\n",
    "        end = (pd.to_datetime(date) + pd.Timedelta(\"1d\"))      \n",
    "        HISTORICAL_FORECAST_CACHE[(region, date)] = hist_data.get_historical_forecast_pandas(\n",
    "            start - pd.Timedelta(\"9h\"),\n",
    "            end + pd.Timedelta(\"9h\"),\n",
    "            region,\n",
    "        )\n",
    "    cache = HISTORICAL_FORECAST_CACHE[(region, date)]\n",
    "        \n",
    "    # make this match efu.get_historical_fsct_data\n",
    "    generated_at_times = cache[\"generated_at\"].unique()\n",
    "    generated_at = max([t for t in generated_at_times if t < plug_in_time_utc])\n",
    "    df = cache[cache[\"generated_at\"] == generated_at].copy()\n",
    "    return df.iloc[:math.ceil(horizon / 12) * 12]\n",
    "\n",
    "def get_historical_actual_data_cached(plug_in_time, horizon, region):\n",
    "    time_zone = efu.get_timezone_from_dict(region)\n",
    "    plug_in_time_utc = pd.Timestamp(efu.convert_to_utc(plug_in_time, time_zone))\n",
    "    date = plug_in_time.date()\n",
    "    \n",
    "    if (region, date) not in HISTORICAL_ACTUAL_CACHE.keys():\n",
    "        start = pd.to_datetime(date)\n",
    "        end = (pd.to_datetime(date) + pd.Timedelta(\"2d\"))   \n",
    "        HISTORICAL_ACTUAL_CACHE[(region, date)] = actual_data.get_historical_pandas(\n",
    "            start - pd.Timedelta(\"9h\"),\n",
    "            end + pd.Timedelta(\"9h\"),\n",
    "            region,\n",
    "        )\n",
    "    cache = HISTORICAL_ACTUAL_CACHE[(region, date)]\n",
    "\n",
    "    t_start = max([t for t in cache[\"point_time\"].unique() if t < plug_in_time_utc])\n",
    "    df =  cache[cache[\"point_time\"] >= t_start].copy()\n",
    "    return df.iloc[:math.ceil(horizon / 12) * 12 + 1].reset_index(drop=True)\n",
    "\n",
    "def get_total_emission(moer, schedule):\n",
    "    x = np.array(schedule).flatten()\n",
    "    return np.dot(moer[:x.shape[0]], x)\n"
   ]
  },
  {
   "cell_type": "code",
   "execution_count": null,
   "metadata": {},
   "outputs": [],
   "source": []
  },
  {
   "cell_type": "code",
   "execution_count": 5,
   "metadata": {},
   "outputs": [],
   "source": [
    "# cached watttime data\n",
    "s3 = s3u.s3_utils()\n",
    "\n",
    "actual_pickle = s3.load_file(file=\"pjm_actual.pkl\")\n",
    "HISTORICAL_ACTUAL_CACHE = pickle.loads(actual_pickle)\n",
    "\n",
    "forecast_pickle = s3.load_file(file=\"pjm_forecast.pkl\")\n",
    "HISTORICAL_FORECAST_CACHE = pickle.loads(actual_pickle)"
   ]
  },
  {
   "cell_type": "code",
   "execution_count": 6,
   "metadata": {},
   "outputs": [],
   "source": [
    "# 10 synthetic data examples\n",
    "\n",
    "key = '20240726_1k_synth_users_163_days.csv'\n",
    "generated_data = s3.load_csvdataframe(file=key)\n",
    "generated_data = generated_data[-10:]\n",
    "\n",
    "synth_data = generated_data.copy(deep=True)\n",
    "\n",
    "synth_data[\"plug_in_time\"] = pd.to_datetime(synth_data[\"plug_in_time\"])\n",
    "synth_data[\"unplug_time\"] = pd.to_datetime(synth_data[\"unplug_time\"])"
   ]
  },
  {
   "cell_type": "code",
   "execution_count": null,
   "metadata": {},
   "outputs": [],
   "source": [
    "synth_data[[\"plug_in_time\",\"total_intervals_plugged_in\"]]"
   ]
  },
  {
   "cell_type": "code",
   "execution_count": 10,
   "metadata": {},
   "outputs": [],
   "source": [
    "region = \"PJM_CHICAGO\"\n",
    "\n",
    "synth_data['moer_data'] = synth_data.apply(\n",
    "    lambda x: efu.get_historical_fcst_data(\n",
    "    x.plug_in_time,\n",
    "    math.ceil(x.total_intervals_plugged_in),\n",
    "    region = region\n",
    "    ), axis = 1\n",
    ")"
   ]
  },
  {
   "cell_type": "code",
   "execution_count": 11,
   "metadata": {},
   "outputs": [],
   "source": [
    "synth_data['moer_data_actual'] = synth_data.apply(\n",
    "    lambda x: efu.get_historical_actual_data(\n",
    "    x.plug_in_time,\n",
    "    math.ceil(x.total_intervals_plugged_in),\n",
    "    region = region\n",
    "    ), axis = 1\n",
    ")"
   ]
  },
  {
   "cell_type": "markdown",
   "metadata": {},
   "source": [
    "## API on \"NEW\" optCharger\n",
    "- `power_output_rate` is a float and the input to `usage_power_kw`\n",
    "- input `usage_time_required_minutes` instead of charge"
   ]
  },
  {
   "cell_type": "code",
   "execution_count": 155,
   "metadata": {},
   "outputs": [
    {
     "data": {
      "text/plain": [
       "<module 'evaluation.eval_framework' from '/home/jennifer.badolato/watttime-python-client-aer-algo/evaluation/eval_framework.py'>"
      ]
     },
     "execution_count": 155,
     "metadata": {},
     "output_type": "execute_result"
    }
   ],
   "source": [
    "import importlib\n",
    "importlib.reload(efu)"
   ]
  },
  {
   "cell_type": "code",
   "execution_count": 12,
   "metadata": {},
   "outputs": [],
   "source": [
    "get_charging_schedule_lambda = lambda x: x[\"usage\"].values.flatten()\n",
    "get_total_emissions_lambda = lambda  x: x[\"emissions_co2e_lb\"].sum()"
   ]
  },
  {
   "cell_type": "code",
   "execution_count": 157,
   "metadata": {},
   "outputs": [],
   "source": [
    "synth_data['charger_simple_actual_api']= synth_data.apply(\n",
    "    lambda x: efu.get_schedule_and_cost_v2(\n",
    "        usage_power_kw = x.power_output_rate,\n",
    "        total_intervals = math.ceil(x.total_intervals_plugged_in),\n",
    "        time_needed = int(math.ceil(min(x.total_seconds_to_95, x.length_plugged_in) / 300.0) * 5),\n",
    "        moer_data = x.moer_data_actual,\n",
    "        optimization_method='simple'\n",
    "        ), \n",
    "        axis = 1\n",
    "        )\n",
    "\n",
    "synth_data['simple_actual_charging_schedule_api'] = synth_data['charger_simple_actual_api'].apply(get_charging_schedule_lambda)\n",
    "synth_data['simple_ideal_emissions_api'] = synth_data['charger_simple_actual_api'].apply(get_total_emissions_lambda)\n"
   ]
  },
  {
   "cell_type": "code",
   "execution_count": 158,
   "metadata": {},
   "outputs": [
    {
     "data": {
      "text/plain": [
       "162990    22.540327\n",
       "162991    26.493110\n",
       "162992    24.553696\n",
       "162993    44.976289\n",
       "162994    39.845758\n",
       "162995    42.825378\n",
       "162996    45.899687\n",
       "162997    31.271836\n",
       "162998    32.880181\n",
       "162999    46.702132\n",
       "Name: simple_ideal_emissions_api, dtype: float64"
      ]
     },
     "execution_count": 158,
     "metadata": {},
     "output_type": "execute_result"
    }
   ],
   "source": [
    "synth_data['simple_ideal_emissions_api']"
   ]
  },
  {
   "cell_type": "markdown",
   "metadata": {},
   "source": [
    "## NOT API w/ \"OLD\" optCharger"
   ]
  },
  {
   "cell_type": "code",
   "execution_count": 15,
   "metadata": {},
   "outputs": [],
   "source": [
    "synth_data['charger_simple_actual'] = synth_data.apply(\n",
    "    lambda x: efu.get_schedule_and_cost(\n",
    "        x.MWh_fraction,\n",
    "        x.charged_kWh_actual / 1000,\n",
    "        math.ceil(x.total_intervals_plugged_in), # will throw an error if the plug in time is too shart to reach full charge, should soften to a warning\n",
    "        x.moer_data_actual,\n",
    "        asap = False\n",
    "        ), \n",
    "        axis = 1\n",
    "        )"
   ]
  },
  {
   "cell_type": "code",
   "execution_count": 16,
   "metadata": {},
   "outputs": [],
   "source": [
    "synth_data['simple_actual_charging_schedule'] = synth_data['charger_simple_actual'].apply(\n",
    "    lambda  x: x.get_schedule()\n",
    "    )\n",
    "\n",
    "synth_data['simple_ideal_emissions'] = synth_data['charger_simple_actual'].apply(\n",
    "    lambda  x: x.get_total_emission()\n",
    "    )"
   ]
  },
  {
   "cell_type": "markdown",
   "metadata": {},
   "source": [
    "## Compare"
   ]
  },
  {
   "cell_type": "code",
   "execution_count": 159,
   "metadata": {},
   "outputs": [
    {
     "data": {
      "text/plain": [
       "<Axes: >"
      ]
     },
     "execution_count": 159,
     "metadata": {},
     "output_type": "execute_result"
    },
    {
     "data": {
      "image/png": "[encoded data removed]",
      "text/plain": [
       "<Figure size 640x480 with 1 Axes>"
      ]
     },
     "metadata": {},
     "output_type": "display_data"
    }
   ],
   "source": [
    "# very very close\n",
    "synth_data[['simple_ideal_emissions','simple_ideal_emissions_api']].plot(kind='line')"
   ]
  },
  {
   "cell_type": "markdown",
   "metadata": {},
   "source": [
    "### producing different schedules"
   ]
  },
  {
   "cell_type": "code",
   "execution_count": 160,
   "metadata": {},
   "outputs": [],
   "source": [
    "ind_x = 4"
   ]
  },
  {
   "cell_type": "code",
   "execution_count": 165,
   "metadata": {},
   "outputs": [
    {
     "data": {
      "text/plain": [
       "[0.0006911666666666,\n",
       " 0.0006911666666666,\n",
       " 0.0006911666666666,\n",
       " 0.0006911666666666,\n",
       " 0.0006911666666666,\n",
       " 0.0006911666666666,\n",
       " 0.0006911666666666,\n",
       " 0.0006911666666666,\n",
       " 0.0006911666666666,\n",
       " 0]"
      ]
     },
     "execution_count": 165,
     "metadata": {},
     "output_type": "execute_result"
    }
   ],
   "source": [
    "synth_data['simple_actual_charging_schedule'].iloc[ind_x][-10:]"
   ]
  },
  {
   "cell_type": "code",
   "execution_count": 166,
   "metadata": {},
   "outputs": [
    {
     "data": {
      "text/plain": [
       "[5.0, 0.0, 5.0, 5.0, 0.0, 0.0, 0.0, 5.0, 5.0, 5.0]"
      ]
     },
     "execution_count": 166,
     "metadata": {},
     "output_type": "execute_result"
    }
   ],
   "source": [
    "synth_data['simple_actual_charging_schedule_api'].iloc[ind_x].tolist()[-10:]"
   ]
  },
  {
   "cell_type": "markdown",
   "metadata": {},
   "source": [
    "### Also different lengths\n",
    "- it's always the old method where the length varies, the new method matches the length of the input MOER values\n",
    "- real issue is that the usage windows don't match."
   ]
  },
  {
   "cell_type": "code",
   "execution_count": 167,
   "metadata": {},
   "outputs": [
    {
     "data": {
      "text/plain": [
       "104"
      ]
     },
     "execution_count": 167,
     "metadata": {},
     "output_type": "execute_result"
    }
   ],
   "source": [
    "len(synth_data['simple_actual_charging_schedule'].iloc[ind_x])"
   ]
  },
  {
   "cell_type": "code",
   "execution_count": 168,
   "metadata": {},
   "outputs": [
    {
     "data": {
      "text/plain": [
       "109"
      ]
     },
     "execution_count": 168,
     "metadata": {},
     "output_type": "execute_result"
    }
   ],
   "source": [
    "len(synth_data['simple_actual_charging_schedule_api'].iloc[ind_x].tolist())"
   ]
  },
  {
   "cell_type": "code",
   "execution_count": 169,
   "metadata": {},
   "outputs": [
    {
     "data": {
      "text/plain": [
       "(109,)"
      ]
     },
     "execution_count": 169,
     "metadata": {},
     "output_type": "execute_result"
    }
   ],
   "source": [
    "# there are 109 values from start to end.\n",
    "synth_data.moer_data_actual.iloc[ind_x][\"point_time\"].shape"
   ]
  }
 ],
 "metadata": {
  "kernelspec": {
   "display_name": "Python 3 (ipykernel)",
   "language": "python",
   "name": "python3"
  },
  "language_info": {
   "codemirror_mode": {
    "name": "ipython",
    "version": 3
   },
   "file_extension": ".py",
   "mimetype": "text/x-python",
   "name": "python",
   "nbconvert_exporter": "python",
   "pygments_lexer": "ipython3",
   "version": "3.9.16"
  }
 },
 "nbformat": 4,
 "nbformat_minor": 2
}
