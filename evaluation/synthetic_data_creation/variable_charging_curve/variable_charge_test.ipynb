{
 "cells": [
  {
   "cell_type": "code",
   "execution_count": 1,
   "metadata": {},
   "outputs": [],
   "source": [
    "%load_ext autoreload\n",
    "%autoreload 2"
   ]
  },
  {
   "cell_type": "code",
   "execution_count": 2,
   "metadata": {},
   "outputs": [],
   "source": [
    "import os\n",
    "\n",
    "os.chdir(f\"/home/{os.getlogin()}/watttime-python-client-aer-algo\")\n",
    "\n",
    "import numpy as np\n",
    "import pandas as pd\n",
    "from watttime import WattTimeHistorical, WattTimeForecast\n",
    "import data.dataset as od\n",
    "import evaluation.eval_framework as evu\n",
    "import data.s3 as s3u\n",
    "import math\n",
    "\n",
    "import seaborn as sns\n",
    "import matplotlib.pyplot as plt\n",
    "import evaluation.battery as b\n",
    "\n",
    "username = os.getenv(\"WATTTIME_USER\")\n",
    "password = os.getenv(\"WATTTIME_PASSWORD\")"
   ]
  },
  {
   "cell_type": "code",
   "execution_count": 43,
   "metadata": {},
   "outputs": [],
   "source": [
    "def make_test_moer_data():\n",
    "    \"\"\"Constant MOER at 1000.0 lbs/MWh except a single interval with 0.0\"\"\"\n",
    "    start = pd.Timestamp(\"2023-12-13T01:45:00+00:00\")\n",
    "    end = pd.Timestamp(\"2023-12-13T11:40:00+00:00\")\n",
    "    moer_data = pd.DataFrame(columns=[\"point_time\"], data=pd.date_range(start, end, freq=\"300s\"))\n",
    "    moer_data[\"value\"] = 1000.0\n",
    "    moer_data.loc[60, \"value\"] = 0.0\n",
    "    return moer_data\n",
    "\n",
    "def make_test_batteries():\n",
    "    \"\"\"Make 5 batteries which each have a fast charging part at a different point in the SoE\"\"\"\n",
    "    batteries = []\n",
    "    for i in range(1,4):\n",
    "        charging_curve = pd.DataFrame(\n",
    "            columns=[\"SoC\", \"kW\"],\n",
    "                data = [\n",
    "                [0.0, 10.0],\n",
    "                [i/5, 10.0],\n",
    "                [i/5+0.01, 50.0],\n",
    "                [i/5+0.20, 50.0],\n",
    "                [i/5+0.21, 10.0],\n",
    "                [1.0, 10],\n",
    "            ]\n",
    "        )\n",
    "        battery = b.Battery(\n",
    "            initial_soc = 0.0,\n",
    "            charging_curve = charging_curve,\n",
    "            capacity_kWh = 10\n",
    "        )\n",
    "        batteries.append(battery)\n",
    "    return batteries\n",
    "\n",
    "#battery.plot_charging_curve()\n"
   ]
  },
  {
   "cell_type": "code",
   "execution_count": 40,
   "metadata": {},
   "outputs": [],
   "source": []
  },
  {
   "cell_type": "code",
   "execution_count": null,
   "metadata": {},
   "outputs": [],
   "source": []
  },
  {
   "cell_type": "markdown",
   "metadata": {},
   "source": [
    "---"
   ]
  },
  {
   "cell_type": "code",
   "execution_count": null,
   "metadata": {},
   "outputs": [],
   "source": []
  }
 ],
 "metadata": {
  "kernelspec": {
   "display_name": "Python 3",
   "language": "python",
   "name": "python3"
  },
  "language_info": {
   "codemirror_mode": {
    "name": "ipython",
    "version": 3
   },
   "file_extension": ".py",
   "mimetype": "text/x-python",
   "name": "python",
   "nbconvert_exporter": "python",
   "pygments_lexer": "ipython3",
   "version": "3.9.16"
  }
 },
 "nbformat": 4,
 "nbformat_minor": 2
}
