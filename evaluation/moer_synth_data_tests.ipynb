{
 "cells": [
  {
   "cell_type": "code",
   "execution_count": 32,
   "metadata": {},
   "outputs": [],
   "source": [
    "import os\n",
    "os.chdir(f\"/home/{os.getlogin()}/watttime-python-client-aer-algo\")\n",
    "\n",
    "import math\n",
    "import numpy as np\n",
    "import pandas as pd\n",
    "import datetime\n",
    "import pytz\n",
    "from datetime import datetime, timedelta\n",
    "from watttime import WattTimeForecast, WattTimeHistorical\n",
    "\n",
    "import optimizer.s3 as s3u\n",
    "import evaluation.eval_framework as efu\n",
    "\n",
    "import watttime.shared_anniez.alg.optCharger as optC\n",
    "import watttime.shared_anniez.alg.moer as Moer\n",
    "\n",
    "region = \"ERCOT_AUSTIN\"\n",
    "username = os.getenv(\"WATTTIME_USER\")\n",
    "password = os.getenv(\"WATTTIME_PASSWORD\")\n",
    "\n",
    "actual_data = WattTimeHistorical(username, password)\n",
    "hist_data = WattTimeForecast(username, password)\n",
    "\n",
    "s3 = s3u.s3_utils()\n",
    "key = '20240715_1k_synth_users.csv'\n",
    "generated_data = s3.load_csvdataframe(file=key)"
   ]
  },
  {
   "cell_type": "markdown",
   "metadata": {},
   "source": [
    "# Synthetic User Data"
   ]
  },
  {
   "cell_type": "code",
   "execution_count": 33,
   "metadata": {},
   "outputs": [],
   "source": [
    "synth_data = generated_data.copy(deep=True)\n",
    "\n",
    "synth_data[\"plug_in_time\"] = pd.to_datetime(synth_data[\"plug_in_time\"])\n",
    "synth_data[\"unplug_time\"] = pd.to_datetime(synth_data[\"unplug_time\"])"
   ]
  },
  {
   "cell_type": "code",
   "execution_count": 34,
   "metadata": {},
   "outputs": [],
   "source": [
    "# one user - 10 sessions - Feb 2024\n",
    "synth_data = synth_data.sample(100)"
   ]
  },
  {
   "cell_type": "markdown",
   "metadata": {},
   "source": [
    "## API Data"
   ]
  },
  {
   "cell_type": "code",
   "execution_count": 35,
   "metadata": {},
   "outputs": [],
   "source": [
    "synth_data['moer_data'] = synth_data.apply(\n",
    "    lambda x: efu.get_historical_fcst_data(\n",
    "    x.plug_in_time,\n",
    "    math.ceil(x.total_intervals_plugged_in),\n",
    "    region = region\n",
    "    ), axis = 1\n",
    ")\n",
    "\n",
    "synth_data['moer_data_actual'] = synth_data.apply(\n",
    "    lambda x: efu.get_historical_actual_data(\n",
    "    x.plug_in_time,\n",
    "    math.ceil(x.total_intervals_plugged_in),\n",
    "    region = region\n",
    "    ), axis = 1\n",
    ")"
   ]
  },
  {
   "cell_type": "code",
   "execution_count": null,
   "metadata": {},
   "outputs": [],
   "source": []
  },
  {
   "cell_type": "markdown",
   "metadata": {},
   "source": [
    "## MOER - No Optimization - Actual Emissions"
   ]
  },
  {
   "cell_type": "code",
   "execution_count": 36,
   "metadata": {},
   "outputs": [],
   "source": [
    "synth_data['charger_baseline_actual'] = synth_data.apply(\n",
    "    lambda x: efu.get_schedule_and_cost(\n",
    "        x.MWh_fraction,\n",
    "        x.charged_kWh_actual / 1000,\n",
    "        math.ceil(x.total_intervals_plugged_in), # will throw an error if the plug in time is too shart to reach full charge, should soften to a warning\n",
    "        x.moer_data_actual,\n",
    "        asap = True\n",
    "        ), \n",
    "        axis = 1\n",
    "        )\n",
    "\n",
    "synth_data['baseline_charging_schedule'] = synth_data['charger_baseline_actual'].apply(\n",
    "    lambda  x: x.get_schedule()\n",
    "    )\n",
    "\n",
    "synth_data['baseline_actual_emissions'] = synth_data['charger_baseline_actual'].apply(\n",
    "    lambda  x: x.get_total_cost()\n",
    "    )"
   ]
  },
  {
   "cell_type": "code",
   "execution_count": 39,
   "metadata": {},
   "outputs": [],
   "source": [
    "import seaborn as sns"
   ]
  },
  {
   "cell_type": "code",
   "execution_count": 40,
   "metadata": {},
   "outputs": [
    {
     "data": {
      "text/plain": [
       "<Axes: xlabel='baseline_actual_emissions', ylabel='Count'>"
      ]
     },
     "execution_count": 40,
     "metadata": {},
     "output_type": "execute_result"
    },
    {
     "data": {
      "image/png": "[encoded data removed]",
      "text/plain": [
       "<Figure size 640x480 with 1 Axes>"
      ]
     },
     "metadata": {},
     "output_type": "display_data"
    }
   ],
   "source": [
    "sns.histplot(synth_data['baseline_actual_emissions'])"
   ]
  },
  {
   "cell_type": "markdown",
   "metadata": {},
   "source": [
    "## MOER - Simple Optimization - Forecast Emissions"
   ]
  },
  {
   "cell_type": "code",
   "execution_count": 41,
   "metadata": {},
   "outputs": [],
   "source": [
    "synth_data['charger_simple_forecast']= synth_data.apply(\n",
    "    lambda x: efu.get_schedule_and_cost(\n",
    "        x.MWh_fraction,\n",
    "        x.charged_kWh_actual / 1000,\n",
    "        math.ceil(x.total_intervals_plugged_in), # will throw an error if the plug in time is too shart to reach full charge, should soften to a warning\n",
    "        x.moer_data,\n",
    "        asap = False\n",
    "        ), \n",
    "        axis = 1\n",
    "        )\n",
    "\n",
    "synth_data['simple_charing_schedule'] = synth_data['charger_simple_forecast'].apply(\n",
    "    lambda  x: x.get_schedule()\n",
    "    )\n",
    "\n",
    "synth_data['simple_estimated_emissions'] = synth_data['charger_simple_forecast'].apply(\n",
    "    lambda  x: x.get_total_cost()\n",
    "    )"
   ]
  },
  {
   "cell_type": "code",
   "execution_count": 42,
   "metadata": {},
   "outputs": [],
   "source": [
    "def get_total_emission(moer, schedule): \n",
    "    x = np.array(schedule).flatten()\n",
    "    return np.dot(moer[:x.shape[0]], x)"
   ]
  },
  {
   "cell_type": "code",
   "execution_count": 44,
   "metadata": {},
   "outputs": [],
   "source": [
    "synth_data[\"simple_actual_emissions\"] = synth_data.apply(\n",
    "    lambda x: get_total_emission(\n",
    "        x.moer_data_actual['value'],\n",
    "        x.simple_charing_schedule,\n",
    "    ),\n",
    "    axis = 1\n",
    ")"
   ]
  },
  {
   "cell_type": "code",
   "execution_count": 46,
   "metadata": {},
   "outputs": [
    {
     "data": {
      "text/plain": [
       "<Axes: xlabel='baseline_actual_emissions', ylabel='Count'>"
      ]
     },
     "execution_count": 46,
     "metadata": {},
     "output_type": "execute_result"
    },
    {
     "data": {
      "image/png": "[encoded data removed]",
      "text/plain": [
       "<Figure size 640x480 with 1 Axes>"
      ]
     },
     "metadata": {},
     "output_type": "display_data"
    }
   ],
   "source": [
    "sns.histplot(synth_data[\"baseline_actual_emissions\"])"
   ]
  },
  {
   "cell_type": "code",
   "execution_count": 45,
   "metadata": {},
   "outputs": [
    {
     "data": {
      "text/plain": [
       "<Axes: xlabel='simple_actual_emissions', ylabel='Count'>"
      ]
     },
     "execution_count": 45,
     "metadata": {},
     "output_type": "execute_result"
    },
    {
     "data": {
      "image/png": "[encoded data removed]",
      "text/plain": [
       "<Figure size 640x480 with 1 Axes>"
      ]
     },
     "metadata": {},
     "output_type": "display_data"
    }
   ],
   "source": [
    "sns.histplot(synth_data[\"simple_actual_emissions\"])"
   ]
  },
  {
   "cell_type": "code",
   "execution_count": 47,
   "metadata": {},
   "outputs": [],
   "source": [
    "synth_data[\"simple_optimization_difference\"] = synth_data[\"simple_actual_emissions\"] - synth_data[\"baseline_actual_emissions\"]"
   ]
  },
  {
   "cell_type": "code",
   "execution_count": 53,
   "metadata": {},
   "outputs": [],
   "source": [
    "synth_data[\"success_rate\"] = synth_data[\"simple_optimization_difference\"] < 0"
   ]
  },
  {
   "cell_type": "code",
   "execution_count": 54,
   "metadata": {},
   "outputs": [
    {
     "data": {
      "text/plain": [
       "success_rate\n",
       "False    67\n",
       "True     33\n",
       "Name: count, dtype: int64"
      ]
     },
     "execution_count": 54,
     "metadata": {},
     "output_type": "execute_result"
    }
   ],
   "source": [
    "synth_data[\"success_rate\"].value_counts()"
   ]
  }
 ],
 "metadata": {
  "kernelspec": {
   "display_name": "Python 3 (ipykernel)",
   "language": "python",
   "name": "python3"
  }
 },
 "nbformat": 4,
 "nbformat_minor": 2
}
