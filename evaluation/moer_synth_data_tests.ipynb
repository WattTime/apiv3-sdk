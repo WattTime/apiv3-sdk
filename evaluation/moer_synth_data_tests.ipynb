{
 "cells": [
  {
   "cell_type": "code",
   "execution_count": 1,
   "metadata": {},
   "outputs": [],
   "source": [
    "import os\n",
    "os.chdir(\"/home/jennifer.badolato/watttime-python-client-aer-algo\")\n",
    "\n",
    "import math\n",
    "import numpy as np\n",
    "import pandas as pd\n",
    "import datetime\n",
    "import random\n",
    "import pytz\n",
    "from datetime import datetime, timedelta\n",
    "import random\n",
    "from watttime import WattTimeMyAccess, WattTimeHistorical, WattTimeForecast, WattTimeMaps\n",
    "import os\n",
    "import optimizer.dataset as od\n",
    "from evaluation.config import MOER_REGION_LIST\n",
    "import evaluation.eval_framework as evu\n",
    "import optimizer.s3 as s3u\n",
    "\n",
    "import seaborn as sns\n",
    "import matplotlib.pyplot as plt\n",
    "\n",
    "import watttime.shared_anniez.alg.optCharger as optC\n",
    "import watttime.shared_anniez.alg.moer as Moer"
   ]
  },
  {
   "cell_type": "code",
   "execution_count": 2,
   "metadata": {},
   "outputs": [],
   "source": [
    "region = \"PJM_NJ\"\n",
    "username = os.getenv(\"WATTTIME_USER\")\n",
    "password = os.getenv(\"WATTTIME_PASSWORD\")\n",
    "\n",
    "actual_data = WattTimeHistorical(username, password)\n",
    "hist_data = WattTimeForecast(username, password)\n",
    "\n",
    "s3 = s3u.s3_utils()\n",
    "key = '20240701_1k_synth_users.csv'\n",
    "generated_data = s3.load_csvdataframe(file=key)"
   ]
  },
  {
   "cell_type": "markdown",
   "metadata": {},
   "source": [
    "# Function"
   ]
  },
  {
   "cell_type": "code",
   "execution_count": 3,
   "metadata": {},
   "outputs": [],
   "source": [
    "def intervalize_power_rate(kW_value: float, convert_to_MW = True):\n",
    "    five_min_rate = kW_value / 12\n",
    "    if convert_to_MW:\n",
    "        five_min_rate = five_min_rate / 1000\n",
    "    else:\n",
    "        five_min_rate\n",
    "    return five_min_rate\n",
    "\n",
    "def sum_moer_actuals(moer_data, MWh_fraction,plug_in_time, number_conseq_intervals):\n",
    "    index_lower_limit = moer_data[moer_data.point_time >= plug_in_time].index[0]\n",
    "    index_upper_limit = index_lower_limit + int(number_conseq_intervals)\n",
    "    return sum(\n",
    "        moer_data[index_lower_limit: index_upper_limit][\"value\"] * MWh_fraction\n",
    "        )\n",
    "\n",
    "def calculate_five_minute_intervals(start_date, end_date):\n",
    "    \"\"\"\n",
    "    Calculate the number of 5 minute intervals between two datetime objects.\n",
    "\n",
    "    Parameters:\n",
    "    start_date (datetime): The start date as a datetime object.\n",
    "    end_date (datetime): The end date as a datetime object.\n",
    "\n",
    "    Returns:\n",
    "    int: The number of 5 minute intervals between the two dates.\n",
    "    \"\"\"\n",
    "    # Calculate the difference in seconds between the two dates\n",
    "    delta_seconds = (end_date - start_date).total_seconds()\n",
    "\n",
    "    # Calculate the number of 5 minute intervals\n",
    "    five_minute_intervals = delta_seconds / (5 * 60)\n",
    "\n",
    "    return math.ceil(five_minute_intervals)\n",
    "\n",
    "# Get per-row historical fcsts at 'plug in time'\n",
    "def get_historical_fcst_data(\n",
    "    plug_in_time, \n",
    "    horizon,\n",
    "    region\n",
    "    ):\n",
    "    plug_in_time = pd.Timestamp(plug_in_time)\n",
    "    horizon = math.ceil(horizon / 12)\n",
    "    return hist_data.get_historical_forecast_pandas(\n",
    "        start=plug_in_time - pd.Timedelta(minutes=5), \n",
    "        end=plug_in_time, \n",
    "        horizon_hours=horizon,\n",
    "        region=region\n",
    "    )"
   ]
  },
  {
   "cell_type": "markdown",
   "metadata": {},
   "source": [
    "## New Variables"
   ]
  },
  {
   "cell_type": "code",
   "execution_count": 6,
   "metadata": {},
   "outputs": [],
   "source": [
    "generated_data[\"MWh_fraction\"] = generated_data[\"power_output_rate\"].apply(intervalize_power_rate)\n",
    "generated_data[\"number_intervals_drawing_power\"] = generated_data.charged_kWh_actual / generated_data.power_output_rate * 60 / 5\n",
    "\n",
    "generated_data[\"plug_in_time\" ]= pd.to_datetime(generated_data[\"plug_in_time\"])\n",
    "generated_data[\"unplug_time\" ]= pd.to_datetime(generated_data[\"unplug_time\"])\n",
    "\n",
    "generated_data[\"charge_MWh_needed\"] = generated_data[\"total_capacity\"] * (0.95 - generated_data[\"initial_charge\"]) / 1000\n",
    "\n",
    "generated_data[\"total_intervals_plugged_in\"] = generated_data[\"length_plugged_in\"] / 300 # number of seconds in 5 minutes"
   ]
  },
  {
   "cell_type": "markdown",
   "metadata": {},
   "source": [
    "## MOER no optimization"
   ]
  },
  {
   "cell_type": "code",
   "execution_count": 19,
   "metadata": {},
   "outputs": [],
   "source": [
    "moer_actuals = actual_data.get_historical_pandas(\n",
    "    start=generated_data.plug_in_time.min(),\n",
    "    end=generated_data.unplug_time.max(),\n",
    "    region=region\n",
    ")"
   ]
  },
  {
   "cell_type": "code",
   "execution_count": 20,
   "metadata": {},
   "outputs": [],
   "source": [
    "generated_data[\"moer_actuals\"] = generated_data.apply(\n",
    "    lambda x: sum_moer_actuals(\n",
    "        moer_actuals,\n",
    "        x.MWh_fraction,\n",
    "        x.plug_in_time,\n",
    "        x.number_intervals_drawing_power\n",
    "        ), axis=1\n",
    "        )"
   ]
  },
  {
   "cell_type": "markdown",
   "metadata": {},
   "source": [
    "## Compare with Annie Greedy Fit"
   ]
  },
  {
   "cell_type": "code",
   "execution_count": 4,
   "metadata": {},
   "outputs": [],
   "source": [
    "# to avoid the assert error if passing the plug out time without meeting 95%\n",
    "generated_data = generated_data[generated_data.final_perc_charged == 0.95]"
   ]
  },
  {
   "cell_type": "code",
   "execution_count": 10,
   "metadata": {},
   "outputs": [],
   "source": [
    "### just one example\n",
    "\n",
    "row = 3\n",
    "\n",
    "plug_in_time = generated_data[\"plug_in_time\"][row]\n",
    "horizon = generated_data[\"total_intervals_plugged_in\"][row]\n",
    "total_time = generated_data[\"total_intervals_plugged_in\"][row]\n",
    "charge_rate_per_window = generated_data[\"MWh_fraction\"][row]\n",
    "charge_needed = generated_data[\"charge_MWh_needed\"][row]\n"
   ]
  },
  {
   "cell_type": "code",
   "execution_count": 16,
   "metadata": {},
   "outputs": [
    {
     "data": {
      "text/plain": [
       "44"
      ]
     },
     "execution_count": 16,
     "metadata": {},
     "output_type": "execute_result"
    }
   ],
   "source": [
    "int(total_time)"
   ]
  },
  {
   "cell_type": "code",
   "execution_count": 13,
   "metadata": {},
   "outputs": [
    {
     "data": {
      "text/plain": [
       "(48, 3)"
      ]
     },
     "execution_count": 13,
     "metadata": {},
     "output_type": "execute_result"
    }
   ],
   "source": [
    "df_fcst.shape"
   ]
  },
  {
   "cell_type": "code",
   "execution_count": 11,
   "metadata": {},
   "outputs": [],
   "source": [
    "df_fcst = get_historical_fcst_data(\n",
    "    plug_in_time = plug_in_time,\n",
    "    horizon = horizon,\n",
    "    region = region\n",
    ")"
   ]
  },
  {
   "cell_type": "code",
   "execution_count": 22,
   "metadata": {},
   "outputs": [
    {
     "name": "stdout",
     "output_type": "stream",
     "text": [
      "Greedy fit!\n",
      "[0.0004785, 0.0004785, 0.0004785, 0.0004785, 0.0004785, 0.0004785, 0.0004785, 0.0004785, 0.0004785, 0.0004785, 0.0004785, 0.0004785, 0.0004785, 0.0004785, 0.0004785, 0.0004785, 0.0004785, 0.0004785, 0.0004785, 0.0004785, 0.0004785, 0.0004785, 0.0004785, 0.0004785, 0.0004785, 0.0004785, 0.0004785, 0.0004785, 0.0004785, 0.0004785, 0.0004785, 0.0004785, 0.0004785, 0.0004785, 0.0004785, 0.0004785, 0.0004785, 0.0004785, 0.0004785, 0.0004785, 0.0004785, 0.0004785, 0, 0, 0] 45\n"
     ]
    }
   ],
   "source": [
    "moer_greedy = Moer.Moer(df_fcst[\"value\"])\n",
    "charger_greedy = optC.OptCharger(charge_rate_per_window) # charge rate converted to MWh\n",
    "\n",
    "charger_greedy.fit(\n",
    "        totalCharge=charge_needed, # also currently an int value\n",
    "        totalTime = math.ceil(total_time),\n",
    "        moer=moer_greedy,\n",
    "        asap=True\n",
    "    )"
   ]
  },
  {
   "cell_type": "code",
   "execution_count": 23,
   "metadata": {},
   "outputs": [
    {
     "data": {
      "text/plain": [
       "25.067179499999998"
      ]
     },
     "execution_count": 23,
     "metadata": {},
     "output_type": "execute_result"
    }
   ],
   "source": [
    "charger_greedy.get_total_cost()"
   ]
  },
  {
   "cell_type": "code",
   "execution_count": 24,
   "metadata": {},
   "outputs": [
    {
     "data": {
      "text/plain": [
       "23.191459500000004"
      ]
     },
     "execution_count": 24,
     "metadata": {},
     "output_type": "execute_result"
    }
   ],
   "source": [
    "# discrepancy\n",
    "generated_data.moer_actuals[row]"
   ]
  },
  {
   "cell_type": "markdown",
   "metadata": {},
   "source": [
    "## Simple fit"
   ]
  },
  {
   "cell_type": "code",
   "execution_count": 25,
   "metadata": {},
   "outputs": [
    {
     "name": "stdout",
     "output_type": "stream",
     "text": [
      "Simplified fit!\n"
     ]
    }
   ],
   "source": [
    "moer_simple = Moer.Moer(df_fcst[\"value\"], isDiagonal=False)\n",
    "charger_simple = optC.OptCharger(charge_rate_per_window)\n",
    "\n",
    "charger_simple.fit(\n",
    "        totalCharge=charge_needed, # also currently an int value\n",
    "        totalTime = math.ceil(total_time),\n",
    "        moer=moer_simple,\n",
    "        asap=False\n",
    "    )"
   ]
  },
  {
   "cell_type": "code",
   "execution_count": 26,
   "metadata": {},
   "outputs": [
    {
     "data": {
      "text/plain": [
       "25.046843250000002"
      ]
     },
     "execution_count": 26,
     "metadata": {},
     "output_type": "execute_result"
    }
   ],
   "source": [
    "charger_simple.get_charging_cost()"
   ]
  },
  {
   "cell_type": "code",
   "execution_count": 27,
   "metadata": {},
   "outputs": [
    {
     "data": {
      "text/plain": [
       "<Axes: xlabel='value', ylabel='Count'>"
      ]
     },
     "execution_count": 27,
     "metadata": {},
     "output_type": "execute_result"
    },
    {
     "data": {
      "image/png": "[encoded data removed]",
      "text/plain": [
       "<Figure size 640x480 with 1 Axes>"
      ]
     },
     "metadata": {},
     "output_type": "display_data"
    }
   ],
   "source": [
    "sns.histplot(df_fcst[\"value\"])"
   ]
  },
  {
   "cell_type": "markdown",
   "metadata": {},
   "source": [
    "## Apply Across Frame"
   ]
  },
  {
   "cell_type": "code",
   "execution_count": 28,
   "metadata": {},
   "outputs": [],
   "source": [
    "# smaller example\n",
    "data_50_examples = generated_data.head(50).copy(deep=True)"
   ]
  },
  {
   "cell_type": "code",
   "execution_count": 47,
   "metadata": {},
   "outputs": [],
   "source": [
    "# Set up OptCharger based on moer fcsts and get info on projected schedule\n",
    "def get_schedule_and_cost(\n",
    "    charge_rate_per_window, \n",
    "    charge_needed, \n",
    "    total_time_horizon, \n",
    "    moer_data,\n",
    "    asap = False\n",
    "    ):\n",
    "    charger = optC.OptCharger(charge_rate_per_window) # charge rate needs to be an int\n",
    "    moer = Moer.Moer(moer_data['value'])\n",
    "\n",
    "    charger.fit(\n",
    "        totalCharge=charge_needed, # also currently an int value\n",
    "        totalTime = total_time_horizon,\n",
    "        moer=moer,\n",
    "        asap=asap\n",
    "    )\n",
    "    return charger"
   ]
  },
  {
   "cell_type": "code",
   "execution_count": 29,
   "metadata": {},
   "outputs": [
    {
     "name": "stdout",
     "output_type": "stream",
     "text": [
      "\n",
      " Warnings Returned: {'region': 'PJM_NJ', 'signal_type': 'co2_moer', 'horizon_hours': 10, 'start': Timestamp('2024-02-15 20:09:49+0000', tz='UTC'), 'end': Timestamp('2024-02-15 20:14:49+0000', tz='UTC')} {'data_point_period_seconds': 300, 'region': 'PJM_NJ', 'signal_type': 'co2_moer', 'units': 'lbs_co2_per_mwh', 'warnings': [{'type': 'MISSING_DATA', 'message': 'You made a valid request, but we have some datapoints missing. This can happen for a variety of reasons. If the data is less than a week old, we will most likely fill in this data soon. If it is older than that, we are missing enough important grid data during this time period that we are not able to generate an accurate estimate'}], 'model': {'date': '2023-03-01'}, 'generated_at_period_seconds': 300}\n"
     ]
    }
   ],
   "source": [
    "data_50_examples['moer_data'] = data_50_examples.apply(\n",
    "    lambda x: get_historical_fcst_data(\n",
    "    x.plug_in_time, \n",
    "    x.total_intervals_plugged_in,\n",
    "    region = region\n",
    "    ), axis = 1\n",
    ")"
   ]
  },
  {
   "cell_type": "code",
   "execution_count": 30,
   "metadata": {},
   "outputs": [
    {
     "name": "stdout",
     "output_type": "stream",
     "text": [
      "Successful S3 put_object response. Status - 200\n"
     ]
    }
   ],
   "source": [
    "key = '20240701_1k_synth_users_with_moer_data.csv'\n",
    "s3.store_csvdataframe(dataframe=data_50_examples, file=key)"
   ]
  },
  {
   "cell_type": "code",
   "execution_count": 31,
   "metadata": {},
   "outputs": [],
   "source": [
    "data_50_examples_trial = data_50_examples.head(5)"
   ]
  },
  {
   "cell_type": "code",
   "execution_count": 40,
   "metadata": {},
   "outputs": [],
   "source": [
    "data_50_examples_trial.reset_index(drop=True, inplace=True)"
   ]
  },
  {
   "cell_type": "code",
   "execution_count": 44,
   "metadata": {},
   "outputs": [
    {
     "name": "stderr",
     "output_type": "stream",
     "text": [
      "/tmp/ipykernel_1090212/1566194440.py:1: SettingWithCopyWarning: \n",
      "A value is trying to be set on a copy of a slice from a DataFrame.\n",
      "Try using .loc[row_indexer,col_indexer] = value instead\n",
      "\n",
      "See the caveats in the documentation: https://pandas.pydata.org/pandas-docs/stable/user_guide/indexing.html#returning-a-view-versus-a-copy\n",
      "  data_50_examples_trial.total_intervals_plugged_in = data_50_examples_trial.total_intervals_plugged_in.apply(lambda x: math.ceil(x))\n"
     ]
    }
   ],
   "source": [
    "data_50_examples_trial.total_intervals_plugged_in = data_50_examples_trial.total_intervals_plugged_in.apply(lambda x: math.ceil(x))"
   ]
  },
  {
   "cell_type": "code",
   "execution_count": 45,
   "metadata": {},
   "outputs": [
    {
     "name": "stdout",
     "output_type": "stream",
     "text": [
      "Simplified fit!\n",
      "Simplified fit!\n",
      "Simplified fit!\n",
      "Simplified fit!\n",
      "Simplified fit!\n"
     ]
    },
    {
     "name": "stderr",
     "output_type": "stream",
     "text": [
      "/tmp/ipykernel_1090212/1666561353.py:1: SettingWithCopyWarning: \n",
      "A value is trying to be set on a copy of a slice from a DataFrame.\n",
      "Try using .loc[row_indexer,col_indexer] = value instead\n",
      "\n",
      "See the caveats in the documentation: https://pandas.pydata.org/pandas-docs/stable/user_guide/indexing.html#returning-a-view-versus-a-copy\n",
      "  data_50_examples_trial['charger']= data_50_examples_trial.apply(\n",
      "/tmp/ipykernel_1090212/1666561353.py:11: SettingWithCopyWarning: \n",
      "A value is trying to be set on a copy of a slice from a DataFrame.\n",
      "Try using .loc[row_indexer,col_indexer] = value instead\n",
      "\n",
      "See the caveats in the documentation: https://pandas.pydata.org/pandas-docs/stable/user_guide/indexing.html#returning-a-view-versus-a-copy\n",
      "  data_50_examples_trial['charging_schedule'] = data_50_examples_trial['charger'].apply(lambda x: x.get_schedule())\n",
      "/tmp/ipykernel_1090212/1666561353.py:12: SettingWithCopyWarning: \n",
      "A value is trying to be set on a copy of a slice from a DataFrame.\n",
      "Try using .loc[row_indexer,col_indexer] = value instead\n",
      "\n",
      "See the caveats in the documentation: https://pandas.pydata.org/pandas-docs/stable/user_guide/indexing.html#returning-a-view-versus-a-copy\n",
      "  data_50_examples_trial['projected_charging_cost_to_full'] = data_50_examples_trial['charger'].apply(lambda  x: x.get_total_cost())\n"
     ]
    }
   ],
   "source": [
    "data_50_examples_trial['charger']= data_50_examples_trial.apply(\n",
    "    lambda x: get_schedule_and_cost(\n",
    "        x.MWh_fraction,\n",
    "        x.charge_MWh_needed,\n",
    "        x.total_intervals_plugged_in,\n",
    "        x.moer_data\n",
    "        ), \n",
    "        axis = 1\n",
    "        )\n",
    "\n",
    "data_50_examples_trial['charging_schedule'] = data_50_examples_trial['charger'].apply(lambda x: x.get_schedule())\n",
    "data_50_examples_trial['projected_charging_cost_to_full'] = data_50_examples_trial['charger'].apply(lambda  x: x.get_total_cost())"
   ]
  },
  {
   "cell_type": "code",
   "execution_count": null,
   "metadata": {},
   "outputs": [],
   "source": [
    "data_50_examples_trial['charger']= data_50_examples_trial.apply(\n",
    "    lambda x: get_schedule_and_cost(\n",
    "        x.MWh_fraction,\n",
    "        x.charge_MWh_needed,\n",
    "        x.total_intervals_plugged_in,\n",
    "        x.moer_data\n",
    "        ), \n",
    "        axis = 1\n",
    "        )\n",
    "\n",
    "data_50_examples_trial['charging_schedule'] = data_50_examples_trial['charger'].apply(lambda x: x.get_schedule())\n",
    "data_50_examples_trial['projected_charging_cost_to_full'] = data_50_examples_trial['charger'].apply(lambda  x: x.get_total_cost())"
   ]
  },
  {
   "cell_type": "code",
   "execution_count": 48,
   "metadata": {},
   "outputs": [
    {
     "name": "stdout",
     "output_type": "stream",
     "text": [
      "Greedy fit!\n",
      "[0.0004785, 0.0004785, 0.0004785, 0.0004785, 0.0004785, 0.0004785, 0.0004785, 0.0004785, 0.0004785, 0.0004785, 0.0004785, 0.0004785, 0.0004785, 0.0004785, 0.0004785, 0.0004785, 0.0004785, 0.0004785, 0.0004785, 0.0004785, 0.0004785, 0.0004785, 0.0004785, 0.0004785, 0.0004785, 0.0004785, 0.0004785, 0.0004785, 0.0004785, 0.0004785, 0.0004785, 0.0004785, 0.0004785, 0.0004785, 0.0004785, 0.0004785, 0.0004785, 0.0004785, 0.0004785, 0.0004785, 0.0004785, 0.0004785, 0.0004785, 0.0004785, 0.0004785, 0.0004785, 0.0004785, 0.0004785, 0.0004785, 0.0004785, 0.0004785, 0.0004785, 0.0004785, 0.0004785, 0.0004785, 0.0004785, 0.0004785, 0.0004785, 0.0004785, 0.0004785, 0.0004785, 0.0004785, 0.0004785, 0.0004785, 0.0004785, 0, 0, 0, 0, 0, 0, 0, 0, 0, 0, 0, 0, 0, 0, 0, 0, 0, 0, 0, 0, 0, 0, 0, 0, 0, 0, 0, 0, 0, 0, 0, 0, 0, 0, 0, 0, 0, 0, 0, 0, 0, 0, 0] 108\n",
      "Greedy fit!\n",
      "[0.0004785, 0.0004785, 0.0004785, 0.0004785, 0.0004785, 0.0004785, 0.0004785, 0.0004785, 0.0004785, 0.0004785, 0.0004785, 0.0004785, 0.0004785, 0.0004785, 0.0004785, 0.0004785, 0.0004785, 0.0004785, 0.0004785, 0.0004785, 0.0004785, 0.0004785, 0.0004785, 0.0004785, 0.0004785, 0.0004785, 0.0004785, 0.0004785, 0.0004785, 0.0004785, 0.0004785, 0.0004785, 0.0004785, 0.0004785, 0.0004785, 0.0004785, 0.0004785, 0.0004785, 0.0004785, 0.0004785, 0.0004785, 0.0004785, 0, 0, 0] 45\n",
      "Greedy fit!\n",
      "[0.0004785, 0.0004785, 0.0004785, 0.0004785, 0.0004785, 0.0004785, 0.0004785, 0.0004785, 0.0004785, 0.0004785, 0.0004785, 0.0004785, 0.0004785, 0.0004785, 0.0004785, 0.0004785, 0.0004785, 0.0004785, 0.0004785, 0.0004785, 0.0004785, 0.0004785, 0.0004785, 0.0004785, 0.0004785, 0.0004785, 0.0004785, 0.0004785, 0.0004785, 0.0004785, 0.0004785, 0.0004785, 0.0004785, 0.0004785, 0.0004785, 0.0004785, 0.0004785, 0.0004785, 0.0004785, 0.0004785, 0.0004785, 0.0004785, 0.0004785, 0.0004785, 0.0004785, 0.0004785, 0.0004785, 0.0004785, 0.0004785, 0.0004785, 0.0004785, 0.0004785, 0.0004785, 0.0004785, 0.0004785, 0.0004785, 0.0004785, 0.0004785, 0.0004785, 0.0004785, 0.0004785, 0.0004785, 0.0004785, 0.0004785, 0.0004785, 0.0004785, 0, 0, 0, 0, 0, 0, 0, 0, 0, 0, 0, 0, 0, 0, 0] 81\n",
      "Greedy fit!\n",
      "[0.0004785, 0.0004785, 0.0004785, 0.0004785, 0.0004785, 0.0004785, 0.0004785, 0.0004785, 0.0004785, 0.0004785, 0.0004785, 0.0004785, 0.0004785, 0.0004785, 0.0004785, 0.0004785, 0.0004785, 0.0004785, 0.0004785, 0.0004785, 0.0004785, 0.0004785, 0.0004785, 0.0004785, 0.0004785, 0.0004785, 0.0004785, 0.0004785, 0.0004785, 0.0004785, 0.0004785, 0.0004785, 0.0004785, 0.0004785, 0.0004785, 0.0004785, 0.0004785, 0.0004785, 0.0004785, 0.0004785, 0.0004785, 0.0004785, 0.0004785, 0.0004785, 0.0004785, 0.0004785, 0.0004785, 0.0004785, 0.0004785, 0.0004785, 0.0004785, 0.0004785, 0.0004785, 0.0004785, 0.0004785, 0.0004785, 0.0004785, 0.0004785, 0.0004785, 0.0004785, 0, 0, 0, 0, 0, 0, 0, 0, 0, 0, 0, 0, 0, 0, 0, 0, 0, 0, 0, 0, 0, 0] 82\n",
      "Greedy fit!\n",
      "[0.0004785, 0.0004785, 0.0004785, 0.0004785, 0.0004785, 0.0004785, 0.0004785, 0.0004785, 0.0004785, 0.0004785, 0.0004785, 0.0004785, 0.0004785, 0.0004785, 0.0004785, 0.0004785, 0.0004785, 0.0004785, 0.0004785, 0.0004785, 0.0004785, 0.0004785, 0.0004785, 0.0004785, 0.0004785, 0.0004785, 0.0004785, 0.0004785, 0.0004785, 0.0004785, 0.0004785, 0.0004785, 0.0004785, 0.0004785, 0.0004785, 0.0004785, 0.0004785, 0.0004785, 0.0004785, 0.0004785, 0.0004785, 0.0004785, 0.0004785, 0.0004785, 0.0004785, 0.0004785, 0.0004785, 0.0004785, 0.0004785, 0.0004785, 0.0004785, 0.0004785, 0.0004785, 0.0004785, 0.0004785, 0.0004785, 0.0004785, 0.0004785, 0.0004785, 0.0004785, 0, 0, 0, 0, 0, 0, 0, 0, 0, 0, 0, 0, 0, 0, 0, 0, 0, 0, 0, 0, 0, 0, 0, 0, 0, 0, 0, 0, 0] 89\n"
     ]
    },
    {
     "name": "stderr",
     "output_type": "stream",
     "text": [
      "/tmp/ipykernel_1090212/2713600659.py:1: SettingWithCopyWarning: \n",
      "A value is trying to be set on a copy of a slice from a DataFrame.\n",
      "Try using .loc[row_indexer,col_indexer] = value instead\n",
      "\n",
      "See the caveats in the documentation: https://pandas.pydata.org/pandas-docs/stable/user_guide/indexing.html#returning-a-view-versus-a-copy\n",
      "  data_50_examples_trial['charger_greedy']= data_50_examples_trial.apply(\n"
     ]
    }
   ],
   "source": [
    "data_50_examples_trial['charger_greedy']= data_50_examples_trial.apply(\n",
    "    lambda x: get_schedule_and_cost(\n",
    "        x.MWh_fraction,\n",
    "        x.charge_MWh_needed,\n",
    "        x.total_intervals_plugged_in,\n",
    "        x.moer_data,\n",
    "        asap = True\n",
    "        ), \n",
    "        axis = 1\n",
    "        )"
   ]
  },
  {
   "cell_type": "code",
   "execution_count": 49,
   "metadata": {},
   "outputs": [
    {
     "name": "stderr",
     "output_type": "stream",
     "text": [
      "/tmp/ipykernel_1090212/3160133362.py:1: SettingWithCopyWarning: \n",
      "A value is trying to be set on a copy of a slice from a DataFrame.\n",
      "Try using .loc[row_indexer,col_indexer] = value instead\n",
      "\n",
      "See the caveats in the documentation: https://pandas.pydata.org/pandas-docs/stable/user_guide/indexing.html#returning-a-view-versus-a-copy\n",
      "  data_50_examples_trial['greedy_cost'] = data_50_examples_trial['charger_greedy'].apply(lambda  x: x.get_total_cost())\n"
     ]
    }
   ],
   "source": [
    "data_50_examples_trial['greedy_cost'] = data_50_examples_trial['charger_greedy'].apply(lambda  x: x.get_total_cost())"
   ]
  },
  {
   "cell_type": "code",
   "execution_count": 51,
   "metadata": {},
   "outputs": [
    {
     "data": {
      "text/html": [
       "<div>\n",
       "<style scoped>\n",
       "    .dataframe tbody tr th:only-of-type {\n",
       "        vertical-align: middle;\n",
       "    }\n",
       "\n",
       "    .dataframe tbody tr th {\n",
       "        vertical-align: top;\n",
       "    }\n",
       "\n",
       "    .dataframe thead th {\n",
       "        text-align: right;\n",
       "    }\n",
       "</style>\n",
       "<table border=\"1\" class=\"dataframe\">\n",
       "  <thead>\n",
       "    <tr style=\"text-align: right;\">\n",
       "      <th></th>\n",
       "      <th>0</th>\n",
       "      <th>1</th>\n",
       "      <th>2</th>\n",
       "      <th>3</th>\n",
       "      <th>4</th>\n",
       "    </tr>\n",
       "  </thead>\n",
       "  <tbody>\n",
       "    <tr>\n",
       "      <th>index</th>\n",
       "      <td>0</td>\n",
       "      <td>3</td>\n",
       "      <td>6</td>\n",
       "      <td>8</td>\n",
       "      <td>9</td>\n",
       "    </tr>\n",
       "    <tr>\n",
       "      <th>distinct_dates</th>\n",
       "      <td>2024-02-01 00:00:00+00:00</td>\n",
       "      <td>2024-02-04 00:00:00+00:00</td>\n",
       "      <td>2024-02-07 00:00:00+00:00</td>\n",
       "      <td>2024-02-09 00:00:00+00:00</td>\n",
       "      <td>2024-02-10 00:00:00+00:00</td>\n",
       "    </tr>\n",
       "    <tr>\n",
       "      <th>user_type</th>\n",
       "      <td>r5.742_tc55_avglc21216_sdlc7829</td>\n",
       "      <td>r5.742_tc55_avglc21216_sdlc7829</td>\n",
       "      <td>r5.742_tc55_avglc21216_sdlc7829</td>\n",
       "      <td>r5.742_tc55_avglc21216_sdlc7829</td>\n",
       "      <td>r5.742_tc55_avglc21216_sdlc7829</td>\n",
       "    </tr>\n",
       "    <tr>\n",
       "      <th>plug_in_time</th>\n",
       "      <td>2024-02-01 17:46:20+00:00</td>\n",
       "      <td>2024-02-04 19:20:24+00:00</td>\n",
       "      <td>2024-02-07 18:13:36+00:00</td>\n",
       "      <td>2024-02-09 20:53:20+00:00</td>\n",
       "      <td>2024-02-10 17:12:52+00:00</td>\n",
       "    </tr>\n",
       "    <tr>\n",
       "      <th>unplug_time</th>\n",
       "      <td>2024-02-02 02:44:00.359457+00:00</td>\n",
       "      <td>2024-02-04 23:03:20.042497+00:00</td>\n",
       "      <td>2024-02-08 00:54:40.309282+00:00</td>\n",
       "      <td>2024-02-10 03:39:04.627557+00:00</td>\n",
       "      <td>2024-02-11 00:34:57.961801+00:00</td>\n",
       "    </tr>\n",
       "    <tr>\n",
       "      <th>initial_charge</th>\n",
       "      <td>0.393136</td>\n",
       "      <td>0.585984</td>\n",
       "      <td>0.384204</td>\n",
       "      <td>0.433035</td>\n",
       "      <td>0.428565</td>\n",
       "    </tr>\n",
       "    <tr>\n",
       "      <th>total_seconds_to_95</th>\n",
       "      <td>19202.190817</td>\n",
       "      <td>12552.267144</td>\n",
       "      <td>19510.207175</td>\n",
       "      <td>17826.395873</td>\n",
       "      <td>17980.500701</td>\n",
       "    </tr>\n",
       "    <tr>\n",
       "      <th>full_charge_time</th>\n",
       "      <td>2024-02-01 23:06:22.190816627+00:00</td>\n",
       "      <td>2024-02-04 22:49:36.267144481+00:00</td>\n",
       "      <td>2024-02-07 23:38:46.207175220+00:00</td>\n",
       "      <td>2024-02-10 01:50:26.395873246+00:00</td>\n",
       "      <td>2024-02-10 22:12:32.500701037+00:00</td>\n",
       "    </tr>\n",
       "    <tr>\n",
       "      <th>length_plugged_in</th>\n",
       "      <td>32260.359457</td>\n",
       "      <td>13376.042497</td>\n",
       "      <td>24064.309282</td>\n",
       "      <td>24344.627557</td>\n",
       "      <td>26525.961801</td>\n",
       "    </tr>\n",
       "    <tr>\n",
       "      <th>charged_kWh_actual</th>\n",
       "      <td>30.627494</td>\n",
       "      <td>20.020866</td>\n",
       "      <td>31.11878</td>\n",
       "      <td>28.433101</td>\n",
       "      <td>28.678899</td>\n",
       "    </tr>\n",
       "    <tr>\n",
       "      <th>final_perc_charged</th>\n",
       "      <td>0.95</td>\n",
       "      <td>0.95</td>\n",
       "      <td>0.95</td>\n",
       "      <td>0.95</td>\n",
       "      <td>0.95</td>\n",
       "    </tr>\n",
       "    <tr>\n",
       "      <th>final_charge_time</th>\n",
       "      <td>2024-02-01 23:06:22.190816627+00:00</td>\n",
       "      <td>2024-02-04 22:49:36.267144481+00:00</td>\n",
       "      <td>2024-02-07 23:38:46.207175220+00:00</td>\n",
       "      <td>2024-02-10 01:50:26.395873246+00:00</td>\n",
       "      <td>2024-02-10 22:12:32.500701037+00:00</td>\n",
       "    </tr>\n",
       "    <tr>\n",
       "      <th>uncharged</th>\n",
       "      <td>False</td>\n",
       "      <td>False</td>\n",
       "      <td>False</td>\n",
       "      <td>False</td>\n",
       "      <td>False</td>\n",
       "    </tr>\n",
       "    <tr>\n",
       "      <th>total_capacity</th>\n",
       "      <td>55</td>\n",
       "      <td>55</td>\n",
       "      <td>55</td>\n",
       "      <td>55</td>\n",
       "      <td>55</td>\n",
       "    </tr>\n",
       "    <tr>\n",
       "      <th>power_output_rate</th>\n",
       "      <td>5.742</td>\n",
       "      <td>5.742</td>\n",
       "      <td>5.742</td>\n",
       "      <td>5.742</td>\n",
       "      <td>5.742</td>\n",
       "    </tr>\n",
       "    <tr>\n",
       "      <th>MWh_fraction</th>\n",
       "      <td>0.000478</td>\n",
       "      <td>0.000478</td>\n",
       "      <td>0.000478</td>\n",
       "      <td>0.000478</td>\n",
       "      <td>0.000478</td>\n",
       "    </tr>\n",
       "    <tr>\n",
       "      <th>number_intervals_drawing_power</th>\n",
       "      <td>64.007303</td>\n",
       "      <td>41.84089</td>\n",
       "      <td>65.034024</td>\n",
       "      <td>59.42132</td>\n",
       "      <td>59.935002</td>\n",
       "    </tr>\n",
       "    <tr>\n",
       "      <th>charge_MWh_needed</th>\n",
       "      <td>0.030627</td>\n",
       "      <td>0.020021</td>\n",
       "      <td>0.031119</td>\n",
       "      <td>0.028433</td>\n",
       "      <td>0.028679</td>\n",
       "    </tr>\n",
       "    <tr>\n",
       "      <th>total_intervals_plugged_in</th>\n",
       "      <td>108</td>\n",
       "      <td>45</td>\n",
       "      <td>81</td>\n",
       "      <td>82</td>\n",
       "      <td>89</td>\n",
       "    </tr>\n",
       "    <tr>\n",
       "      <th>moer_actuals</th>\n",
       "      <td>38.922147</td>\n",
       "      <td>23.19146</td>\n",
       "      <td>38.226886</td>\n",
       "      <td>34.882171</td>\n",
       "      <td>33.695492</td>\n",
       "    </tr>\n",
       "    <tr>\n",
       "      <th>moer_data</th>\n",
       "      <td>point_time   value        ...</td>\n",
       "      <td>point_time   value         ...</td>\n",
       "      <td>point_time   value         ...</td>\n",
       "      <td>point_time   value         ...</td>\n",
       "      <td>point_time   value         ...</td>\n",
       "    </tr>\n",
       "    <tr>\n",
       "      <th>charger</th>\n",
       "      <td>&lt;watttime.shared_anniez.alg.optCharger.OptChar...</td>\n",
       "      <td>&lt;watttime.shared_anniez.alg.optCharger.OptChar...</td>\n",
       "      <td>&lt;watttime.shared_anniez.alg.optCharger.OptChar...</td>\n",
       "      <td>&lt;watttime.shared_anniez.alg.optCharger.OptChar...</td>\n",
       "      <td>&lt;watttime.shared_anniez.alg.optCharger.OptChar...</td>\n",
       "    </tr>\n",
       "    <tr>\n",
       "      <th>charging_schedule</th>\n",
       "      <td>[0, 0, 0, 0, 0, 0, 0, 0, 0, 0, 0, 0, 0, 0, 0, ...</td>\n",
       "      <td>[0.0004785, 0.0004785, 0.0004785, 0.0004785, 0...</td>\n",
       "      <td>[0.0004785, 0.0004785, 0.0004785, 0.0004785, 0...</td>\n",
       "      <td>[0.0004785, 0.0004785, 0.0004785, 0.0004785, 0...</td>\n",
       "      <td>[0.0004785, 0.0004785, 0.0004785, 0.0004785, 0...</td>\n",
       "    </tr>\n",
       "    <tr>\n",
       "      <th>projected_charging_cost_to_full</th>\n",
       "      <td>39.513764</td>\n",
       "      <td>25.046843</td>\n",
       "      <td>38.882671</td>\n",
       "      <td>35.276025</td>\n",
       "      <td>35.176927</td>\n",
       "    </tr>\n",
       "    <tr>\n",
       "      <th>charger_greedy</th>\n",
       "      <td>&lt;watttime.shared_anniez.alg.optCharger.OptChar...</td>\n",
       "      <td>&lt;watttime.shared_anniez.alg.optCharger.OptChar...</td>\n",
       "      <td>&lt;watttime.shared_anniez.alg.optCharger.OptChar...</td>\n",
       "      <td>&lt;watttime.shared_anniez.alg.optCharger.OptChar...</td>\n",
       "      <td>&lt;watttime.shared_anniez.alg.optCharger.OptChar...</td>\n",
       "    </tr>\n",
       "    <tr>\n",
       "      <th>greedy_cost</th>\n",
       "      <td>39.981546</td>\n",
       "      <td>25.067179</td>\n",
       "      <td>39.056462</td>\n",
       "      <td>35.409144</td>\n",
       "      <td>35.26813</td>\n",
       "    </tr>\n",
       "  </tbody>\n",
       "</table>\n",
       "</div>"
      ],
      "text/plain": [
       "                                                                                 0  \\\n",
       "index                                                                            0   \n",
       "distinct_dates                                           2024-02-01 00:00:00+00:00   \n",
       "user_type                                          r5.742_tc55_avglc21216_sdlc7829   \n",
       "plug_in_time                                             2024-02-01 17:46:20+00:00   \n",
       "unplug_time                                       2024-02-02 02:44:00.359457+00:00   \n",
       "initial_charge                                                            0.393136   \n",
       "total_seconds_to_95                                                   19202.190817   \n",
       "full_charge_time                               2024-02-01 23:06:22.190816627+00:00   \n",
       "length_plugged_in                                                     32260.359457   \n",
       "charged_kWh_actual                                                       30.627494   \n",
       "final_perc_charged                                                            0.95   \n",
       "final_charge_time                              2024-02-01 23:06:22.190816627+00:00   \n",
       "uncharged                                                                    False   \n",
       "total_capacity                                                                  55   \n",
       "power_output_rate                                                            5.742   \n",
       "MWh_fraction                                                              0.000478   \n",
       "number_intervals_drawing_power                                           64.007303   \n",
       "charge_MWh_needed                                                         0.030627   \n",
       "total_intervals_plugged_in                                                     108   \n",
       "moer_actuals                                                             38.922147   \n",
       "moer_data                                            point_time   value        ...   \n",
       "charger                          <watttime.shared_anniez.alg.optCharger.OptChar...   \n",
       "charging_schedule                [0, 0, 0, 0, 0, 0, 0, 0, 0, 0, 0, 0, 0, 0, 0, ...   \n",
       "projected_charging_cost_to_full                                          39.513764   \n",
       "charger_greedy                   <watttime.shared_anniez.alg.optCharger.OptChar...   \n",
       "greedy_cost                                                              39.981546   \n",
       "\n",
       "                                                                                 1  \\\n",
       "index                                                                            3   \n",
       "distinct_dates                                           2024-02-04 00:00:00+00:00   \n",
       "user_type                                          r5.742_tc55_avglc21216_sdlc7829   \n",
       "plug_in_time                                             2024-02-04 19:20:24+00:00   \n",
       "unplug_time                                       2024-02-04 23:03:20.042497+00:00   \n",
       "initial_charge                                                            0.585984   \n",
       "total_seconds_to_95                                                   12552.267144   \n",
       "full_charge_time                               2024-02-04 22:49:36.267144481+00:00   \n",
       "length_plugged_in                                                     13376.042497   \n",
       "charged_kWh_actual                                                       20.020866   \n",
       "final_perc_charged                                                            0.95   \n",
       "final_charge_time                              2024-02-04 22:49:36.267144481+00:00   \n",
       "uncharged                                                                    False   \n",
       "total_capacity                                                                  55   \n",
       "power_output_rate                                                            5.742   \n",
       "MWh_fraction                                                              0.000478   \n",
       "number_intervals_drawing_power                                            41.84089   \n",
       "charge_MWh_needed                                                         0.020021   \n",
       "total_intervals_plugged_in                                                      45   \n",
       "moer_actuals                                                              23.19146   \n",
       "moer_data                                           point_time   value         ...   \n",
       "charger                          <watttime.shared_anniez.alg.optCharger.OptChar...   \n",
       "charging_schedule                [0.0004785, 0.0004785, 0.0004785, 0.0004785, 0...   \n",
       "projected_charging_cost_to_full                                          25.046843   \n",
       "charger_greedy                   <watttime.shared_anniez.alg.optCharger.OptChar...   \n",
       "greedy_cost                                                              25.067179   \n",
       "\n",
       "                                                                                 2  \\\n",
       "index                                                                            6   \n",
       "distinct_dates                                           2024-02-07 00:00:00+00:00   \n",
       "user_type                                          r5.742_tc55_avglc21216_sdlc7829   \n",
       "plug_in_time                                             2024-02-07 18:13:36+00:00   \n",
       "unplug_time                                       2024-02-08 00:54:40.309282+00:00   \n",
       "initial_charge                                                            0.384204   \n",
       "total_seconds_to_95                                                   19510.207175   \n",
       "full_charge_time                               2024-02-07 23:38:46.207175220+00:00   \n",
       "length_plugged_in                                                     24064.309282   \n",
       "charged_kWh_actual                                                        31.11878   \n",
       "final_perc_charged                                                            0.95   \n",
       "final_charge_time                              2024-02-07 23:38:46.207175220+00:00   \n",
       "uncharged                                                                    False   \n",
       "total_capacity                                                                  55   \n",
       "power_output_rate                                                            5.742   \n",
       "MWh_fraction                                                              0.000478   \n",
       "number_intervals_drawing_power                                           65.034024   \n",
       "charge_MWh_needed                                                         0.031119   \n",
       "total_intervals_plugged_in                                                      81   \n",
       "moer_actuals                                                             38.226886   \n",
       "moer_data                                           point_time   value         ...   \n",
       "charger                          <watttime.shared_anniez.alg.optCharger.OptChar...   \n",
       "charging_schedule                [0.0004785, 0.0004785, 0.0004785, 0.0004785, 0...   \n",
       "projected_charging_cost_to_full                                          38.882671   \n",
       "charger_greedy                   <watttime.shared_anniez.alg.optCharger.OptChar...   \n",
       "greedy_cost                                                              39.056462   \n",
       "\n",
       "                                                                                 3  \\\n",
       "index                                                                            8   \n",
       "distinct_dates                                           2024-02-09 00:00:00+00:00   \n",
       "user_type                                          r5.742_tc55_avglc21216_sdlc7829   \n",
       "plug_in_time                                             2024-02-09 20:53:20+00:00   \n",
       "unplug_time                                       2024-02-10 03:39:04.627557+00:00   \n",
       "initial_charge                                                            0.433035   \n",
       "total_seconds_to_95                                                   17826.395873   \n",
       "full_charge_time                               2024-02-10 01:50:26.395873246+00:00   \n",
       "length_plugged_in                                                     24344.627557   \n",
       "charged_kWh_actual                                                       28.433101   \n",
       "final_perc_charged                                                            0.95   \n",
       "final_charge_time                              2024-02-10 01:50:26.395873246+00:00   \n",
       "uncharged                                                                    False   \n",
       "total_capacity                                                                  55   \n",
       "power_output_rate                                                            5.742   \n",
       "MWh_fraction                                                              0.000478   \n",
       "number_intervals_drawing_power                                            59.42132   \n",
       "charge_MWh_needed                                                         0.028433   \n",
       "total_intervals_plugged_in                                                      82   \n",
       "moer_actuals                                                             34.882171   \n",
       "moer_data                                           point_time   value         ...   \n",
       "charger                          <watttime.shared_anniez.alg.optCharger.OptChar...   \n",
       "charging_schedule                [0.0004785, 0.0004785, 0.0004785, 0.0004785, 0...   \n",
       "projected_charging_cost_to_full                                          35.276025   \n",
       "charger_greedy                   <watttime.shared_anniez.alg.optCharger.OptChar...   \n",
       "greedy_cost                                                              35.409144   \n",
       "\n",
       "                                                                                 4  \n",
       "index                                                                            9  \n",
       "distinct_dates                                           2024-02-10 00:00:00+00:00  \n",
       "user_type                                          r5.742_tc55_avglc21216_sdlc7829  \n",
       "plug_in_time                                             2024-02-10 17:12:52+00:00  \n",
       "unplug_time                                       2024-02-11 00:34:57.961801+00:00  \n",
       "initial_charge                                                            0.428565  \n",
       "total_seconds_to_95                                                   17980.500701  \n",
       "full_charge_time                               2024-02-10 22:12:32.500701037+00:00  \n",
       "length_plugged_in                                                     26525.961801  \n",
       "charged_kWh_actual                                                       28.678899  \n",
       "final_perc_charged                                                            0.95  \n",
       "final_charge_time                              2024-02-10 22:12:32.500701037+00:00  \n",
       "uncharged                                                                    False  \n",
       "total_capacity                                                                  55  \n",
       "power_output_rate                                                            5.742  \n",
       "MWh_fraction                                                              0.000478  \n",
       "number_intervals_drawing_power                                           59.935002  \n",
       "charge_MWh_needed                                                         0.028679  \n",
       "total_intervals_plugged_in                                                      89  \n",
       "moer_actuals                                                             33.695492  \n",
       "moer_data                                           point_time   value         ...  \n",
       "charger                          <watttime.shared_anniez.alg.optCharger.OptChar...  \n",
       "charging_schedule                [0.0004785, 0.0004785, 0.0004785, 0.0004785, 0...  \n",
       "projected_charging_cost_to_full                                          35.176927  \n",
       "charger_greedy                   <watttime.shared_anniez.alg.optCharger.OptChar...  \n",
       "greedy_cost                                                               35.26813  "
      ]
     },
     "execution_count": 51,
     "metadata": {},
     "output_type": "execute_result"
    }
   ],
   "source": [
    "data_50_examples_trial.T"
   ]
  },
  {
   "cell_type": "code",
   "execution_count": 52,
   "metadata": {},
   "outputs": [
    {
     "data": {
      "text/plain": [
       "0.4677819999999997"
      ]
     },
     "execution_count": 52,
     "metadata": {},
     "output_type": "execute_result"
    }
   ],
   "source": [
    "39.981546 - 39.513764"
   ]
  },
  {
   "cell_type": "code",
   "execution_count": null,
   "metadata": {},
   "outputs": [],
   "source": []
  }
 ],
 "metadata": {
  "kernelspec": {
   "display_name": "Python 3 (ipykernel)",
   "language": "python",
   "name": "python3"
  }
 },
 "nbformat": 4,
 "nbformat_minor": 2
}
