{
 "cells": [
  {
   "cell_type": "code",
   "execution_count": 1,
   "metadata": {},
   "outputs": [],
   "source": [
    "import os\n",
    "os.chdir(f\"/home/{os.getlogin()}/watttime-python-client-aer-algo\")\n",
    "\n",
    "import math\n",
    "import numpy as np\n",
    "import pandas as pd\n",
    "import datetime\n",
    "import pytz\n",
    "from datetime import datetime, timedelta\n",
    "from watttime import WattTimeForecast, WattTimeHistorical\n",
    "\n",
    "import optimizer.s3 as s3u\n",
    "import evaluation.eval_framework as efu\n",
    "\n",
    "import watttime.shared_anniez.alg.optCharger as optC\n",
    "import watttime.shared_anniez.alg.moer as Moer\n",
    "\n",
    "region = \"ERCOT_AUSTIN\"\n",
    "username = os.getenv(\"WATTTIME_USER\")\n",
    "password = os.getenv(\"WATTTIME_PASSWORD\")\n",
    "\n",
    "actual_data = WattTimeHistorical(username, password)\n",
    "hist_data = WattTimeForecast(username, password)\n",
    "\n",
    "s3 = s3u.s3_utils()\n",
    "key = '20240715_1k_synth_users.csv'\n",
    "generated_data = s3.load_csvdataframe(file=key)"
   ]
  },
  {
   "cell_type": "markdown",
   "metadata": {},
   "source": [
    "# Synthetic User Data"
   ]
  },
  {
   "cell_type": "code",
   "execution_count": 2,
   "metadata": {},
   "outputs": [],
   "source": [
    "synth_data = generated_data.copy(deep=True)\n",
    "\n",
    "synth_data[\"plug_in_time\"] = pd.to_datetime(synth_data[\"plug_in_time\"])\n",
    "synth_data[\"unplug_time\"] = pd.to_datetime(synth_data[\"unplug_time\"])"
   ]
  },
  {
   "cell_type": "code",
   "execution_count": 3,
   "metadata": {},
   "outputs": [],
   "source": [
    "# one user - 10 sessions - Feb 2024\n",
    "synth_data = synth_data.query('user_type == \"r4.736000000000001_tc95_avglc23868_sdlc7685\"').sample(10)"
   ]
  },
  {
   "cell_type": "markdown",
   "metadata": {},
   "source": [
    "## API Data"
   ]
  },
  {
   "cell_type": "code",
   "execution_count": 4,
   "metadata": {},
   "outputs": [],
   "source": [
    "synth_data['moer_data'] = synth_data.apply(\n",
    "    lambda x: efu.get_historical_fcst_data(\n",
    "    x.plug_in_time,\n",
    "    math.ceil(x.total_intervals_plugged_in),\n",
    "    region = region\n",
    "    ), axis = 1\n",
    ")\n",
    "\n",
    "synth_data['moer_data_actual'] = synth_data.apply(\n",
    "    lambda x: efu.get_historical_actual_data(\n",
    "    x.plug_in_time,\n",
    "    math.ceil(x.total_intervals_plugged_in),\n",
    "    region = region\n",
    "    ), axis = 1\n",
    ")"
   ]
  },
  {
   "cell_type": "markdown",
   "metadata": {},
   "source": [
    "## MOER - No Optimization - Actual Emissions"
   ]
  },
  {
   "cell_type": "code",
   "execution_count": 5,
   "metadata": {},
   "outputs": [],
   "source": [
    "synth_data['charger_baseline_actual'] = synth_data.apply(\n",
    "    lambda x: efu.get_schedule_and_cost(\n",
    "        x.MWh_fraction,\n",
    "        x.charged_kWh_actual / 1000,\n",
    "        math.ceil(x.total_intervals_plugged_in), # will throw an error if the plug in time is too shart to reach full charge, should soften to a warning\n",
    "        x.moer_data_actual,\n",
    "        asap = True\n",
    "        ), \n",
    "        axis = 1\n",
    "        )\n",
    "\n",
    "synth_data['baseline_actual_emissions'] = synth_data['charger_baseline_actual'].apply(\n",
    "    lambda  x: x.get_total_cost()\n",
    "    )"
   ]
  },
  {
   "cell_type": "code",
   "execution_count": 6,
   "metadata": {},
   "outputs": [
    {
     "data": {
      "text/plain": [
       "13    59.104096\n",
       "1     24.174517\n",
       "11    45.562688\n",
       "6     33.462997\n",
       "5     13.597845\n",
       "3     16.434315\n",
       "14    16.949749\n",
       "8     44.940693\n",
       "0     25.370752\n",
       "2     38.100331\n",
       "Name: baseline_actual_emissions, dtype: float64"
      ]
     },
     "execution_count": 6,
     "metadata": {},
     "output_type": "execute_result"
    }
   ],
   "source": [
    "synth_data['baseline_actual_emissions']"
   ]
  },
  {
   "cell_type": "markdown",
   "metadata": {},
   "source": [
    "## MOER - Simple Optimization - Forecast Emissions"
   ]
  },
  {
   "cell_type": "code",
   "execution_count": 7,
   "metadata": {},
   "outputs": [],
   "source": [
    "synth_data['charger_simple_forecast']= synth_data.apply(\n",
    "    lambda x: efu.get_schedule_and_cost(\n",
    "        x.MWh_fraction,\n",
    "        x.charged_kWh_actual / 1000,\n",
    "        math.ceil(x.total_intervals_plugged_in), # will throw an error if the plug in time is too shart to reach full charge, should soften to a warning\n",
    "        x.moer_data,\n",
    "        asap = False\n",
    "        ), \n",
    "        axis = 1\n",
    "        )\n",
    "\n",
    "synth_data['simple_estimated_emissions'] = synth_data['charger_simple_forecast'].apply(\n",
    "    lambda  x: x.get_total_cost()\n",
    "    )"
   ]
  },
  {
   "cell_type": "code",
   "execution_count": 29,
   "metadata": {},
   "outputs": [],
   "source": [
    "def get_total_emission(moer, schedule): \n",
    "    x = np.array(schedule).flatten()\n",
    "    return np.dot(moer[:x.shape[0]], x)"
   ]
  },
  {
   "cell_type": "code",
   "execution_count": 31,
   "metadata": {},
   "outputs": [
    {
     "data": {
      "text/plain": [
       "13    59.104096\n",
       "1     24.174517\n",
       "11    45.562688\n",
       "6     33.462997\n",
       "5     13.597845\n",
       "3     16.434315\n",
       "14    16.949749\n",
       "8     44.940693\n",
       "0     25.370752\n",
       "2     38.100331\n",
       "dtype: float64"
      ]
     },
     "execution_count": 31,
     "metadata": {},
     "output_type": "execute_result"
    }
   ],
   "source": [
    "synth_data.apply(\n",
    "    lambda x: get_total_emission(\n",
    "        x.moer_data_actual['value'],\n",
    "        x.charger_simple_forecast.get_schedule()\n",
    "    ),\n",
    "    axis = 1\n",
    ")"
   ]
  }
 ],
 "metadata": {
  "kernelspec": {
   "display_name": "Python 3 (ipykernel)",
   "language": "python",
   "name": "python3"
  },
  "language_info": {
   "codemirror_mode": {
    "name": "ipython",
    "version": 3
   },
   "file_extension": ".py",
   "mimetype": "text/x-python",
   "name": "python",
   "nbconvert_exporter": "python",
   "pygments_lexer": "ipython3",
   "version": "3.9.16"
  }
 },
 "nbformat": 4,
 "nbformat_minor": 2
}
