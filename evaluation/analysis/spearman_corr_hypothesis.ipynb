{
 "cells": [
  {
   "cell_type": "code",
   "execution_count": 1,
   "metadata": {},
   "outputs": [],
   "source": [
    "%reload_ext autoreload\n",
    "%autoreload 2\n",
    "\n",
    "import os\n",
    "\n",
    "os.chdir(f\"/home/{os.getlogin()}/watttime-python-client-aer-algo\")\n",
    "\n",
    "import pickle\n",
    "from watttime import WattTimeForecast, WattTimeHistorical\n",
    "import data.s3 as s3u\n",
    "from datetime import datetime\n",
    "import seaborn as sns\n",
    "\n",
    "import pandas as pd\n",
    "import seaborn as sns\n",
    "import numpy as np\n",
    "import matplotlib.pyplot as plt"
   ]
  },
  {
   "cell_type": "code",
   "execution_count": 21,
   "metadata": {},
   "outputs": [],
   "source": [
    "historic_forecast_cache = pickle.loads(\"pjm_fore.pkl\")\n",
    "\n",
    "dfs = []\n",
    "for key in historic_forecast_cache.keys():\n",
    "    data = historic_forecast_cache[key]\n",
    "    dfs.append(data)\n",
    "df_pjm_forecast = pd.concat(dfs)\n",
    "df_pjm_forecast[\"point_time\"] = pd.to_datetime(df_pjm_forecast[\"point_time\"])\n",
    "\n",
    "pjm_actual = s3.load_file(file=\"pjm_actual.pkl\")\n",
    "historic_actual_cache = pickle.loads(pjm_actual)\n",
    "\n",
    "dfs = []\n",
    "for key in historic_actual_cache.keys():\n",
    "    data = historic_actual_cache[key]\n",
    "    dfs.append(data)\n",
    "df_pjm_actual = pd.concat(dfs)\n",
    "\n",
    "df_pjm_actual.columns = [\"point_time\", \"value_actual\"]\n",
    "df_pjm_forecast.columns = [\"point_time\", \"value_forecast\", \"generated_at\"]\n",
    "df = df_pjm_forecast.merge(df_pjm_actual, on=\"point_time\")\n",
    "df[\"date\"] = df[\"point_time\"].dt.date"
   ]
  },
  {
   "cell_type": "code",
   "execution_count": 36,
   "metadata": {},
   "outputs": [
    {
     "data": {
      "text/plain": [
       "(30909435, 3)"
      ]
     },
     "execution_count": 36,
     "metadata": {},
     "output_type": "execute_result"
    }
   ],
   "source": [
    "df.shape\n",
    "del df_pjm_forecast\n",
    "del df_pjm_actual"
   ]
  },
  {
   "cell_type": "code",
   "execution_count": 39,
   "metadata": {},
   "outputs": [
    {
     "data": {
      "text/html": [
       "<div>\n",
       "<style scoped>\n",
       "    .dataframe tbody tr th:only-of-type {\n",
       "        vertical-align: middle;\n",
       "    }\n",
       "\n",
       "    .dataframe tbody tr th {\n",
       "        vertical-align: top;\n",
       "    }\n",
       "\n",
       "    .dataframe thead th {\n",
       "        text-align: right;\n",
       "    }\n",
       "</style>\n",
       "<table border=\"1\" class=\"dataframe\">\n",
       "  <thead>\n",
       "    <tr style=\"text-align: right;\">\n",
       "      <th></th>\n",
       "      <th>value_forecast</th>\n",
       "      <th>value_actual</th>\n",
       "    </tr>\n",
       "  </thead>\n",
       "  <tbody>\n",
       "    <tr>\n",
       "      <th>value_forecast</th>\n",
       "      <td>1.00000</td>\n",
       "      <td>0.69345</td>\n",
       "    </tr>\n",
       "    <tr>\n",
       "      <th>value_actual</th>\n",
       "      <td>0.69345</td>\n",
       "      <td>1.00000</td>\n",
       "    </tr>\n",
       "  </tbody>\n",
       "</table>\n",
       "</div>"
      ],
      "text/plain": [
       "                value_forecast  value_actual\n",
       "value_forecast         1.00000       0.69345\n",
       "value_actual           0.69345       1.00000"
      ]
     },
     "execution_count": 39,
     "metadata": {},
     "output_type": "execute_result"
    }
   ],
   "source": [
    "df[[\"value_forecast\", \"value_actual\"]].corr(method=\"spearman\")"
   ]
  },
  {
   "cell_type": "code",
   "execution_count": 40,
   "metadata": {},
   "outputs": [],
   "source": [
    "corrs = df.groupby([\"date\"])[[\"value_forecast\", \"value_actual\"]].corr(method=\"spearman\")\n",
    "corrs = corrs[corrs[\"value_forecast\"] < 1].reset_index()[[\"date\", \"value_forecast\"]]\n",
    "corrs.columns = [\"date\", \"spearman_corr\"]"
   ]
  },
  {
   "cell_type": "code",
   "execution_count": 49,
   "metadata": {},
   "outputs": [
    {
     "data": {
      "text/html": [
       "<div>\n",
       "<style scoped>\n",
       "    .dataframe tbody tr th:only-of-type {\n",
       "        vertical-align: middle;\n",
       "    }\n",
       "\n",
       "    .dataframe tbody tr th {\n",
       "        vertical-align: top;\n",
       "    }\n",
       "\n",
       "    .dataframe thead th {\n",
       "        text-align: right;\n",
       "    }\n",
       "</style>\n",
       "<table border=\"1\" class=\"dataframe\">\n",
       "  <thead>\n",
       "    <tr style=\"text-align: right;\">\n",
       "      <th></th>\n",
       "      <th>spearman_corr</th>\n",
       "    </tr>\n",
       "  </thead>\n",
       "  <tbody>\n",
       "    <tr>\n",
       "      <th>count</th>\n",
       "      <td>473.000000</td>\n",
       "    </tr>\n",
       "    <tr>\n",
       "      <th>mean</th>\n",
       "      <td>0.549475</td>\n",
       "    </tr>\n",
       "    <tr>\n",
       "      <th>std</th>\n",
       "      <td>0.273750</td>\n",
       "    </tr>\n",
       "    <tr>\n",
       "      <th>min</th>\n",
       "      <td>-0.251379</td>\n",
       "    </tr>\n",
       "    <tr>\n",
       "      <th>25%</th>\n",
       "      <td>0.370234</td>\n",
       "    </tr>\n",
       "    <tr>\n",
       "      <th>50%</th>\n",
       "      <td>0.629343</td>\n",
       "    </tr>\n",
       "    <tr>\n",
       "      <th>75%</th>\n",
       "      <td>0.770870</td>\n",
       "    </tr>\n",
       "    <tr>\n",
       "      <th>max</th>\n",
       "      <td>0.938469</td>\n",
       "    </tr>\n",
       "  </tbody>\n",
       "</table>\n",
       "</div>"
      ],
      "text/plain": [
       "       spearman_corr\n",
       "count     473.000000\n",
       "mean        0.549475\n",
       "std         0.273750\n",
       "min        -0.251379\n",
       "25%         0.370234\n",
       "50%         0.629343\n",
       "75%         0.770870\n",
       "max         0.938469"
      ]
     },
     "execution_count": 49,
     "metadata": {},
     "output_type": "execute_result"
    }
   ],
   "source": [
    "corrs.describe()"
   ]
  },
  {
   "cell_type": "code",
   "execution_count": 52,
   "metadata": {},
   "outputs": [
    {
     "data": {
      "text/plain": [
       "<Axes: ylabel='spearman_corr'>"
      ]
     },
     "execution_count": 52,
     "metadata": {},
     "output_type": "execute_result"
    },
    {
     "data": {
      "image/png": "[encoded data removed]",
      "text/plain": [
       "<Figure size 640x480 with 1 Axes>"
      ]
     },
     "metadata": {},
     "output_type": "display_data"
    }
   ],
   "source": [
    "sns.boxplot(corrs[\"spearman_corr\"])"
   ]
  },
  {
   "cell_type": "code",
   "execution_count": null,
   "metadata": {},
   "outputs": [],
   "source": []
  },
  {
   "cell_type": "code",
   "execution_count": 53,
   "metadata": {},
   "outputs": [
    {
     "name": "stdout",
     "output_type": "stream",
     "text": [
      "Successful S3 put_object response. Status - 200\n"
     ]
    }
   ],
   "source": [
    "s3.store_csvdataframe(corrs, \"pjm_spearman_corrs.csv\")"
   ]
  },
  {
   "cell_type": "code",
   "execution_count": null,
   "metadata": {},
   "outputs": [],
   "source": [
    "regions = [\n",
    "    \"CAISO_NORTH\",\n",
    "    \"SPP_TX\",\n",
    "    \"ERCOT_EASTTX\",\n",
    "    \"FPL\",\n",
    "    \"SOCO\",\n",
    "    \"PJM_CHICAGO\",\n",
    "    \"PJM_DC\",\n",
    "    \"LDWP\",\n",
    "    \"NYISO_NYC\",\n",
    "]\n",
    "\n",
    "dfs = []\n",
    "for r in regions:\n",
    "    print(r)\n",
    "    results_key = f\"results/20240726_1k_synth_users_163_days_{r}.csv\"\n",
    "    data = s3.load_csvdataframe(file=results_key)\n",
    "    data[\"region\"] = r\n",
    "    dfs.append(data)\n",
    "    del data\n",
    "results_data = pd.concat(dfs)"
   ]
  },
  {
   "cell_type": "code",
   "execution_count": null,
   "metadata": {},
   "outputs": [],
   "source": [
    "results_data[\"ideal_difference\"] = (\n",
    "    results_data[\"simple_ideal_emissions\"] - results_data[\"simple_actual_emissions\"]\n",
    ")\n",
    "results_data[\"baseline_difference\"] = (\n",
    "    results_data[\"simple_actual_emissions\"] - results_data[\"baseline_actual_emissions\"]\n",
    ")\n",
    "results_data[\"estimated_difference\"] = (\n",
    "    results_data[\"simple_actual_emissions\"] - results_data[\"simple_estimated_emissions\"]\n",
    ")\n",
    "results_data[\"largest_possible_difference\"] = (\n",
    "    results_data[\"simple_ideal_emissions\"] - results_data[\"baseline_actual_emissions\"]\n",
    ")\n",
    "\n",
    "results_data[\"largest_difference_normalized\"] = np.divide(\n",
    "    results_data[\"largest_possible_difference\"], results_data[\"power_output_rate\"]\n",
    ")\n",
    "results_data[\"baseline_difference_normalized\"] = np.divide(\n",
    "    results_data[\"baseline_difference\"], results_data[\"power_output_rate\"]\n",
    ")\n",
    "results_data[\"optimization_possible\"] = results_data[\"largest_possible_difference\"] < 0\n",
    "\n",
    "results_data[\"session_start_time_of_day\"] = pd.to_datetime(\n",
    "    results_data[\"session_start_time\"]\n",
    ").dt.time\n",
    "results_data[\"yyyy-mm\"] = results_data[\"distinct_dates\"].str[:7]"
   ]
  },
  {
   "cell_type": "markdown",
   "metadata": {},
   "source": [
    "- overall "
   ]
  },
  {
   "cell_type": "code",
   "execution_count": null,
   "metadata": {},
   "outputs": [],
   "source": [
    "grouped_data = (\n",
    "    results_data.groupby([\"distinct_dates\", \"region\"])[\"largest_possible_difference\"]\n",
    "    .sum()\n",
    "    .reset_index()\n",
    ")\n",
    "g = sns.FacetGrid(\n",
    "    grouped_data,\n",
    "    col=\"region\",\n",
    "    col_wrap=3,\n",
    "    sharex=False,\n",
    "    sharey=False,\n",
    "    height=4,\n",
    "    aspect=1,\n",
    ")\n",
    "\n",
    "\n",
    "def plot_sum(data, **kwargs):\n",
    "    ax = sns.lineplot(\n",
    "        data=data, x=\"distinct_dates\", y=\"largest_possible_difference\", **kwargs\n",
    "    )\n",
    "    xticks = ax.get_xticks()\n",
    "    ax.set_xticks(\n",
    "        xticks[:: max(1, len(xticks) // 4)]\n",
    "    )  # Reduce the number of xticks to a maximum of 4\n",
    "    ax.set_xticklabels(ax.get_xticklabels(), rotation=45)\n",
    "\n",
    "\n",
    "g.map_dataframe(plot_sum)\n",
    "g.set_titles(col_template=\"{col_name}\")\n",
    "g.set_axis_labels(\"Distinct Dates\", \"Sum of largest possible difference by date\")\n",
    "plt.show()"
   ]
  },
  {
   "cell_type": "code",
   "execution_count": null,
   "metadata": {},
   "outputs": [],
   "source": [
    "# add hue of spearman corr\n",
    "g = sns.FacetGrid(results_data, col=\"region\", col_wrap=3)\n",
    "g.map(sns.scatterplot, \"largest_possible_difference\", \"baseline_difference\")"
   ]
  }
 ],
 "metadata": {
  "kernelspec": {
   "display_name": "Python 3 (ipykernel)",
   "language": "python",
   "name": "python3"
  }
 },
 "nbformat": 4,
 "nbformat_minor": 2
}
