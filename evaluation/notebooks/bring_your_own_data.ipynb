{
 "cells": [
  {
   "cell_type": "code",
   "execution_count": 1,
   "metadata": {},
   "outputs": [],
   "source": [
    "# Bring Your Own Data"
   ]
  },
  {
   "cell_type": "code",
   "execution_count": null,
   "metadata": {},
   "outputs": [],
   "source": [
    "import os\n",
    "os.chdir(f\"/home/{os.getlogin()}/watttime-python-client-aer-algo\")\n",
    "\n",
    "import evaluation.metrics as m\n",
    "import evaluation.eval_framework as evu\n",
    "import pandas as pd\n",
    "import math\n",
    "\n",
    "username = os.getenv(\"WATTTIME_USER\")\n",
    "password = os.getenv(\"WATTTIME_PASSWORD\")"
   ]
  },
  {
   "cell_type": "code",
   "execution_count": null,
   "metadata": {},
   "outputs": [],
   "source": [
    "## Required fields\n",
    "- time_needed: int\n",
    "- total_intervals: int\n",
    "- power_rate: float in kWh or MWh\n",
    "- session_start_time: datetime64[ns] '2023-06-07 16:19:10'"
   ]
  },
  {
   "cell_type": "code",
   "execution_count": null,
   "metadata": {},
   "outputs": [],
   "source": [
    "def sanitize_time_needed(x,y):\n",
    "    return int(math.ceil(min(x, y) / 300.0) * 5)\n",
    "\n",
    "def sanitize_total_intervals(x):\n",
    "    return math.ceil(x)"
   ]
  },
  {
   "cell_type": "code",
   "execution_count": null,
   "metadata": {},
   "outputs": [],
   "source": [
    "# Required fields are time_needed, total_intervals, power_rate, and session_start_time\n",
    "FILE_PATH = ''\n",
    "REGION = '' # i.e. PJM_DC\n",
    "\n",
    "df = pd.read_csv(FILE_PATH)"
   ]
  },
  {
   "cell_type": "code",
   "execution_count": null,
   "metadata": {},
   "outputs": [],
   "source": [
    "df[\"moer_forecast\"] = df.apply(\n",
    "    lambda x: evu.get_historical_fcst_data(\n",
    "        sanitize_time_needed(x.session_start_time), \n",
    "        sanitize_total_intervals(x.total_intervals),\n",
    "        region=REGION\n",
    "    ),\n",
    "    axis=1,\n",
    ")\n",
    "\n",
    "df[\"moer_actual\"] = df.apply(\n",
    "    lambda x: evu.get_historical_actual_data(\n",
    "        sanitize_time_needed(x.session_start_time), \n",
    "        sanitize_total_intervals(x.total_intervals),\n",
    "        region=REGION\n",
    "    ),\n",
    "    axis=1,\n",
    ")"
   ]
  },
  {
   "cell_type": "code",
   "execution_count": null,
   "metadata": {},
   "outputs": [],
   "source": [
    "def run_optimization_functions(\n",
    "        df: pd.DataFrame, \n",
    "        contiguous=False,\n",
    "        time_needed_col:str = \"time_needed\",\n",
    "        total_intervals_col:str = \"total_intervals\",\n",
    "        power_rate_col:str = \"power_rate\"\n",
    "        ):\n",
    "    # Lambda functions for common operations\n",
    "    get_charging_schedule = lambda x: x[\"usage\"].values.flatten()\n",
    "    get_total_emissions = lambda x: x[\"emissions_co2e_lb\"].sum()\n",
    "    \n",
    "    # Sanitize input data\n",
    "    df[\"sanitize_intervals_plugged_in\"] = df.apply(lambda x: sanitize_total_intervals(x.total_intervals_plugged_in), axis=1)\n",
    "    df[\"sanitize_time_needed\"] = df.apply(lambda x: sanitize_time_needed(x.total_seconds_to_95, x.length_of_session_in_seconds), axis=1)\n",
    "    \n",
    "    # Helper function for charge_per_interval\n",
    "    def charge_per_interval_func(x, contiguous=False):\n",
    "        return [(0, x)] if contiguous else []\n",
    "    \n",
    "    # Function to apply optimization\n",
    "    def apply_optimization(row, moer_data, optimization_method):\n",
    "        return evu.get_schedule_and_cost_api(\n",
    "            usage_power_kw=row.power_output_rate,\n",
    "            time_needed=row.sanitize_time_needed,\n",
    "            total_time_horizon=row.sanitize_intervals_plugged_in,\n",
    "            moer_data=moer_data,\n",
    "            optimization_method=optimization_method,\n",
    "            charge_per_interval=charge_per_interval_func(row.sanitize_time_needed, contiguous=contiguous)\n",
    "        )\n",
    "    \n",
    "    # Apply optimizations\n",
    "    df[\"optimizer_baseline\"] = df.apply(lambda x: apply_optimization(x, x.moer_actual, \"baseline\"), axis=1)\n",
    "    df[\"optimizer_ideal\"] = df.apply(lambda x: apply_optimization(x, x.moer_actual, \"auto\"), axis=1)\n",
    "    df[\"optimizer_simple\"] = df.apply(lambda x: apply_optimization(x, x.moer_forecast, \"auto\"), axis=1)\n",
    "    \n",
    "    # Calculate emissions and charging schedules\n",
    "    df[\"charging_schedule\"] = df[\"optimizer_simple\"].apply(get_charging_schedule)\n",
    "    df[\"baseline_emissions\"] = df[\"optimizer_baseline\"].apply(get_total_emissions)\n",
    "    df[\"ideal_charging_schedule\"] = df[\"optimizer_ideal\"].apply(get_charging_schedule)\n",
    "    df[\"ideal_emissions\"] = df[\"optimizer_ideal\"].apply(get_total_emissions)\n",
    "    df[\"forecast_emissions\"] = df[\"optimizer_simple\"].apply(get_total_emissions)\n",
    "    \n",
    "    # Calculate actual emissions\n",
    "    df[\"actual_emissions\"] = df.apply(\n",
    "        lambda x: evu.get_total_emission(\n",
    "            x.moer_actual[\"value\"],\n",
    "            x.optimizer_simple.energy_usage_mwh\n",
    "        ),\n",
    "        axis=1\n",
    "    )\n",
    "    \n",
    "    return df"
   ]
  }
 ],
 "metadata": {
  "kernelspec": {
   "display_name": "Python 3",
   "language": "python",
   "name": "python3"
  },
  "language_info": {
   "codemirror_mode": {
    "name": "ipython",
    "version": 3
   },
   "file_extension": ".py",
   "mimetype": "text/x-python",
   "name": "python",
   "nbconvert_exporter": "python",
   "pygments_lexer": "ipython3",
   "version": "3.9.16"
  }
 },
 "nbformat": 4,
 "nbformat_minor": 2
}
