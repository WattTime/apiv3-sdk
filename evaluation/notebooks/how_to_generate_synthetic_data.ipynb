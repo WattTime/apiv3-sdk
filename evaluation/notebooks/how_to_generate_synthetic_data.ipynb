{
 "cells": [
  {
   "cell_type": "markdown",
   "id": "5f92e716",
   "metadata": {},
   "source": [
    "# Synthetic Data Generation + Usage Example"
   ]
  },
  {
   "cell_type": "code",
   "execution_count": 1,
   "id": "aac8e781-d6fb-44da-a35f-29b209421ce8",
   "metadata": {},
   "outputs": [],
   "source": [
    "import os\n",
    "os.chdir(f\"/home/{os.getlogin()}/watttime-python-client-aer-algo\")\n",
    "\n",
    "import pandas as pd\n",
    "import evaluation.eval_framework as evu\n",
    "import math\n",
    "\n",
    "import seaborn as sns\n",
    "import matplotlib.pyplot as plt\n",
    "import evaluation.metrics as m\n",
    "\n",
    "username = os.getenv(\"WATTTIME_USER\")\n",
    "password = os.getenv(\"WATTTIME_PASSWORD\")"
   ]
  },
  {
   "cell_type": "markdown",
   "id": "9eed4d88",
   "metadata": {},
   "source": [
    "## Step 1: Generate a year of data\n",
    "- two random dates chosen per week\n",
    "- Max date is yesterday\n",
    "- duplicate dates removed"
   ]
  },
  {
   "cell_type": "code",
   "execution_count": 2,
   "id": "085336f2",
   "metadata": {},
   "outputs": [],
   "source": [
    "dates_2023 = evu.generate_random_dates(2023)\n",
    "dates_2024 = evu.generate_random_dates(2024)\n",
    "distinct_date_list = dates_2023 + dates_2024"
   ]
  },
  {
   "cell_type": "markdown",
   "id": "d9e3a417",
   "metadata": {},
   "source": [
    "## Step 2: Set keyword parameters + generate dataframe"
   ]
  },
  {
   "cell_type": "markdown",
   "id": "2133bf76",
   "metadata": {},
   "source": [
    "### Example: At home EV charging\n",
    "\n",
    "- Covers a 5.5 - 8.5 hour variable length window\n",
    "- The vehicle has a BMW and has an average power draw of 42.5\n",
    "- Battery is usually typically 50% charged at plug in time.\n",
    "- Charging occurs during the workday"
   ]
  },
  {
   "cell_type": "code",
   "execution_count": 3,
   "id": "766e4c1a",
   "metadata": {},
   "outputs": [],
   "source": [
    "ev_kwargs = {\n",
    "    \"power_output_max_rates\": [42.5], # BMW average\n",
    "    \"max_percent_capacity\": 0.95,  # highest level of charge achieved by battery\n",
    "    \"power_output_efficiency\": 0.75,  # power loss. 1 = no power loss.\n",
    "    \"average_battery_starting_capacity\": 0.5,  # average starting percent charged\n",
    "    \"start_hour\": \"09:00:00\",  # earliest session can start\n",
    "    \"end_hour\": \"17:00:00\",  # latest session can start\n",
    "}"
   ]
  },
  {
   "cell_type": "markdown",
   "id": "fe378990",
   "metadata": {},
   "source": [
    "### Example: AI Model Training\n",
    "\n",
    "- Model training can occur at any time of day\n",
    "- There are 3 server models that consume 240, 310, and 400 watt-hour on average\n",
    "- Early stopping is not an option"
   ]
  },
  {
   "cell_type": "code",
   "execution_count": 4,
   "id": "aef53564",
   "metadata": {},
   "outputs": [],
   "source": [
    "# criteria\n",
    "ai_kwargs = {\n",
    "    \"power_output_max_rates\": [240,310,400], # assuming a bare metal usecase, k8s or vm rescale to vCPU\n",
    "    \"start_hour\": \"00:00:00\",  # earliest session can start\n",
    "    \"end_hour\": \"23:59:00\",  # latest session can start\n",
    "    \"user_charge_tolerance\":1.0 # job must run to completion\n",
    "}"
   ]
  },
  {
   "cell_type": "markdown",
   "id": "272839f0",
   "metadata": {},
   "source": [
    "## Step 3: Generate dataframe for x # of synthetic users\n",
    "- synthetic user = user behavior + device characteristics"
   ]
  },
  {
   "cell_type": "code",
   "execution_count": 8,
   "id": "06af13f5",
   "metadata": {},
   "outputs": [
    {
     "name": "stderr",
     "output_type": "stream",
     "text": [
      "100%|██████████| 1/1 [00:00<00:00, 47.78it/s]\n"
     ]
    }
   ],
   "source": [
    "# generating data for 1 vehicle\n",
    "df_ev = evu.execute_synth_data_process(\n",
    "    distinct_date_list=distinct_date_list, number_of_users=1, **ev_kwargs\n",
    ")"
   ]
  },
  {
   "cell_type": "code",
   "execution_count": 9,
   "id": "dcfddb36-1bdf-404c-b90f-6a2531d734ca",
   "metadata": {},
   "outputs": [
    {
     "name": "stderr",
     "output_type": "stream",
     "text": [
      "100%|██████████| 5/5 [00:00<00:00, 48.63it/s]\n"
     ]
    }
   ],
   "source": [
    "# generating data for 5 AI models\n",
    "df_ai = evu.execute_synth_data_process(\n",
    "    distinct_date_list=distinct_date_list, number_of_users=5, **ai_kwargs\n",
    ")"
   ]
  },
  {
   "cell_type": "code",
   "execution_count": 6,
   "id": "f3bcb068",
   "metadata": {},
   "outputs": [
    {
     "data": {
      "text/plain": [
       "285   2023-11-25 11:02:17\n",
       "Name: session_start_time, dtype: datetime64[ns]"
      ]
     },
     "execution_count": 6,
     "metadata": {},
     "output_type": "execute_result"
    }
   ],
   "source": [
    "df_ai.session_start_time.sample(1)"
   ]
  },
  {
   "cell_type": "code",
   "execution_count": 30,
   "id": "501cc1ee",
   "metadata": {},
   "outputs": [
    {
     "name": "stdout",
     "output_type": "stream",
     "text": [
      "<class 'pandas.core.frame.DataFrame'>\n",
      "RangeIndex: 965 entries, 0 to 964\n",
      "Data columns (total 19 columns):\n",
      " #   Column                        Non-Null Count  Dtype         \n",
      "---  ------                        --------------  -----         \n",
      " 0   index                         965 non-null    int64         \n",
      " 1   distinct_dates                965 non-null    object        \n",
      " 2   user_type                     965 non-null    object        \n",
      " 3   session_start_time            965 non-null    datetime64[ns]\n",
      " 4   session_end_time              965 non-null    datetime64[ns]\n",
      " 5   initial_charge                965 non-null    float64       \n",
      " 6   total_seconds_to_95           965 non-null    float64       \n",
      " 7   full_charge_time              965 non-null    datetime64[ns]\n",
      " 8   length_of_session_in_seconds  965 non-null    float64       \n",
      " 9   charged_kWh_actual            965 non-null    float64       \n",
      " 10  final_perc_charged            965 non-null    float64       \n",
      " 11  final_charge_time             965 non-null    datetime64[ns]\n",
      " 12  uncharged                     965 non-null    bool          \n",
      " 13  total_capacity                965 non-null    int64         \n",
      " 14  power_output_rate             965 non-null    float64       \n",
      " 15  total_intervals_plugged_in    965 non-null    float64       \n",
      " 16  charge_MWh_needed             965 non-null    float64       \n",
      " 17  charged_MWh_actual            965 non-null    float64       \n",
      " 18  MWh_fraction                  965 non-null    float64       \n",
      "dtypes: bool(1), datetime64[ns](4), float64(10), int64(2), object(2)\n",
      "memory usage: 136.8+ KB\n"
     ]
    }
   ],
   "source": [
    "df_ai.info()"
   ]
  },
  {
   "cell_type": "code",
   "execution_count": 29,
   "id": "12c3889c",
   "metadata": {},
   "outputs": [
    {
     "data": {
      "text/plain": [
       "array([[22526.456704, Timestamp('2023-01-03 03:17:26'),\n",
       "        Timestamp('2023-01-03 09:32:52.456704'), 75.08818901333333,\n",
       "        326.4],\n",
       "       [25685.231872, Timestamp('2023-01-04 06:20:50'),\n",
       "        Timestamp('2023-01-04 13:28:55.231872'), 85.61743957333333,\n",
       "        326.4],\n",
       "       [25384.434752, Timestamp('2023-01-13 11:05:16'),\n",
       "        Timestamp('2023-01-13 18:08:20.434752'), 84.61478250666667,\n",
       "        326.4],\n",
       "       [29067.455693, Timestamp('2023-01-14 13:56:37'),\n",
       "        Timestamp('2023-01-14 22:01:04.455693'), 96.89151897666666,\n",
       "        326.4],\n",
       "       [32333.332139, Timestamp('2023-01-19 07:52:55'),\n",
       "        Timestamp('2023-01-19 16:51:48.332139'), 107.77777379666666,\n",
       "        326.4]], dtype=object)"
      ]
     },
     "execution_count": 29,
     "metadata": {},
     "output_type": "execute_result"
    }
   ],
   "source": [
    "df_ai[[\"length_of_session_in_seconds\", \"session_start_time\",\"session_end_time\",\"total_intervals_plugged_in\",\"power_output_rate\"]].head(5).values"
   ]
  },
  {
   "cell_type": "code",
   "execution_count": 27,
   "id": "e82dfce0",
   "metadata": {},
   "outputs": [
    {
     "data": {
      "text/html": [
       "<div>\n",
       "<style scoped>\n",
       "    .dataframe tbody tr th:only-of-type {\n",
       "        vertical-align: middle;\n",
       "    }\n",
       "\n",
       "    .dataframe tbody tr th {\n",
       "        vertical-align: top;\n",
       "    }\n",
       "\n",
       "    .dataframe thead th {\n",
       "        text-align: right;\n",
       "    }\n",
       "</style>\n",
       "<table border=\"1\" class=\"dataframe\">\n",
       "  <thead>\n",
       "    <tr style=\"text-align: right;\">\n",
       "      <th></th>\n",
       "      <th>0</th>\n",
       "      <th>1</th>\n",
       "      <th>2</th>\n",
       "      <th>3</th>\n",
       "      <th>4</th>\n",
       "    </tr>\n",
       "  </thead>\n",
       "  <tbody>\n",
       "    <tr>\n",
       "      <th>index</th>\n",
       "      <td>0</td>\n",
       "      <td>1</td>\n",
       "      <td>2</td>\n",
       "      <td>3</td>\n",
       "      <td>4</td>\n",
       "    </tr>\n",
       "    <tr>\n",
       "      <th>distinct_dates</th>\n",
       "      <td>2023-01-03</td>\n",
       "      <td>2023-01-04</td>\n",
       "      <td>2023-01-13</td>\n",
       "      <td>2023-01-14</td>\n",
       "      <td>2023-01-19</td>\n",
       "    </tr>\n",
       "    <tr>\n",
       "      <th>user_type</th>\n",
       "      <td>r326.4_tc118_avglc27276_sdlc6935</td>\n",
       "      <td>r326.4_tc118_avglc27276_sdlc6935</td>\n",
       "      <td>r326.4_tc118_avglc27276_sdlc6935</td>\n",
       "      <td>r326.4_tc118_avglc27276_sdlc6935</td>\n",
       "      <td>r326.4_tc118_avglc27276_sdlc6935</td>\n",
       "    </tr>\n",
       "    <tr>\n",
       "      <th>session_start_time</th>\n",
       "      <td>2023-01-03 03:17:26</td>\n",
       "      <td>2023-01-04 06:20:50</td>\n",
       "      <td>2023-01-13 11:05:16</td>\n",
       "      <td>2023-01-14 13:56:37</td>\n",
       "      <td>2023-01-19 07:52:55</td>\n",
       "    </tr>\n",
       "    <tr>\n",
       "      <th>session_end_time</th>\n",
       "      <td>2023-01-03 09:32:52.456704</td>\n",
       "      <td>2023-01-04 13:28:55.231872</td>\n",
       "      <td>2023-01-13 18:08:20.434752</td>\n",
       "      <td>2023-01-14 22:01:04.455693</td>\n",
       "      <td>2023-01-19 16:51:48.332139</td>\n",
       "    </tr>\n",
       "    <tr>\n",
       "      <th>initial_charge</th>\n",
       "      <td>0.423465</td>\n",
       "      <td>0.537993</td>\n",
       "      <td>0.49766</td>\n",
       "      <td>0.509566</td>\n",
       "      <td>0.534225</td>\n",
       "    </tr>\n",
       "    <tr>\n",
       "      <th>total_seconds_to_95</th>\n",
       "      <td>685.269388</td>\n",
       "      <td>536.215432</td>\n",
       "      <td>588.707191</td>\n",
       "      <td>573.212247</td>\n",
       "      <td>541.118821</td>\n",
       "    </tr>\n",
       "    <tr>\n",
       "      <th>full_charge_time</th>\n",
       "      <td>2023-01-03 03:28:51.269388232</td>\n",
       "      <td>2023-01-04 06:29:46.215432289</td>\n",
       "      <td>2023-01-13 11:15:04.707190772</td>\n",
       "      <td>2023-01-14 14:06:10.212247100</td>\n",
       "      <td>2023-01-19 08:01:56.118820789</td>\n",
       "    </tr>\n",
       "    <tr>\n",
       "      <th>length_of_session_in_seconds</th>\n",
       "      <td>22526.456704</td>\n",
       "      <td>25685.231872</td>\n",
       "      <td>25384.434752</td>\n",
       "      <td>29067.455693</td>\n",
       "      <td>32333.332139</td>\n",
       "    </tr>\n",
       "    <tr>\n",
       "      <th>charged_kWh_actual</th>\n",
       "      <td>62.131091</td>\n",
       "      <td>48.616866</td>\n",
       "      <td>53.376119</td>\n",
       "      <td>51.971244</td>\n",
       "      <td>49.06144</td>\n",
       "    </tr>\n",
       "    <tr>\n",
       "      <th>final_perc_charged</th>\n",
       "      <td>0.95</td>\n",
       "      <td>0.95</td>\n",
       "      <td>0.95</td>\n",
       "      <td>0.95</td>\n",
       "      <td>0.95</td>\n",
       "    </tr>\n",
       "    <tr>\n",
       "      <th>final_charge_time</th>\n",
       "      <td>2023-01-03 03:28:51.269388232</td>\n",
       "      <td>2023-01-04 06:29:46.215432289</td>\n",
       "      <td>2023-01-13 11:15:04.707190772</td>\n",
       "      <td>2023-01-14 14:06:10.212247100</td>\n",
       "      <td>2023-01-19 08:01:56.118820789</td>\n",
       "    </tr>\n",
       "    <tr>\n",
       "      <th>uncharged</th>\n",
       "      <td>False</td>\n",
       "      <td>False</td>\n",
       "      <td>False</td>\n",
       "      <td>False</td>\n",
       "      <td>False</td>\n",
       "    </tr>\n",
       "    <tr>\n",
       "      <th>total_capacity</th>\n",
       "      <td>118</td>\n",
       "      <td>118</td>\n",
       "      <td>118</td>\n",
       "      <td>118</td>\n",
       "      <td>118</td>\n",
       "    </tr>\n",
       "    <tr>\n",
       "      <th>power_output_rate</th>\n",
       "      <td>326.4</td>\n",
       "      <td>326.4</td>\n",
       "      <td>326.4</td>\n",
       "      <td>326.4</td>\n",
       "      <td>326.4</td>\n",
       "    </tr>\n",
       "    <tr>\n",
       "      <th>total_intervals_plugged_in</th>\n",
       "      <td>75.088189</td>\n",
       "      <td>85.61744</td>\n",
       "      <td>84.614783</td>\n",
       "      <td>96.891519</td>\n",
       "      <td>107.777774</td>\n",
       "    </tr>\n",
       "    <tr>\n",
       "      <th>charge_MWh_needed</th>\n",
       "      <td>0.062131</td>\n",
       "      <td>0.048617</td>\n",
       "      <td>0.053376</td>\n",
       "      <td>0.051971</td>\n",
       "      <td>0.049061</td>\n",
       "    </tr>\n",
       "    <tr>\n",
       "      <th>charged_MWh_actual</th>\n",
       "      <td>0.062131</td>\n",
       "      <td>0.048617</td>\n",
       "      <td>0.053376</td>\n",
       "      <td>0.051971</td>\n",
       "      <td>0.049061</td>\n",
       "    </tr>\n",
       "    <tr>\n",
       "      <th>MWh_fraction</th>\n",
       "      <td>0.0272</td>\n",
       "      <td>0.0272</td>\n",
       "      <td>0.0272</td>\n",
       "      <td>0.0272</td>\n",
       "      <td>0.0272</td>\n",
       "    </tr>\n",
       "  </tbody>\n",
       "</table>\n",
       "</div>"
      ],
      "text/plain": [
       "                                                             0  \\\n",
       "index                                                        0   \n",
       "distinct_dates                                      2023-01-03   \n",
       "user_type                     r326.4_tc118_avglc27276_sdlc6935   \n",
       "session_start_time                         2023-01-03 03:17:26   \n",
       "session_end_time                    2023-01-03 09:32:52.456704   \n",
       "initial_charge                                        0.423465   \n",
       "total_seconds_to_95                                 685.269388   \n",
       "full_charge_time                 2023-01-03 03:28:51.269388232   \n",
       "length_of_session_in_seconds                      22526.456704   \n",
       "charged_kWh_actual                                   62.131091   \n",
       "final_perc_charged                                        0.95   \n",
       "final_charge_time                2023-01-03 03:28:51.269388232   \n",
       "uncharged                                                False   \n",
       "total_capacity                                             118   \n",
       "power_output_rate                                        326.4   \n",
       "total_intervals_plugged_in                           75.088189   \n",
       "charge_MWh_needed                                     0.062131   \n",
       "charged_MWh_actual                                    0.062131   \n",
       "MWh_fraction                                            0.0272   \n",
       "\n",
       "                                                             1  \\\n",
       "index                                                        1   \n",
       "distinct_dates                                      2023-01-04   \n",
       "user_type                     r326.4_tc118_avglc27276_sdlc6935   \n",
       "session_start_time                         2023-01-04 06:20:50   \n",
       "session_end_time                    2023-01-04 13:28:55.231872   \n",
       "initial_charge                                        0.537993   \n",
       "total_seconds_to_95                                 536.215432   \n",
       "full_charge_time                 2023-01-04 06:29:46.215432289   \n",
       "length_of_session_in_seconds                      25685.231872   \n",
       "charged_kWh_actual                                   48.616866   \n",
       "final_perc_charged                                        0.95   \n",
       "final_charge_time                2023-01-04 06:29:46.215432289   \n",
       "uncharged                                                False   \n",
       "total_capacity                                             118   \n",
       "power_output_rate                                        326.4   \n",
       "total_intervals_plugged_in                            85.61744   \n",
       "charge_MWh_needed                                     0.048617   \n",
       "charged_MWh_actual                                    0.048617   \n",
       "MWh_fraction                                            0.0272   \n",
       "\n",
       "                                                             2  \\\n",
       "index                                                        2   \n",
       "distinct_dates                                      2023-01-13   \n",
       "user_type                     r326.4_tc118_avglc27276_sdlc6935   \n",
       "session_start_time                         2023-01-13 11:05:16   \n",
       "session_end_time                    2023-01-13 18:08:20.434752   \n",
       "initial_charge                                         0.49766   \n",
       "total_seconds_to_95                                 588.707191   \n",
       "full_charge_time                 2023-01-13 11:15:04.707190772   \n",
       "length_of_session_in_seconds                      25384.434752   \n",
       "charged_kWh_actual                                   53.376119   \n",
       "final_perc_charged                                        0.95   \n",
       "final_charge_time                2023-01-13 11:15:04.707190772   \n",
       "uncharged                                                False   \n",
       "total_capacity                                             118   \n",
       "power_output_rate                                        326.4   \n",
       "total_intervals_plugged_in                           84.614783   \n",
       "charge_MWh_needed                                     0.053376   \n",
       "charged_MWh_actual                                    0.053376   \n",
       "MWh_fraction                                            0.0272   \n",
       "\n",
       "                                                             3  \\\n",
       "index                                                        3   \n",
       "distinct_dates                                      2023-01-14   \n",
       "user_type                     r326.4_tc118_avglc27276_sdlc6935   \n",
       "session_start_time                         2023-01-14 13:56:37   \n",
       "session_end_time                    2023-01-14 22:01:04.455693   \n",
       "initial_charge                                        0.509566   \n",
       "total_seconds_to_95                                 573.212247   \n",
       "full_charge_time                 2023-01-14 14:06:10.212247100   \n",
       "length_of_session_in_seconds                      29067.455693   \n",
       "charged_kWh_actual                                   51.971244   \n",
       "final_perc_charged                                        0.95   \n",
       "final_charge_time                2023-01-14 14:06:10.212247100   \n",
       "uncharged                                                False   \n",
       "total_capacity                                             118   \n",
       "power_output_rate                                        326.4   \n",
       "total_intervals_plugged_in                           96.891519   \n",
       "charge_MWh_needed                                     0.051971   \n",
       "charged_MWh_actual                                    0.051971   \n",
       "MWh_fraction                                            0.0272   \n",
       "\n",
       "                                                             4  \n",
       "index                                                        4  \n",
       "distinct_dates                                      2023-01-19  \n",
       "user_type                     r326.4_tc118_avglc27276_sdlc6935  \n",
       "session_start_time                         2023-01-19 07:52:55  \n",
       "session_end_time                    2023-01-19 16:51:48.332139  \n",
       "initial_charge                                        0.534225  \n",
       "total_seconds_to_95                                 541.118821  \n",
       "full_charge_time                 2023-01-19 08:01:56.118820789  \n",
       "length_of_session_in_seconds                      32333.332139  \n",
       "charged_kWh_actual                                    49.06144  \n",
       "final_perc_charged                                        0.95  \n",
       "final_charge_time                2023-01-19 08:01:56.118820789  \n",
       "uncharged                                                False  \n",
       "total_capacity                                             118  \n",
       "power_output_rate                                        326.4  \n",
       "total_intervals_plugged_in                          107.777774  \n",
       "charge_MWh_needed                                     0.049061  \n",
       "charged_MWh_actual                                    0.049061  \n",
       "MWh_fraction                                            0.0272  "
      ]
     },
     "execution_count": 27,
     "metadata": {},
     "output_type": "execute_result"
    }
   ],
   "source": [
    "df_ai.head().T"
   ]
  },
  {
   "cell_type": "markdown",
   "id": "4a71e3bc-6f36-42a3-9136-8843608e32d3",
   "metadata": {},
   "source": [
    "## Synth Data Distributions"
   ]
  },
  {
   "cell_type": "code",
   "execution_count": 10,
   "id": "bc3f0781-c09b-4e84-94c3-fa2632de863e",
   "metadata": {},
   "outputs": [
    {
     "data": {
      "text/plain": [
       "Text(0.5, 1.0, 'EV Synthetic Data - Charging Session Length (seconds)')"
      ]
     },
     "execution_count": 10,
     "metadata": {},
     "output_type": "execute_result"
    },
    {
     "data": {
      "image/png": "[encoded data removed]",
      "text/plain": [
       "<Figure size 640x480 with 1 Axes>"
      ]
     },
     "metadata": {},
     "output_type": "display_data"
    }
   ],
   "source": [
    "sns.histplot(df_ev[\"length_of_session_in_seconds\"]).set_title(\n",
    "    \"EV Synthetic Data - Charging Session Length (seconds)\"\n",
    ")"
   ]
  },
  {
   "cell_type": "code",
   "execution_count": 11,
   "id": "a4fdbc08",
   "metadata": {},
   "outputs": [
    {
     "data": {
      "text/plain": [
       "Text(0.5, 1.0, 'AI Synthetic Data - Training Session Length (seconds)')"
      ]
     },
     "execution_count": 11,
     "metadata": {},
     "output_type": "execute_result"
    },
    {
     "data": {
      "image/png": "[encoded data removed]",
      "text/plain": [
       "<Figure size 640x480 with 1 Axes>"
      ]
     },
     "metadata": {},
     "output_type": "display_data"
    }
   ],
   "source": [
    "sns.histplot(df_ai[\"length_of_session_in_seconds\"]).set_title(\n",
    "    \"AI Synthetic Data - Training Session Length (seconds)\"\n",
    ")"
   ]
  },
  {
   "cell_type": "markdown",
   "id": "c9103904",
   "metadata": {},
   "source": [
    "## Step 3: Get MOER forecast and actuals"
   ]
  },
  {
   "cell_type": "code",
   "execution_count": 12,
   "id": "123de121",
   "metadata": {},
   "outputs": [],
   "source": [
    "# taking a subset of data - this takes a while to run\n",
    "synth_data = df_ai.sample(2)\n",
    "region = \"SPP_SIOUX\""
   ]
  },
  {
   "cell_type": "code",
   "execution_count": 13,
   "id": "ba62a9f5",
   "metadata": {},
   "outputs": [],
   "source": [
    "def sanitize_time_needed(x,y):\n",
    "    return int(math.ceil(min(x, y) / 300.0) * 5)\n",
    "\n",
    "def sanitize_total_intervals(x):\n",
    "    return math.ceil(x)\n",
    "\n",
    "synth_data[\"moer_forecast\"] = synth_data.apply(\n",
    "    lambda x: evu.get_historical_fcst_data(\n",
    "        x.session_start_time, \n",
    "        sanitize_total_intervals(x.total_intervals_plugged_in),\n",
    "        region=region\n",
    "    ),\n",
    "    axis=1,\n",
    ")\n",
    "\n",
    "synth_data[\"moer_actual\"] = synth_data.apply(\n",
    "    lambda x: evu.get_historical_actual_data(\n",
    "        x.session_start_time, \n",
    "        sanitize_total_intervals(x.total_intervals_plugged_in),\n",
    "        region=region\n",
    "    ),\n",
    "    axis=1,\n",
    ")"
   ]
  },
  {
   "cell_type": "markdown",
   "id": "c2e48416",
   "metadata": {},
   "source": [
    "## Step 4: Optimize\n",
    "\n",
    "- For this use case we can use the simplest optimizer give that we have no additional constraints"
   ]
  },
  {
   "cell_type": "code",
   "execution_count": 14,
   "id": "38b94717",
   "metadata": {},
   "outputs": [],
   "source": [
    "def run_optimization_functions(df: pd.DataFrame, contiguous=False):\n",
    "    # Lambda functions for common operations\n",
    "    get_charging_schedule = lambda x: x[\"usage\"].values.flatten()\n",
    "    get_total_emissions = lambda x: x[\"emissions_co2e_lb\"].sum()\n",
    "    \n",
    "    # Sanitize input data\n",
    "    df[\"sanitize_intervals_plugged_in\"] = df.apply(lambda x: sanitize_total_intervals(x.total_intervals_plugged_in), axis=1)\n",
    "    df[\"sanitize_time_needed\"] = df.apply(lambda x: sanitize_time_needed(x.total_seconds_to_95, x.length_of_session_in_seconds), axis=1)\n",
    "    \n",
    "    # Helper function for charge_per_interval\n",
    "    def charge_per_interval_func(x, contiguous=False):\n",
    "        return [(0, x)] if contiguous else []\n",
    "    \n",
    "    # Function to apply optimization\n",
    "    def apply_optimization(row, moer_data, optimization_method):\n",
    "        return evu.get_schedule_and_cost_api(\n",
    "            usage_power_kw=row.power_output_rate,\n",
    "            time_needed=row.sanitize_time_needed,\n",
    "            total_time_horizon=row.sanitize_intervals_plugged_in,\n",
    "            moer_data=moer_data,\n",
    "            optimization_method=optimization_method,\n",
    "            charge_per_interval=charge_per_interval_func(row.sanitize_time_needed, contiguous=contiguous)\n",
    "        )\n",
    "    \n",
    "    # Apply optimizations\n",
    "    df[\"optimizer_baseline\"] = df.apply(lambda x: apply_optimization(x, x.moer_actual, \"baseline\"), axis=1)\n",
    "    df[\"optimizer_ideal\"] = df.apply(lambda x: apply_optimization(x, x.moer_actual, \"auto\"), axis=1)\n",
    "    df[\"optimizer_simple\"] = df.apply(lambda x: apply_optimization(x, x.moer_forecast, \"auto\"), axis=1)\n",
    "    \n",
    "    # Calculate emissions and charging schedules\n",
    "    df[\"charging_schedule\"] = df[\"optimizer_simple\"].apply(get_charging_schedule)\n",
    "    df[\"baseline_emissions\"] = df[\"optimizer_baseline\"].apply(get_total_emissions)\n",
    "    df[\"ideal_charging_schedule\"] = df[\"optimizer_ideal\"].apply(get_charging_schedule)\n",
    "    df[\"ideal_emissions\"] = df[\"optimizer_ideal\"].apply(get_total_emissions)\n",
    "    df[\"forecast_emissions\"] = df[\"optimizer_simple\"].apply(get_total_emissions)\n",
    "    \n",
    "    # Calculate actual emissions\n",
    "    df[\"actual_emissions\"] = df.apply(\n",
    "        lambda x: evu.get_total_emission(\n",
    "            x.moer_actual[\"value\"],\n",
    "            x.optimizer_simple.energy_usage_mwh\n",
    "        ),\n",
    "        axis=1\n",
    "    )\n",
    "    \n",
    "    return df"
   ]
  },
  {
   "cell_type": "code",
   "execution_count": 15,
   "id": "bf4e4e89",
   "metadata": {},
   "outputs": [
    {
     "name": "stdout",
     "output_type": "stream",
     "text": [
      "Charge per interval: []\n",
      "== Baseline fit! ==\n",
      "Charge per interval: []\n",
      "== Baseline fit! ==\n",
      "Charge per interval: []\n",
      "== Simple fit! ==\n",
      "Charge per interval: []\n",
      "== Simple fit! ==\n",
      "Charge per interval: []\n",
      "== Simple fit! ==\n",
      "Charge per interval: []\n",
      "== Simple fit! ==\n"
     ]
    }
   ],
   "source": [
    "synth_data = run_optimization_functions(synth_data, contiguous=False)"
   ]
  },
  {
   "cell_type": "markdown",
   "id": "c93675aa",
   "metadata": {},
   "source": [
    "## Step 5: Results"
   ]
  },
  {
   "cell_type": "code",
   "execution_count": 16,
   "id": "1d0c89d5",
   "metadata": {},
   "outputs": [
    {
     "data": {
      "text/html": [
       "<div>\n",
       "<style scoped>\n",
       "    .dataframe tbody tr th:only-of-type {\n",
       "        vertical-align: middle;\n",
       "    }\n",
       "\n",
       "    .dataframe tbody tr th {\n",
       "        vertical-align: top;\n",
       "    }\n",
       "\n",
       "    .dataframe thead th {\n",
       "        text-align: right;\n",
       "    }\n",
       "</style>\n",
       "<table border=\"1\" class=\"dataframe\">\n",
       "  <thead>\n",
       "    <tr style=\"text-align: right;\">\n",
       "      <th></th>\n",
       "      <th>distinct_dates</th>\n",
       "      <th>user_type</th>\n",
       "      <th>baseline_emissions</th>\n",
       "      <th>ideal_emissions</th>\n",
       "      <th>forecast_emissions</th>\n",
       "      <th>actual_emissions</th>\n",
       "    </tr>\n",
       "  </thead>\n",
       "  <tbody>\n",
       "    <tr>\n",
       "      <th>191</th>\n",
       "      <td>2024-11-02</td>\n",
       "      <td>r326.4_tc118_avglc27276_sdlc6935</td>\n",
       "      <td>83.694400</td>\n",
       "      <td>4.270400</td>\n",
       "      <td>43.536320</td>\n",
       "      <td>43.302400</td>\n",
       "    </tr>\n",
       "    <tr>\n",
       "      <th>646</th>\n",
       "      <td>2023-08-27</td>\n",
       "      <td>r217.30999999999997_tc60_avglc27278_sdlc7364</td>\n",
       "      <td>49.655335</td>\n",
       "      <td>48.442021</td>\n",
       "      <td>48.614058</td>\n",
       "      <td>50.035627</td>\n",
       "    </tr>\n",
       "  </tbody>\n",
       "</table>\n",
       "</div>"
      ],
      "text/plain": [
       "    distinct_dates                                     user_type  \\\n",
       "191     2024-11-02              r326.4_tc118_avglc27276_sdlc6935   \n",
       "646     2023-08-27  r217.30999999999997_tc60_avglc27278_sdlc7364   \n",
       "\n",
       "     baseline_emissions  ideal_emissions  forecast_emissions  actual_emissions  \n",
       "191           83.694400         4.270400           43.536320         43.302400  \n",
       "646           49.655335        48.442021           48.614058         50.035627  "
      ]
     },
     "execution_count": 16,
     "metadata": {},
     "output_type": "execute_result"
    }
   ],
   "source": [
    "synth_data[[\"distinct_dates\",\"user_type\",\"baseline_emissions\",\"ideal_emissions\",\"forecast_emissions\",\"actual_emissions\"]]"
   ]
  },
  {
   "cell_type": "code",
   "execution_count": 52,
   "id": "e394131d",
   "metadata": {},
   "outputs": [],
   "source": [
    "em = m.EvalMetrics(\n",
    "    baseline_col= \"baseline_emissions\",\n",
    "    ideal_col=\"ideal_emissions\", \n",
    "    forecast_col=\"forecast_emissions\",\n",
    "    actuals_col=\"actual_emissions\"\n",
    "    )"
   ]
  },
  {
   "cell_type": "code",
   "execution_count": 53,
   "id": "725949bd",
   "metadata": {},
   "outputs": [
    {
     "data": {
      "text/html": [
       "<div>\n",
       "<style scoped>\n",
       "    .dataframe tbody tr th:only-of-type {\n",
       "        vertical-align: middle;\n",
       "    }\n",
       "\n",
       "    .dataframe tbody tr th {\n",
       "        vertical-align: top;\n",
       "    }\n",
       "\n",
       "    .dataframe thead th {\n",
       "        text-align: right;\n",
       "    }\n",
       "</style>\n",
       "<table border=\"1\" class=\"dataframe\">\n",
       "  <thead>\n",
       "    <tr style=\"text-align: right;\">\n",
       "      <th></th>\n",
       "      <th>distinct_dates</th>\n",
       "      <th>user_type</th>\n",
       "      <th>emissions_avoided</th>\n",
       "      <th>expected_avoidance</th>\n",
       "      <th>nearness_to_ideal</th>\n",
       "      <th>forecast_error</th>\n",
       "    </tr>\n",
       "  </thead>\n",
       "  <tbody>\n",
       "    <tr>\n",
       "      <th>0</th>\n",
       "      <td>2024-07-24</td>\n",
       "      <td>r332.8_tc108_avglc20487_sdlc7127</td>\n",
       "      <td>3.2448</td>\n",
       "      <td>-10.22528</td>\n",
       "      <td>-9.781547</td>\n",
       "      <td>13.47008</td>\n",
       "    </tr>\n",
       "    <tr>\n",
       "      <th>1</th>\n",
       "      <td>2024-03-06</td>\n",
       "      <td>r264.0_tc86_avglc28288_sdlc7267</td>\n",
       "      <td>29.6120</td>\n",
       "      <td>-15.28780</td>\n",
       "      <td>11.002200</td>\n",
       "      <td>44.89980</td>\n",
       "    </tr>\n",
       "  </tbody>\n",
       "</table>\n",
       "</div>"
      ],
      "text/plain": [
       "  distinct_dates                         user_type  emissions_avoided  \\\n",
       "0     2024-07-24  r332.8_tc108_avglc20487_sdlc7127             3.2448   \n",
       "1     2024-03-06   r264.0_tc86_avglc28288_sdlc7267            29.6120   \n",
       "\n",
       "   expected_avoidance  nearness_to_ideal  forecast_error  \n",
       "0           -10.22528          -9.781547        13.47008  \n",
       "1           -15.28780          11.002200        44.89980  "
      ]
     },
     "execution_count": 53,
     "metadata": {},
     "output_type": "execute_result"
    }
   ],
   "source": [
    "em.calculate_results(synth_data,keep_cols = [\"distinct_dates\",\"user_type\"], percent=False)"
   ]
  },
  {
   "cell_type": "code",
   "execution_count": 54,
   "id": "f0d374f4",
   "metadata": {},
   "outputs": [
    {
     "data": {
      "text/html": [
       "<div>\n",
       "<style scoped>\n",
       "    .dataframe tbody tr th:only-of-type {\n",
       "        vertical-align: middle;\n",
       "    }\n",
       "\n",
       "    .dataframe tbody tr th {\n",
       "        vertical-align: top;\n",
       "    }\n",
       "\n",
       "    .dataframe thead th {\n",
       "        text-align: right;\n",
       "    }\n",
       "</style>\n",
       "<table border=\"1\" class=\"dataframe\">\n",
       "  <thead>\n",
       "    <tr style=\"text-align: right;\">\n",
       "      <th></th>\n",
       "      <th>distinct_dates</th>\n",
       "      <th>user_type</th>\n",
       "      <th>emissions_avoided_percent</th>\n",
       "      <th>expected_avoidance_percent</th>\n",
       "      <th>nearness_to_ideal_percent</th>\n",
       "      <th>forecast_error_percent</th>\n",
       "    </tr>\n",
       "  </thead>\n",
       "  <tbody>\n",
       "    <tr>\n",
       "      <th>0</th>\n",
       "      <td>2024-07-24</td>\n",
       "      <td>r332.8_tc108_avglc20487_sdlc7127</td>\n",
       "      <td>2.713987</td>\n",
       "      <td>-8.552540</td>\n",
       "      <td>-8.211874</td>\n",
       "      <td>12.320219</td>\n",
       "    </tr>\n",
       "    <tr>\n",
       "      <th>1</th>\n",
       "      <td>2024-03-06</td>\n",
       "      <td>r264.0_tc86_avglc28288_sdlc7267</td>\n",
       "      <td>84.600880</td>\n",
       "      <td>-43.676933</td>\n",
       "      <td>126.287879</td>\n",
       "      <td>227.753599</td>\n",
       "    </tr>\n",
       "  </tbody>\n",
       "</table>\n",
       "</div>"
      ],
      "text/plain": [
       "  distinct_dates                         user_type  emissions_avoided_percent  \\\n",
       "0     2024-07-24  r332.8_tc108_avglc20487_sdlc7127                   2.713987   \n",
       "1     2024-03-06   r264.0_tc86_avglc28288_sdlc7267                  84.600880   \n",
       "\n",
       "   expected_avoidance_percent  nearness_to_ideal_percent  \\\n",
       "0                   -8.552540                  -8.211874   \n",
       "1                  -43.676933                 126.287879   \n",
       "\n",
       "   forecast_error_percent  \n",
       "0               12.320219  \n",
       "1              227.753599  "
      ]
     },
     "execution_count": 54,
     "metadata": {},
     "output_type": "execute_result"
    }
   ],
   "source": [
    "em.calculate_results(synth_data,keep_cols = [\"distinct_dates\",\"user_type\"],percent=True)"
   ]
  }
 ],
 "metadata": {
  "kernelspec": {
   "display_name": "Python 3 (ipykernel)",
   "language": "python",
   "name": "python3"
  },
  "language_info": {
   "codemirror_mode": {
    "name": "ipython",
    "version": 3
   },
   "file_extension": ".py",
   "mimetype": "text/x-python",
   "name": "python",
   "nbconvert_exporter": "python",
   "pygments_lexer": "ipython3",
   "version": "3.9.16"
  }
 },
 "nbformat": 4,
 "nbformat_minor": 5
}
