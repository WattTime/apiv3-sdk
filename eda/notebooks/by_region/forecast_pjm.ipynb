{
 "cells": [
  {
   "cell_type": "code",
   "execution_count": null,
   "metadata": {},
   "outputs": [],
   "source": [
    "%reload_ext autoreload\n",
    "%autoreload 2\n",
    "\n",
    "import sys\n",
    "\n",
    "sys.path.append(\"../../\")\n",
    "from load_data import get_historical\n",
    "\n",
    "import os\n",
    "import matplotlib.pyplot as plt\n",
    "import seaborn as sns\n",
    "import pandas as pd\n",
    "import numpy as np\n",
    "\n",
    "\n",
    "regions = [\n",
    "    \"CAISO_NORTH\",\n",
    "    \"SPP_TX\",\n",
    "    \"ERCOT_EASTTX\",\n",
    "    \"FPL\",\n",
    "    \"SOCO\",\n",
    "    \"PJM_CHICAGO\",\n",
    "    \"LDWP\",\n",
    "    \"PJM_DC\",\n",
    "    \"NYISO_NYC\",\n",
    "]\n",
    "start = \"2023-07-01 00:00Z\"\n",
    "end = \"2024-07-01 00:00Z\""
   ]
  },
  {
   "cell_type": "code",
   "execution_count": null,
   "metadata": {},
   "outputs": [],
   "source": []
  }
 ],
 "metadata": {
  "language_info": {
   "name": "python"
  }
 },
 "nbformat": 4,
 "nbformat_minor": 2
}
