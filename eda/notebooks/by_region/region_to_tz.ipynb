{
 "cells": [
  {
   "cell_type": "markdown",
   "metadata": {},
   "source": [
    "# Goal of notebook: save the timezones for each US region"
   ]
  },
  {
   "cell_type": "code",
   "execution_count": null,
   "metadata": {},
   "outputs": [],
   "source": [
    "!pip install timezonefinder"
   ]
  },
  {
   "cell_type": "code",
   "execution_count": 1,
   "metadata": {},
   "outputs": [],
   "source": [
    "%reload_ext autoreload\n",
    "%autoreload 2\n",
    "\n",
    "import pandas as pd\n",
    "import json\n",
    "import geopandas as gpd\n",
    "import matplotlib.pyplot as plt\n",
    "\n",
    "import sys\n",
    "sys.path.append(\"../../\")\n",
    "from load_data import get_region_geojson\n",
    "\n",
    "us_regions = pd.read_csv(\"../../../data/us_region_meta_data.csv\",index_col=0)\n",
    "\n",
    "# get the geopandas dataframe of regions\n",
    "region_geojson = get_region_geojson()\n",
    "region_geojson_path = \"./region_geojson.json\"\n",
    "with open(region_geojson_path, \"w\") as f:\n",
    "    json.dump(region_geojson, f)\n",
    "gdf = gpd.read_file(region_geojson_path)"
   ]
  },
  {
   "cell_type": "code",
   "execution_count": 4,
   "metadata": {},
   "outputs": [],
   "source": [
    "def get_tzs_for_us_regions(gdf, us_regions):\n",
    "    \"\"\"\n",
    "    gdf: geopandas df of all regions\n",
    "    us_regions: dataframe containing just us_regions\n",
    "    \"\"\"\n",
    "    from timezonefinder import TimezoneFinder\n",
    "    \n",
    "    # compute the region's centroid latitude and longitude:\n",
    "    # we will get the timzeone of the centroid and assign\n",
    "    # that to be the timezone of the region\n",
    "    gdf[\"centroid\"] = gdf[\"geometry\"].centroid\n",
    "    gdf[\"lng\"] = gdf[\"centroid\"].x\n",
    "    gdf[\"lat\"] = gdf[\"centroid\"].y\n",
    "\n",
    "    tzf = TimezoneFinder()\n",
    "    us_regions_list = us_regions[\"region\"].unique().tolist()\n",
    "\n",
    "    region_tz_rows = []\n",
    "    for idx, row in gdf.iterrows():\n",
    "        region = row[\"region\"]\n",
    "        if region not in us_regions_list:\n",
    "            continue\n",
    "        region_tz_rows.append({\n",
    "            \"region\": region,\n",
    "            \"tz\": tzf.timezone_at(lng=row[\"lng\"], lat=row[\"lat\"])\n",
    "        })\n",
    "    return pd.DataFrame(region_tz_rows)"
   ]
  },
  {
   "cell_type": "code",
   "execution_count": 5,
   "metadata": {},
   "outputs": [
    {
     "name": "stderr",
     "output_type": "stream",
     "text": [
      "/tmp/ipykernel_1198369/1409508894.py:11: UserWarning: Geometry is in a geographic CRS. Results from 'centroid' are likely incorrect. Use 'GeoSeries.to_crs()' to re-project geometries to a projected CRS before this operation.\n",
      "\n",
      "  gdf[\"centroid\"] = gdf[\"geometry\"].centroid\n"
     ]
    },
    {
     "data": {
      "text/html": [
       "<div>\n",
       "<style scoped>\n",
       "    .dataframe tbody tr th:only-of-type {\n",
       "        vertical-align: middle;\n",
       "    }\n",
       "\n",
       "    .dataframe tbody tr th {\n",
       "        vertical-align: top;\n",
       "    }\n",
       "\n",
       "    .dataframe thead th {\n",
       "        text-align: right;\n",
       "    }\n",
       "</style>\n",
       "<table border=\"1\" class=\"dataframe\">\n",
       "  <thead>\n",
       "    <tr style=\"text-align: right;\">\n",
       "      <th></th>\n",
       "      <th>region</th>\n",
       "      <th>tz</th>\n",
       "    </tr>\n",
       "  </thead>\n",
       "  <tbody>\n",
       "    <tr>\n",
       "      <th>0</th>\n",
       "      <td>AECI</td>\n",
       "      <td>America/Chicago</td>\n",
       "    </tr>\n",
       "    <tr>\n",
       "      <th>1</th>\n",
       "      <td>AVA</td>\n",
       "      <td>America/Los_Angeles</td>\n",
       "    </tr>\n",
       "    <tr>\n",
       "      <th>2</th>\n",
       "      <td>AZPS</td>\n",
       "      <td>America/Phoenix</td>\n",
       "    </tr>\n",
       "    <tr>\n",
       "      <th>3</th>\n",
       "      <td>BANC</td>\n",
       "      <td>America/Los_Angeles</td>\n",
       "    </tr>\n",
       "    <tr>\n",
       "      <th>4</th>\n",
       "      <td>BPA</td>\n",
       "      <td>America/Los_Angeles</td>\n",
       "    </tr>\n",
       "    <tr>\n",
       "      <th>...</th>\n",
       "      <td>...</td>\n",
       "      <td>...</td>\n",
       "    </tr>\n",
       "    <tr>\n",
       "      <th>83</th>\n",
       "      <td>TPWR</td>\n",
       "      <td>America/Los_Angeles</td>\n",
       "    </tr>\n",
       "    <tr>\n",
       "      <th>84</th>\n",
       "      <td>TVA</td>\n",
       "      <td>America/Chicago</td>\n",
       "    </tr>\n",
       "    <tr>\n",
       "      <th>85</th>\n",
       "      <td>WACM</td>\n",
       "      <td>America/Denver</td>\n",
       "    </tr>\n",
       "    <tr>\n",
       "      <th>86</th>\n",
       "      <td>WALC</td>\n",
       "      <td>America/Phoenix</td>\n",
       "    </tr>\n",
       "    <tr>\n",
       "      <th>87</th>\n",
       "      <td>WAUW</td>\n",
       "      <td>America/Denver</td>\n",
       "    </tr>\n",
       "  </tbody>\n",
       "</table>\n",
       "<p>88 rows × 2 columns</p>\n",
       "</div>"
      ],
      "text/plain": [
       "   region                   tz\n",
       "0    AECI      America/Chicago\n",
       "1     AVA  America/Los_Angeles\n",
       "2    AZPS      America/Phoenix\n",
       "3    BANC  America/Los_Angeles\n",
       "4     BPA  America/Los_Angeles\n",
       "..    ...                  ...\n",
       "83   TPWR  America/Los_Angeles\n",
       "84    TVA      America/Chicago\n",
       "85   WACM       America/Denver\n",
       "86   WALC      America/Phoenix\n",
       "87   WAUW       America/Denver\n",
       "\n",
       "[88 rows x 2 columns]"
      ]
     },
     "execution_count": 5,
     "metadata": {},
     "output_type": "execute_result"
    }
   ],
   "source": [
    "tzs_df = get_tzs_for_us_regions(gdf, us_regions)\n",
    "tzs_df"
   ]
  },
  {
   "cell_type": "code",
   "execution_count": 7,
   "metadata": {},
   "outputs": [
    {
     "name": "stdout",
     "output_type": "stream",
     "text": [
      "Successful S3 put_object response. Status - 200\n"
     ]
    }
   ],
   "source": [
    "# store timezones dataframe\n",
    "import os\n",
    "os.chdir('/home/eda.elliott/git/watttime-python-client-aer-algo/')\n",
    "from data.s3 import s3_utils\n",
    "s3 = s3_utils()\n",
    "s3.store_csvdataframe(tzs_df, \"us_region_timezones.csv\")"
   ]
  },
  {
   "cell_type": "markdown",
   "metadata": {},
   "source": [
    "----"
   ]
  },
  {
   "cell_type": "code",
   "execution_count": 47,
   "metadata": {},
   "outputs": [
    {
     "name": "stdout",
     "output_type": "stream",
     "text": [
      "2024-07-13 14:36:39.077155+00:00\n",
      "2024-07-13 08:36:39.077155-06:00\n"
     ]
    }
   ],
   "source": [
    "# example of how to tzconvert\n",
    "pd_utc_tz = pd.Timestamp.now(tz=\"UTC\")\n",
    "print(pd_utc_tz)\n",
    "print(pd_utc_tz.tz_convert(\"America/Denver\"))"
   ]
  }
 ],
 "metadata": {
  "kernelspec": {
   "display_name": "Python 3",
   "language": "python",
   "name": "python3"
  },
  "language_info": {
   "codemirror_mode": {
    "name": "ipython",
    "version": 3
   },
   "file_extension": ".py",
   "mimetype": "text/x-python",
   "name": "python",
   "nbconvert_exporter": "python",
   "pygments_lexer": "ipython3",
   "version": "3.9.16"
  }
 },
 "nbformat": 4,
 "nbformat_minor": 2
}
